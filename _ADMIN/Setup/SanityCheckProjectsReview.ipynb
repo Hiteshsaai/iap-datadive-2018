{
 "cells": [
  {
   "cell_type": "code",
   "execution_count": 27,
   "metadata": {},
   "outputs": [],
   "source": [
    "import pandas as pd"
   ]
  },
  {
   "cell_type": "code",
   "execution_count": 28,
   "metadata": {},
   "outputs": [],
   "source": [
    "old = pd.read_csv('../../Data/SetupData/EWS_Published Project_Listing_11JUN18.csv',\\\n",
    "                  encoding='ISO-8859-1')"
   ]
  },
  {
   "cell_type": "code",
   "execution_count": 29,
   "metadata": {},
   "outputs": [
    {
     "data": {
      "text/plain": [
       "(6832, 62)"
      ]
     },
     "execution_count": 29,
     "metadata": {},
     "output_type": "execute_result"
    }
   ],
   "source": [
    "old.shape"
   ]
  },
  {
   "cell_type": "code",
   "execution_count": 26,
   "metadata": {},
   "outputs": [
    {
     "data": {
      "text/plain": [
       "62"
      ]
     },
     "execution_count": 26,
     "metadata": {},
     "output_type": "execute_result"
    }
   ],
   "source": []
  },
  {
   "cell_type": "code",
   "execution_count": 18,
   "metadata": {},
   "outputs": [
    {
     "name": "stderr",
     "output_type": "stream",
     "text": [
      "/Users/michaeldowd/anaconda/envs/my_py_3/lib/python3.5/site-packages/xlsxwriter/worksheet.py:832: UserWarning: Ignoring URL 'https://www.greenclimate.fund/-/improving-the-resilience-of-vulnerable-coastal-communities-to-climate-change-related-impacts-in-viet-nam?inheritRedirect=true&redirect=%2Fwhat-we-do%2Fprojects-programmes%3Fp_p_id%3D101_INSTANCE_Hreg2cAkDEHL%26p_p_lifecycle%3D0%26p_p_state%3Dnormal%26p_p_mode%3Dview%26p_p_col_id%3D_118_INSTANCE_4ZRnUzRWpEqO__column-2%26p_p_col_count%3D1%26_101_INSTANCE_Hreg2cAkDEHL_delta%3D30%26_101_INSTANCE_Hreg2cAkDEHL_keywords%3D%26_101_INSTANCE_Hreg2cAkDEHL_advancedSearch%3Dfalse%26_101_INSTANCE_Hreg2cAkDEHL_andOperator%3Dtrue%26p_r_p_564233524_resetCur%3Dfalse%26_101_INSTANCE_Hreg2cAkDEHL_cur%3D2' with link or location/anchor > 255 characters since it exceeds Excel's limit for URLS\n",
      "  force_unicode(url))\n",
      "/Users/michaeldowd/anaconda/envs/my_py_3/lib/python3.5/site-packages/xlsxwriter/worksheet.py:832: UserWarning: Ignoring URL 'https://www.greenclimate.fund/-/africa-hydromet-program-strengthening-climate-resilience-in-sub-saharan-africa-mali-country-project?inheritRedirect=true&redirect=%2Fwhat-we-do%2Fprojects-programmes%3Fp_p_id%3D101_INSTANCE_Hreg2cAkDEHL%26p_p_lifecycle%3D0%26p_p_state%3Dnormal%26p_p_mode%3Dview%26p_p_col_id%3D_118_INSTANCE_4ZRnUzRWpEqO__column-2%26p_p_col_count%3D1%26_101_INSTANCE_Hreg2cAkDEHL_delta%3D30%26_101_INSTANCE_Hreg2cAkDEHL_keywords%3D%26_101_INSTANCE_Hreg2cAkDEHL_advancedSearch%3Dfalse%26_101_INSTANCE_Hreg2cAkDEHL_andOperator%3Dtrue%26p_r_p_564233524_resetCur%3Dfalse%26_101_INSTANCE_Hreg2cAkDEHL_cur%3D2' with link or location/anchor > 255 characters since it exceeds Excel's limit for URLS\n",
      "  force_unicode(url))\n",
      "/Users/michaeldowd/anaconda/envs/my_py_3/lib/python3.5/site-packages/xlsxwriter/worksheet.py:832: UserWarning: Ignoring URL 'https://www.greenclimate.fund/-/de-risking-and-scaling-up-investment-in-energy-efficient-building-retrofits-in-armenia?inheritRedirect=true&redirect=%2Fwhat-we-do%2Fprojects-programmes%3Fp_p_id%3D101_INSTANCE_Hreg2cAkDEHL%26p_p_lifecycle%3D0%26p_p_state%3Dnormal%26p_p_mode%3Dview%26p_p_col_id%3D_118_INSTANCE_4ZRnUzRWpEqO__column-2%26p_p_col_count%3D1%26_101_INSTANCE_Hreg2cAkDEHL_delta%3D30%26_101_INSTANCE_Hreg2cAkDEHL_keywords%3D%26_101_INSTANCE_Hreg2cAkDEHL_advancedSearch%3Dfalse%26_101_INSTANCE_Hreg2cAkDEHL_andOperator%3Dtrue%26p_r_p_564233524_resetCur%3Dfalse%26_101_INSTANCE_Hreg2cAkDEHL_cur%3D2' with link or location/anchor > 255 characters since it exceeds Excel's limit for URLS\n",
      "  force_unicode(url))\n",
      "/Users/michaeldowd/anaconda/envs/my_py_3/lib/python3.5/site-packages/xlsxwriter/worksheet.py:832: UserWarning: Ignoring URL 'https://www.greenclimate.fund/-/energy-savings-insurance-for-private-energy-efficiency-investments-by-small-and-medium-sized-enterprises?inheritRedirect=true&redirect=%2Fwhat-we-do%2Fprojects-programmes%3Fp_p_id%3D101_INSTANCE_Hreg2cAkDEHL%26p_p_lifecycle%3D0%26p_p_state%3Dnormal%26p_p_mode%3Dview%26p_p_col_id%3D_118_INSTANCE_4ZRnUzRWpEqO__column-2%26p_p_col_count%3D1%26_101_INSTANCE_Hreg2cAkDEHL_delta%3D30%26_101_INSTANCE_Hreg2cAkDEHL_keywords%3D%26_101_INSTANCE_Hreg2cAkDEHL_advancedSearch%3Dfalse%26_101_INSTANCE_Hreg2cAkDEHL_andOperator%3Dtrue%26p_r_p_564233524_resetCur%3Dfalse%26_101_INSTANCE_Hreg2cAkDEHL_cur%3D2' with link or location/anchor > 255 characters since it exceeds Excel's limit for URLS\n",
      "  force_unicode(url))\n",
      "/Users/michaeldowd/anaconda/envs/my_py_3/lib/python3.5/site-packages/xlsxwriter/worksheet.py:832: UserWarning: Ignoring URL 'https://www.greenclimate.fund/-/fiji-urban-water-supply-and-wastewater-management-project?inheritRedirect=true&redirect=%2Fwhat-we-do%2Fprojects-programmes%3Fp_p_id%3D101_INSTANCE_Hreg2cAkDEHL%26p_p_lifecycle%3D0%26p_p_state%3Dnormal%26p_p_mode%3Dview%26p_p_col_id%3D_118_INSTANCE_4ZRnUzRWpEqO__column-2%26p_p_col_count%3D1%26_101_INSTANCE_Hreg2cAkDEHL_delta%3D30%26_101_INSTANCE_Hreg2cAkDEHL_keywords%3D%26_101_INSTANCE_Hreg2cAkDEHL_advancedSearch%3Dfalse%26_101_INSTANCE_Hreg2cAkDEHL_andOperator%3Dtrue%26p_r_p_564233524_resetCur%3Dfalse%26_101_INSTANCE_Hreg2cAkDEHL_cur%3D2' with link or location/anchor > 255 characters since it exceeds Excel's limit for URLS\n",
      "  force_unicode(url))\n",
      "/Users/michaeldowd/anaconda/envs/my_py_3/lib/python3.5/site-packages/xlsxwriter/worksheet.py:832: UserWarning: Ignoring URL 'https://www.greenclimate.fund/-/support-of-vulnerable-communities-in-maldives-to-manage-climate-change-induced-water-shortages?inheritRedirect=true&redirect=%2Fwhat-we-do%2Fprojects-programmes%3Fp_p_id%3D101_INSTANCE_Hreg2cAkDEHL%26p_p_lifecycle%3D0%26p_p_state%3Dnormal%26p_p_mode%3Dview%26p_p_col_id%3D_118_INSTANCE_4ZRnUzRWpEqO__column-2%26p_p_col_count%3D1%26_101_INSTANCE_Hreg2cAkDEHL_delta%3D30%26_101_INSTANCE_Hreg2cAkDEHL_keywords%3D%26_101_INSTANCE_Hreg2cAkDEHL_advancedSearch%3Dfalse%26_101_INSTANCE_Hreg2cAkDEHL_andOperator%3Dtrue%26p_r_p_564233524_resetCur%3Dfalse%26_101_INSTANCE_Hreg2cAkDEHL_cur%3D2' with link or location/anchor > 255 characters since it exceeds Excel's limit for URLS\n",
      "  force_unicode(url))\n",
      "/Users/michaeldowd/anaconda/envs/my_py_3/lib/python3.5/site-packages/xlsxwriter/worksheet.py:832: UserWarning: Ignoring URL 'https://www.greenclimate.fund/-/energy-efficiency-green-bonds-in-latin-america-and-the-caribbean?inheritRedirect=true&redirect=%2Fwhat-we-do%2Fprojects-programmes%3Fp_p_id%3D101_INSTANCE_Hreg2cAkDEHL%26p_p_lifecycle%3D0%26p_p_state%3Dnormal%26p_p_mode%3Dview%26p_p_col_id%3D_118_INSTANCE_4ZRnUzRWpEqO__column-2%26p_p_col_count%3D1%26_101_INSTANCE_Hreg2cAkDEHL_delta%3D30%26_101_INSTANCE_Hreg2cAkDEHL_keywords%3D%26_101_INSTANCE_Hreg2cAkDEHL_advancedSearch%3Dfalse%26_101_INSTANCE_Hreg2cAkDEHL_andOperator%3Dtrue%26p_r_p_564233524_resetCur%3Dfalse%26_101_INSTANCE_Hreg2cAkDEHL_cur%3D2' with link or location/anchor > 255 characters since it exceeds Excel's limit for URLS\n",
      "  force_unicode(url))\n",
      "/Users/michaeldowd/anaconda/envs/my_py_3/lib/python3.5/site-packages/xlsxwriter/worksheet.py:832: UserWarning: Ignoring URL 'https://www.greenclimate.fund/-/kawisawi-ventures-fund-in-east-africa?inheritRedirect=true&redirect=%2Fwhat-we-do%2Fprojects-programmes%3Fp_p_id%3D101_INSTANCE_Hreg2cAkDEHL%26p_p_lifecycle%3D0%26p_p_state%3Dnormal%26p_p_mode%3Dview%26p_p_col_id%3D_118_INSTANCE_4ZRnUzRWpEqO__column-2%26p_p_col_count%3D1%26_101_INSTANCE_Hreg2cAkDEHL_delta%3D30%26_101_INSTANCE_Hreg2cAkDEHL_keywords%3D%26_101_INSTANCE_Hreg2cAkDEHL_advancedSearch%3Dfalse%26_101_INSTANCE_Hreg2cAkDEHL_andOperator%3Dtrue%26p_r_p_564233524_resetCur%3Dfalse%26_101_INSTANCE_Hreg2cAkDEHL_cur%3D2' with link or location/anchor > 255 characters since it exceeds Excel's limit for URLS\n",
      "  force_unicode(url))\n",
      "/Users/michaeldowd/anaconda/envs/my_py_3/lib/python3.5/site-packages/xlsxwriter/worksheet.py:832: UserWarning: Ignoring URL 'https://www.greenclimate.fund/-/climate-resilient-infrastructure-mainstreaming-in-bangladesh?inheritRedirect=true&redirect=%2Fwhat-we-do%2Fprojects-programmes%3Fp_p_id%3D101_INSTANCE_Hreg2cAkDEHL%26p_p_lifecycle%3D0%26p_p_state%3Dnormal%26p_p_mode%3Dview%26p_p_col_id%3D_118_INSTANCE_4ZRnUzRWpEqO__column-2%26p_p_col_count%3D1%26_101_INSTANCE_Hreg2cAkDEHL_delta%3D30%26_101_INSTANCE_Hreg2cAkDEHL_keywords%3D%26_101_INSTANCE_Hreg2cAkDEHL_advancedSearch%3Dfalse%26_101_INSTANCE_Hreg2cAkDEHL_andOperator%3Dtrue%26p_r_p_564233524_resetCur%3Dfalse%26_101_INSTANCE_Hreg2cAkDEHL_cur%3D2' with link or location/anchor > 255 characters since it exceeds Excel's limit for URLS\n",
      "  force_unicode(url))\n",
      "/Users/michaeldowd/anaconda/envs/my_py_3/lib/python3.5/site-packages/xlsxwriter/worksheet.py:832: UserWarning: Ignoring URL 'https://www.greenclimate.fund/-/resilience-increase-of-ecosystems-and-communities-through-restoration-of-the-productive-bases-of-salinized-lands?inheritRedirect=true&redirect=%2Fwhat-we-do%2Fprojects-programmes%3Fp_p_id%3D101_INSTANCE_Hreg2cAkDEHL%26p_p_lifecycle%3D0%26p_p_state%3Dnormal%26p_p_mode%3Dview%26p_p_col_id%3D_118_INSTANCE_4ZRnUzRWpEqO__column-2%26p_p_col_count%3D1%26_101_INSTANCE_Hreg2cAkDEHL_delta%3D30%26_101_INSTANCE_Hreg2cAkDEHL_keywords%3D%26_101_INSTANCE_Hreg2cAkDEHL_advancedSearch%3Dfalse%26_101_INSTANCE_Hreg2cAkDEHL_andOperator%3Dtrue%26p_r_p_564233524_resetCur%3Dfalse%26_101_INSTANCE_Hreg2cAkDEHL_cur%3D2' with link or location/anchor > 255 characters since it exceeds Excel's limit for URLS\n",
      "  force_unicode(url))\n",
      "/Users/michaeldowd/anaconda/envs/my_py_3/lib/python3.5/site-packages/xlsxwriter/worksheet.py:832: UserWarning: Ignoring URL 'https://www.greenclimate.fund/-/scaling-up-of-modernized-climate-information-and-early-warning-systems-in-malawi?inheritRedirect=true&redirect=%2Fwhat-we-do%2Fprojects-programmes%3Fp_p_id%3D101_INSTANCE_Hreg2cAkDEHL%26p_p_lifecycle%3D0%26p_p_state%3Dnormal%26p_p_mode%3Dview%26p_p_col_id%3D_118_INSTANCE_4ZRnUzRWpEqO__column-2%26p_p_col_count%3D1%26_101_INSTANCE_Hreg2cAkDEHL_delta%3D30%26_101_INSTANCE_Hreg2cAkDEHL_keywords%3D%26_101_INSTANCE_Hreg2cAkDEHL_advancedSearch%3Dfalse%26_101_INSTANCE_Hreg2cAkDEHL_andOperator%3Dtrue%26p_r_p_564233524_resetCur%3Dfalse%26_101_INSTANCE_Hreg2cAkDEHL_cur%3D2' with link or location/anchor > 255 characters since it exceeds Excel's limit for URLS\n",
      "  force_unicode(url))\n",
      "/Users/michaeldowd/anaconda/envs/my_py_3/lib/python3.5/site-packages/xlsxwriter/worksheet.py:832: UserWarning: Ignoring URL 'https://www.greenclimate.fund/-/building-the-resilience-of-wetlands-in-the-province-of-datem-del-maranon-peru?inheritRedirect=true&redirect=%2Fwhat-we-do%2Fprojects-programmes%3Fp_p_id%3D101_INSTANCE_Hreg2cAkDEHL%26p_p_lifecycle%3D0%26p_p_state%3Dnormal%26p_p_mode%3Dview%26p_p_col_id%3D_118_INSTANCE_4ZRnUzRWpEqO__column-2%26p_p_col_count%3D1%26_101_INSTANCE_Hreg2cAkDEHL_delta%3D30%26_101_INSTANCE_Hreg2cAkDEHL_keywords%3D%26_101_INSTANCE_Hreg2cAkDEHL_advancedSearch%3Dfalse%26_101_INSTANCE_Hreg2cAkDEHL_andOperator%3Dtrue%26p_r_p_564233524_resetCur%3Dfalse%26_101_INSTANCE_Hreg2cAkDEHL_cur%3D2' with link or location/anchor > 255 characters since it exceeds Excel's limit for URLS\n",
      "  force_unicode(url))\n"
     ]
    }
   ],
   "source": [
    "writer = pd.ExcelWriter('../../Data/SetupData/projects_june11.xlsx',engine='xlsxwriter')\n",
    "old.to_excel(writer, 'sheet1')\n",
    "writer.save()"
   ]
  },
  {
   "cell_type": "code",
   "execution_count": 34,
   "metadata": {},
   "outputs": [
    {
     "name": "stderr",
     "output_type": "stream",
     "text": [
      "/Users/michaeldowd/anaconda/envs/my_py_3/lib/python3.5/site-packages/xlsxwriter/worksheet.py:832: UserWarning: Ignoring URL 'https://www.greenclimate.fund/-/improving-the-resilience-of-vulnerable-coastal-communities-to-climate-change-related-impacts-in-viet-nam?inheritRedirect=true&redirect=%2Fwhat-we-do%2Fprojects-programmes%3Fp_p_id%3D101_INSTANCE_Hreg2cAkDEHL%26p_p_lifecycle%3D0%26p_p_state%3Dnormal%26p_p_mode%3Dview%26p_p_col_id%3D_118_INSTANCE_4ZRnUzRWpEqO__column-2%26p_p_col_count%3D1%26_101_INSTANCE_Hreg2cAkDEHL_delta%3D30%26_101_INSTANCE_Hreg2cAkDEHL_keywords%3D%26_101_INSTANCE_Hreg2cAkDEHL_advancedSearch%3Dfalse%26_101_INSTANCE_Hreg2cAkDEHL_andOperator%3Dtrue%26p_r_p_564233524_resetCur%3Dfalse%26_101_INSTANCE_Hreg2cAkDEHL_cur%3D2' with link or location/anchor > 255 characters since it exceeds Excel's limit for URLS\n",
      "  force_unicode(url))\n",
      "/Users/michaeldowd/anaconda/envs/my_py_3/lib/python3.5/site-packages/xlsxwriter/worksheet.py:832: UserWarning: Ignoring URL 'https://www.greenclimate.fund/-/africa-hydromet-program-strengthening-climate-resilience-in-sub-saharan-africa-mali-country-project?inheritRedirect=true&redirect=%2Fwhat-we-do%2Fprojects-programmes%3Fp_p_id%3D101_INSTANCE_Hreg2cAkDEHL%26p_p_lifecycle%3D0%26p_p_state%3Dnormal%26p_p_mode%3Dview%26p_p_col_id%3D_118_INSTANCE_4ZRnUzRWpEqO__column-2%26p_p_col_count%3D1%26_101_INSTANCE_Hreg2cAkDEHL_delta%3D30%26_101_INSTANCE_Hreg2cAkDEHL_keywords%3D%26_101_INSTANCE_Hreg2cAkDEHL_advancedSearch%3Dfalse%26_101_INSTANCE_Hreg2cAkDEHL_andOperator%3Dtrue%26p_r_p_564233524_resetCur%3Dfalse%26_101_INSTANCE_Hreg2cAkDEHL_cur%3D2' with link or location/anchor > 255 characters since it exceeds Excel's limit for URLS\n",
      "  force_unicode(url))\n",
      "/Users/michaeldowd/anaconda/envs/my_py_3/lib/python3.5/site-packages/xlsxwriter/worksheet.py:832: UserWarning: Ignoring URL 'https://www.greenclimate.fund/-/de-risking-and-scaling-up-investment-in-energy-efficient-building-retrofits-in-armenia?inheritRedirect=true&redirect=%2Fwhat-we-do%2Fprojects-programmes%3Fp_p_id%3D101_INSTANCE_Hreg2cAkDEHL%26p_p_lifecycle%3D0%26p_p_state%3Dnormal%26p_p_mode%3Dview%26p_p_col_id%3D_118_INSTANCE_4ZRnUzRWpEqO__column-2%26p_p_col_count%3D1%26_101_INSTANCE_Hreg2cAkDEHL_delta%3D30%26_101_INSTANCE_Hreg2cAkDEHL_keywords%3D%26_101_INSTANCE_Hreg2cAkDEHL_advancedSearch%3Dfalse%26_101_INSTANCE_Hreg2cAkDEHL_andOperator%3Dtrue%26p_r_p_564233524_resetCur%3Dfalse%26_101_INSTANCE_Hreg2cAkDEHL_cur%3D2' with link or location/anchor > 255 characters since it exceeds Excel's limit for URLS\n",
      "  force_unicode(url))\n",
      "/Users/michaeldowd/anaconda/envs/my_py_3/lib/python3.5/site-packages/xlsxwriter/worksheet.py:832: UserWarning: Ignoring URL 'https://www.greenclimate.fund/-/energy-savings-insurance-for-private-energy-efficiency-investments-by-small-and-medium-sized-enterprises?inheritRedirect=true&redirect=%2Fwhat-we-do%2Fprojects-programmes%3Fp_p_id%3D101_INSTANCE_Hreg2cAkDEHL%26p_p_lifecycle%3D0%26p_p_state%3Dnormal%26p_p_mode%3Dview%26p_p_col_id%3D_118_INSTANCE_4ZRnUzRWpEqO__column-2%26p_p_col_count%3D1%26_101_INSTANCE_Hreg2cAkDEHL_delta%3D30%26_101_INSTANCE_Hreg2cAkDEHL_keywords%3D%26_101_INSTANCE_Hreg2cAkDEHL_advancedSearch%3Dfalse%26_101_INSTANCE_Hreg2cAkDEHL_andOperator%3Dtrue%26p_r_p_564233524_resetCur%3Dfalse%26_101_INSTANCE_Hreg2cAkDEHL_cur%3D2' with link or location/anchor > 255 characters since it exceeds Excel's limit for URLS\n",
      "  force_unicode(url))\n",
      "/Users/michaeldowd/anaconda/envs/my_py_3/lib/python3.5/site-packages/xlsxwriter/worksheet.py:832: UserWarning: Ignoring URL 'https://www.greenclimate.fund/-/fiji-urban-water-supply-and-wastewater-management-project?inheritRedirect=true&redirect=%2Fwhat-we-do%2Fprojects-programmes%3Fp_p_id%3D101_INSTANCE_Hreg2cAkDEHL%26p_p_lifecycle%3D0%26p_p_state%3Dnormal%26p_p_mode%3Dview%26p_p_col_id%3D_118_INSTANCE_4ZRnUzRWpEqO__column-2%26p_p_col_count%3D1%26_101_INSTANCE_Hreg2cAkDEHL_delta%3D30%26_101_INSTANCE_Hreg2cAkDEHL_keywords%3D%26_101_INSTANCE_Hreg2cAkDEHL_advancedSearch%3Dfalse%26_101_INSTANCE_Hreg2cAkDEHL_andOperator%3Dtrue%26p_r_p_564233524_resetCur%3Dfalse%26_101_INSTANCE_Hreg2cAkDEHL_cur%3D2' with link or location/anchor > 255 characters since it exceeds Excel's limit for URLS\n",
      "  force_unicode(url))\n",
      "/Users/michaeldowd/anaconda/envs/my_py_3/lib/python3.5/site-packages/xlsxwriter/worksheet.py:832: UserWarning: Ignoring URL 'https://www.greenclimate.fund/-/support-of-vulnerable-communities-in-maldives-to-manage-climate-change-induced-water-shortages?inheritRedirect=true&redirect=%2Fwhat-we-do%2Fprojects-programmes%3Fp_p_id%3D101_INSTANCE_Hreg2cAkDEHL%26p_p_lifecycle%3D0%26p_p_state%3Dnormal%26p_p_mode%3Dview%26p_p_col_id%3D_118_INSTANCE_4ZRnUzRWpEqO__column-2%26p_p_col_count%3D1%26_101_INSTANCE_Hreg2cAkDEHL_delta%3D30%26_101_INSTANCE_Hreg2cAkDEHL_keywords%3D%26_101_INSTANCE_Hreg2cAkDEHL_advancedSearch%3Dfalse%26_101_INSTANCE_Hreg2cAkDEHL_andOperator%3Dtrue%26p_r_p_564233524_resetCur%3Dfalse%26_101_INSTANCE_Hreg2cAkDEHL_cur%3D2' with link or location/anchor > 255 characters since it exceeds Excel's limit for URLS\n",
      "  force_unicode(url))\n",
      "/Users/michaeldowd/anaconda/envs/my_py_3/lib/python3.5/site-packages/xlsxwriter/worksheet.py:832: UserWarning: Ignoring URL 'https://www.greenclimate.fund/-/energy-efficiency-green-bonds-in-latin-america-and-the-caribbean?inheritRedirect=true&redirect=%2Fwhat-we-do%2Fprojects-programmes%3Fp_p_id%3D101_INSTANCE_Hreg2cAkDEHL%26p_p_lifecycle%3D0%26p_p_state%3Dnormal%26p_p_mode%3Dview%26p_p_col_id%3D_118_INSTANCE_4ZRnUzRWpEqO__column-2%26p_p_col_count%3D1%26_101_INSTANCE_Hreg2cAkDEHL_delta%3D30%26_101_INSTANCE_Hreg2cAkDEHL_keywords%3D%26_101_INSTANCE_Hreg2cAkDEHL_advancedSearch%3Dfalse%26_101_INSTANCE_Hreg2cAkDEHL_andOperator%3Dtrue%26p_r_p_564233524_resetCur%3Dfalse%26_101_INSTANCE_Hreg2cAkDEHL_cur%3D2' with link or location/anchor > 255 characters since it exceeds Excel's limit for URLS\n",
      "  force_unicode(url))\n",
      "/Users/michaeldowd/anaconda/envs/my_py_3/lib/python3.5/site-packages/xlsxwriter/worksheet.py:832: UserWarning: Ignoring URL 'https://www.greenclimate.fund/-/kawisawi-ventures-fund-in-east-africa?inheritRedirect=true&redirect=%2Fwhat-we-do%2Fprojects-programmes%3Fp_p_id%3D101_INSTANCE_Hreg2cAkDEHL%26p_p_lifecycle%3D0%26p_p_state%3Dnormal%26p_p_mode%3Dview%26p_p_col_id%3D_118_INSTANCE_4ZRnUzRWpEqO__column-2%26p_p_col_count%3D1%26_101_INSTANCE_Hreg2cAkDEHL_delta%3D30%26_101_INSTANCE_Hreg2cAkDEHL_keywords%3D%26_101_INSTANCE_Hreg2cAkDEHL_advancedSearch%3Dfalse%26_101_INSTANCE_Hreg2cAkDEHL_andOperator%3Dtrue%26p_r_p_564233524_resetCur%3Dfalse%26_101_INSTANCE_Hreg2cAkDEHL_cur%3D2' with link or location/anchor > 255 characters since it exceeds Excel's limit for URLS\n",
      "  force_unicode(url))\n",
      "/Users/michaeldowd/anaconda/envs/my_py_3/lib/python3.5/site-packages/xlsxwriter/worksheet.py:832: UserWarning: Ignoring URL 'https://www.greenclimate.fund/-/climate-resilient-infrastructure-mainstreaming-in-bangladesh?inheritRedirect=true&redirect=%2Fwhat-we-do%2Fprojects-programmes%3Fp_p_id%3D101_INSTANCE_Hreg2cAkDEHL%26p_p_lifecycle%3D0%26p_p_state%3Dnormal%26p_p_mode%3Dview%26p_p_col_id%3D_118_INSTANCE_4ZRnUzRWpEqO__column-2%26p_p_col_count%3D1%26_101_INSTANCE_Hreg2cAkDEHL_delta%3D30%26_101_INSTANCE_Hreg2cAkDEHL_keywords%3D%26_101_INSTANCE_Hreg2cAkDEHL_advancedSearch%3Dfalse%26_101_INSTANCE_Hreg2cAkDEHL_andOperator%3Dtrue%26p_r_p_564233524_resetCur%3Dfalse%26_101_INSTANCE_Hreg2cAkDEHL_cur%3D2' with link or location/anchor > 255 characters since it exceeds Excel's limit for URLS\n",
      "  force_unicode(url))\n",
      "/Users/michaeldowd/anaconda/envs/my_py_3/lib/python3.5/site-packages/xlsxwriter/worksheet.py:832: UserWarning: Ignoring URL 'https://www.greenclimate.fund/-/resilience-increase-of-ecosystems-and-communities-through-restoration-of-the-productive-bases-of-salinized-lands?inheritRedirect=true&redirect=%2Fwhat-we-do%2Fprojects-programmes%3Fp_p_id%3D101_INSTANCE_Hreg2cAkDEHL%26p_p_lifecycle%3D0%26p_p_state%3Dnormal%26p_p_mode%3Dview%26p_p_col_id%3D_118_INSTANCE_4ZRnUzRWpEqO__column-2%26p_p_col_count%3D1%26_101_INSTANCE_Hreg2cAkDEHL_delta%3D30%26_101_INSTANCE_Hreg2cAkDEHL_keywords%3D%26_101_INSTANCE_Hreg2cAkDEHL_advancedSearch%3Dfalse%26_101_INSTANCE_Hreg2cAkDEHL_andOperator%3Dtrue%26p_r_p_564233524_resetCur%3Dfalse%26_101_INSTANCE_Hreg2cAkDEHL_cur%3D2' with link or location/anchor > 255 characters since it exceeds Excel's limit for URLS\n",
      "  force_unicode(url))\n",
      "/Users/michaeldowd/anaconda/envs/my_py_3/lib/python3.5/site-packages/xlsxwriter/worksheet.py:832: UserWarning: Ignoring URL 'https://www.greenclimate.fund/-/scaling-up-of-modernized-climate-information-and-early-warning-systems-in-malawi?inheritRedirect=true&redirect=%2Fwhat-we-do%2Fprojects-programmes%3Fp_p_id%3D101_INSTANCE_Hreg2cAkDEHL%26p_p_lifecycle%3D0%26p_p_state%3Dnormal%26p_p_mode%3Dview%26p_p_col_id%3D_118_INSTANCE_4ZRnUzRWpEqO__column-2%26p_p_col_count%3D1%26_101_INSTANCE_Hreg2cAkDEHL_delta%3D30%26_101_INSTANCE_Hreg2cAkDEHL_keywords%3D%26_101_INSTANCE_Hreg2cAkDEHL_advancedSearch%3Dfalse%26_101_INSTANCE_Hreg2cAkDEHL_andOperator%3Dtrue%26p_r_p_564233524_resetCur%3Dfalse%26_101_INSTANCE_Hreg2cAkDEHL_cur%3D2' with link or location/anchor > 255 characters since it exceeds Excel's limit for URLS\n",
      "  force_unicode(url))\n",
      "/Users/michaeldowd/anaconda/envs/my_py_3/lib/python3.5/site-packages/xlsxwriter/worksheet.py:832: UserWarning: Ignoring URL 'https://www.greenclimate.fund/-/building-the-resilience-of-wetlands-in-the-province-of-datem-del-maranon-peru?inheritRedirect=true&redirect=%2Fwhat-we-do%2Fprojects-programmes%3Fp_p_id%3D101_INSTANCE_Hreg2cAkDEHL%26p_p_lifecycle%3D0%26p_p_state%3Dnormal%26p_p_mode%3Dview%26p_p_col_id%3D_118_INSTANCE_4ZRnUzRWpEqO__column-2%26p_p_col_count%3D1%26_101_INSTANCE_Hreg2cAkDEHL_delta%3D30%26_101_INSTANCE_Hreg2cAkDEHL_keywords%3D%26_101_INSTANCE_Hreg2cAkDEHL_advancedSearch%3Dfalse%26_101_INSTANCE_Hreg2cAkDEHL_andOperator%3Dtrue%26p_r_p_564233524_resetCur%3Dfalse%26_101_INSTANCE_Hreg2cAkDEHL_cur%3D2' with link or location/anchor > 255 characters since it exceeds Excel's limit for URLS\n",
      "  force_unicode(url))\n"
     ]
    }
   ],
   "source": [
    "new = pd.read_csv('../../Data/EWS_Published Project_Listing_DD.csv',encoding='ISO-8859-1')\n",
    "\n",
    "writer = pd.ExcelWriter('../../Data/EWS_Published Project_Listing_DD.xlsx',engine='xlsxwriter')\n",
    "new.to_excel(writer, 'sheet1')\n",
    "writer.save()"
   ]
  },
  {
   "cell_type": "code",
   "execution_count": 31,
   "metadata": {},
   "outputs": [
    {
     "data": {
      "text/plain": [
       "(6839, 62)"
      ]
     },
     "execution_count": 31,
     "metadata": {},
     "output_type": "execute_result"
    }
   ],
   "source": [
    "new.shape"
   ]
  },
  {
   "cell_type": "code",
   "execution_count": 23,
   "metadata": {},
   "outputs": [
    {
     "data": {
      "text/plain": [
       "False"
      ]
     },
     "execution_count": 23,
     "metadata": {},
     "output_type": "execute_result"
    }
   ],
   "source": [
    "17037 in old['EWS ID'].tolist()"
   ]
  },
  {
   "cell_type": "code",
   "execution_count": null,
   "metadata": {},
   "outputs": [],
   "source": [
    "new['EWS ID']"
   ]
  },
  {
   "cell_type": "code",
   "execution_count": 12,
   "metadata": {},
   "outputs": [
    {
     "data": {
      "text/html": [
       "<div>\n",
       "<style scoped>\n",
       "    .dataframe tbody tr th:only-of-type {\n",
       "        vertical-align: middle;\n",
       "    }\n",
       "\n",
       "    .dataframe tbody tr th {\n",
       "        vertical-align: top;\n",
       "    }\n",
       "\n",
       "    .dataframe thead th {\n",
       "        text-align: right;\n",
       "    }\n",
       "</style>\n",
       "<table border=\"1\" class=\"dataframe\">\n",
       "  <thead>\n",
       "    <tr style=\"text-align: right;\">\n",
       "      <th></th>\n",
       "      <th>EWS ID</th>\n",
       "      <th>ProjectNumber</th>\n",
       "      <th>Published</th>\n",
       "      <th>Bank Risk Rating</th>\n",
       "      <th>Project Status</th>\n",
       "      <th>EWS URL</th>\n",
       "      <th>Detailed Analysis URL</th>\n",
       "      <th>Project Name</th>\n",
       "      <th>City</th>\n",
       "      <th>Country Count</th>\n",
       "      <th>...</th>\n",
       "      <th>Sector 7</th>\n",
       "      <th>Last Edited</th>\n",
       "      <th>Date Scraped</th>\n",
       "      <th>Date Disclosed</th>\n",
       "      <th>Board Date</th>\n",
       "      <th>Source URL</th>\n",
       "      <th>Project Cost</th>\n",
       "      <th>Investment Amount</th>\n",
       "      <th>Project Description</th>\n",
       "      <th>Contact Information</th>\n",
       "    </tr>\n",
       "  </thead>\n",
       "  <tbody>\n",
       "    <tr>\n",
       "      <th>6832</th>\n",
       "      <td>17037</td>\n",
       "      <td>ADB-48226-002</td>\n",
       "      <td>Published</td>\n",
       "      <td>U</td>\n",
       "      <td>Proposed</td>\n",
       "      <td>https://ewsdata.rightsindevelopment.org/admini...</td>\n",
       "      <td>NaN</td>\n",
       "      <td>Second Rural Connectivity Investment Program</td>\n",
       "      <td>NaN</td>\n",
       "      <td>1</td>\n",
       "      <td>...</td>\n",
       "      <td>NaN</td>\n",
       "      <td>8/9/17</td>\n",
       "      <td>10/25/16</td>\n",
       "      <td>9/28/16</td>\n",
       "      <td>NaN</td>\n",
       "      <td>NaN</td>\n",
       "      <td>500.00</td>\n",
       "      <td>500.0</td>\n",
       "      <td>The proposed investment program will connect a...</td>\n",
       "      <td>NaN</td>\n",
       "    </tr>\n",
       "    <tr>\n",
       "      <th>6833</th>\n",
       "      <td>22667</td>\n",
       "      <td>EIB-20140596</td>\n",
       "      <td>Published</td>\n",
       "      <td>U</td>\n",
       "      <td>Proposed</td>\n",
       "      <td>https://ewsdata.rightsindevelopment.org/admini...</td>\n",
       "      <td>NaN</td>\n",
       "      <td>TRANS ADRIATIC PIPELINE</td>\n",
       "      <td>NaN</td>\n",
       "      <td>3</td>\n",
       "      <td>...</td>\n",
       "      <td>NaN</td>\n",
       "      <td>2/16/18</td>\n",
       "      <td>1/14/17</td>\n",
       "      <td>8/13/15</td>\n",
       "      <td>NaN</td>\n",
       "      <td>NaN</td>\n",
       "      <td>2228.03</td>\n",
       "      <td>NaN</td>\n",
       "      <td>This project finances construction of the Tran...</td>\n",
       "      <td>*No contacts available at time of disclosure.\\...</td>\n",
       "    </tr>\n",
       "    <tr>\n",
       "      <th>6834</th>\n",
       "      <td>16881</td>\n",
       "      <td>EIB-20150676</td>\n",
       "      <td>Published</td>\n",
       "      <td>U</td>\n",
       "      <td>Proposed</td>\n",
       "      <td>https://ewsdata.rightsindevelopment.org/admini...</td>\n",
       "      <td>NaN</td>\n",
       "      <td>TANAP TRANS-ANATOLIAN NATURAL GAS PIPELINE</td>\n",
       "      <td>NaN</td>\n",
       "      <td>1</td>\n",
       "      <td>...</td>\n",
       "      <td>NaN</td>\n",
       "      <td>10/5/17</td>\n",
       "      <td>10/19/16</td>\n",
       "      <td>3/23/16</td>\n",
       "      <td>NaN</td>\n",
       "      <td>NaN</td>\n",
       "      <td>1120.52</td>\n",
       "      <td>NaN</td>\n",
       "      <td>This project will finance the construction of ...</td>\n",
       "      <td>The EIB Complaints Mechanism is designed to fa...</td>\n",
       "    </tr>\n",
       "    <tr>\n",
       "      <th>6835</th>\n",
       "      <td>15984</td>\n",
       "      <td>WB-P146330</td>\n",
       "      <td>Published</td>\n",
       "      <td>B</td>\n",
       "      <td>Approved</td>\n",
       "      <td>https://ewsdata.rightsindevelopment.org/projec...</td>\n",
       "      <td>NaN</td>\n",
       "      <td>NG-Electricity Transmission Project</td>\n",
       "      <td>NaN</td>\n",
       "      <td>1</td>\n",
       "      <td>...</td>\n",
       "      <td>NaN</td>\n",
       "      <td>6/8/18</td>\n",
       "      <td>10/12/16</td>\n",
       "      <td>7/15/14</td>\n",
       "      <td>NaN</td>\n",
       "      <td>NaN</td>\n",
       "      <td>364.00</td>\n",
       "      <td>364.0</td>\n",
       "      <td>NaN</td>\n",
       "      <td>The World Bank Inspection Panel is the indepen...</td>\n",
       "    </tr>\n",
       "    <tr>\n",
       "      <th>6836</th>\n",
       "      <td>15739</td>\n",
       "      <td>WB-P148775</td>\n",
       "      <td>Published</td>\n",
       "      <td>A</td>\n",
       "      <td>Active</td>\n",
       "      <td>https://ewsdata.rightsindevelopment.org/projec...</td>\n",
       "      <td>NaN</td>\n",
       "      <td>Capacity Augmentation of the National Waterway...</td>\n",
       "      <td>NaN</td>\n",
       "      <td>1</td>\n",
       "      <td>...</td>\n",
       "      <td>NaN</td>\n",
       "      <td>5/30/18</td>\n",
       "      <td>10/12/16</td>\n",
       "      <td>4/8/15</td>\n",
       "      <td>4/12/17</td>\n",
       "      <td>NaN</td>\n",
       "      <td>800.00</td>\n",
       "      <td>375.0</td>\n",
       "      <td>This project provides financing to improve eff...</td>\n",
       "      <td>\\rThe World Bank Inspection Panel is the indep...</td>\n",
       "    </tr>\n",
       "    <tr>\n",
       "      <th>6837</th>\n",
       "      <td>15303</td>\n",
       "      <td>WB-P160383</td>\n",
       "      <td>Published</td>\n",
       "      <td>B</td>\n",
       "      <td>Proposed</td>\n",
       "      <td>https://ewsdata.rightsindevelopment.org/projec...</td>\n",
       "      <td>NaN</td>\n",
       "      <td>Zambia Scaling Renewable Energy Program Invest...</td>\n",
       "      <td>NaN</td>\n",
       "      <td>1</td>\n",
       "      <td>...</td>\n",
       "      <td>NaN</td>\n",
       "      <td>8/14/17</td>\n",
       "      <td>10/12/16</td>\n",
       "      <td>6/15/16</td>\n",
       "      <td>3/31/18</td>\n",
       "      <td>NaN</td>\n",
       "      <td>0.30</td>\n",
       "      <td>NaN</td>\n",
       "      <td>The project development objective is to suppor...</td>\n",
       "      <td>Borrower/Client/Recipient\\rName: Ministry of F...</td>\n",
       "    </tr>\n",
       "    <tr>\n",
       "      <th>6838</th>\n",
       "      <td>31915</td>\n",
       "      <td>WB-P160408</td>\n",
       "      <td>Published</td>\n",
       "      <td>B</td>\n",
       "      <td>Active</td>\n",
       "      <td>https://ewsdata.rightsindevelopment.org/projec...</td>\n",
       "      <td>NaN</td>\n",
       "      <td>NaN</td>\n",
       "      <td>NaN</td>\n",
       "      <td>1</td>\n",
       "      <td>...</td>\n",
       "      <td>NaN</td>\n",
       "      <td>6/11/18</td>\n",
       "      <td>3/1/18</td>\n",
       "      <td>3/2/17</td>\n",
       "      <td>NaN</td>\n",
       "      <td>NaN</td>\n",
       "      <td>599.55</td>\n",
       "      <td>NaN</td>\n",
       "      <td>The project has the stated objective of enhanc...</td>\n",
       "      <td>PROJECT CONTACTS\\r\\rWorld Bank \\rPatrick Veris...</td>\n",
       "    </tr>\n",
       "  </tbody>\n",
       "</table>\n",
       "<p>7 rows × 62 columns</p>\n",
       "</div>"
      ],
      "text/plain": [
       "      EWS ID  ProjectNumber  Published Bank Risk Rating Project Status  \\\n",
       "6832   17037  ADB-48226-002  Published                U       Proposed   \n",
       "6833   22667   EIB-20140596  Published                U       Proposed   \n",
       "6834   16881   EIB-20150676  Published                U       Proposed   \n",
       "6835   15984     WB-P146330  Published                B       Approved   \n",
       "6836   15739     WB-P148775  Published                A         Active   \n",
       "6837   15303     WB-P160383  Published                B       Proposed   \n",
       "6838   31915     WB-P160408  Published                B         Active   \n",
       "\n",
       "                                                EWS URL  \\\n",
       "6832  https://ewsdata.rightsindevelopment.org/admini...   \n",
       "6833  https://ewsdata.rightsindevelopment.org/admini...   \n",
       "6834  https://ewsdata.rightsindevelopment.org/admini...   \n",
       "6835  https://ewsdata.rightsindevelopment.org/projec...   \n",
       "6836  https://ewsdata.rightsindevelopment.org/projec...   \n",
       "6837  https://ewsdata.rightsindevelopment.org/projec...   \n",
       "6838  https://ewsdata.rightsindevelopment.org/projec...   \n",
       "\n",
       "      Detailed Analysis URL  \\\n",
       "6832                    NaN   \n",
       "6833                    NaN   \n",
       "6834                    NaN   \n",
       "6835                    NaN   \n",
       "6836                    NaN   \n",
       "6837                    NaN   \n",
       "6838                    NaN   \n",
       "\n",
       "                                           Project Name City  Country Count  \\\n",
       "6832       Second Rural Connectivity Investment Program  NaN              1   \n",
       "6833                            TRANS ADRIATIC PIPELINE  NaN              3   \n",
       "6834         TANAP TRANS-ANATOLIAN NATURAL GAS PIPELINE  NaN              1   \n",
       "6835                NG-Electricity Transmission Project  NaN              1   \n",
       "6836  Capacity Augmentation of the National Waterway...  NaN              1   \n",
       "6837  Zambia Scaling Renewable Energy Program Invest...  NaN              1   \n",
       "6838                                                NaN  NaN              1   \n",
       "\n",
       "                            ...                         Sector 7 Last Edited  \\\n",
       "6832                        ...                              NaN      8/9/17   \n",
       "6833                        ...                              NaN     2/16/18   \n",
       "6834                        ...                              NaN     10/5/17   \n",
       "6835                        ...                              NaN      6/8/18   \n",
       "6836                        ...                              NaN     5/30/18   \n",
       "6837                        ...                              NaN     8/14/17   \n",
       "6838                        ...                              NaN     6/11/18   \n",
       "\n",
       "     Date Scraped Date Disclosed Board Date Source URL Project Cost  \\\n",
       "6832     10/25/16        9/28/16        NaN        NaN       500.00   \n",
       "6833      1/14/17        8/13/15        NaN        NaN      2228.03   \n",
       "6834     10/19/16        3/23/16        NaN        NaN      1120.52   \n",
       "6835     10/12/16        7/15/14        NaN        NaN       364.00   \n",
       "6836     10/12/16         4/8/15    4/12/17        NaN       800.00   \n",
       "6837     10/12/16        6/15/16    3/31/18        NaN         0.30   \n",
       "6838       3/1/18         3/2/17        NaN        NaN       599.55   \n",
       "\n",
       "     Investment Amount                                Project Description  \\\n",
       "6832             500.0  The proposed investment program will connect a...   \n",
       "6833               NaN  This project finances construction of the Tran...   \n",
       "6834               NaN  This project will finance the construction of ...   \n",
       "6835             364.0                                                NaN   \n",
       "6836             375.0  This project provides financing to improve eff...   \n",
       "6837               NaN  The project development objective is to suppor...   \n",
       "6838               NaN  The project has the stated objective of enhanc...   \n",
       "\n",
       "                                    Contact Information  \n",
       "6832                                                NaN  \n",
       "6833  *No contacts available at time of disclosure.\\...  \n",
       "6834  The EIB Complaints Mechanism is designed to fa...  \n",
       "6835  The World Bank Inspection Panel is the indepen...  \n",
       "6836  \\rThe World Bank Inspection Panel is the indep...  \n",
       "6837  Borrower/Client/Recipient\\rName: Ministry of F...  \n",
       "6838  PROJECT CONTACTS\\r\\rWorld Bank \\rPatrick Veris...  \n",
       "\n",
       "[7 rows x 62 columns]"
      ]
     },
     "execution_count": 12,
     "metadata": {},
     "output_type": "execute_result"
    }
   ],
   "source": [
    "new[~new['EWS ID'].isin(old['EWS ID'])]"
   ]
  },
  {
   "cell_type": "code",
   "execution_count": null,
   "metadata": {},
   "outputs": [],
   "source": []
  }
 ],
 "metadata": {
  "kernelspec": {
   "display_name": "my_py_3",
   "language": "python",
   "name": "my_py_3"
  },
  "language_info": {
   "codemirror_mode": {
    "name": "ipython",
    "version": 3
   },
   "file_extension": ".py",
   "mimetype": "text/x-python",
   "name": "python",
   "nbconvert_exporter": "python",
   "pygments_lexer": "ipython3",
   "version": "3.5.5"
  }
 },
 "nbformat": 4,
 "nbformat_minor": 2
}
