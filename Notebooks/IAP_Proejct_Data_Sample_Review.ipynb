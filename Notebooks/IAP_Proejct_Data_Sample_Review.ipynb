{
 "cells": [
  {
   "cell_type": "markdown",
   "metadata": {},
   "source": [
    "# Project Data Sample Review "
   ]
  },
  {
   "cell_type": "code",
   "execution_count": 40,
   "metadata": {},
   "outputs": [],
   "source": [
    "import pandas as pd\n",
    "import numpy as np\n",
    "import os\n",
    "from collections import Counter\n",
    "%matplotlib inline\n",
    "pd.set_option('max_rows',300)"
   ]
  },
  {
   "cell_type": "code",
   "execution_count": 17,
   "metadata": {},
   "outputs": [],
   "source": [
    "projects=pd.read_csv('../Data/EWS_Project_Listing_01DEC17-31MAY18.csv')\n",
    "projects = projects[projects['EWS ID'].notnull()]"
   ]
  },
  {
   "cell_type": "code",
   "execution_count": 18,
   "metadata": {},
   "outputs": [
    {
     "data": {
      "text/plain": [
       "(742, 62)"
      ]
     },
     "execution_count": 18,
     "metadata": {},
     "output_type": "execute_result"
    }
   ],
   "source": [
    "projects.shape"
   ]
  },
  {
   "cell_type": "markdown",
   "metadata": {},
   "source": [
    "** Example Row **"
   ]
  },
  {
   "cell_type": "code",
   "execution_count": 28,
   "metadata": {},
   "outputs": [
    {
     "data": {
      "text/plain": [
       "EWS ID                                                               32549\n",
       "ProjectNumber                                                    FMO-53557\n",
       "Published                                                        Published\n",
       "Bank Risk Rating                                                         B\n",
       "Project Status                                                    Approved\n",
       "EWS URL                  https://ews.rightsindevelopment.org/projects/5...\n",
       "Detailed Analysis URL                                                  NaN\n",
       "Project Name             SUNFARMING EURASIA ASSET ENERJI YATIRIMLARI VE...\n",
       "City                                                                   NaN\n",
       "Country Count                                                            1\n",
       "Country 1                                                           Turkey\n",
       "Country 2                                                              NaN\n",
       "Country 3                                                              NaN\n",
       "Country 4                                                              NaN\n",
       "Country 5                                                              NaN\n",
       "Country 6                                                              NaN\n",
       "Country 7                                                              NaN\n",
       "Country 8                                                              NaN\n",
       "Country 9                                                              NaN\n",
       "Country 10                                                             NaN\n",
       "Country 11                                                             NaN\n",
       "Country 12                                                             NaN\n",
       "Borrower or Client                        German Sponsors SUNfarming GmbH \n",
       "Private Actor Count                                                      4\n",
       "Private Actor 1                                   Alensys Engineering GmbH\n",
       "Private Actor 2                                            SUNfarming GmbH\n",
       "Private Actor 3                                            SUNfarming GmbH\n",
       "Private Actor 4                                            SUNfarming GmbH\n",
       "Private Actor 5                                                        NaN\n",
       "Private Actor 6                                                        NaN\n",
       "Private Actor 7                                                        NaN\n",
       "Private Actor 8                                                        NaN\n",
       "Private Actor 9                                                        NaN\n",
       "Private Actor 10                                                       NaN\n",
       "Private Actor 11                                                       NaN\n",
       "Private Actor 12                                                       NaN\n",
       "Private Actor 13                                                       NaN\n",
       "Private Actor 14                                                       NaN\n",
       "Private Actor 15                                                       NaN\n",
       "Bank Count                                                               1\n",
       "Bank 1                       Netherlands Development Finance Company (FMO)\n",
       "Bank 2                                                                 NaN\n",
       "Bank 3                                                                 NaN\n",
       "Bank 4                                                                 NaN\n",
       "Bank 5                                                                 NaN\n",
       "Sector Count                                                             2\n",
       "Sector 1                                                      Construction\n",
       "Sector 2                                                            Energy\n",
       "Sector 3                                                               NaN\n",
       "Sector 4                                                               NaN\n",
       "Sector 5                                                               NaN\n",
       "Sector 6                                                               NaN\n",
       "Sector 7                                                               NaN\n",
       "Last Edited                                                     2018-05-31\n",
       "Date Scraped                                                    2018-05-31\n",
       "Date Disclosed                                                         NaN\n",
       "Board Date                                                      2018-04-20\n",
       "Source URL                         https://www.fmo.nl/project-detail/53557\n",
       "Project Cost                                                           NaN\n",
       "Investment Amount                                                     15.5\n",
       "Project Description      This project provides financing for the constr...\n",
       "Contact Information      No contact information provided at time of wri...\n",
       "Name: 0, dtype: object"
      ]
     },
     "execution_count": 28,
     "metadata": {},
     "output_type": "execute_result"
    }
   ],
   "source": [
    "projects.iloc[0]"
   ]
  },
  {
   "cell_type": "markdown",
   "metadata": {},
   "source": [
    "** Null Check **"
   ]
  },
  {
   "cell_type": "code",
   "execution_count": 21,
   "metadata": {},
   "outputs": [
    {
     "data": {
      "text/plain": [
       "EWS ID                   1.000000\n",
       "ProjectNumber            1.000000\n",
       "Published                1.000000\n",
       "Bank Risk Rating         1.000000\n",
       "Project Status           0.960916\n",
       "EWS URL                  1.000000\n",
       "Detailed Analysis URL    0.000000\n",
       "Project Name             1.000000\n",
       "City                     0.241240\n",
       "Country Count            1.000000\n",
       "Country 1                0.928571\n",
       "Country 2                0.071429\n",
       "Country 3                0.035040\n",
       "Country 4                0.024259\n",
       "Country 5                0.016173\n",
       "Country 6                0.006739\n",
       "Country 7                0.002695\n",
       "Country 8                0.002695\n",
       "Country 9                0.002695\n",
       "Country 10               0.002695\n",
       "Country 11               0.001348\n",
       "Country 12               0.001348\n",
       "Borrower or Client       0.900270\n",
       "Private Actor Count      1.000000\n",
       "Private Actor 1          0.435310\n",
       "Private Actor 2          0.086253\n",
       "Private Actor 3          0.022911\n",
       "Private Actor 4          0.014825\n",
       "Private Actor 5          0.009434\n",
       "Private Actor 6          0.005391\n",
       "Private Actor 7          0.001348\n",
       "Private Actor 8          0.001348\n",
       "Private Actor 9          0.000000\n",
       "Private Actor 10         0.000000\n",
       "Private Actor 11         0.000000\n",
       "Private Actor 12         0.000000\n",
       "Private Actor 13         0.000000\n",
       "Private Actor 14         0.000000\n",
       "Private Actor 15         0.000000\n",
       "Bank Count               1.000000\n",
       "Bank 1                   1.000000\n",
       "Bank 2                   0.017520\n",
       "Bank 3                   0.002695\n",
       "Bank 4                   0.000000\n",
       "Bank 5                   0.000000\n",
       "Sector Count             1.000000\n",
       "Sector 1                 0.978437\n",
       "Sector 2                 0.417790\n",
       "Sector 3                 0.119946\n",
       "Sector 4                 0.029650\n",
       "Sector 5                 0.008086\n",
       "Sector 6                 0.001348\n",
       "Sector 7                 0.001348\n",
       "Last Edited              1.000000\n",
       "Date Scraped             1.000000\n",
       "Date Disclosed           0.822102\n",
       "Board Date               0.722372\n",
       "Source URL               1.000000\n",
       "Project Cost             0.745283\n",
       "Investment Amount        0.815364\n",
       "Project Description      0.993261\n",
       "Contact Information      0.994609\n",
       "dtype: float64"
      ]
     },
     "execution_count": 21,
     "metadata": {},
     "output_type": "execute_result"
    }
   ],
   "source": [
    "projects.count()/len(projects.index)"
   ]
  },
  {
   "cell_type": "markdown",
   "metadata": {},
   "source": [
    "## Project Description Column will Likely Be most Useful for Matching "
   ]
  },
  {
   "cell_type": "markdown",
   "metadata": {},
   "source": [
    "**Notes**\n",
    "    * Some descriptions are pretty short - not sure how easy it will be to match to those\n",
    "    * Some of the other fields will likely be useful (Country, Borrower or Client, etc.)"
   ]
  },
  {
   "cell_type": "code",
   "execution_count": 26,
   "metadata": {},
   "outputs": [
    {
     "name": "stdout",
     "output_type": "stream",
     "text": [
      "The project's objective is to provide the necessary conditions for the growth and competitiveness of businesses in Paraguay by supporting a network of impact oriented companies.\n",
      "*****\n",
      "\n",
      "This project establishes a co-investment facility with Intrum Justitia AB to support the acquisition and resolution of consumer unsecured and small business non-performing loans. The aim of this project is to support Greek banks, provide liquidity for new lending in the Grek economy, and mobilize funding from the private sector.\n",
      "*****\n",
      "\n",
      "From the IDB: \"The objective of this Advisory Services Project (or Technical Cooperation), is to consolidate prior commitments and/or pre-approved activities so that the IDB Invest can fulfill its contractual obligations, as well as other verbal commitments made prior to 2018, and to meet any expectations from IDB Invest clients and stakeholders.\"\n",
      "*****\n",
      "\n",
      "This project provides financing for the development of nearly zero-energy residential buildings in Sweden.\n",
      "*****\n",
      "\n",
      "This project will finance the installation of a power house at the fifth tunnel (Tunnel 5) of the Tarbela Dam, and construction of a transmission line to connect the power to the national grid. The World Bank is co-financing in the form of an Additional Financing for the existing WB-financed Tarbela Fourth Extension Hydropower Project. Built in the 1970s, the Tarbela Dam is one of the largest earth-fill dam constructions in the world.This project will consist of:(1) the installation of a power house at the fifth tunnel (Tunnel 5) of the Tarbela Dam and(2) the construction of a transmission line to connect the power to the national grid.  The project will add capacity of 2,820 megawatts with annual electricity generation of 4,800 gigawatt-hours.The Tarbela Dam is located on the Indus River, upstream of the Ghazi Barotha Hydropower Project, which AIIB documents note \"had issues related to resettlement and land acquisition.\" The power generation element of the Project (construction of power house and modification of the existing Tunnel 5) will be implemented on the left bank of the Indus River, in an area concentrated around the inlet and outlet of Tunnel 5 of the Tarbela Dam. The proposed transmission line will be about 50 km long and will be connected to a new Islamabad West Grid Station.The World Bank is the lead co-financier and as such, its environmental and social safeguard policies will apply to this project.The project implementation period is January 2017 to March 2022.\n",
      "*****\n",
      "\n",
      "The operation aims for the Ministry of National Education (MEN), and the Secretariats of Education of Bogota, Barranquilla and Medellin, get to know the experience of Scholas Citizenship and its implementation by the Ministry of Education of Paraguay.\n",
      "*****\n",
      "\n",
      "According to the bank, the objective of the Additional Financing for the Access and Quality in Higher Education Project is to improve the quality of tertiary education in participating institutions and to increase the enrollment of students from disadvantaged socioeconomic backgrounds in quality programs.\n",
      "*****\n",
      "\n",
      "This project provides financing to Osmangazi Elektrik Dagitim A.S (OEDAS), the electricity distribution company of the Osmangazi region (inner western Anatolia, Turkey), for the upgrade, moderniztaion, and expansion of the distribution network in the region.This project is part of a larger program providing equity financing to Zorlu Enerji Elektrik Uretimi A.S. for the acquisition of OEDAS and Osmangazi Elektrik Perakende Satis A.S., the electricity retail firm.\n",
      "*****\n",
      "\n",
      "The objective of the Health System Performance Strengthening Project for Angola is to increase the utilization and the quality of health care services in target provinces and municipalities. There are four components to the project.Improving the quality of health services delivery in target provinces. This component would support activities at the provincial and municipal level to improve the quality of the health care services in the target provinces and municipalities with the development of a PBF pilot in two selected provinces. This component includes two subcomponents:improving the quality of maternal and child health services at the provincial and municipal level; andpiloting performance-based financing.Strengthening system-wide enabling factors that support delivery of quality health services. This component aims to support institutional strengthening across the national health system towards improving the quality and coordination of health care services delivered at the municipal, provincial, and national levels.Contingent Emergency Response Component. The component will provide surge funding to finance response efforts directed at preventing an outbreak from becoming a deadly and costly pandemic. The component will only be triggered in the case of a public health emergencyProject Management and Monitoring and Evaluation (US$10M). This component supports project implementation by the MoH, including project management, fiduciary tasks and Monitoring and Evaluation (M&E).\n",
      "*****\n",
      "\n",
      "This project provides financing to increase the commercialization of farm and agribusiness products in Tajikistan. Project components include improving technical knowledge and skills of participants in agricultural value chains, access to finance for agribusinesses and small-scale commercial farms, and institutional capacity building.\n",
      "*****\n",
      "\n",
      "This project provides financing to Grenoble-Alpes Metropole for various climate-action related projects in the energy, water, wastewater, and transport sectors. This includes projects related to electricity, gas, steam, air conditioning, water supply, sewerage, waste management, transportation and storage.\n",
      "*****\n",
      "\n",
      "IDB objective: to facilitate knowledge exchange to identify good practices, lessons learned, and input in order to define a strategy aimed at developing the economic pillar of the National Development Plan for Indigenous peoples of Panama. The specific objectives related to territorial economic development, financial inclusion policies for indigenous peoples in the Region and in Chile (see CH-L1105), financial inclusion of indigenous peoples, among others.\n",
      "*****\n",
      "\n",
      "FMO's USD 500,000 convertible loan, with an option to convert to equity, will be used to invest in technology, fuel growth in Jordan and replicate Liwwa in Egypt.\n",
      "*****\n",
      "\n",
      "This project finances the construction of power connectivity between the island of Crete wtih mainland Greece. This includes two AC 150 kV submarine cables, 150 kV underground and overhead circuits, a compensation terminal in the Peloponnese and network reinforcements. The landing points of the submarine cables are in Kissamos bay (Crete) and the Malea peninsula (Peloponnese).\n",
      "*****\n",
      "\n",
      "The Lowlands Water Development Project (LWDP) is the second phase of the Lesotho Lowland Water Supply Scheme (LLWSC). It will include bulk water production infrastructure, distribution networks and actions on water efficiency, sanitation and capacity building. The overall LLWSC aims at improving the climate resilience and security of potable water access in the Lowlands of Lesotho. The first phase, the Metolong Dam and Water Supply Programme (MDWSP), was already financed by the Bank.LLWSC aims at improving the climate resilience and security of potable water access in four priority geographical zones of the Lowlands of Lesotho.\n",
      "*****\n",
      "\n"
     ]
    }
   ],
   "source": [
    "for i in projects.sample(15)['Project Description']:\n",
    "    print(i)\n",
    "    print('*****\\n')"
   ]
  },
  {
   "cell_type": "markdown",
   "metadata": {},
   "source": [
    "## Looking at the Sector Data \n",
    "\n",
    "This could be a dataset that could help in the tagging of the news articles with (Sector Infortmation)"
   ]
  },
  {
   "cell_type": "code",
   "execution_count": 60,
   "metadata": {},
   "outputs": [],
   "source": [
    "def get_category_cols(category, additional_removes=None):\n",
    "    cols = [i for i in projects.columns if category in i]\n",
    "    cols.remove(category + ' Count')\n",
    "    if additional_removes:\n",
    "        [cols.remove(i) for i in additional_removes]\n",
    "    return cols\n",
    "\n",
    "sector_cols = get_category_cols('Sector')   \n",
    "all_sectors = projects[sector_cols].as_matrix().flatten()\n"
   ]
  },
  {
   "cell_type": "code",
   "execution_count": 61,
   "metadata": {},
   "outputs": [
    {
     "data": {
      "text/plain": [
       "Counter({'Agriculture and Forestry': 95,\n",
       "         'Climate and Environment': 50,\n",
       "         'Communications': 25,\n",
       "         'Construction': 141,\n",
       "         'Education and Health': 68,\n",
       "         'Energy': 116,\n",
       "         'Finance': 197,\n",
       "         'Humanitarian Response': 6,\n",
       "         'Hydropower': 18,\n",
       "         'Industry and Trade': 107,\n",
       "         'Infrastructure': 44,\n",
       "         'Law and Government': 34,\n",
       "         'Mining': 5,\n",
       "         'Technical Cooperation': 96,\n",
       "         'Transport': 83,\n",
       "         'Water and Sanitation': 70,\n",
       "         nan: 4039})"
      ]
     },
     "execution_count": 61,
     "metadata": {},
     "output_type": "execute_result"
    }
   ],
   "source": [
    "Counter(all_sectors)"
   ]
  },
  {
   "cell_type": "markdown",
   "metadata": {},
   "source": [
    "# NOTE "
   ]
  },
  {
   "cell_type": "markdown",
   "metadata": {},
   "source": [
    "Might be able to use this to also classify the Bank and Country "
   ]
  },
  {
   "cell_type": "markdown",
   "metadata": {},
   "source": [
    "**Countries**"
   ]
  },
  {
   "cell_type": "code",
   "execution_count": 56,
   "metadata": {},
   "outputs": [
    {
     "name": "stdout",
     "output_type": "stream",
     "text": [
      "138\n"
     ]
    },
    {
     "data": {
      "text/plain": [
       "Counter({'Afghanistan': 3,\n",
       "         'Albania': 7,\n",
       "         'Angola': 3,\n",
       "         'Argentina': 19,\n",
       "         'Armenia': 9,\n",
       "         'Austria': 2,\n",
       "         'Azerbaijan': 1,\n",
       "         'Bahamas': 3,\n",
       "         'Bangladesh': 19,\n",
       "         'Barbados': 1,\n",
       "         'Belarus': 3,\n",
       "         'Belgium': 6,\n",
       "         'Belize': 1,\n",
       "         'Benin': 5,\n",
       "         'Bhutan': 1,\n",
       "         'Bolivia': 5,\n",
       "         'Bosnia and Herzegovina': 6,\n",
       "         'Brazil': 29,\n",
       "         'Bulgaria': 3,\n",
       "         'Burkina Faso': 3,\n",
       "         'Cambodia': 7,\n",
       "         'Cameroon': 5,\n",
       "         'Cape Verde': 1,\n",
       "         'Central African Republic': 2,\n",
       "         'Chad': 5,\n",
       "         'Chile': 2,\n",
       "         'China': 11,\n",
       "         'Colombia': 21,\n",
       "         'Congo, Democratic Republic of': 4,\n",
       "         'Costa Rica': 2,\n",
       "         'Croatia': 9,\n",
       "         'Czech Republic': 1,\n",
       "         'Denmark': 5,\n",
       "         'Dominica': 1,\n",
       "         'Dominican Republic': 4,\n",
       "         'Ecuador': 12,\n",
       "         'Egypt': 16,\n",
       "         'El Salvador': 3,\n",
       "         'Ethiopia': 5,\n",
       "         'Fiji': 1,\n",
       "         'Finland': 7,\n",
       "         'France': 22,\n",
       "         'Gambia': 1,\n",
       "         'Georgia': 6,\n",
       "         'Germany': 8,\n",
       "         'Ghana': 7,\n",
       "         'Greece': 18,\n",
       "         'Grenada': 1,\n",
       "         'Guatemala': 4,\n",
       "         'Guyana': 2,\n",
       "         'Haiti': 1,\n",
       "         'Honduras': 5,\n",
       "         'Hungary': 9,\n",
       "         'India': 29,\n",
       "         'Indonesia': 6,\n",
       "         'Iraq': 5,\n",
       "         'Ireland': 2,\n",
       "         'Italy': 19,\n",
       "         'Ivory Coast': 9,\n",
       "         'Jamaica': 4,\n",
       "         'Jordan': 13,\n",
       "         'Kazakhstan': 7,\n",
       "         'Kenya': 8,\n",
       "         'Kosovo': 4,\n",
       "         'Kyrgyzstan': 5,\n",
       "         'Laos': 5,\n",
       "         'Latvia': 1,\n",
       "         'Lebanon': 10,\n",
       "         'Lesotho': 2,\n",
       "         'Liberia': 4,\n",
       "         'Lithuania': 1,\n",
       "         'Macedonia': 1,\n",
       "         'Madagascar': 12,\n",
       "         'Malawi': 5,\n",
       "         'Mali': 5,\n",
       "         'Malta': 1,\n",
       "         'Marshall Islands': 1,\n",
       "         'Mauritius': 2,\n",
       "         'Mexico': 6,\n",
       "         'Moldova': 4,\n",
       "         'Mongolia': 3,\n",
       "         'Montenegro': 3,\n",
       "         'Morocco': 5,\n",
       "         'Mozambique': 3,\n",
       "         'Myanmar': 8,\n",
       "         'Namibia': 1,\n",
       "         'Nepal': 1,\n",
       "         'Netherlands': 3,\n",
       "         'Nicaragua': 4,\n",
       "         'Niger': 3,\n",
       "         'Nigeria': 9,\n",
       "         'Norway': 1,\n",
       "         'Pakistan': 10,\n",
       "         'Palestine, West Bank, Gaza': 5,\n",
       "         'Panama': 4,\n",
       "         'Papua New Guinea': 2,\n",
       "         'Paraguay': 13,\n",
       "         'Peru': 11,\n",
       "         'Philippines': 8,\n",
       "         'Poland': 16,\n",
       "         'Portugal': 6,\n",
       "         'Romania': 10,\n",
       "         'Russia': 2,\n",
       "         'Rwanda': 5,\n",
       "         'Saudi Arabia': 1,\n",
       "         'Senegal': 2,\n",
       "         'Serbia': 11,\n",
       "         'Sierra Leone': 4,\n",
       "         'Slovakia': 1,\n",
       "         'Slovenia': 1,\n",
       "         'Solomon Islands': 1,\n",
       "         'South Africa': 6,\n",
       "         'South Sudan': 2,\n",
       "         'Spain': 19,\n",
       "         'Sri Lanka': 5,\n",
       "         'St. Lucia': 1,\n",
       "         'St. Vincent and the Grenadines': 1,\n",
       "         'Sudan': 1,\n",
       "         'Suriname': 2,\n",
       "         'Swaziland': 1,\n",
       "         'Sweden': 6,\n",
       "         'Tajikistan': 11,\n",
       "         'Tanzania': 4,\n",
       "         'Thailand': 1,\n",
       "         'Togo': 3,\n",
       "         'Tonga': 1,\n",
       "         'Trinidad and Tobago': 2,\n",
       "         'Tunisia': 12,\n",
       "         'Turkey': 20,\n",
       "         'Uganda': 3,\n",
       "         'Ukraine': 8,\n",
       "         'United Kingdom': 3,\n",
       "         'Uruguay': 6,\n",
       "         'Uzbekistan': 6,\n",
       "         'Vietnam': 14,\n",
       "         'Yemen': 1,\n",
       "         'Zambia': 9,\n",
       "         nan: 8091})"
      ]
     },
     "execution_count": 56,
     "metadata": {},
     "output_type": "execute_result"
    }
   ],
   "source": [
    "country_cols = get_category_cols('Country')\n",
    "all_countries = projects[country_cols].as_matrix().flatten()\n",
    "country_counter = Counter(all_countries)\n",
    "print(len(country_counter))\n",
    "country_counter"
   ]
  },
  {
   "cell_type": "markdown",
   "metadata": {},
   "source": [
    "**Banks**"
   ]
  },
  {
   "cell_type": "code",
   "execution_count": 76,
   "metadata": {},
   "outputs": [
    {
     "name": "stdout",
     "output_type": "stream",
     "text": [
      "13\n"
     ]
    },
    {
     "data": {
      "text/plain": [
       "Counter({'African Development Bank (AFDB)': 24,\n",
       "         'Asian Development Bank (ADB)': 24,\n",
       "         'Asian Infrastructure Investment Bank (AIIB)': 16,\n",
       "         'European Bank for Reconstruction and Development (EBRD)': 66,\n",
       "         'European Investment Bank (EIB)': 172,\n",
       "         'Green Climate Fund (GCF)': 12,\n",
       "         'Inter-American Development Bank (IADB)': 96,\n",
       "         'Inter-American Investment Corporation (IIC)': 19,\n",
       "         'International Finance Corporation (IFC)': 152,\n",
       "         'Multilateral Investment Guarantee Agency (MIGA)': 15,\n",
       "         'Netherlands Development Finance Company (FMO)': 24,\n",
       "         'New Development Bank (NDB)': 3,\n",
       "         'World Bank (WB)': 134})"
      ]
     },
     "execution_count": 76,
     "metadata": {},
     "output_type": "execute_result"
    }
   ],
   "source": [
    "banks_cols = get_category_cols('Bank', ['Bank Risk Rating'])\n",
    "all_banks = projects[banks_cols].as_matrix().flatten()\n",
    "all_banks = [i for i  in all_banks if  pd.notnull(i)] ## Something weird with the nulls in this one. \n",
    "banks_counter = Counter(all_banks)\n",
    "print(len(banks_counter))\n",
    "banks_counter"
   ]
  },
  {
   "cell_type": "code",
   "execution_count": null,
   "metadata": {},
   "outputs": [],
   "source": []
  }
 ],
 "metadata": {
  "kernelspec": {
   "display_name": "my_py_3",
   "language": "python",
   "name": "my_py_3"
  },
  "language_info": {
   "codemirror_mode": {
    "name": "ipython",
    "version": 3
   },
   "file_extension": ".py",
   "mimetype": "text/x-python",
   "name": "python",
   "nbconvert_exporter": "python",
   "pygments_lexer": "ipython3",
   "version": "3.5.5"
  }
 },
 "nbformat": 4,
 "nbformat_minor": 2
}
