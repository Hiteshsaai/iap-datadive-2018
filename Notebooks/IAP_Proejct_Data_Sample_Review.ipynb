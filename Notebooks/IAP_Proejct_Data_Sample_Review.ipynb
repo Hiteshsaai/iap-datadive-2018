{
 "cells": [
  {
   "cell_type": "markdown",
   "metadata": {},
   "source": [
    "# Project Data Sample Review "
   ]
  },
  {
   "cell_type": "code",
   "execution_count": 1,
   "metadata": {},
   "outputs": [],
   "source": [
    "import pandas as pd\n",
    "import numpy as np\n",
    "import os\n",
    "from collections import Counter\n",
    "%matplotlib inline\n",
    "pd.set_option('max_rows',300)"
   ]
  },
  {
   "cell_type": "code",
   "execution_count": 2,
   "metadata": {},
   "outputs": [],
   "source": [
    "projects=pd.read_csv('../Data/EWS_Published Project_Listing_11JUN18.csv')\n",
    "projects = projects[projects['EWS ID'].notnull()]"
   ]
  },
  {
   "cell_type": "code",
   "execution_count": 3,
   "metadata": {},
   "outputs": [
    {
     "data": {
      "text/plain": [
       "(6832, 62)"
      ]
     },
     "execution_count": 3,
     "metadata": {},
     "output_type": "execute_result"
    }
   ],
   "source": [
    "projects.shape"
   ]
  },
  {
   "cell_type": "markdown",
   "metadata": {},
   "source": [
    "** Example Row **"
   ]
  },
  {
   "cell_type": "code",
   "execution_count": 4,
   "metadata": {},
   "outputs": [
    {
     "data": {
      "text/plain": [
       "EWS ID                                                               29164\n",
       "ProjectNumber                                            AFDB-P-TN-BB0-007\n",
       "Published                                                        Published\n",
       "Bank Risk Rating                                                         U\n",
       "Project Status                                                    Proposed\n",
       "EWS URL                  https://ews.rightsindevelopment.org/projects/p...\n",
       "Detailed Analysis URL                                                  NaN\n",
       "Project Name                                    TUNISIA FERTILIZER PROJECT\n",
       "City                                                                   NaN\n",
       "Country Count                                                            1\n",
       "Country 1                                                          Tunisia\n",
       "Country 2                                                              NaN\n",
       "Country 3                                                              NaN\n",
       "Country 4                                                              NaN\n",
       "Country 5                                                              NaN\n",
       "Country 6                                                              NaN\n",
       "Country 7                                                              NaN\n",
       "Country 8                                                              NaN\n",
       "Country 9                                                              NaN\n",
       "Country 10                                                             NaN\n",
       "Country 11                                                             NaN\n",
       "Country 12                                                             NaN\n",
       "Borrower or Client                                                     NaN\n",
       "Private Actor Count                                                      0\n",
       "Private Actor 1                                                        NaN\n",
       "Private Actor 2                                                        NaN\n",
       "Private Actor 3                                                        NaN\n",
       "Private Actor 4                                                        NaN\n",
       "Private Actor 5                                                        NaN\n",
       "Private Actor 6                                                        NaN\n",
       "Private Actor 7                                                        NaN\n",
       "Private Actor 8                                                        NaN\n",
       "Private Actor 9                                                        NaN\n",
       "Private Actor 10                                                       NaN\n",
       "Private Actor 11                                                       NaN\n",
       "Private Actor 12                                                       NaN\n",
       "Private Actor 13                                                       NaN\n",
       "Private Actor 14                                                       NaN\n",
       "Private Actor 15                                                       NaN\n",
       "Bank Count                                                               1\n",
       "Bank 1                                     African Development Bank (AFDB)\n",
       "Bank 2                                                                 NaN\n",
       "Bank 3                                                                 NaN\n",
       "Bank 4                                                                 NaN\n",
       "Bank 5                                                                 NaN\n",
       "Sector Count                                                             1\n",
       "Sector 1                                          Agriculture and Forestry\n",
       "Sector 2                                                               NaN\n",
       "Sector 3                                                               NaN\n",
       "Sector 4                                                               NaN\n",
       "Sector 5                                                               NaN\n",
       "Sector 6                                                               NaN\n",
       "Sector 7                                                               NaN\n",
       "Last Edited                                                         9/4/17\n",
       "Date Scraped                                                       8/15/17\n",
       "Date Disclosed                                                    12/13/01\n",
       "Board Date                                                        12/13/01\n",
       "Source URL               http://www.afdb.org/en/projects-and-operations...\n",
       "Project Cost                                                           NaN\n",
       "Investment Amount                                                      NaN\n",
       "Project Description                                                   None\n",
       "Contact Information      ACCOUNTABILITY MECHANISM OF AfDB\\r\\n\\r\\nThe In...\n",
       "Name: 0, dtype: object"
      ]
     },
     "execution_count": 4,
     "metadata": {},
     "output_type": "execute_result"
    }
   ],
   "source": [
    "projects.iloc[0]"
   ]
  },
  {
   "cell_type": "markdown",
   "metadata": {},
   "source": [
    "** Null Check **"
   ]
  },
  {
   "cell_type": "code",
   "execution_count": 5,
   "metadata": {},
   "outputs": [
    {
     "data": {
      "text/plain": [
       "EWS ID                   1.000000\n",
       "ProjectNumber            1.000000\n",
       "Published                1.000000\n",
       "Bank Risk Rating         1.000000\n",
       "Project Status           0.937500\n",
       "EWS URL                  1.000000\n",
       "Detailed Analysis URL    0.000000\n",
       "Project Name             1.000000\n",
       "City                     0.169936\n",
       "Country Count            1.000000\n",
       "Country 1                0.909690\n",
       "Country 2                0.035714\n",
       "Country 3                0.019760\n",
       "Country 4                0.011856\n",
       "Country 5                0.007758\n",
       "Country 6                0.005123\n",
       "Country 7                0.003367\n",
       "Country 8                0.001903\n",
       "Country 9                0.001610\n",
       "Country 10               0.001464\n",
       "Country 11               0.001025\n",
       "Country 12               0.000585\n",
       "Borrower or Client       0.762002\n",
       "Private Actor Count      1.000000\n",
       "Private Actor 1          0.077283\n",
       "Private Actor 2          0.018004\n",
       "Private Actor 3          0.006587\n",
       "Private Actor 4          0.003074\n",
       "Private Actor 5          0.002196\n",
       "Private Actor 6          0.000878\n",
       "Private Actor 7          0.000146\n",
       "Private Actor 8          0.000146\n",
       "Private Actor 9          0.000000\n",
       "Private Actor 10         0.000000\n",
       "Private Actor 11         0.000000\n",
       "Private Actor 12         0.000000\n",
       "Private Actor 13         0.000000\n",
       "Private Actor 14         0.000000\n",
       "Private Actor 15         0.000000\n",
       "Bank Count               1.000000\n",
       "Bank 1                   1.000000\n",
       "Bank 2                   0.009368\n",
       "Bank 3                   0.001756\n",
       "Bank 4                   0.000585\n",
       "Bank 5                   0.000000\n",
       "Sector Count             1.000000\n",
       "Sector 1                 0.823478\n",
       "Sector 2                 0.312207\n",
       "Sector 3                 0.096458\n",
       "Sector 4                 0.024151\n",
       "Sector 5                 0.006587\n",
       "Sector 6                 0.002049\n",
       "Sector 7                 0.000439\n",
       "Last Edited              0.896370\n",
       "Date Scraped             1.000000\n",
       "Date Disclosed           0.812061\n",
       "Board Date               0.795814\n",
       "Source URL               0.999854\n",
       "Project Cost             0.661300\n",
       "Investment Amount        0.866364\n",
       "Project Description      0.892272\n",
       "Contact Information      0.856557\n",
       "dtype: float64"
      ]
     },
     "execution_count": 5,
     "metadata": {},
     "output_type": "execute_result"
    }
   ],
   "source": [
    "projects.count()/len(projects.index)"
   ]
  },
  {
   "cell_type": "markdown",
   "metadata": {},
   "source": [
    "## Project Description Column will Likely Be most Useful for Matching "
   ]
  },
  {
   "cell_type": "markdown",
   "metadata": {},
   "source": [
    "**Notes**\n",
    "    * Some descriptions are pretty short - not sure how easy it will be to match to those\n",
    "    * Some of the other fields will likely be useful (Country, Borrower or Client, etc.)"
   ]
  },
  {
   "cell_type": "code",
   "execution_count": 6,
   "metadata": {},
   "outputs": [
    {
     "name": "stdout",
     "output_type": "stream",
     "text": [
      "The proposed project involves IFC investing an INR equivalent of approximately US$50 million in a combination of instruments in one or more Special Purpose Vehicles (\"SPV\") promoted by Mahindra Lifespace Developers Limited (\"MLDL\" or the \"Company\" or the \"Sponsor\") set up for the development of three industrial clusters (ICs) around established industrial areas in Rajasthan, Gujarat, and Maharashtra (the \"Project\").\n",
      "*****\n",
      "\n",
      "The objective of the project is to adapt and scale a loan product to finance water and sanitation solutions to poor and vulnerable population in Brazil.\n",
      "*****\n",
      "\n",
      "The proposed financing consists of two separate long-term loans to be granted directly to Durlicouros Industria e Comercio de Couros, Exportacao e Importacao Ltda. in Brazil and to Durli Leather S.A. and Veneza Inversiones S.A. in Paraguay. The Borrowers will use the proceeds of the loans to support the construction, operation, and maintenance of two (2) new leather manufacturing plants (one (1) in Brazil and one (1) in Paraguay), its working capital needs and refinancing of existing debt in Brazil.\n",
      "*****\n",
      "\n",
      "nan\n",
      "*****\n",
      "\n",
      "nan\n",
      "*****\n",
      "\n",
      "This project finances MagtiCom, a leading telecoms operator in Georgia, to acquire a regional backbone service and internet provider Deltacomm.\n",
      "*****\n",
      "\n",
      "IDB: This technical cooperation aims at further deepening the partnership among countries in Latin America and the Caribbean (LAC) and China. To that end, the program will finance capacity building and policy and knowledge dialogues in a broad range of topics of common interest on institutional development. Through these activities, the two regions will deepen their linkages towards one that is mutually beneficial and constructive for sustainable and long term growth. The TC also seeks to further strengthen the existing partnership with Chinese institutions such as the Chinese Academy of Social Sciences (CASS) and to facilitate the formation of new partnerships through the proposed activities.\n",
      "*****\n",
      "\n",
      "This project finances a company's research, development and innovation activities in 3D printing software and related services from 2017-2019.\n",
      "*****\n",
      "\n",
      "According to ADB website, the proposed project loan will finance priority water and sanitation investments of Metropolitan Waterworks and Sewerage System (MWSS) and will contribute to improving the living and health conditions in the National Capital Region (NCR), which accounts for 33% of the nation's GDP. The Project will also provide institutional capacity strengthening to MWSS, including for regulatory oversight, financial planning, and asset and water security management. The proposed project preparatory technical assistance will also assess the suitability of establishing a partnership between the Asian Development Bank (ADB) and MWSS through a multitranche financing facility (MFF). Management approval will be sought once the government requests for an MFF.\n",
      "\n",
      "This project is associated to a proposed ADB project: Metro Manila Wastewater Improvement Project (ADB-48173-003).\n",
      "*****\n",
      "\n",
      "The project aimed at boosting the resilience of Samoa to some of the majorrisks threatening its sustainable growth and development. The proposed operation will strengthen Samoa's macroeconomic and financial resilience, including through increasingrevenue collection to help build the fiscal buffers necessary to respond to external shocks. It will also support the Government of Samoa's (Government) efforts to increase Samoa's resilience to the effects of climate change, natural disasters, and non-communicable diseases (NCDs). Under the proposed operation, the World Bank (WB) will continue to support the implementation of reforms that have been prioritized by the Government, and that are closely aligned with target areas identified in the Strategy for the Development of Samoa 2017-2020 (SDS), including economic sustainability and business development, improved health outcomes, and climate and disaster resilience.\n",
      "*****\n",
      "\n",
      "According to FMO website, Babson College will be the recipient of this grant as a part of FMO's partnership with Goldman Sachs Foundation. The ultimate beneficiaries will be female business owners that are clients of two of FMO's client banks. The aim is to craft a program that adapts existing curriculum and provides delivery training through bank partnerships in order to enhance the growth potential of women owned businesses in a designated set of countries. In addition, this proposal includes the development and implementation of a Measurement and Evaluation system to assess the efficacy of the program.\n",
      "*****\n",
      "\n",
      "From the IDB: \"The main objective of this project is to improve the productivity of the livestock sector in Belize through the promotion of pasture intensification, while at the same time addressing the low capacity for adaptation to climate change of especially small and medium-sized producers. Rapid growth in Belizean livestock, in response to growing demand in the tourism sector as well as in domestic and international markets, has resulted in the opening up of new pastureland in order to meet nutrient requirements of herds largely dependent on natural pastures with low feed supplementation and water conservation strategies in place. Any efforts for the sustainable intensification of livestock production in Belize, must consider the challenges that climate change poses, not only for productivity, but also with respect to ecosystems. This critically requires building the capacity of all producers to adapt in order to build climate change resiliency and to reduce environmental impacts such as deforestation, soil degradation and unsustainable water consumption.\"\n",
      "*****\n",
      "\n",
      "According to IFC website, the objective of the Additional Financing for the Health Governance and Nutrition Development Project for Lao People's Democratic Republic is to help increase coverage of reproductive, maternal and child health, and nutrition services in target areas in Lao PDR. The Additional Financing (AF) from IDA, the MDTF-IDFHP, and the PHRD will help finance the costs associated with additional and expanded scope of activities to scale up the impact and development effectiveness of the original project. It will also improve the prospect that key programs and interventions currently supported under the HGNDP will be sustained. The AF will continue to support improvement of coverage of reproductive, maternal and child health (MCH), and nutrition services. \n",
      "\n",
      "The project has the following components:\n",
      "1. Health Sector Governance Reform\n",
      "2. Service Delivery\n",
      "3. Nutrition Soial and Behavior Change Communication\n",
      "4. Project Management, Monitoring and Evaluation\n",
      "*****\n",
      "\n",
      "WHO IS OUR CLIENTLereko Metier REIPPP Fund Trust (LMRF) was established in 2013 in South Africa by Lereko Metier Sustainable Capital Fund, FMO and DEG to invest in various renewable energy projects of the South African Renewable Energy Independent Power Producer Procurement Program (REIPPP). Through LMRF, DEG, FMO and LMSC have already invested in 3 wind farms (capacity 360 MW).FUNDING OBJECTIVEThe proceeds of this financing will go towards financing of the long term equity/risk capital component of greenfield renewable energy projects.WHY WE FUND THIS PROJECTThe project will bring the following developmental effects: Creation of employment opportunities; Improvement of availability and access to reliable electricity supply; Promotion of economic growth as there are direct and indirect links between increased growth and improved electricity generation.\n",
      "*****\n",
      "\n",
      "The overall objective of this operation is to support the Panama Sanitation project in the Panama Oeste Province, located west of Panama City and Canal. The project will consist of the construction of a wastewater collection system - sewerage networks, pumping stations and household connections - the construction of a conveyance system and a wastewater treatment plant to provide full sanitation services to the sector of La Chorrera and other surrounding areas. The project is a successor operation to the West Panama City Sanitation Programme - Burunga. The rest of the project will be financed by the Inter-American Development Bank (IADB), the Latin American Development Bank (CAF), the Spanish Cooperation Agency (AECID), the Central American Bank for Economic Integration (CABEI) and the government of Panama.\n",
      "\n",
      "Objetives: The programme contributes to the government's efforts to reduce pollution and improve environmental sustainability. It will benefit an estimated population of about 225,000 at completion. The treatment facility will be designed to avoid the discharge of over 115,000 cubic meters per day of untreated wastewater into the environment. It will also indirectly have a positive economic impact due to its proximity to the metropolitan area of Panama. The project is in line with the EIB Water Sector Lending Policy and is eligible for financing under the EIB Climate Action and Environment Facility (CAEF) as it contributes to environmental sustainability through pollution abatement, to underpin sustainable growth in the region.\n",
      "\n",
      "Environmental aspects: The project will have a very high positive environmental and social impact for the population of Panama. It will significantly reduce direct wastewater discharges into water bodies, thus contributing to improving public health and environmental conditions in the beneficiary area. The project's compliance with environmental and social principles of the EU, the EIB and the other IFIs, together with the applicable national environmental legislation and issues related to adaptation to climate change, will be verified during the appraisal.\n",
      "*****\n",
      "\n"
     ]
    }
   ],
   "source": [
    "for i in projects.sample(15)['Project Description']:\n",
    "    print(i)\n",
    "    print('*****\\n')"
   ]
  },
  {
   "cell_type": "markdown",
   "metadata": {},
   "source": [
    "## Looking at the Sector Data \n",
    "\n",
    "This could be a dataset that could help in the tagging of the news articles with (Sector Infortmation)"
   ]
  },
  {
   "cell_type": "code",
   "execution_count": 7,
   "metadata": {},
   "outputs": [],
   "source": [
    "def get_category_cols(category, additional_removes=None):\n",
    "    cols = [i for i in projects.columns if category in i]\n",
    "    cols.remove(category + ' Count')\n",
    "    if additional_removes:\n",
    "        [cols.remove(i) for i in additional_removes]\n",
    "    return cols\n",
    "\n",
    "sector_cols = get_category_cols('Sector')   \n",
    "all_sectors = projects[sector_cols].as_matrix().flatten()\n"
   ]
  },
  {
   "cell_type": "code",
   "execution_count": 8,
   "metadata": {},
   "outputs": [
    {
     "name": "stdout",
     "output_type": "stream",
     "text": [
      "nan\n",
      "Transport\n",
      "Hydropower\n",
      "Infrastructure\n",
      "Climate and Environment\n",
      "Finance\n",
      "Industry and Trade\n",
      "Humanitarian Response\n",
      "Construction\n",
      "Education and Health\n",
      "Communications\n",
      "Mining\n",
      "Law and Government\n",
      "Energy\n",
      "Technical Cooperation\n",
      "Agriculture and Forestry\n",
      "Water and Sanitation\n"
     ]
    }
   ],
   "source": [
    "for i in Counter(all_sectors): print(i)"
   ]
  },
  {
   "cell_type": "markdown",
   "metadata": {},
   "source": [
    "# NOTE "
   ]
  },
  {
   "cell_type": "markdown",
   "metadata": {},
   "source": [
    "Might be able to use this to also classify the Bank and Country "
   ]
  },
  {
   "cell_type": "markdown",
   "metadata": {},
   "source": [
    "**Countries**"
   ]
  },
  {
   "cell_type": "code",
   "execution_count": 9,
   "metadata": {},
   "outputs": [
    {
     "name": "stdout",
     "output_type": "stream",
     "text": [
      "170\n"
     ]
    },
    {
     "data": {
      "text/plain": [
       "Counter({'Afghanistan': 25,\n",
       "         'Albania': 10,\n",
       "         'Angola': 6,\n",
       "         'Argentina': 57,\n",
       "         'Armenia': 26,\n",
       "         'Austria': 11,\n",
       "         'Azerbaijan': 15,\n",
       "         'Bahamas': 8,\n",
       "         'Bangladesh': 64,\n",
       "         'Barbados': 3,\n",
       "         'Belarus': 7,\n",
       "         'Belgium': 10,\n",
       "         'Belize': 9,\n",
       "         'Benin': 6,\n",
       "         'Bhutan': 17,\n",
       "         'Bolivia': 30,\n",
       "         'Bosnia and Herzegovina': 15,\n",
       "         'Brazil': 79,\n",
       "         'Bulgaria': 9,\n",
       "         'Burkina Faso': 7,\n",
       "         'Burundi': 1,\n",
       "         'Cambodia': 42,\n",
       "         'Cameroon': 11,\n",
       "         'Cape Verde': 3,\n",
       "         'Central African Republic': 7,\n",
       "         'Chad': 10,\n",
       "         'Chile': 22,\n",
       "         'China': 128,\n",
       "         'Colombia': 53,\n",
       "         'Congo, Democratic Republic of': 7,\n",
       "         'Congo, Republic of': 3,\n",
       "         'Cook Islands': 1,\n",
       "         'Costa Rica': 23,\n",
       "         'Croatia': 13,\n",
       "         'Cyprus': 1,\n",
       "         'Czech Republic': 11,\n",
       "         'Denmark': 9,\n",
       "         'Djibouti': 3,\n",
       "         'Dominica': 1,\n",
       "         'Dominican Republic': 19,\n",
       "         'Ecuador': 36,\n",
       "         'Egypt': 76,\n",
       "         'El Salvador': 26,\n",
       "         'Equatorial Guinea': 2,\n",
       "         'Ethiopia': 15,\n",
       "         'Fiji': 9,\n",
       "         'Finland': 16,\n",
       "         'France': 50,\n",
       "         'Gabon': 3,\n",
       "         'Gambia': 3,\n",
       "         'Georgia': 38,\n",
       "         'Germany': 33,\n",
       "         'Ghana': 21,\n",
       "         'Greece': 31,\n",
       "         'Grenada': 1,\n",
       "         'Guatemala': 27,\n",
       "         'Guinea': 7,\n",
       "         'Guinea-Bissau': 1,\n",
       "         'Guyana': 12,\n",
       "         'Haiti': 23,\n",
       "         'Honduras': 37,\n",
       "         'Hungary': 13,\n",
       "         'Iceland': 1,\n",
       "         'India': 135,\n",
       "         'Indonesia': 46,\n",
       "         'Iraq': 6,\n",
       "         'Ireland': 10,\n",
       "         'Italy': 55,\n",
       "         'Ivory Coast': 16,\n",
       "         'Jamaica': 15,\n",
       "         'Jordan': 31,\n",
       "         'Kazakhstan': 22,\n",
       "         'Kenya': 26,\n",
       "         'Kiribati': 6,\n",
       "         'Kosovo': 9,\n",
       "         'Kyrgyzstan': 13,\n",
       "         'Laos': 19,\n",
       "         'Latvia': 3,\n",
       "         'Lebanon': 14,\n",
       "         'Lesotho': 4,\n",
       "         'Liberia': 8,\n",
       "         'Lithuania': 2,\n",
       "         'Luxembourg': 3,\n",
       "         'Macedonia': 6,\n",
       "         'Madagascar': 16,\n",
       "         'Malawi': 10,\n",
       "         'Malaysia': 2,\n",
       "         'Maldives': 7,\n",
       "         'Mali': 12,\n",
       "         'Malta': 1,\n",
       "         'Marshall Islands': 4,\n",
       "         'Mauritania': 2,\n",
       "         'Mauritius': 6,\n",
       "         'Mexico': 59,\n",
       "         'Micronesia': 4,\n",
       "         'Moldova': 10,\n",
       "         'Mongolia': 55,\n",
       "         'Montenegro': 9,\n",
       "         'Morocco': 13,\n",
       "         'Mozambique': 7,\n",
       "         'Myanmar': 46,\n",
       "         'Namibia': 3,\n",
       "         'Nauru': 6,\n",
       "         'Nepal': 20,\n",
       "         'Netherlands': 17,\n",
       "         'Nicaragua': 28,\n",
       "         'Niger': 5,\n",
       "         'Nigeria': 21,\n",
       "         'Norway': 1,\n",
       "         'Oman': 3,\n",
       "         'Pakistan': 65,\n",
       "         'Palau': 2,\n",
       "         'Palestine, West Bank, Gaza': 9,\n",
       "         'Panama': 31,\n",
       "         'Papua New Guinea': 13,\n",
       "         'Paraguay': 32,\n",
       "         'Peru': 39,\n",
       "         'Philippines': 42,\n",
       "         'Poland': 46,\n",
       "         'Portugal': 13,\n",
       "         'Romania': 23,\n",
       "         'Russia': 3,\n",
       "         'Rwanda': 16,\n",
       "         'Samoa': 6,\n",
       "         'Sao Tome and Principe': 1,\n",
       "         'Saudi Arabia': 1,\n",
       "         'Senegal': 16,\n",
       "         'Serbia': 22,\n",
       "         'Seychelles': 1,\n",
       "         'Sierra Leone': 13,\n",
       "         'Singapore': 1,\n",
       "         'Slovakia': 9,\n",
       "         'Slovenia': 6,\n",
       "         'Solomon Islands': 15,\n",
       "         'Somalia': 2,\n",
       "         'South Africa': 21,\n",
       "         'South Korea': 1,\n",
       "         'South Sudan': 2,\n",
       "         'Spain': 49,\n",
       "         'Sri Lanka': 35,\n",
       "         'St. Lucia': 3,\n",
       "         'St. Vincent and the Grenadines': 1,\n",
       "         'Sudan': 1,\n",
       "         'Suriname': 8,\n",
       "         'Swaziland': 3,\n",
       "         'Sweden': 9,\n",
       "         'Switzerland': 1,\n",
       "         'Tajikistan': 30,\n",
       "         'Tanzania': 8,\n",
       "         'Thailand': 10,\n",
       "         'Timor-Leste': 5,\n",
       "         'Togo': 4,\n",
       "         'Tonga': 8,\n",
       "         'Trinidad and Tobago': 5,\n",
       "         'Tunisia': 27,\n",
       "         'Turkey': 50,\n",
       "         'Turkmenistan': 1,\n",
       "         'Tuvalu': 7,\n",
       "         'Uganda': 14,\n",
       "         'Ukraine': 22,\n",
       "         'United Kingdom': 3,\n",
       "         'Uruguay': 19,\n",
       "         'Uzbekistan': 27,\n",
       "         'Vanuatu': 9,\n",
       "         'Venezuela': 3,\n",
       "         'Vietnam': 41,\n",
       "         'Yemen': 4,\n",
       "         'Zambia': 18,\n",
       "         'Zimbabwe': 3,\n",
       "         nan: 32490})"
      ]
     },
     "execution_count": 9,
     "metadata": {},
     "output_type": "execute_result"
    }
   ],
   "source": [
    "country_cols = get_category_cols('Country')\n",
    "all_countries = projects[country_cols].as_matrix().flatten()\n",
    "country_counter = Counter(all_countries)\n",
    "print(len(country_counter))\n",
    "country_counter"
   ]
  },
  {
   "cell_type": "markdown",
   "metadata": {},
   "source": [
    "**Banks**"
   ]
  },
  {
   "cell_type": "code",
   "execution_count": 10,
   "metadata": {},
   "outputs": [
    {
     "name": "stdout",
     "output_type": "stream",
     "text": [
      "13\n"
     ]
    },
    {
     "data": {
      "text/plain": [
       "Counter({'African Development Bank (AFDB)': 45,\n",
       "         'Asian Development Bank (ADB)': 644,\n",
       "         'Asian Infrastructure Investment Bank (AIIB)': 51,\n",
       "         'European Bank for Reconstruction and Development (EBRD)': 179,\n",
       "         'European Investment Bank (EIB)': 462,\n",
       "         'Green Climate Fund (GCF)': 60,\n",
       "         'Inter-American Development Bank (IADB)': 574,\n",
       "         'Inter-American Investment Corporation (IIC)': 67,\n",
       "         'International Finance Corporation (IFC)': 332,\n",
       "         'Multilateral Investment Guarantee Agency (MIGA)': 39,\n",
       "         'Netherlands Development Finance Company (FMO)': 206,\n",
       "         'New Development Bank (NDB)': 12,\n",
       "         'World Bank (WB)': 337})"
      ]
     },
     "execution_count": 10,
     "metadata": {},
     "output_type": "execute_result"
    }
   ],
   "source": [
    "banks_cols = get_category_cols('Bank', ['Bank Risk Rating'])\n",
    "all_banks = projects[banks_cols].as_matrix().flatten()\n",
    "all_banks = [i for i  in all_banks if  pd.notnull(i)] ## Something weird with the nulls in this one. \n",
    "banks_counter = Counter(all_banks)\n",
    "print(len(banks_counter))\n",
    "banks_counter"
   ]
  },
  {
   "cell_type": "code",
   "execution_count": 19,
   "metadata": {},
   "outputs": [
    {
     "name": "stdout",
     "output_type": "stream",
     "text": [
      "Netherlands Development Finance Company (FMO)\n",
      "Asian Development Bank (ADB)\n",
      "Inter-American Investment Corporation (IIC)\n",
      "New Development Bank (NDB)\n",
      "Asian Infrastructure Investment Bank (AIIB)\n",
      "World Bank (WB)\n",
      "Inter-American Development Bank (IADB)\n",
      "African Development Bank (AFDB)\n",
      "European Bank for Reconstruction and Development (EBRD)\n",
      "European Investment Bank (EIB)\n",
      "International Finance Corporation (IFC)\n",
      "Multilateral Investment Guarantee Agency (MIGA)\n",
      "Green Climate Fund (GCF)\n"
     ]
    }
   ],
   "source": [
    "for b in banks_counter: print(b)"
   ]
  },
  {
   "cell_type": "markdown",
   "metadata": {},
   "source": [
    "------------"
   ]
  },
  {
   "cell_type": "markdown",
   "metadata": {},
   "source": [
    "# Compare to the Labeled Data "
   ]
  },
  {
   "cell_type": "code",
   "execution_count": 8,
   "metadata": {},
   "outputs": [],
   "source": [
    "labels = pd.read_csv('../Temp_Output/june14_temp_labeled.csv',encoding = \"ISO-8859-1\")"
   ]
  },
  {
   "cell_type": "code",
   "execution_count": 10,
   "metadata": {},
   "outputs": [
    {
     "data": {
      "text/html": [
       "<div>\n",
       "<style scoped>\n",
       "    .dataframe tbody tr th:only-of-type {\n",
       "        vertical-align: middle;\n",
       "    }\n",
       "\n",
       "    .dataframe tbody tr th {\n",
       "        vertical-align: top;\n",
       "    }\n",
       "\n",
       "    .dataframe thead th {\n",
       "        text-align: right;\n",
       "    }\n",
       "</style>\n",
       "<table border=\"1\" class=\"dataframe\">\n",
       "  <thead>\n",
       "    <tr style=\"text-align: right;\">\n",
       "      <th></th>\n",
       "      <th>article_id</th>\n",
       "      <th>published</th>\n",
       "      <th>title</th>\n",
       "      <th>HyperLink</th>\n",
       "      <th>url</th>\n",
       "      <th>feed_label</th>\n",
       "      <th>Sectors</th>\n",
       "      <th>Bank1</th>\n",
       "      <th>Bank2</th>\n",
       "      <th>Country1</th>\n",
       "      <th>Country2</th>\n",
       "      <th>Projects(EWSProjectID)</th>\n",
       "      <th>EWS Project Name</th>\n",
       "      <th>EWS hyperlink</th>\n",
       "    </tr>\n",
       "  </thead>\n",
       "  <tbody>\n",
       "    <tr>\n",
       "      <th>0</th>\n",
       "      <td>10f9ed2</td>\n",
       "      <td>1/11/18</td>\n",
       "      <td>ADB Provides Support for Three Infrastructure ...</td>\n",
       "      <td>http://moderndiplomacy.eu/2018/01/11/adb-provi...</td>\n",
       "      <td>http://moderndiplomacy.eu/2018/01/11/adb-provi...</td>\n",
       "      <td>NEWS ADB - All Streams</td>\n",
       "      <td>Infrastructure</td>\n",
       "      <td>ADB</td>\n",
       "      <td>NaN</td>\n",
       "      <td>Cambodia</td>\n",
       "      <td>NaN</td>\n",
       "      <td>ADB-41123-015, ADB-48158-001, ADB-41435-053</td>\n",
       "      <td>Road Network Improvement Project (formerly Sec...</td>\n",
       "      <td>https://ewsdata.rightsindevelopment.org/projec...</td>\n",
       "    </tr>\n",
       "    <tr>\n",
       "      <th>1</th>\n",
       "      <td>ac62f9df</td>\n",
       "      <td>1/30/18</td>\n",
       "      <td>ADB commits $250 loan for all-weather roads in...</td>\n",
       "      <td>http://www.ddinews.gov.in/business/adb-commits...</td>\n",
       "      <td>http://www.ddinews.gov.in/business/adb-commits...</td>\n",
       "      <td>NEWS ADB - All Streams</td>\n",
       "      <td>Transport</td>\n",
       "      <td>ADB</td>\n",
       "      <td>NaN</td>\n",
       "      <td>India</td>\n",
       "      <td>NaN</td>\n",
       "      <td>ADB-48226-002</td>\n",
       "      <td>Second Rural Connectivity Investment Program (</td>\n",
       "      <td>https://ewsdata.rightsindevelopment.org/projec...</td>\n",
       "    </tr>\n",
       "    <tr>\n",
       "      <th>2</th>\n",
       "      <td>d1d79dd8</td>\n",
       "      <td>2/20/18</td>\n",
       "      <td>ADB Provides $360 Million for Rolling Stock to...</td>\n",
       "      <td>http://feedproxy.google.com/~r/adb_news/~3/v9s...</td>\n",
       "      <td>http://feedproxy.google.com/~r/adb_news/~3/v9s...</td>\n",
       "      <td>NEWS ADB - All Streams</td>\n",
       "      <td>Transport</td>\n",
       "      <td>ADB</td>\n",
       "      <td>NaN</td>\n",
       "      <td>Bangladesh</td>\n",
       "      <td>NaN</td>\n",
       "      <td>ADB-50312-003</td>\n",
       "      <td>Railway Rolling Stock Operations Improvement P...</td>\n",
       "      <td>https://ewsdata.rightsindevelopment.org/projec...</td>\n",
       "    </tr>\n",
       "    <tr>\n",
       "      <th>3</th>\n",
       "      <td>f0d65e5</td>\n",
       "      <td>2/25/18</td>\n",
       "      <td>ADB provides financing to Thailand's B.Grimm P...</td>\n",
       "      <td>https://www.dealstreetasia.com/stories/adb-b-g...</td>\n",
       "      <td>https://www.dealstreetasia.com/stories/adb-b-g...</td>\n",
       "      <td>NEWS ADB - All Streams</td>\n",
       "      <td>Construction, Finance</td>\n",
       "      <td>ADB</td>\n",
       "      <td>NaN</td>\n",
       "      <td>Thailand</td>\n",
       "      <td>NaN</td>\n",
       "      <td>ADB-50410-001</td>\n",
       "      <td>ASEAN Distributed Power Project: Initial Pover...</td>\n",
       "      <td>https://ewsdata.rightsindevelopment.org/projec...</td>\n",
       "    </tr>\n",
       "    <tr>\n",
       "      <th>4</th>\n",
       "      <td>4a557358</td>\n",
       "      <td>2/26/18</td>\n",
       "      <td>ADB's $235m loan to support B.Grimm Power expa...</td>\n",
       "      <td>https://www.power-technology.com/news/adbs-235...</td>\n",
       "      <td>https://www.power-technology.com/news/adbs-235...</td>\n",
       "      <td>NEWS ADB - All Streams</td>\n",
       "      <td>Construction, Finance</td>\n",
       "      <td>ADB</td>\n",
       "      <td>NaN</td>\n",
       "      <td>Thailand</td>\n",
       "      <td>NaN</td>\n",
       "      <td>ADB-50410-001</td>\n",
       "      <td>ASEAN Distributed Power Project: Initial Pover...</td>\n",
       "      <td>https://ewsdata.rightsindevelopment.org/projec...</td>\n",
       "    </tr>\n",
       "  </tbody>\n",
       "</table>\n",
       "</div>"
      ],
      "text/plain": [
       "  article_id published                                              title  \\\n",
       "0    10f9ed2   1/11/18  ADB Provides Support for Three Infrastructure ...   \n",
       "1   ac62f9df   1/30/18  ADB commits $250 loan for all-weather roads in...   \n",
       "2   d1d79dd8   2/20/18  ADB Provides $360 Million for Rolling Stock to...   \n",
       "3    f0d65e5   2/25/18  ADB provides financing to Thailand's B.Grimm P...   \n",
       "4   4a557358   2/26/18  ADB's $235m loan to support B.Grimm Power expa...   \n",
       "\n",
       "                                           HyperLink  \\\n",
       "0  http://moderndiplomacy.eu/2018/01/11/adb-provi...   \n",
       "1  http://www.ddinews.gov.in/business/adb-commits...   \n",
       "2  http://feedproxy.google.com/~r/adb_news/~3/v9s...   \n",
       "3  https://www.dealstreetasia.com/stories/adb-b-g...   \n",
       "4  https://www.power-technology.com/news/adbs-235...   \n",
       "\n",
       "                                                 url              feed_label  \\\n",
       "0  http://moderndiplomacy.eu/2018/01/11/adb-provi...  NEWS ADB - All Streams   \n",
       "1  http://www.ddinews.gov.in/business/adb-commits...  NEWS ADB - All Streams   \n",
       "2  http://feedproxy.google.com/~r/adb_news/~3/v9s...  NEWS ADB - All Streams   \n",
       "3  https://www.dealstreetasia.com/stories/adb-b-g...  NEWS ADB - All Streams   \n",
       "4  https://www.power-technology.com/news/adbs-235...  NEWS ADB - All Streams   \n",
       "\n",
       "                 Sectors Bank1 Bank2    Country1 Country2  \\\n",
       "0         Infrastructure   ADB   NaN    Cambodia      NaN   \n",
       "1              Transport   ADB   NaN       India      NaN   \n",
       "2              Transport   ADB   NaN  Bangladesh      NaN   \n",
       "3  Construction, Finance   ADB   NaN    Thailand      NaN   \n",
       "4  Construction, Finance   ADB   NaN    Thailand      NaN   \n",
       "\n",
       "                        Projects(EWSProjectID)  \\\n",
       "0  ADB-41123-015, ADB-48158-001, ADB-41435-053   \n",
       "1                                ADB-48226-002   \n",
       "2                                ADB-50312-003   \n",
       "3                                ADB-50410-001   \n",
       "4                                ADB-50410-001   \n",
       "\n",
       "                                    EWS Project Name  \\\n",
       "0  Road Network Improvement Project (formerly Sec...   \n",
       "1     Second Rural Connectivity Investment Program (   \n",
       "2  Railway Rolling Stock Operations Improvement P...   \n",
       "3  ASEAN Distributed Power Project: Initial Pover...   \n",
       "4  ASEAN Distributed Power Project: Initial Pover...   \n",
       "\n",
       "                                       EWS hyperlink  \n",
       "0  https://ewsdata.rightsindevelopment.org/projec...  \n",
       "1  https://ewsdata.rightsindevelopment.org/projec...  \n",
       "2  https://ewsdata.rightsindevelopment.org/projec...  \n",
       "3  https://ewsdata.rightsindevelopment.org/projec...  \n",
       "4  https://ewsdata.rightsindevelopment.org/projec...  "
      ]
     },
     "execution_count": 10,
     "metadata": {},
     "output_type": "execute_result"
    }
   ],
   "source": [
    "labels.head()"
   ]
  },
  {
   "cell_type": "markdown",
   "metadata": {},
   "source": [
    "-----------"
   ]
  },
  {
   "cell_type": "markdown",
   "metadata": {},
   "source": [
    "## Projects "
   ]
  },
  {
   "cell_type": "markdown",
   "metadata": {},
   "source": [
    "**Valid EWS HyperLink**"
   ]
  },
  {
   "cell_type": "markdown",
   "metadata": {},
   "source": [
    "We have some repeat projects "
   ]
  },
  {
   "cell_type": "code",
   "execution_count": 22,
   "metadata": {},
   "outputs": [
    {
     "data": {
      "text/plain": [
       "https://ewsdata.rightsindevelopment.org/projects/50410-001-asean-distributed-power-project-initial-poverty-a/    8\n",
       "https://ewsdata.rightsindevelopment.org/projects/20150676-tanap-trans-anatolian-natural-gas-pipeline/            6\n",
       "https://ewsdata.rightsindevelopment.org/projects/p146330-ng-electricity-transmission-project/                    3\n",
       "https://ewsdata.rightsindevelopment.org/projects/49188-tiryaki-agro-trading/                                     2\n",
       "https://ewsdata.rightsindevelopment.org/projects/ec-l1111-quito-metropolitan-urban-transport-system/             2\n",
       "Name: EWS hyperlink, dtype: int64"
      ]
     },
     "execution_count": 22,
     "metadata": {},
     "output_type": "execute_result"
    }
   ],
   "source": [
    "labels[(labels['EWS hyperlink'].notnull()) & (labels['EWS hyperlink'].str.contains('//ews')) ]['EWS hyperlink'].value_counts().head()"
   ]
  },
  {
   "cell_type": "markdown",
   "metadata": {},
   "source": [
    "We have this Many Unique Projects that were matched to Articles "
   ]
  },
  {
   "cell_type": "code",
   "execution_count": 23,
   "metadata": {},
   "outputs": [
    {
     "data": {
      "text/plain": [
       "39"
      ]
     },
     "execution_count": 23,
     "metadata": {},
     "output_type": "execute_result"
    }
   ],
   "source": [
    "labels[(labels['EWS hyperlink'].notnull()) & (labels['EWS hyperlink'].str.contains('//ews')) ]['EWS hyperlink'].nunique()"
   ]
  },
  {
   "cell_type": "markdown",
   "metadata": {},
   "source": [
    "**Process to Check How Many We can Match ** "
   ]
  },
  {
   "cell_type": "code",
   "execution_count": 24,
   "metadata": {},
   "outputs": [],
   "source": [
    "project_labels = labels[ labels['EWS hyperlink'].notnull()]\n",
    "project_labels = project_labels[project_labels['EWS hyperlink'].str.contains('https://ews')]"
   ]
  },
  {
   "cell_type": "code",
   "execution_count": 25,
   "metadata": {},
   "outputs": [],
   "source": [
    "project_ids = []\n",
    "for i in project_labels['Projects(EWSProjectID)']:\n",
    "    project_ids += [j.strip() for j in  i.split(',')]"
   ]
  },
  {
   "cell_type": "code",
   "execution_count": 26,
   "metadata": {},
   "outputs": [
    {
     "name": "stdout",
     "output_type": "stream",
     "text": [
      "47\n"
     ]
    }
   ],
   "source": [
    "project_ids = list(set(project_ids))\n",
    "print(len(project_ids))"
   ]
  },
  {
   "cell_type": "code",
   "execution_count": 14,
   "metadata": {},
   "outputs": [
    {
     "data": {
      "text/plain": [
       "{'ADB-48226-002',\n",
       " 'EIB-20140596',\n",
       " 'EIB-20150676',\n",
       " 'Figeac Aero Regional',\n",
       " 'Tranche 2 in EWS',\n",
       " 'WB-P146330',\n",
       " 'WB-P148775',\n",
       " 'WB-P160383',\n",
       " 'WB-P160408',\n",
       " 'missing Tranche 3?: https://www.adb.org/projects/36330-043/main#project-overview'}"
      ]
     },
     "execution_count": 14,
     "metadata": {},
     "output_type": "execute_result"
    }
   ],
   "source": [
    "set(project_ids) - set(projects.ProjectNumber.unique())"
   ]
  },
  {
   "cell_type": "markdown",
   "metadata": {},
   "source": [
    "# Sector "
   ]
  },
  {
   "cell_type": "code",
   "execution_count": 55,
   "metadata": {},
   "outputs": [],
   "source": [
    "def clean(x):\n",
    "    try:\n",
    "        return x.lower().strip()\n",
    "    except:\n",
    "        return 'ERROR'"
   ]
  },
  {
   "cell_type": "code",
   "execution_count": 56,
   "metadata": {},
   "outputs": [
    {
     "name": "stderr",
     "output_type": "stream",
     "text": [
      "/Users/michaeldowd/anaconda/envs/my_py_3/lib/python3.5/site-packages/pandas/core/generic.py:3643: SettingWithCopyWarning: \n",
      "A value is trying to be set on a copy of a slice from a DataFrame.\n",
      "Try using .loc[row_indexer,col_indexer] = value instead\n",
      "\n",
      "See the caveats in the documentation: http://pandas.pydata.org/pandas-docs/stable/indexing.html#indexing-view-versus-copy\n",
      "  self[name] = value\n"
     ]
    }
   ],
   "source": [
    "sector_data = labels[labels.Sectors.notnull()]\n",
    "sector_data.Sectors = sector_data.Sectors.apply(clean)"
   ]
  },
  {
   "cell_type": "code",
   "execution_count": 57,
   "metadata": {},
   "outputs": [
    {
     "data": {
      "text/plain": [
       "energy                                                68\n",
       "infrastructure                                        42\n",
       "finance                                               35\n",
       "water and sanitation                                  25\n",
       "transportation                                        14\n",
       "transport                                             13\n",
       "health                                                12\n",
       "communications                                         9\n",
       "construction, finance                                  8\n",
       "0                                                      6\n",
       "trade                                                  6\n",
       "hydropower                                             6\n",
       "trade and industry                                     4\n",
       "agriculture and forestry, industry and trade           3\n",
       "water and sanitation, climate                          3\n",
       "finance, energy                                        3\n",
       "infrastructure, transportation                         3\n",
       "education                                              2\n",
       "transportation, trade                                  2\n",
       "industry and trade                                     2\n",
       "energy, finance                                        1\n",
       "transport, water and sanitation                        1\n",
       "finance, construction, industry and trade              1\n",
       "trade, communications                                  1\n",
       "energy, construction, hydropower                       1\n",
       "humanitarian                                           1\n",
       "energy, finance, industry and trade                    1\n",
       "energe                                                 1\n",
       "construction, transport                                1\n",
       "energy, transportation                                 1\n",
       "education and health                                   1\n",
       "infrastructure, finance                                1\n",
       "agriculture and forestry                               1\n",
       "infrastructure, trade and industry                     1\n",
       "infrastructure, communications, trade and industry     1\n",
       "Name: Sectors, dtype: int64"
      ]
     },
     "execution_count": 57,
     "metadata": {},
     "output_type": "execute_result"
    }
   ],
   "source": [
    "sector_data.Sectors.value_counts()"
   ]
  },
  {
   "cell_type": "markdown",
   "metadata": {},
   "source": [
    "## Banks "
   ]
  },
  {
   "cell_type": "code",
   "execution_count": 58,
   "metadata": {},
   "outputs": [],
   "source": [
    "banks_data = labels[labels.Bank1.notnull()]\n",
    "banks_data.Bank1 = banks_data.Bank1.apply(clean)\n",
    "banks_data.Bank2 = banks_data.Bank2.apply(clean)"
   ]
  },
  {
   "cell_type": "code",
   "execution_count": 59,
   "metadata": {},
   "outputs": [
    {
     "data": {
      "text/plain": [
       "abd                 188\n",
       "afbd                 68\n",
       "ebrd                 50\n",
       "aiib                 43\n",
       "adb                  25\n",
       "eib                  16\n",
       "wb                    8\n",
       "idb                   4\n",
       "idb / idb invest      1\n",
       "Name: Bank1, dtype: int64"
      ]
     },
     "execution_count": 59,
     "metadata": {},
     "output_type": "execute_result"
    }
   ],
   "source": [
    "banks_data.Bank1.value_counts()"
   ]
  },
  {
   "cell_type": "code",
   "execution_count": 60,
   "metadata": {},
   "outputs": [
    {
     "data": {
      "text/plain": [
       "ERROR         397\n",
       "jica            2\n",
       "eib             1\n",
       "gcf             1\n",
       "ifc             1\n",
       "world bank      1\n",
       "Name: Bank2, dtype: int64"
      ]
     },
     "execution_count": 60,
     "metadata": {},
     "output_type": "execute_result"
    }
   ],
   "source": [
    "banks_data.Bank2.value_counts()"
   ]
  },
  {
   "cell_type": "markdown",
   "metadata": {},
   "source": [
    "## Country "
   ]
  },
  {
   "cell_type": "code",
   "execution_count": 61,
   "metadata": {},
   "outputs": [
    {
     "name": "stderr",
     "output_type": "stream",
     "text": [
      "/Users/michaeldowd/anaconda/envs/my_py_3/lib/python3.5/site-packages/pandas/core/generic.py:3643: SettingWithCopyWarning: \n",
      "A value is trying to be set on a copy of a slice from a DataFrame.\n",
      "Try using .loc[row_indexer,col_indexer] = value instead\n",
      "\n",
      "See the caveats in the documentation: http://pandas.pydata.org/pandas-docs/stable/indexing.html#indexing-view-versus-copy\n",
      "  self[name] = value\n"
     ]
    }
   ],
   "source": [
    "country_data = labels[labels.Country1.notnull()]\n",
    "country_data.Country1 = country_data.Country1.apply(clean)\n",
    "country_data.Country2 = country_data.Country2.apply(clean)\n"
   ]
  },
  {
   "cell_type": "code",
   "execution_count": 63,
   "metadata": {},
   "outputs": [
    {
     "data": {
      "text/plain": [
       "india                                                                                                       79\n",
       "philippines                                                                                                 34\n",
       "pakistan                                                                                                    25\n",
       "nigeria                                                                                                     22\n",
       "bangladesh                                                                                                  19\n",
       "sri lanka                                                                                                   11\n",
       "mongolia                                                                                                    11\n",
       "turkey                                                                                                      10\n",
       "thailand                                                                                                    10\n",
       "egypt                                                                                                       10\n",
       "nepal                                                                                                        9\n",
       "indonesia                                                                                                    8\n",
       "liberia                                                                                                      8\n",
       "ukraine                                                                                                      6\n",
       "georgia                                                                                                      6\n",
       "ghana                                                                                                        6\n",
       "cambodia                                                                                                     5\n",
       "afghanistan                                                                                                  5\n",
       "armenia                                                                                                      5\n",
       "azerbaijan                                                                                                   5\n",
       "rwanda                                                                                                       5\n",
       "papua new guinea                                                                                             5\n",
       "china                                                                                                        4\n",
       "tajikistan                                                                                                   4\n",
       "vietnam                                                                                                      4\n",
       "romania                                                                                                      3\n",
       "kenya                                                                                                        3\n",
       "serbia                                                                                                       3\n",
       "zimbabwe                                                                                                     3\n",
       "laos                                                                                                         2\n",
       "turkenistan                                                                                                  2\n",
       "ecuador                                                                                                      2\n",
       "bulgaria                                                                                                     2\n",
       "argentina                                                                                                    2\n",
       "albania                                                                                                      2\n",
       "angola                                                                                                       2\n",
       "fiji                                                                                                         2\n",
       "kazakhstan                                                                                                   2\n",
       "zambia                                                                                                       2\n",
       "kiribati                                                                                                     2\n",
       "montenegro                                                                                                   2\n",
       "lebanon                                                                                                      2\n",
       "africa                                                                                                       2\n",
       "sudan                                                                                                        2\n",
       "jordan                                                                                                       2\n",
       "iraq                                                                                                         1\n",
       "poland                                                                                                       1\n",
       "bangladesh, india                                                                                            1\n",
       "tunisia                                                                                                      1\n",
       "myanmar                                                                                                      1\n",
       "greek                                                                                                        1\n",
       "japan                                                                                                        1\n",
       "malawi                                                                                                       1\n",
       "17 african countries                                                                                         1\n",
       "bosnia                                                                                                       1\n",
       "kyrgyzstan                                                                                                   1\n",
       "finland                                                                                                      1\n",
       "nauru                                                                                                        1\n",
       "morocco, tunisia                                                                                             1\n",
       "samoa                                                                                                        1\n",
       "albania, greece, italy                                                                                       1\n",
       "greece                                                                                                       1\n",
       "somalia                                                                                                      1\n",
       "pacific region                                                                                               1\n",
       "cambodia, mongolia, tajikistan                                                                               1\n",
       "maldives                                                                                                     1\n",
       "jamaica                                                                                                      1\n",
       "ghana, ethiopia, malawi, nigeria, mozambique and burkina faso.                                               1\n",
       "uzbekistan                                                                                                   1\n",
       "botswana, ghana, kenya, zambia, lesotho, senegal, cte dõivoire, nigeria, uganda, malawi, gabon and togo     1\n",
       "south korea                                                                                                  1\n",
       "ethiopia, kenya, nigeria, tanzania, uganda                                                                   1\n",
       "micronesia                                                                                                   1\n",
       "burkina faso                                                                                                 1\n",
       "turkey, greece, croatia                                                                                      1\n",
       "swaziland                                                                                                    1\n",
       "indina                                                                                                       1\n",
       "morocco                                                                                                      1\n",
       "georgia, ukraine                                                                                             1\n",
       "timor-leste                                                                                                  1\n",
       "asia-pacific                                                                                                 1\n",
       "ireland                                                                                                      1\n",
       "china, pakistan                                                                                              1\n",
       "gambia                                                                                                       1\n",
       "global                                                                                                       1\n",
       "Name: Country1, dtype: int64"
      ]
     },
     "execution_count": 63,
     "metadata": {},
     "output_type": "execute_result"
    }
   ],
   "source": [
    "country_data.Country1.value_counts()"
   ]
  },
  {
   "cell_type": "code",
   "execution_count": 62,
   "metadata": {},
   "outputs": [
    {
     "data": {
      "text/plain": [
       "ERROR    399\n",
       "nauru      1\n",
       "Name: Country2, dtype: int64"
      ]
     },
     "execution_count": 62,
     "metadata": {},
     "output_type": "execute_result"
    }
   ],
   "source": [
    "country_data.Country2.value_counts()"
   ]
  },
  {
   "cell_type": "code",
   "execution_count": null,
   "metadata": {},
   "outputs": [],
   "source": []
  }
 ],
 "metadata": {
  "kernelspec": {
   "display_name": "my_py_3",
   "language": "python",
   "name": "my_py_3"
  },
  "language_info": {
   "codemirror_mode": {
    "name": "ipython",
    "version": 3
   },
   "file_extension": ".py",
   "mimetype": "text/x-python",
   "name": "python",
   "nbconvert_exporter": "python",
   "pygments_lexer": "ipython3",
   "version": "3.5.5"
  }
 },
 "nbformat": 4,
 "nbformat_minor": 2
}
