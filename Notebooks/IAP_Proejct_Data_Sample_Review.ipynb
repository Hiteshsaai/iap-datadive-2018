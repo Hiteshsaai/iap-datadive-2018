{
 "cells": [
  {
   "cell_type": "markdown",
   "metadata": {},
   "source": [
    "# Project Data Sample Review "
   ]
  },
  {
   "cell_type": "code",
   "execution_count": 1,
   "metadata": {},
   "outputs": [],
   "source": [
    "import pandas as pd\n",
    "import numpy as np\n",
    "import os\n",
    "from collections import Counter\n",
    "%matplotlib inline\n",
    "pd.set_option('max_rows',300)"
   ]
  },
  {
   "cell_type": "code",
   "execution_count": 2,
   "metadata": {},
   "outputs": [],
   "source": [
    "projects=pd.read_csv('../Data/EWS_Project_Listing_01JUN17-31MAY18.csv')\n",
    "projects = projects[projects['EWS ID'].notnull()]"
   ]
  },
  {
   "cell_type": "code",
   "execution_count": 3,
   "metadata": {},
   "outputs": [
    {
     "data": {
      "text/plain": [
       "(2954, 77)"
      ]
     },
     "execution_count": 3,
     "metadata": {},
     "output_type": "execute_result"
    }
   ],
   "source": [
    "projects.shape"
   ]
  },
  {
   "cell_type": "markdown",
   "metadata": {},
   "source": [
    "** Example Row **"
   ]
  },
  {
   "cell_type": "code",
   "execution_count": 4,
   "metadata": {},
   "outputs": [
    {
     "data": {
      "text/plain": [
       "EWS ID                                                               32549\n",
       "ProjectNumber                                                    FMO-53557\n",
       "Published                                                        Published\n",
       "Bank Risk Rating                                                         B\n",
       "Project Status                                                    Approved\n",
       "EWS URL                  https://ews.rightsindevelopment.org/projects/5...\n",
       "Detailed Analysis URL                                                  NaN\n",
       "Project Name             SUNFARMING EURASIA ASSET ENERJI YATIRIMLARI VE...\n",
       "City                                                                   NaN\n",
       "Country Count                                                            1\n",
       "Country 1                                                           Turkey\n",
       "Country 2                                                              NaN\n",
       "Country 3                                                              NaN\n",
       "Country 4                                                              NaN\n",
       "Country 5                                                              NaN\n",
       "Country 6                                                              NaN\n",
       "Country 7                                                              NaN\n",
       "Country 8                                                              NaN\n",
       "Country 9                                                              NaN\n",
       "Country 10                                                             NaN\n",
       "Country 11                                                             NaN\n",
       "Country 12                                                             NaN\n",
       "Borrower or Client                        German Sponsors SUNfarming GmbH \n",
       "Private Actor Count                                                      4\n",
       "Private Actor 1                                   Alensys Engineering GmbH\n",
       "Private Actor 2                                            SUNfarming GmbH\n",
       "Private Actor 3                                            SUNfarming GmbH\n",
       "Private Actor 4                                            SUNfarming GmbH\n",
       "Private Actor 5                                                        NaN\n",
       "Private Actor 6                                                        NaN\n",
       "Private Actor 7                                                        NaN\n",
       "Private Actor 8                                                        NaN\n",
       "Private Actor 9                                                        NaN\n",
       "Private Actor 10                                                       NaN\n",
       "Private Actor 11                                                       NaN\n",
       "Private Actor 12                                                       NaN\n",
       "Private Actor 13                                                       NaN\n",
       "Private Actor 14                                                       NaN\n",
       "Private Actor 15                                                       NaN\n",
       "Bank Count                                                               1\n",
       "Bank 1                       Netherlands Development Finance Company (FMO)\n",
       "Bank 2                                                                 NaN\n",
       "Bank 3                                                                 NaN\n",
       "Bank 4                                                                 NaN\n",
       "Bank 5                                                                 NaN\n",
       "Sector Count                                                             2\n",
       "Sector 1                                                      Construction\n",
       "Sector 2                                                            Energy\n",
       "Sector 3                                                               NaN\n",
       "Sector 4                                                               NaN\n",
       "Sector 5                                                               NaN\n",
       "Sector 6                                                               NaN\n",
       "Sector 7                                                               NaN\n",
       "Last Edited                                                     2018-06-04\n",
       "Date Scraped                                                    2018-05-31\n",
       "Date Disclosed                                                         NaN\n",
       "Board Date                                                      2018-04-20\n",
       "Source URL                         https://www.fmo.nl/project-detail/53557\n",
       "Project Cost                                                           NaN\n",
       "Investment Amount                                                     15.5\n",
       "Project Description      This project provides financing for the constr...\n",
       "Contact Information      No contact information provided at time of wri...\n",
       "Partners Contacted                                                      No\n",
       "Partners Responded                                                      No\n",
       "Communities Informed                                                    No\n",
       "Community Response                                                      No\n",
       "People Trained                                                           0\n",
       "Information Requested                                                   No\n",
       "Analysis URL                                                           NaN\n",
       "Lead Person Count                                                        1\n",
       "Lead Person 1                                                Ishita Petkar\n",
       "Lead Person 2                                                          NaN\n",
       "Lead Person 3                                                          NaN\n",
       "Lead Person 4                                                          NaN\n",
       "Lead Person 5                                                          NaN\n",
       "Lead Person 6                                                          NaN\n",
       "Lead Person 7                                                          NaN\n",
       "Name: 0, dtype: object"
      ]
     },
     "execution_count": 4,
     "metadata": {},
     "output_type": "execute_result"
    }
   ],
   "source": [
    "projects.iloc[0]"
   ]
  },
  {
   "cell_type": "markdown",
   "metadata": {},
   "source": [
    "** Null Check **"
   ]
  },
  {
   "cell_type": "code",
   "execution_count": 5,
   "metadata": {},
   "outputs": [
    {
     "data": {
      "text/plain": [
       "EWS ID                   1.000000\n",
       "ProjectNumber            1.000000\n",
       "Published                1.000000\n",
       "Bank Risk Rating         1.000000\n",
       "Project Status           0.957684\n",
       "EWS URL                  1.000000\n",
       "Detailed Analysis URL    0.000000\n",
       "Project Name             1.000000\n",
       "City                     0.193297\n",
       "Country Count            1.000000\n",
       "Country 1                0.899797\n",
       "Country 2                0.040961\n",
       "Country 3                0.020650\n",
       "Country 4                0.013541\n",
       "Country 5                0.010156\n",
       "Country 6                0.005755\n",
       "Country 7                0.003047\n",
       "Country 8                0.001693\n",
       "Country 9                0.001693\n",
       "Country 10               0.001693\n",
       "Country 11               0.001354\n",
       "Country 12               0.001016\n",
       "Borrower or Client       0.851388\n",
       "Private Actor Count      1.000000\n",
       "Private Actor 1          0.152674\n",
       "Private Actor 2          0.030467\n",
       "Private Actor 3          0.008802\n",
       "Private Actor 4          0.005416\n",
       "Private Actor 5          0.003724\n",
       "Private Actor 6          0.001693\n",
       "Private Actor 7          0.000339\n",
       "Private Actor 8          0.000339\n",
       "Private Actor 9          0.000000\n",
       "Private Actor 10         0.000000\n",
       "Private Actor 11         0.000000\n",
       "Private Actor 12         0.000000\n",
       "Private Actor 13         0.000000\n",
       "Private Actor 14         0.000000\n",
       "Private Actor 15         0.000000\n",
       "Bank Count               1.000000\n",
       "Bank 1                   1.000000\n",
       "Bank 2                   0.013879\n",
       "Bank 3                   0.003047\n",
       "Bank 4                   0.001354\n",
       "Bank 5                   0.000000\n",
       "Sector Count             1.000000\n",
       "Sector 1                 0.943466\n",
       "Sector 2                 0.389303\n",
       "Sector 3                 0.114760\n",
       "Sector 4                 0.032837\n",
       "Sector 5                 0.010494\n",
       "Sector 6                 0.003047\n",
       "Sector 7                 0.001016\n",
       "Last Edited              1.000000\n",
       "Date Scraped             1.000000\n",
       "Date Disclosed           0.743060\n",
       "Board Date               0.760325\n",
       "Source URL               1.000000\n",
       "Project Cost             0.621530\n",
       "Investment Amount        0.866622\n",
       "Project Description      0.988829\n",
       "Contact Information      0.987813\n",
       "Partners Contacted       1.000000\n",
       "Partners Responded       1.000000\n",
       "Communities Informed     1.000000\n",
       "Community Response       1.000000\n",
       "People Trained           1.000000\n",
       "Information Requested    1.000000\n",
       "Analysis URL             0.000000\n",
       "Lead Person Count        1.000000\n",
       "Lead Person 1            1.000000\n",
       "Lead Person 2            0.119838\n",
       "Lead Person 3            0.004062\n",
       "Lead Person 4            0.001016\n",
       "Lead Person 5            0.000000\n",
       "Lead Person 6            0.000000\n",
       "Lead Person 7            0.000000\n",
       "dtype: float64"
      ]
     },
     "execution_count": 5,
     "metadata": {},
     "output_type": "execute_result"
    }
   ],
   "source": [
    "projects.count()/len(projects.index)"
   ]
  },
  {
   "cell_type": "markdown",
   "metadata": {},
   "source": [
    "# Compare to the Labeled Data "
   ]
  },
  {
   "cell_type": "code",
   "execution_count": 12,
   "metadata": {},
   "outputs": [],
   "source": [
    "labels = pd.read_csv('../Temp_Output/june11_temp_labeled.csv')"
   ]
  },
  {
   "cell_type": "code",
   "execution_count": 34,
   "metadata": {},
   "outputs": [],
   "source": [
    "project_labels = labels[ labels['EWS hyperlink'].notnull()]\n",
    "project_labels = project_labels[project_labels['EWS hyperlink'].str.contains('https://ews')]"
   ]
  },
  {
   "cell_type": "code",
   "execution_count": 41,
   "metadata": {},
   "outputs": [],
   "source": [
    "project_ids = []\n",
    "for i in project_labels['Projects(EWSProjectID)']:\n",
    "    project_ids += [j.strip() for j in  i.split(',')]"
   ]
  },
  {
   "cell_type": "code",
   "execution_count": 47,
   "metadata": {},
   "outputs": [
    {
     "name": "stdout",
     "output_type": "stream",
     "text": [
      "45\n"
     ]
    }
   ],
   "source": [
    "project_ids = list(set(project_ids))\n",
    "print(len(project_ids))"
   ]
  },
  {
   "cell_type": "code",
   "execution_count": 54,
   "metadata": {},
   "outputs": [
    {
     "data": {
      "text/plain": [
       "{'ADB-41435-053',\n",
       " 'ADB-48226-002',\n",
       " 'ADB-50410-001',\n",
       " 'AIIB-000079',\n",
       " 'EIB-20140596',\n",
       " 'EIB-20140645',\n",
       " 'EIB-20150676',\n",
       " 'EIB-20160816',\n",
       " 'Figeac Aero Regional',\n",
       " 'IADB-EC-L1111',\n",
       " 'IIC-12063-02',\n",
       " 'Tranche 2 in EWS',\n",
       " 'WB-P146330',\n",
       " 'WB-P148775',\n",
       " 'WB-P156241',\n",
       " 'WB-P160383',\n",
       " 'WB-P160408',\n",
       " 'WB-P161234',\n",
       " 'WB-P162422',\n",
       " 'missing Tranche 3?: https://www.adb.org/projects/36330-043/main#project-overview'}"
      ]
     },
     "execution_count": 54,
     "metadata": {},
     "output_type": "execute_result"
    }
   ],
   "source": [
    "set(project_ids) - set(projects.ProjectNumber.unique())"
   ]
  },
  {
   "cell_type": "markdown",
   "metadata": {},
   "source": [
    "## Project Description Column will Likely Be most Useful for Matching "
   ]
  },
  {
   "cell_type": "markdown",
   "metadata": {},
   "source": [
    "**Notes**\n",
    "    * Some descriptions are pretty short - not sure how easy it will be to match to those\n",
    "    * Some of the other fields will likely be useful (Country, Borrower or Client, etc.)"
   ]
  },
  {
   "cell_type": "code",
   "execution_count": 6,
   "metadata": {},
   "outputs": [
    {
     "name": "stdout",
     "output_type": "stream",
     "text": [
      "The proposed project involves IFC investing an INR equivalent of approximately US$50 million in a combination of instruments in one or more Special Purpose Vehicles (\"SPV\") promoted by Mahindra Lifespace Developers Limited (\"MLDL\" or the \"Company\" or the \"Sponsor\") set up for the development of three industrial clusters (ICs) around established industrial areas in Rajasthan, Gujarat, and Maharashtra (the \"Project\").\n",
      "*****\n",
      "\n",
      "The objective of the project is to adapt and scale a loan product to finance water and sanitation solutions to poor and vulnerable population in Brazil.\n",
      "*****\n",
      "\n",
      "The proposed financing consists of two separate long-term loans to be granted directly to Durlicouros Industria e Comercio de Couros, Exportacao e Importacao Ltda. in Brazil and to Durli Leather S.A. and Veneza Inversiones S.A. in Paraguay. The Borrowers will use the proceeds of the loans to support the construction, operation, and maintenance of two (2) new leather manufacturing plants (one (1) in Brazil and one (1) in Paraguay), its working capital needs and refinancing of existing debt in Brazil.\n",
      "*****\n",
      "\n",
      "nan\n",
      "*****\n",
      "\n",
      "nan\n",
      "*****\n",
      "\n",
      "This project finances MagtiCom, a leading telecoms operator in Georgia, to acquire a regional backbone service and internet provider Deltacomm.\n",
      "*****\n",
      "\n",
      "IDB: This technical cooperation aims at further deepening the partnership among countries in Latin America and the Caribbean (LAC) and China. To that end, the program will finance capacity building and policy and knowledge dialogues in a broad range of topics of common interest on institutional development. Through these activities, the two regions will deepen their linkages towards one that is mutually beneficial and constructive for sustainable and long term growth. The TC also seeks to further strengthen the existing partnership with Chinese institutions such as the Chinese Academy of Social Sciences (CASS) and to facilitate the formation of new partnerships through the proposed activities.\n",
      "*****\n",
      "\n",
      "This project finances a company's research, development and innovation activities in 3D printing software and related services from 2017-2019.\n",
      "*****\n",
      "\n",
      "According to ADB website, the proposed project loan will finance priority water and sanitation investments of Metropolitan Waterworks and Sewerage System (MWSS) and will contribute to improving the living and health conditions in the National Capital Region (NCR), which accounts for 33% of the nation's GDP. The Project will also provide institutional capacity strengthening to MWSS, including for regulatory oversight, financial planning, and asset and water security management. The proposed project preparatory technical assistance will also assess the suitability of establishing a partnership between the Asian Development Bank (ADB) and MWSS through a multitranche financing facility (MFF). Management approval will be sought once the government requests for an MFF.\n",
      "\n",
      "This project is associated to a proposed ADB project: Metro Manila Wastewater Improvement Project (ADB-48173-003).\n",
      "*****\n",
      "\n",
      "The project aimed at boosting the resilience of Samoa to some of the majorrisks threatening its sustainable growth and development. The proposed operation will strengthen Samoa's macroeconomic and financial resilience, including through increasingrevenue collection to help build the fiscal buffers necessary to respond to external shocks. It will also support the Government of Samoa's (Government) efforts to increase Samoa's resilience to the effects of climate change, natural disasters, and non-communicable diseases (NCDs). Under the proposed operation, the World Bank (WB) will continue to support the implementation of reforms that have been prioritized by the Government, and that are closely aligned with target areas identified in the Strategy for the Development of Samoa 2017-2020 (SDS), including economic sustainability and business development, improved health outcomes, and climate and disaster resilience.\n",
      "*****\n",
      "\n",
      "According to FMO website, Babson College will be the recipient of this grant as a part of FMO's partnership with Goldman Sachs Foundation. The ultimate beneficiaries will be female business owners that are clients of two of FMO's client banks. The aim is to craft a program that adapts existing curriculum and provides delivery training through bank partnerships in order to enhance the growth potential of women owned businesses in a designated set of countries. In addition, this proposal includes the development and implementation of a Measurement and Evaluation system to assess the efficacy of the program.\n",
      "*****\n",
      "\n",
      "From the IDB: \"The main objective of this project is to improve the productivity of the livestock sector in Belize through the promotion of pasture intensification, while at the same time addressing the low capacity for adaptation to climate change of especially small and medium-sized producers. Rapid growth in Belizean livestock, in response to growing demand in the tourism sector as well as in domestic and international markets, has resulted in the opening up of new pastureland in order to meet nutrient requirements of herds largely dependent on natural pastures with low feed supplementation and water conservation strategies in place. Any efforts for the sustainable intensification of livestock production in Belize, must consider the challenges that climate change poses, not only for productivity, but also with respect to ecosystems. This critically requires building the capacity of all producers to adapt in order to build climate change resiliency and to reduce environmental impacts such as deforestation, soil degradation and unsustainable water consumption.\"\n",
      "*****\n",
      "\n",
      "According to IFC website, the objective of the Additional Financing for the Health Governance and Nutrition Development Project for Lao People's Democratic Republic is to help increase coverage of reproductive, maternal and child health, and nutrition services in target areas in Lao PDR. The Additional Financing (AF) from IDA, the MDTF-IDFHP, and the PHRD will help finance the costs associated with additional and expanded scope of activities to scale up the impact and development effectiveness of the original project. It will also improve the prospect that key programs and interventions currently supported under the HGNDP will be sustained. The AF will continue to support improvement of coverage of reproductive, maternal and child health (MCH), and nutrition services. \n",
      "\n",
      "The project has the following components:\n",
      "1. Health Sector Governance Reform\n",
      "2. Service Delivery\n",
      "3. Nutrition Soial and Behavior Change Communication\n",
      "4. Project Management, Monitoring and Evaluation\n",
      "*****\n",
      "\n",
      "WHO IS OUR CLIENTLereko Metier REIPPP Fund Trust (LMRF) was established in 2013 in South Africa by Lereko Metier Sustainable Capital Fund, FMO and DEG to invest in various renewable energy projects of the South African Renewable Energy Independent Power Producer Procurement Program (REIPPP). Through LMRF, DEG, FMO and LMSC have already invested in 3 wind farms (capacity 360 MW).FUNDING OBJECTIVEThe proceeds of this financing will go towards financing of the long term equity/risk capital component of greenfield renewable energy projects.WHY WE FUND THIS PROJECTThe project will bring the following developmental effects: Creation of employment opportunities; Improvement of availability and access to reliable electricity supply; Promotion of economic growth as there are direct and indirect links between increased growth and improved electricity generation.\n",
      "*****\n",
      "\n",
      "The overall objective of this operation is to support the Panama Sanitation project in the Panama Oeste Province, located west of Panama City and Canal. The project will consist of the construction of a wastewater collection system - sewerage networks, pumping stations and household connections - the construction of a conveyance system and a wastewater treatment plant to provide full sanitation services to the sector of La Chorrera and other surrounding areas. The project is a successor operation to the West Panama City Sanitation Programme - Burunga. The rest of the project will be financed by the Inter-American Development Bank (IADB), the Latin American Development Bank (CAF), the Spanish Cooperation Agency (AECID), the Central American Bank for Economic Integration (CABEI) and the government of Panama.\n",
      "\n",
      "Objetives: The programme contributes to the government's efforts to reduce pollution and improve environmental sustainability. It will benefit an estimated population of about 225,000 at completion. The treatment facility will be designed to avoid the discharge of over 115,000 cubic meters per day of untreated wastewater into the environment. It will also indirectly have a positive economic impact due to its proximity to the metropolitan area of Panama. The project is in line with the EIB Water Sector Lending Policy and is eligible for financing under the EIB Climate Action and Environment Facility (CAEF) as it contributes to environmental sustainability through pollution abatement, to underpin sustainable growth in the region.\n",
      "\n",
      "Environmental aspects: The project will have a very high positive environmental and social impact for the population of Panama. It will significantly reduce direct wastewater discharges into water bodies, thus contributing to improving public health and environmental conditions in the beneficiary area. The project's compliance with environmental and social principles of the EU, the EIB and the other IFIs, together with the applicable national environmental legislation and issues related to adaptation to climate change, will be verified during the appraisal.\n",
      "*****\n",
      "\n"
     ]
    }
   ],
   "source": [
    "for i in projects.sample(15)['Project Description']:\n",
    "    print(i)\n",
    "    print('*****\\n')"
   ]
  },
  {
   "cell_type": "markdown",
   "metadata": {},
   "source": [
    "## Looking at the Sector Data \n",
    "\n",
    "This could be a dataset that could help in the tagging of the news articles with (Sector Infortmation)"
   ]
  },
  {
   "cell_type": "code",
   "execution_count": 7,
   "metadata": {},
   "outputs": [],
   "source": [
    "def get_category_cols(category, additional_removes=None):\n",
    "    cols = [i for i in projects.columns if category in i]\n",
    "    cols.remove(category + ' Count')\n",
    "    if additional_removes:\n",
    "        [cols.remove(i) for i in additional_removes]\n",
    "    return cols\n",
    "\n",
    "sector_cols = get_category_cols('Sector')   \n",
    "all_sectors = projects[sector_cols].as_matrix().flatten()\n"
   ]
  },
  {
   "cell_type": "code",
   "execution_count": 8,
   "metadata": {},
   "outputs": [
    {
     "name": "stdout",
     "output_type": "stream",
     "text": [
      "nan\n",
      "Transport\n",
      "Hydropower\n",
      "Infrastructure\n",
      "Climate and Environment\n",
      "Finance\n",
      "Industry and Trade\n",
      "Humanitarian Response\n",
      "Construction\n",
      "Education and Health\n",
      "Communications\n",
      "Mining\n",
      "Law and Government\n",
      "Energy\n",
      "Technical Cooperation\n",
      "Agriculture and Forestry\n",
      "Water and Sanitation\n"
     ]
    }
   ],
   "source": [
    "for i in Counter(all_sectors): print(i)"
   ]
  },
  {
   "cell_type": "markdown",
   "metadata": {},
   "source": [
    "# NOTE "
   ]
  },
  {
   "cell_type": "markdown",
   "metadata": {},
   "source": [
    "Might be able to use this to also classify the Bank and Country "
   ]
  },
  {
   "cell_type": "markdown",
   "metadata": {},
   "source": [
    "**Countries**"
   ]
  },
  {
   "cell_type": "code",
   "execution_count": 9,
   "metadata": {},
   "outputs": [
    {
     "name": "stdout",
     "output_type": "stream",
     "text": [
      "170\n"
     ]
    },
    {
     "data": {
      "text/plain": [
       "Counter({'Afghanistan': 25,\n",
       "         'Albania': 10,\n",
       "         'Angola': 6,\n",
       "         'Argentina': 57,\n",
       "         'Armenia': 26,\n",
       "         'Austria': 11,\n",
       "         'Azerbaijan': 15,\n",
       "         'Bahamas': 8,\n",
       "         'Bangladesh': 64,\n",
       "         'Barbados': 3,\n",
       "         'Belarus': 7,\n",
       "         'Belgium': 10,\n",
       "         'Belize': 9,\n",
       "         'Benin': 6,\n",
       "         'Bhutan': 17,\n",
       "         'Bolivia': 30,\n",
       "         'Bosnia and Herzegovina': 15,\n",
       "         'Brazil': 79,\n",
       "         'Bulgaria': 9,\n",
       "         'Burkina Faso': 7,\n",
       "         'Burundi': 1,\n",
       "         'Cambodia': 42,\n",
       "         'Cameroon': 11,\n",
       "         'Cape Verde': 3,\n",
       "         'Central African Republic': 7,\n",
       "         'Chad': 10,\n",
       "         'Chile': 22,\n",
       "         'China': 128,\n",
       "         'Colombia': 53,\n",
       "         'Congo, Democratic Republic of': 7,\n",
       "         'Congo, Republic of': 3,\n",
       "         'Cook Islands': 1,\n",
       "         'Costa Rica': 23,\n",
       "         'Croatia': 13,\n",
       "         'Cyprus': 1,\n",
       "         'Czech Republic': 11,\n",
       "         'Denmark': 9,\n",
       "         'Djibouti': 3,\n",
       "         'Dominica': 1,\n",
       "         'Dominican Republic': 19,\n",
       "         'Ecuador': 36,\n",
       "         'Egypt': 76,\n",
       "         'El Salvador': 26,\n",
       "         'Equatorial Guinea': 2,\n",
       "         'Ethiopia': 15,\n",
       "         'Fiji': 9,\n",
       "         'Finland': 16,\n",
       "         'France': 50,\n",
       "         'Gabon': 3,\n",
       "         'Gambia': 3,\n",
       "         'Georgia': 38,\n",
       "         'Germany': 33,\n",
       "         'Ghana': 21,\n",
       "         'Greece': 31,\n",
       "         'Grenada': 1,\n",
       "         'Guatemala': 27,\n",
       "         'Guinea': 7,\n",
       "         'Guinea-Bissau': 1,\n",
       "         'Guyana': 12,\n",
       "         'Haiti': 23,\n",
       "         'Honduras': 37,\n",
       "         'Hungary': 13,\n",
       "         'Iceland': 1,\n",
       "         'India': 135,\n",
       "         'Indonesia': 46,\n",
       "         'Iraq': 6,\n",
       "         'Ireland': 10,\n",
       "         'Italy': 55,\n",
       "         'Ivory Coast': 16,\n",
       "         'Jamaica': 15,\n",
       "         'Jordan': 31,\n",
       "         'Kazakhstan': 22,\n",
       "         'Kenya': 26,\n",
       "         'Kiribati': 6,\n",
       "         'Kosovo': 9,\n",
       "         'Kyrgyzstan': 13,\n",
       "         'Laos': 19,\n",
       "         'Latvia': 3,\n",
       "         'Lebanon': 14,\n",
       "         'Lesotho': 4,\n",
       "         'Liberia': 8,\n",
       "         'Lithuania': 2,\n",
       "         'Luxembourg': 3,\n",
       "         'Macedonia': 6,\n",
       "         'Madagascar': 16,\n",
       "         'Malawi': 10,\n",
       "         'Malaysia': 2,\n",
       "         'Maldives': 7,\n",
       "         'Mali': 12,\n",
       "         'Malta': 1,\n",
       "         'Marshall Islands': 4,\n",
       "         'Mauritania': 2,\n",
       "         'Mauritius': 6,\n",
       "         'Mexico': 59,\n",
       "         'Micronesia': 4,\n",
       "         'Moldova': 10,\n",
       "         'Mongolia': 55,\n",
       "         'Montenegro': 9,\n",
       "         'Morocco': 13,\n",
       "         'Mozambique': 7,\n",
       "         'Myanmar': 46,\n",
       "         'Namibia': 3,\n",
       "         'Nauru': 6,\n",
       "         'Nepal': 20,\n",
       "         'Netherlands': 17,\n",
       "         'Nicaragua': 28,\n",
       "         'Niger': 5,\n",
       "         'Nigeria': 21,\n",
       "         'Norway': 1,\n",
       "         'Oman': 3,\n",
       "         'Pakistan': 65,\n",
       "         'Palau': 2,\n",
       "         'Palestine, West Bank, Gaza': 9,\n",
       "         'Panama': 31,\n",
       "         'Papua New Guinea': 13,\n",
       "         'Paraguay': 32,\n",
       "         'Peru': 39,\n",
       "         'Philippines': 42,\n",
       "         'Poland': 46,\n",
       "         'Portugal': 13,\n",
       "         'Romania': 23,\n",
       "         'Russia': 3,\n",
       "         'Rwanda': 16,\n",
       "         'Samoa': 6,\n",
       "         'Sao Tome and Principe': 1,\n",
       "         'Saudi Arabia': 1,\n",
       "         'Senegal': 16,\n",
       "         'Serbia': 22,\n",
       "         'Seychelles': 1,\n",
       "         'Sierra Leone': 13,\n",
       "         'Singapore': 1,\n",
       "         'Slovakia': 9,\n",
       "         'Slovenia': 6,\n",
       "         'Solomon Islands': 15,\n",
       "         'Somalia': 2,\n",
       "         'South Africa': 21,\n",
       "         'South Korea': 1,\n",
       "         'South Sudan': 2,\n",
       "         'Spain': 49,\n",
       "         'Sri Lanka': 35,\n",
       "         'St. Lucia': 3,\n",
       "         'St. Vincent and the Grenadines': 1,\n",
       "         'Sudan': 1,\n",
       "         'Suriname': 8,\n",
       "         'Swaziland': 3,\n",
       "         'Sweden': 9,\n",
       "         'Switzerland': 1,\n",
       "         'Tajikistan': 30,\n",
       "         'Tanzania': 8,\n",
       "         'Thailand': 10,\n",
       "         'Timor-Leste': 5,\n",
       "         'Togo': 4,\n",
       "         'Tonga': 8,\n",
       "         'Trinidad and Tobago': 5,\n",
       "         'Tunisia': 27,\n",
       "         'Turkey': 50,\n",
       "         'Turkmenistan': 1,\n",
       "         'Tuvalu': 7,\n",
       "         'Uganda': 14,\n",
       "         'Ukraine': 22,\n",
       "         'United Kingdom': 3,\n",
       "         'Uruguay': 19,\n",
       "         'Uzbekistan': 27,\n",
       "         'Vanuatu': 9,\n",
       "         'Venezuela': 3,\n",
       "         'Vietnam': 41,\n",
       "         'Yemen': 4,\n",
       "         'Zambia': 18,\n",
       "         'Zimbabwe': 3,\n",
       "         nan: 32490})"
      ]
     },
     "execution_count": 9,
     "metadata": {},
     "output_type": "execute_result"
    }
   ],
   "source": [
    "country_cols = get_category_cols('Country')\n",
    "all_countries = projects[country_cols].as_matrix().flatten()\n",
    "country_counter = Counter(all_countries)\n",
    "print(len(country_counter))\n",
    "country_counter"
   ]
  },
  {
   "cell_type": "markdown",
   "metadata": {},
   "source": [
    "**Banks**"
   ]
  },
  {
   "cell_type": "code",
   "execution_count": 10,
   "metadata": {},
   "outputs": [
    {
     "name": "stdout",
     "output_type": "stream",
     "text": [
      "13\n"
     ]
    },
    {
     "data": {
      "text/plain": [
       "Counter({'African Development Bank (AFDB)': 45,\n",
       "         'Asian Development Bank (ADB)': 644,\n",
       "         'Asian Infrastructure Investment Bank (AIIB)': 51,\n",
       "         'European Bank for Reconstruction and Development (EBRD)': 179,\n",
       "         'European Investment Bank (EIB)': 462,\n",
       "         'Green Climate Fund (GCF)': 60,\n",
       "         'Inter-American Development Bank (IADB)': 574,\n",
       "         'Inter-American Investment Corporation (IIC)': 67,\n",
       "         'International Finance Corporation (IFC)': 332,\n",
       "         'Multilateral Investment Guarantee Agency (MIGA)': 39,\n",
       "         'Netherlands Development Finance Company (FMO)': 206,\n",
       "         'New Development Bank (NDB)': 12,\n",
       "         'World Bank (WB)': 337})"
      ]
     },
     "execution_count": 10,
     "metadata": {},
     "output_type": "execute_result"
    }
   ],
   "source": [
    "banks_cols = get_category_cols('Bank', ['Bank Risk Rating'])\n",
    "all_banks = projects[banks_cols].as_matrix().flatten()\n",
    "all_banks = [i for i  in all_banks if  pd.notnull(i)] ## Something weird with the nulls in this one. \n",
    "banks_counter = Counter(all_banks)\n",
    "print(len(banks_counter))\n",
    "banks_counter"
   ]
  },
  {
   "cell_type": "code",
   "execution_count": 19,
   "metadata": {},
   "outputs": [
    {
     "name": "stdout",
     "output_type": "stream",
     "text": [
      "Netherlands Development Finance Company (FMO)\n",
      "Asian Development Bank (ADB)\n",
      "Inter-American Investment Corporation (IIC)\n",
      "New Development Bank (NDB)\n",
      "Asian Infrastructure Investment Bank (AIIB)\n",
      "World Bank (WB)\n",
      "Inter-American Development Bank (IADB)\n",
      "African Development Bank (AFDB)\n",
      "European Bank for Reconstruction and Development (EBRD)\n",
      "European Investment Bank (EIB)\n",
      "International Finance Corporation (IFC)\n",
      "Multilateral Investment Guarantee Agency (MIGA)\n",
      "Green Climate Fund (GCF)\n"
     ]
    }
   ],
   "source": [
    "for b in banks_counter: print(b)"
   ]
  },
  {
   "cell_type": "code",
   "execution_count": null,
   "metadata": {},
   "outputs": [],
   "source": []
  }
 ],
 "metadata": {
  "kernelspec": {
   "display_name": "my_py_3",
   "language": "python",
   "name": "my_py_3"
  },
  "language_info": {
   "codemirror_mode": {
    "name": "ipython",
    "version": 3
   },
   "file_extension": ".py",
   "mimetype": "text/x-python",
   "name": "python",
   "nbconvert_exporter": "python",
   "pygments_lexer": "ipython3",
   "version": "3.5.5"
  }
 },
 "nbformat": 4,
 "nbformat_minor": 2
}
