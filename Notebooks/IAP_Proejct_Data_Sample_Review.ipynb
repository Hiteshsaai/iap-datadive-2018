{
 "cells": [
  {
   "cell_type": "markdown",
   "metadata": {},
   "source": [
    "# Project Data Sample Review "
   ]
  },
  {
   "cell_type": "code",
   "execution_count": 12,
   "metadata": {},
   "outputs": [],
   "source": [
    "import pandas as pd\n",
    "import numpy as np\n",
    "import os\n",
    "from collections import Counter\n",
    "%matplotlib inline\n",
    "pd.set_option('max_rows',300)"
   ]
  },
  {
   "cell_type": "code",
   "execution_count": 13,
   "metadata": {},
   "outputs": [],
   "source": [
    "projects=pd.read_csv('../Data/EWS_Project_Listing_01JUN17-31MAY18.csv')\n",
    "projects = projects[projects['EWS ID'].notnull()]"
   ]
  },
  {
   "cell_type": "code",
   "execution_count": 14,
   "metadata": {},
   "outputs": [
    {
     "data": {
      "text/plain": [
       "(2954, 77)"
      ]
     },
     "execution_count": 14,
     "metadata": {},
     "output_type": "execute_result"
    }
   ],
   "source": [
    "projects.shape"
   ]
  },
  {
   "cell_type": "markdown",
   "metadata": {},
   "source": [
    "** Example Row **"
   ]
  },
  {
   "cell_type": "code",
   "execution_count": 15,
   "metadata": {},
   "outputs": [
    {
     "data": {
      "text/plain": [
       "EWS ID                                                               32549\n",
       "ProjectNumber                                                    FMO-53557\n",
       "Published                                                        Published\n",
       "Bank Risk Rating                                                         B\n",
       "Project Status                                                    Approved\n",
       "EWS URL                  https://ews.rightsindevelopment.org/projects/5...\n",
       "Detailed Analysis URL                                                  NaN\n",
       "Project Name             SUNFARMING EURASIA ASSET ENERJI YATIRIMLARI VE...\n",
       "City                                                                   NaN\n",
       "Country Count                                                            1\n",
       "Country 1                                                           Turkey\n",
       "Country 2                                                              NaN\n",
       "Country 3                                                              NaN\n",
       "Country 4                                                              NaN\n",
       "Country 5                                                              NaN\n",
       "Country 6                                                              NaN\n",
       "Country 7                                                              NaN\n",
       "Country 8                                                              NaN\n",
       "Country 9                                                              NaN\n",
       "Country 10                                                             NaN\n",
       "Country 11                                                             NaN\n",
       "Country 12                                                             NaN\n",
       "Borrower or Client                        German Sponsors SUNfarming GmbH \n",
       "Private Actor Count                                                      4\n",
       "Private Actor 1                                   Alensys Engineering GmbH\n",
       "Private Actor 2                                            SUNfarming GmbH\n",
       "Private Actor 3                                            SUNfarming GmbH\n",
       "Private Actor 4                                            SUNfarming GmbH\n",
       "Private Actor 5                                                        NaN\n",
       "Private Actor 6                                                        NaN\n",
       "Private Actor 7                                                        NaN\n",
       "Private Actor 8                                                        NaN\n",
       "Private Actor 9                                                        NaN\n",
       "Private Actor 10                                                       NaN\n",
       "Private Actor 11                                                       NaN\n",
       "Private Actor 12                                                       NaN\n",
       "Private Actor 13                                                       NaN\n",
       "Private Actor 14                                                       NaN\n",
       "Private Actor 15                                                       NaN\n",
       "Bank Count                                                               1\n",
       "Bank 1                       Netherlands Development Finance Company (FMO)\n",
       "Bank 2                                                                 NaN\n",
       "Bank 3                                                                 NaN\n",
       "Bank 4                                                                 NaN\n",
       "Bank 5                                                                 NaN\n",
       "Sector Count                                                             2\n",
       "Sector 1                                                      Construction\n",
       "Sector 2                                                            Energy\n",
       "Sector 3                                                               NaN\n",
       "Sector 4                                                               NaN\n",
       "Sector 5                                                               NaN\n",
       "Sector 6                                                               NaN\n",
       "Sector 7                                                               NaN\n",
       "Last Edited                                                     2018-06-04\n",
       "Date Scraped                                                    2018-05-31\n",
       "Date Disclosed                                                         NaN\n",
       "Board Date                                                      2018-04-20\n",
       "Source URL                         https://www.fmo.nl/project-detail/53557\n",
       "Project Cost                                                           NaN\n",
       "Investment Amount                                                     15.5\n",
       "Project Description      This project provides financing for the constr...\n",
       "Contact Information      No contact information provided at time of wri...\n",
       "Partners Contacted                                                      No\n",
       "Partners Responded                                                      No\n",
       "Communities Informed                                                    No\n",
       "Community Response                                                      No\n",
       "People Trained                                                           0\n",
       "Information Requested                                                   No\n",
       "Analysis URL                                                           NaN\n",
       "Lead Person Count                                                        1\n",
       "Lead Person 1                                                Ishita Petkar\n",
       "Lead Person 2                                                          NaN\n",
       "Lead Person 3                                                          NaN\n",
       "Lead Person 4                                                          NaN\n",
       "Lead Person 5                                                          NaN\n",
       "Lead Person 6                                                          NaN\n",
       "Lead Person 7                                                          NaN\n",
       "Name: 0, dtype: object"
      ]
     },
     "execution_count": 15,
     "metadata": {},
     "output_type": "execute_result"
    }
   ],
   "source": [
    "projects.iloc[0]"
   ]
  },
  {
   "cell_type": "markdown",
   "metadata": {},
   "source": [
    "** Null Check **"
   ]
  },
  {
   "cell_type": "code",
   "execution_count": 16,
   "metadata": {},
   "outputs": [
    {
     "data": {
      "text/plain": [
       "EWS ID                   1.000000\n",
       "ProjectNumber            1.000000\n",
       "Published                1.000000\n",
       "Bank Risk Rating         1.000000\n",
       "Project Status           0.957684\n",
       "EWS URL                  1.000000\n",
       "Detailed Analysis URL    0.000000\n",
       "Project Name             1.000000\n",
       "City                     0.193297\n",
       "Country Count            1.000000\n",
       "Country 1                0.899797\n",
       "Country 2                0.040961\n",
       "Country 3                0.020650\n",
       "Country 4                0.013541\n",
       "Country 5                0.010156\n",
       "Country 6                0.005755\n",
       "Country 7                0.003047\n",
       "Country 8                0.001693\n",
       "Country 9                0.001693\n",
       "Country 10               0.001693\n",
       "Country 11               0.001354\n",
       "Country 12               0.001016\n",
       "Borrower or Client       0.851388\n",
       "Private Actor Count      1.000000\n",
       "Private Actor 1          0.152674\n",
       "Private Actor 2          0.030467\n",
       "Private Actor 3          0.008802\n",
       "Private Actor 4          0.005416\n",
       "Private Actor 5          0.003724\n",
       "Private Actor 6          0.001693\n",
       "Private Actor 7          0.000339\n",
       "Private Actor 8          0.000339\n",
       "Private Actor 9          0.000000\n",
       "Private Actor 10         0.000000\n",
       "Private Actor 11         0.000000\n",
       "Private Actor 12         0.000000\n",
       "Private Actor 13         0.000000\n",
       "Private Actor 14         0.000000\n",
       "Private Actor 15         0.000000\n",
       "Bank Count               1.000000\n",
       "Bank 1                   1.000000\n",
       "Bank 2                   0.013879\n",
       "Bank 3                   0.003047\n",
       "Bank 4                   0.001354\n",
       "Bank 5                   0.000000\n",
       "Sector Count             1.000000\n",
       "Sector 1                 0.943466\n",
       "Sector 2                 0.389303\n",
       "Sector 3                 0.114760\n",
       "Sector 4                 0.032837\n",
       "Sector 5                 0.010494\n",
       "Sector 6                 0.003047\n",
       "Sector 7                 0.001016\n",
       "Last Edited              1.000000\n",
       "Date Scraped             1.000000\n",
       "Date Disclosed           0.743060\n",
       "Board Date               0.760325\n",
       "Source URL               1.000000\n",
       "Project Cost             0.621530\n",
       "Investment Amount        0.866622\n",
       "Project Description      0.988829\n",
       "Contact Information      0.987813\n",
       "Partners Contacted       1.000000\n",
       "Partners Responded       1.000000\n",
       "Communities Informed     1.000000\n",
       "Community Response       1.000000\n",
       "People Trained           1.000000\n",
       "Information Requested    1.000000\n",
       "Analysis URL             0.000000\n",
       "Lead Person Count        1.000000\n",
       "Lead Person 1            1.000000\n",
       "Lead Person 2            0.119838\n",
       "Lead Person 3            0.004062\n",
       "Lead Person 4            0.001016\n",
       "Lead Person 5            0.000000\n",
       "Lead Person 6            0.000000\n",
       "Lead Person 7            0.000000\n",
       "dtype: float64"
      ]
     },
     "execution_count": 16,
     "metadata": {},
     "output_type": "execute_result"
    }
   ],
   "source": [
    "projects.count()/len(projects.index)"
   ]
  },
  {
   "cell_type": "markdown",
   "metadata": {},
   "source": [
    "## Project Description Column will Likely Be most Useful for Matching "
   ]
  },
  {
   "cell_type": "markdown",
   "metadata": {},
   "source": [
    "**Notes**\n",
    "    * Some descriptions are pretty short - not sure how easy it will be to match to those\n",
    "    * Some of the other fields will likely be useful (Country, Borrower or Client, etc.)"
   ]
  },
  {
   "cell_type": "code",
   "execution_count": 7,
   "metadata": {},
   "outputs": [
    {
     "name": "stdout",
     "output_type": "stream",
     "text": [
      "According to FMO website, FMO provides ACBA with a USD 15 million multi-currency facility that ACBA can choose to drawdown in either US Dollar or Armenian Dram. The facility will improve access to finance for Armenian MSMEs and farmers that remain underserved. It will thereby contribute to development of the real sector in the country, which continues to be one of the poorest in the region. With its clear focus on MSMEs and farmers and its wide regional outreach, ACBA is well positioned to finance these underserved segments of the Armenian economy. In rural areas where many other banks are not present, ACBA is often the first financial institution working with the local entrepreneurs and individuals. Strict on-lending criteria will ensure that FMO's funds will be channeled exclusively to MSMEs and farmers.\n",
      "*****\n",
      "\n",
      "Summarized from the IIC: The IIC, as member of the IDB Group, will support Locfund II's expansion through a Loan of up to US$10 million (the \"IIC A Loan\"). Thus, the number of MFIs reached and final clients benefited will also increase. Locfund II expects to increase the number of MFIs' clients by 13% totalizing 241,000 final beneficiaries during its life.\n",
      "\n",
      "This is a follow-on from the 2015 IDB loan to Locfund II comprised of an A Loan of up to US$15 million funded by IDB with its Ordinary Capital resources and up to US$7.5 million in a Co-Loan from the China Co-Financing Fund (the \"China Fund\") to provide financing in local currency to microfinance institutions (\"MFIs\"), contributing to reduce the MFIs' foreign exchange risk exposure and to support the expansion of their local currency lending capacity to micro- and small-sized enterprises (\"MSEs\") in Latin America and the Caribbean (\"LAC\").\n",
      "*****\n",
      "\n",
      "Provision of a sovereign loan of up to EUR 100 million to the Republic of Tunisia, to be on-lent to the Societe des Transports de Tunis (\"TRANSTU\" or the \"Company\"). The objective of the project is to support the upgrade and renovation of the rail urban transport network in Tunis, in order to enhance the network's capacity, performance, reliability and safety. The Bank's engagement will entail the introduction of a Corporate Development Programme (\"CDP\") to support TRANSTU in its restructuring efforts and in adopting and implementing measures to improve its financial sustainability and operational efficiency. In addition, the Bank's engagement will support TRANSTU in adopting and implementing measures to improve its internal controls, compliance and other aspects of its corporate governance through the development and the implementation of a Corporate Governance Action Plan ('CGAP\"). The Project will also contribute to lowering carbon emissions by i) preventing a modal shift to road by creating additional capacity in the network to address the expected passenger growth, through the renewal of TGM and metro train sets; ii) shifting traffic from road to rail transport by optimising journey times and; iii) increasing overall fleet availability and optimising operations through the construction of a new maintenance depot.\n",
      "*****\n",
      "\n",
      "This project provides advisory services to the Government of Kosovo to improve the business environment and support foreign investments and exports. This includes supporting regulatory reform and strengthening the legal framework for investment attraction, entry, and retention.\n",
      "*****\n",
      "\n",
      "Contribute to the logistics development of Mesoamerica by means of capacity building and specialized studies for: (i) generating regional strategies for transport, logistics and mobility, and their action plans; (ii) promote regional investments plans prioritized in transportation, logistics and mobility with regional impact; (iii) support the transformation of the Pacific Corridor into an international logistics corridor, including regional mechanisms for its preservation and maintenance; and (iv) support the implementation of PNLogs and specific projects of specialized logistics platforms\n",
      "*****\n",
      "\n",
      "From the IDB: \"The proposed BPR has as an objective to strengthen technical competencies for the planning of low carbon transportation systems in the beneficiaries cities, through the analysis and ex ante evaluation of environmental policies related to the transportation sector.\"\n",
      "*****\n",
      "\n",
      "The proposed financing consists of two separate long-term loans to be granted directly to Durlicouros Industria e Comercio de Couros, Exportacao e Importacao Ltda. in Brazil and to Durli Leather S.A. and Veneza Inversiones S.A. in Paraguay. The Borrowers will use the proceeds of the loans to support the construction, operation, and maintenance of two (2) new leather manufacturing plants (one (1) in Brazil and one (1) in Paraguay), its working capital needs and refinancing of existing debt in Brazil.\n",
      "*****\n",
      "\n",
      "MMID 30 for Renewable Energy is a special purpose vehicle incorporated in Egypt to develop, construct and operate a PV solar power plant in the BenBan complex located in the Aswan province. The sponsors are Infinity Solar SAE of Egypt and ib vogt GmbH of Germany.FMO will provide a B-loan under the EBRD umbrella. FMO's funding will be used towards constructing a 30 MW PV solar power plant in BenBan complex. The Project is one of the two solar PV plants to be developed by the same sponsors for which FMO will provide a B-loan under the EBRD umbrella.The Project will be developed under the second round of the 1.8GW solar PV Feed-in-Tariff (\"FiT\") scheme launched by Government of Egypt in October 2016. The scheme aims to support Egypt to diversify its energy sources by exploiting the country's renewable energy potential. The FiT projects will also be among the first private renewable energy investments in Egypt, thus setting the precedent for future developments in the sector.\n",
      "*****\n",
      "\n",
      "From the IDB: \"To facilitate the urban regeneration in the Pacifico-Gonzalez Viquez Square/Government City area in the city of San Jose. This objective will be achieved through: a) Formulation of urban planning tools; b) urban planning capacity strengthening.\"\n",
      "*****\n",
      "\n",
      "According to EIB website, the project is a research, development and innovation (RDI) investments related to minerals including mining, processing and recycling, as well as flow controls equipment (valves, pumps) and related solutions for the period 2017-2020. Primarily, These RDI investments will improve the promoter's industrial process and equipment, and support innovation and skills.\n",
      "*****\n",
      "\n",
      "IDB: SOCIAL INVESTMENT-INDIGENOUS PEOPLES DEVELOPMENT\n",
      "\"The objective of the operation is to strengthen the adaptive capacity for climate change of the communities of Tolupan and Garifuna indigenous peoples through the execution of community projects (pilot) that improve local livelihoods through the development of improvement projects of agroforestry systems, bird watching, sustainable use of biomass and protection of micro-watersheds.\"\n",
      "*****\n",
      "\n",
      "This project finances technical assistance to ADB's developing member countries to structure and procure bankable public-private partnership projects, as well as support for the transaction advisory service offered by the Office of Public-Private Partnership.\n",
      "*****\n",
      "\n",
      "The Central Africa SME Ventures Project is to provide integrated technical assistance to SME Ventures funds - CASF/Prj #28784 and ARF/Prj #35343 - through the fund manager - XSML. XSML will be supported to upskill their capacity to add value to their SME portfolio as it grows out of DRC and CAR to 3 more FCS/IDA countries - Burundi, Congo Brazzaville and Uganda.CASF is a vintage 2010 fund ($19.19m) with just under 90% of capital invested to 32 SME investees. With 29 in DRC and 3 in CAR, the investment period ended in November 2015 and XSML will begin harvesting the fund from this year forward. XSML will need technical assistance support in value addition to the Portfolio companies for continued performance and on track exits by end of the investment period in FY 2020.ARF is a Vintage 2016 Fund targeting $50m to SMEs and XSML needs technical assistance support to focus on sourcing, due diligence as well as value add to ensure the investees remain on track for performance and exits. Leveraging on lessons learned from CASF, ARF will focus value add on technical expertise for competitiveness and upgrading of investees financial and management systems. In addition, the project will support XSML to develop its pipeline through risk capital training to SMEs, business planning and to achieve E&S and Governance compliance.The program focus is at the following three levels:1. Financial Intermediary - XSML: Supporting the fund manager capacity to add value to its investees, to enhance performance and exits of the Funds;2. SMEs - pipeline and portfolio investees: Pipeline SMEs need to demonstrate their ability to utilize risk capital to realize investment opportunities and generate return for investors. SMEs will be guided on funds investment criteria for entry, what it means to be a performing portfolio company and the realities of planning an eventual exit of CASF or ARF.3. Enabling Environment : to open-up targeted challenging environments to Private Equity industry in general and, specifically to facilitate a smooth roll out of XSML operations. This entails: i) supporting the development of a PE/risk capital conducive environment, including the drafting and enactment of a legal, regulatory framework; ii) contributing to the development of relevant communication channels to portray investments opportunities to Funds and other risk capital vehicles.\n",
      "*****\n",
      "\n",
      "According to ADB website, the TA will support the Government of Fiji to update its 20 year FNTSP covering road, maritime, and air transport subsectors, and intermodal links. The FRA will have a 10 year road transport investment plan to compliment the FNTSP. The investment plan is expected to be approved in August 2013. The TA will identify possible partnerships with development partners to reengage with Fiji's transport sector, including Australian Agency for International for Development, New Zealand, and World Bank.\n",
      "*****\n",
      "\n",
      "None\n",
      "*****\n",
      "\n"
     ]
    }
   ],
   "source": [
    "for i in projects.sample(15)['Project Description']:\n",
    "    print(i)\n",
    "    print('*****\\n')"
   ]
  },
  {
   "cell_type": "markdown",
   "metadata": {},
   "source": [
    "## Looking at the Sector Data \n",
    "\n",
    "This could be a dataset that could help in the tagging of the news articles with (Sector Infortmation)"
   ]
  },
  {
   "cell_type": "code",
   "execution_count": 8,
   "metadata": {},
   "outputs": [],
   "source": [
    "def get_category_cols(category, additional_removes=None):\n",
    "    cols = [i for i in projects.columns if category in i]\n",
    "    cols.remove(category + ' Count')\n",
    "    if additional_removes:\n",
    "        [cols.remove(i) for i in additional_removes]\n",
    "    return cols\n",
    "\n",
    "sector_cols = get_category_cols('Sector')   \n",
    "all_sectors = projects[sector_cols].as_matrix().flatten()\n"
   ]
  },
  {
   "cell_type": "code",
   "execution_count": 9,
   "metadata": {},
   "outputs": [
    {
     "data": {
      "text/plain": [
       "Counter({'Agriculture and Forestry': 337,\n",
       "         'Climate and Environment': 172,\n",
       "         'Communications': 77,\n",
       "         'Construction': 342,\n",
       "         'Education and Health': 245,\n",
       "         'Energy': 488,\n",
       "         'Finance': 673,\n",
       "         'Humanitarian Response': 29,\n",
       "         'Hydropower': 60,\n",
       "         'Industry and Trade': 323,\n",
       "         'Infrastructure': 255,\n",
       "         'Law and Government': 277,\n",
       "         'Mining': 25,\n",
       "         'Technical Cooperation': 527,\n",
       "         'Transport': 322,\n",
       "         'Water and Sanitation': 264,\n",
       "         nan: 16262})"
      ]
     },
     "execution_count": 9,
     "metadata": {},
     "output_type": "execute_result"
    }
   ],
   "source": [
    "Counter(all_sectors)"
   ]
  },
  {
   "cell_type": "markdown",
   "metadata": {},
   "source": [
    "# NOTE "
   ]
  },
  {
   "cell_type": "markdown",
   "metadata": {},
   "source": [
    "Might be able to use this to also classify the Bank and Country "
   ]
  },
  {
   "cell_type": "markdown",
   "metadata": {},
   "source": [
    "**Countries**"
   ]
  },
  {
   "cell_type": "code",
   "execution_count": 10,
   "metadata": {},
   "outputs": [
    {
     "name": "stdout",
     "output_type": "stream",
     "text": [
      "170\n"
     ]
    },
    {
     "data": {
      "text/plain": [
       "Counter({'Afghanistan': 25,\n",
       "         'Albania': 10,\n",
       "         'Angola': 6,\n",
       "         'Argentina': 57,\n",
       "         'Armenia': 26,\n",
       "         'Austria': 11,\n",
       "         'Azerbaijan': 15,\n",
       "         'Bahamas': 8,\n",
       "         'Bangladesh': 64,\n",
       "         'Barbados': 3,\n",
       "         'Belarus': 7,\n",
       "         'Belgium': 10,\n",
       "         'Belize': 9,\n",
       "         'Benin': 6,\n",
       "         'Bhutan': 17,\n",
       "         'Bolivia': 30,\n",
       "         'Bosnia and Herzegovina': 15,\n",
       "         'Brazil': 79,\n",
       "         'Bulgaria': 9,\n",
       "         'Burkina Faso': 7,\n",
       "         'Burundi': 1,\n",
       "         'Cambodia': 42,\n",
       "         'Cameroon': 11,\n",
       "         'Cape Verde': 3,\n",
       "         'Central African Republic': 7,\n",
       "         'Chad': 10,\n",
       "         'Chile': 22,\n",
       "         'China': 128,\n",
       "         'Colombia': 53,\n",
       "         'Congo, Democratic Republic of': 7,\n",
       "         'Congo, Republic of': 3,\n",
       "         'Cook Islands': 1,\n",
       "         'Costa Rica': 23,\n",
       "         'Croatia': 13,\n",
       "         'Cyprus': 1,\n",
       "         'Czech Republic': 11,\n",
       "         'Denmark': 9,\n",
       "         'Djibouti': 3,\n",
       "         'Dominica': 1,\n",
       "         'Dominican Republic': 19,\n",
       "         'Ecuador': 36,\n",
       "         'Egypt': 76,\n",
       "         'El Salvador': 26,\n",
       "         'Equatorial Guinea': 2,\n",
       "         'Ethiopia': 15,\n",
       "         'Fiji': 9,\n",
       "         'Finland': 16,\n",
       "         'France': 50,\n",
       "         'Gabon': 3,\n",
       "         'Gambia': 3,\n",
       "         'Georgia': 38,\n",
       "         'Germany': 33,\n",
       "         'Ghana': 21,\n",
       "         'Greece': 31,\n",
       "         'Grenada': 1,\n",
       "         'Guatemala': 27,\n",
       "         'Guinea': 7,\n",
       "         'Guinea-Bissau': 1,\n",
       "         'Guyana': 12,\n",
       "         'Haiti': 23,\n",
       "         'Honduras': 37,\n",
       "         'Hungary': 13,\n",
       "         'Iceland': 1,\n",
       "         'India': 135,\n",
       "         'Indonesia': 46,\n",
       "         'Iraq': 6,\n",
       "         'Ireland': 10,\n",
       "         'Italy': 55,\n",
       "         'Ivory Coast': 16,\n",
       "         'Jamaica': 15,\n",
       "         'Jordan': 31,\n",
       "         'Kazakhstan': 22,\n",
       "         'Kenya': 26,\n",
       "         'Kiribati': 6,\n",
       "         'Kosovo': 9,\n",
       "         'Kyrgyzstan': 13,\n",
       "         'Laos': 19,\n",
       "         'Latvia': 3,\n",
       "         'Lebanon': 14,\n",
       "         'Lesotho': 4,\n",
       "         'Liberia': 8,\n",
       "         'Lithuania': 2,\n",
       "         'Luxembourg': 3,\n",
       "         'Macedonia': 6,\n",
       "         'Madagascar': 16,\n",
       "         'Malawi': 10,\n",
       "         'Malaysia': 2,\n",
       "         'Maldives': 7,\n",
       "         'Mali': 12,\n",
       "         'Malta': 1,\n",
       "         'Marshall Islands': 4,\n",
       "         'Mauritania': 2,\n",
       "         'Mauritius': 6,\n",
       "         'Mexico': 59,\n",
       "         'Micronesia': 4,\n",
       "         'Moldova': 10,\n",
       "         'Mongolia': 55,\n",
       "         'Montenegro': 9,\n",
       "         'Morocco': 13,\n",
       "         'Mozambique': 7,\n",
       "         'Myanmar': 46,\n",
       "         'Namibia': 3,\n",
       "         'Nauru': 6,\n",
       "         'Nepal': 20,\n",
       "         'Netherlands': 17,\n",
       "         'Nicaragua': 28,\n",
       "         'Niger': 5,\n",
       "         'Nigeria': 21,\n",
       "         'Norway': 1,\n",
       "         'Oman': 3,\n",
       "         'Pakistan': 65,\n",
       "         'Palau': 2,\n",
       "         'Palestine, West Bank, Gaza': 9,\n",
       "         'Panama': 31,\n",
       "         'Papua New Guinea': 13,\n",
       "         'Paraguay': 32,\n",
       "         'Peru': 39,\n",
       "         'Philippines': 42,\n",
       "         'Poland': 46,\n",
       "         'Portugal': 13,\n",
       "         'Romania': 23,\n",
       "         'Russia': 3,\n",
       "         'Rwanda': 16,\n",
       "         'Samoa': 6,\n",
       "         'Sao Tome and Principe': 1,\n",
       "         'Saudi Arabia': 1,\n",
       "         'Senegal': 16,\n",
       "         'Serbia': 22,\n",
       "         'Seychelles': 1,\n",
       "         'Sierra Leone': 13,\n",
       "         'Singapore': 1,\n",
       "         'Slovakia': 9,\n",
       "         'Slovenia': 6,\n",
       "         'Solomon Islands': 15,\n",
       "         'Somalia': 2,\n",
       "         'South Africa': 21,\n",
       "         'South Korea': 1,\n",
       "         'South Sudan': 2,\n",
       "         'Spain': 49,\n",
       "         'Sri Lanka': 35,\n",
       "         'St. Lucia': 3,\n",
       "         'St. Vincent and the Grenadines': 1,\n",
       "         'Sudan': 1,\n",
       "         'Suriname': 8,\n",
       "         'Swaziland': 3,\n",
       "         'Sweden': 9,\n",
       "         'Switzerland': 1,\n",
       "         'Tajikistan': 30,\n",
       "         'Tanzania': 8,\n",
       "         'Thailand': 10,\n",
       "         'Timor-Leste': 5,\n",
       "         'Togo': 4,\n",
       "         'Tonga': 8,\n",
       "         'Trinidad and Tobago': 5,\n",
       "         'Tunisia': 27,\n",
       "         'Turkey': 50,\n",
       "         'Turkmenistan': 1,\n",
       "         'Tuvalu': 7,\n",
       "         'Uganda': 14,\n",
       "         'Ukraine': 22,\n",
       "         'United Kingdom': 3,\n",
       "         'Uruguay': 19,\n",
       "         'Uzbekistan': 27,\n",
       "         'Vanuatu': 9,\n",
       "         'Venezuela': 3,\n",
       "         'Vietnam': 41,\n",
       "         'Yemen': 4,\n",
       "         'Zambia': 18,\n",
       "         'Zimbabwe': 3,\n",
       "         nan: 32490})"
      ]
     },
     "execution_count": 10,
     "metadata": {},
     "output_type": "execute_result"
    }
   ],
   "source": [
    "country_cols = get_category_cols('Country')\n",
    "all_countries = projects[country_cols].as_matrix().flatten()\n",
    "country_counter = Counter(all_countries)\n",
    "print(len(country_counter))\n",
    "country_counter"
   ]
  },
  {
   "cell_type": "markdown",
   "metadata": {},
   "source": [
    "**Banks**"
   ]
  },
  {
   "cell_type": "code",
   "execution_count": 11,
   "metadata": {},
   "outputs": [
    {
     "name": "stdout",
     "output_type": "stream",
     "text": [
      "13\n"
     ]
    },
    {
     "data": {
      "text/plain": [
       "Counter({'African Development Bank (AFDB)': 45,\n",
       "         'Asian Development Bank (ADB)': 644,\n",
       "         'Asian Infrastructure Investment Bank (AIIB)': 51,\n",
       "         'European Bank for Reconstruction and Development (EBRD)': 179,\n",
       "         'European Investment Bank (EIB)': 462,\n",
       "         'Green Climate Fund (GCF)': 60,\n",
       "         'Inter-American Development Bank (IADB)': 574,\n",
       "         'Inter-American Investment Corporation (IIC)': 67,\n",
       "         'International Finance Corporation (IFC)': 332,\n",
       "         'Multilateral Investment Guarantee Agency (MIGA)': 39,\n",
       "         'Netherlands Development Finance Company (FMO)': 206,\n",
       "         'New Development Bank (NDB)': 12,\n",
       "         'World Bank (WB)': 337})"
      ]
     },
     "execution_count": 11,
     "metadata": {},
     "output_type": "execute_result"
    }
   ],
   "source": [
    "banks_cols = get_category_cols('Bank', ['Bank Risk Rating'])\n",
    "all_banks = projects[banks_cols].as_matrix().flatten()\n",
    "all_banks = [i for i  in all_banks if  pd.notnull(i)] ## Something weird with the nulls in this one. \n",
    "banks_counter = Counter(all_banks)\n",
    "print(len(banks_counter))\n",
    "banks_counter"
   ]
  },
  {
   "cell_type": "code",
   "execution_count": null,
   "metadata": {},
   "outputs": [],
   "source": []
  }
 ],
 "metadata": {
  "kernelspec": {
   "display_name": "my_py_3",
   "language": "python",
   "name": "my_py_3"
  },
  "language_info": {
   "codemirror_mode": {
    "name": "ipython",
    "version": 3
   },
   "file_extension": ".py",
   "mimetype": "text/x-python",
   "name": "python",
   "nbconvert_exporter": "python",
   "pygments_lexer": "ipython3",
   "version": "3.5.5"
  }
 },
 "nbformat": 4,
 "nbformat_minor": 2
}
