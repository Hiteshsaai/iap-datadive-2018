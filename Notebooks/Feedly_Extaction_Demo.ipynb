{
 "cells": [
  {
   "cell_type": "markdown",
   "metadata": {},
   "source": [
    "# Feedly Data Extraction Demo\n",
    "\n",
    "Python 3"
   ]
  },
  {
   "cell_type": "code",
   "execution_count": 292,
   "metadata": {
    "colab": {
     "autoexec": {
      "startup": false,
      "wait_interval": 0
     }
    },
    "colab_type": "code",
    "id": "JYddtNRdtwSW",
    "run_control": {
     "frozen": false,
     "read_only": false
    }
   },
   "outputs": [],
   "source": [
    "from feedly.client import *\n",
    "from feedly import *\n",
    "from newspaper import Article, ArticleException # http://newspaper.readthedocs.io/en/latest/\n",
    "from time import sleep\n",
    "import numpy as np\n",
    "import pandas as pd\n",
    "import datetime\n",
    "import math\n",
    "pd.set_option('max_rows',300)"
   ]
  },
  {
   "cell_type": "code",
   "execution_count": 36,
   "metadata": {
    "colab": {
     "autoexec": {
      "startup": false,
      "wait_interval": 0
     }
    },
    "colab_type": "code",
    "id": "J6F2HIOJs_Bl",
    "run_control": {
     "frozen": false,
     "read_only": false
    }
   },
   "outputs": [],
   "source": [
    "## IAP Crds\n",
    "TOKEN = \"A2zjasgZJawkY8etL3a9w1QP_BFLH7YcnaW_s-7kR7oU8Nkrz-ZY8spKj_rGuqYtyAJ4vYItikat_WS35cBCKA9jqYrbg_frpzLL_987_THA8BB4cXYfVGReSQMoScif6g7HI72_aKHYcheyqFVjObZX6QYiCZbrDAyzE1XvvvORiy8MjTSwRXQoX3in0_ywGYgFsfxJRA5M073PVSJJDv0Tv67JxC-GlvFRV3xiLqthS3Ed_8Qzztk:feedlydev\"\n",
    "FEEDLY_REDIRECT_URI = \"http://fabreadly.com/auth_callback\"\n",
    "FEEDLY_CLIENT_ID=\"d8f62d80-bd91-4b23-bdc3-c219d0489a26\""
   ]
  },
  {
   "cell_type": "markdown",
   "metadata": {
    "colab_type": "text",
    "id": "5GBsfMXqOI6m"
   },
   "source": [
    "# Load the Feed"
   ]
  },
  {
   "cell_type": "markdown",
   "metadata": {},
   "source": [
    "Reference: [Feedly Documentation](https://developer.feedly.com/cloud/)"
   ]
  },
  {
   "cell_type": "code",
   "execution_count": 37,
   "metadata": {
    "colab": {
     "autoexec": {
      "startup": false,
      "wait_interval": 0
     }
    },
    "colab_type": "code",
    "id": "QDjHGtvvzBRa",
    "run_control": {
     "frozen": false,
     "read_only": false
    }
   },
   "outputs": [],
   "source": [
    "import json\n",
    "import requests\n",
    "\n",
    "# Feedly\n",
    "feedaccess = TOKEN\n",
    "\n",
    "## Use url below to get the feed ids. \n",
    "myurl = 'https://cloud.feedly.com/v3/subscriptions'\n",
    "headers = {'Authorization': 'OAuth ' + feedaccess}\n",
    "res = requests.get(url=myurl, headers=headers)\n",
    "con = res.json()\n",
    "output = json.dumps(con , indent=4)"
   ]
  },
  {
   "cell_type": "markdown",
   "metadata": {},
   "source": [
    "# See all IAP Feeds and their IDs"
   ]
  },
  {
   "cell_type": "markdown",
   "metadata": {},
   "source": [
    "From the API you can pull specific feeds by ID, or you can pull everything. One issue is that IAP is also a content generator and actually pushes things to Feedly, so you also end up pulling that stuff. Anything marked EWS, or ewsdata.rightsindevelopment.org or a link to that site is an IAP generated entry, we need to filter these out. We should be able to do this faitly easily with the metadata that is available for each item. Other option is pull from a bunch of different feeds, but my guess is that filtering will actually be easier. \n",
    "\n",
    "Code below shows all the different feeds - the ALL feed is not listed but is coded as an option in the `pull_feed` function."
   ]
  },
  {
   "cell_type": "code",
   "execution_count": 38,
   "metadata": {},
   "outputs": [],
   "source": [
    "def see_feeds(feedaccess=feedaccess):\n",
    "    \"\"\"\n",
    "        Get the list of IAP feeds and the feed id - we need this when pulling the feed data. \n",
    "    \"\"\"\n",
    "    myurl = 'https://cloud.feedly.com/v3/subscriptions'\n",
    "    headers = {'Authorization': 'OAuth ' + feedaccess}\n",
    "    res = requests.get(url=myurl, headers=headers)\n",
    "    con = res.json()\n",
    "    output = json.dumps(con , indent=4)\n",
    "    df = pd.DataFrame([(c['title'] , c['categories'][0]['id']) for c in con])\n",
    "    df.columns = ['Title','id']\n",
    "    return df, con"
   ]
  },
  {
   "cell_type": "code",
   "execution_count": 39,
   "metadata": {},
   "outputs": [],
   "source": [
    "df, raw  = see_feeds(feedaccess)"
   ]
  },
  {
   "cell_type": "code",
   "execution_count": 40,
   "metadata": {},
   "outputs": [
    {
     "data": {
      "text/html": [
       "<div>\n",
       "<style scoped>\n",
       "    .dataframe tbody tr th:only-of-type {\n",
       "        vertical-align: middle;\n",
       "    }\n",
       "\n",
       "    .dataframe tbody tr th {\n",
       "        vertical-align: top;\n",
       "    }\n",
       "\n",
       "    .dataframe thead th {\n",
       "        text-align: right;\n",
       "    }\n",
       "</style>\n",
       "<table border=\"1\" class=\"dataframe\">\n",
       "  <thead>\n",
       "    <tr style=\"text-align: right;\">\n",
       "      <th></th>\n",
       "      <th>Title</th>\n",
       "      <th>id</th>\n",
       "    </tr>\n",
       "  </thead>\n",
       "  <tbody>\n",
       "    <tr>\n",
       "      <th>0</th>\n",
       "      <td>All - EWS</td>\n",
       "      <td>user/d8f62d80-bd91-4b23-bdc3-c219d0489a26/cate...</td>\n",
       "    </tr>\n",
       "    <tr>\n",
       "      <th>1</th>\n",
       "      <td>EWS SA</td>\n",
       "      <td>user/d8f62d80-bd91-4b23-bdc3-c219d0489a26/cate...</td>\n",
       "    </tr>\n",
       "    <tr>\n",
       "      <th>2</th>\n",
       "      <td>ADB</td>\n",
       "      <td>user/d8f62d80-bd91-4b23-bdc3-c219d0489a26/cate...</td>\n",
       "    </tr>\n",
       "    <tr>\n",
       "      <th>3</th>\n",
       "      <td>WB</td>\n",
       "      <td>user/d8f62d80-bd91-4b23-bdc3-c219d0489a26/cate...</td>\n",
       "    </tr>\n",
       "    <tr>\n",
       "      <th>4</th>\n",
       "      <td>Title: World Bank, Text: Loan</td>\n",
       "      <td>user/d8f62d80-bd91-4b23-bdc3-c219d0489a26/cate...</td>\n",
       "    </tr>\n",
       "  </tbody>\n",
       "</table>\n",
       "</div>"
      ],
      "text/plain": [
       "                           Title  \\\n",
       "0                      All - EWS   \n",
       "1                         EWS SA   \n",
       "2                            ADB   \n",
       "3                             WB   \n",
       "4  Title: World Bank, Text: Loan   \n",
       "\n",
       "                                                  id  \n",
       "0  user/d8f62d80-bd91-4b23-bdc3-c219d0489a26/cate...  \n",
       "1  user/d8f62d80-bd91-4b23-bdc3-c219d0489a26/cate...  \n",
       "2  user/d8f62d80-bd91-4b23-bdc3-c219d0489a26/cate...  \n",
       "3  user/d8f62d80-bd91-4b23-bdc3-c219d0489a26/cate...  \n",
       "4  user/d8f62d80-bd91-4b23-bdc3-c219d0489a26/cate...  "
      ]
     },
     "execution_count": 40,
     "metadata": {},
     "output_type": "execute_result"
    }
   ],
   "source": [
    "df.head()"
   ]
  },
  {
   "cell_type": "code",
   "execution_count": 41,
   "metadata": {},
   "outputs": [],
   "source": [
    "def pull_feed(feed_id, feedcount, all_feeds=False,  feedaccess=feedaccess):\n",
    "    \"\"\"\n",
    "    Pull the feed information from the Feedly API and returns a list of pulled JSON objects. \n",
    "    Returns a list in case we are pulling more then 1000 items, then we have multiple JSON objects. \n",
    "    \n",
    "    feed_id: Id of the feed we want to pull from. (str)\n",
    "    feedcount: Target number of items to pull from the feed. (int)\n",
    "    all_feeds: If true then pulls all items in the IAP feed - value of feed_id will be ignored (Bool)\n",
    "    feedaccess: Token Information (str)\n",
    "    \"\"\"\n",
    "    \n",
    "    feedcount = str(feedcount)\n",
    "    current_count = 0\n",
    "    continuation_rounds = math.ceil(int(feedcount) / 1000.0)\n",
    "    json_data = []\n",
    "    continuation_id = None\n",
    "    if all_feeds:\n",
    "        feed_id = 'user/d8f62d80-bd91-4b23-bdc3-c219d0489a26/category/global.all'\n",
    "\n",
    "    for i in range(continuation_rounds):\n",
    "        print('Pulling Data - Round %s' % str(i+1))\n",
    "        myurl = \"http://cloud.feedly.com/v3/streams/contents?streamId=\" + feed_id + \"&count=\" + feedcount\n",
    "        \n",
    "        if continuation_id:\n",
    "            myurl += \"&continuation={}\".format(continuation_id)\n",
    "        headers = {'Authorization': 'OAuth ' + feedaccess}\n",
    "        res = requests.get(url=myurl, headers=headers)\n",
    "        con = res.json()\n",
    "        json_data.append(con)\n",
    "        \n",
    "        if int(feedcount) > 1000:\n",
    "            print(con.keys())\n",
    "            continuation_id = con['continuation']\n",
    "    \n",
    "    print('Complete')\n",
    "    return json_data"
   ]
  },
  {
   "cell_type": "code",
   "execution_count": 237,
   "metadata": {},
   "outputs": [
    {
     "name": "stdout",
     "output_type": "stream",
     "text": [
      "Pulling Data - Round 1\n",
      "dict_keys(['updated', 'continuation', 'items', 'id'])\n",
      "Pulling Data - Round 2\n",
      "dict_keys(['updated', 'continuation', 'items', 'id'])\n",
      "Pulling Data - Round 3\n",
      "dict_keys(['updated', 'continuation', 'items', 'id'])\n",
      "Pulling Data - Round 4\n",
      "dict_keys(['updated', 'continuation', 'items', 'id'])\n",
      "Pulling Data - Round 5\n",
      "dict_keys(['updated', 'continuation', 'items', 'id'])\n",
      "Pulling Data - Round 6\n",
      "dict_keys(['updated', 'continuation', 'items', 'id'])\n",
      "Pulling Data - Round 7\n",
      "dict_keys(['updated', 'continuation', 'items', 'id'])\n",
      "Pulling Data - Round 8\n",
      "dict_keys(['updated', 'continuation', 'items', 'id'])\n",
      "Pulling Data - Round 9\n",
      "dict_keys(['updated', 'continuation', 'items', 'id'])\n",
      "Pulling Data - Round 10\n",
      "dict_keys(['updated', 'continuation', 'items', 'id'])\n",
      "Pulling Data - Round 11\n",
      "dict_keys(['updated', 'continuation', 'items', 'id'])\n",
      "Pulling Data - Round 12\n",
      "dict_keys(['updated', 'continuation', 'items', 'id'])\n",
      "Pulling Data - Round 13\n",
      "dict_keys(['updated', 'continuation', 'items', 'id'])\n",
      "Pulling Data - Round 14\n",
      "dict_keys(['updated', 'continuation', 'items', 'id'])\n",
      "Pulling Data - Round 15\n",
      "dict_keys(['updated', 'continuation', 'items', 'id'])\n",
      "Pulling Data - Round 16\n",
      "dict_keys(['updated', 'continuation', 'items', 'id'])\n",
      "Pulling Data - Round 17\n",
      "dict_keys(['updated', 'continuation', 'items', 'id'])\n",
      "Pulling Data - Round 18\n",
      "dict_keys(['updated', 'continuation', 'items', 'id'])\n",
      "Pulling Data - Round 19\n",
      "dict_keys(['updated', 'continuation', 'items', 'id'])\n",
      "Pulling Data - Round 20\n",
      "dict_keys(['updated', 'continuation', 'items', 'id'])\n",
      "Complete\n"
     ]
    }
   ],
   "source": [
    "pulled_json = pull_feed('',20000,all_feeds=True)"
   ]
  },
  {
   "cell_type": "markdown",
   "metadata": {},
   "source": [
    "---------------"
   ]
  },
  {
   "cell_type": "markdown",
   "metadata": {
    "colab_type": "text",
    "id": "YqMdKZCNOLnW"
   },
   "source": [
    "# Process the Feed "
   ]
  },
  {
   "cell_type": "markdown",
   "metadata": {},
   "source": [
    "Convert to a dataframe\n",
    "\n",
    "#TODO - Figure out what tags we need to preserve here - like from which news feed were they pulled - should be valuable for identifying the bank being mentioned.  Might have all of them but might be some others that could be useful. "
   ]
  },
  {
   "cell_type": "markdown",
   "metadata": {},
   "source": [
    "items reference: https://developer.feedly.com/v3/entries/"
   ]
  },
  {
   "cell_type": "code",
   "execution_count": 238,
   "metadata": {
    "colab": {
     "autoexec": {
      "startup": false,
      "wait_interval": 0
     }
    },
    "colab_type": "code",
    "id": "SbMJxlMw6eBX",
    "run_control": {
     "frozen": false,
     "read_only": false
    }
   },
   "outputs": [],
   "source": [
    "def process_pulled_data(json_data):\n",
    "    df_data = []\n",
    "    \n",
    "    for grp in range(len(json_data)):\n",
    "        data = json_data[grp]\n",
    "        for i in range(len(data['items'])):\n",
    "\n",
    "            vals = data['items'][i]\n",
    "            article_data = []\n",
    "            article_data += [vals['fingerprint'], vals['published'], vals['title'],vals['alternate'][0]['href'],vals['categories'][0]['label']]\n",
    "            try:\n",
    "                article_data.append(vals['content']['content'])\n",
    "            except:\n",
    "                article_data.append(None)\n",
    "\n",
    "            try:\n",
    "                article_data.append(vals['summary']['content'])\n",
    "            except:\n",
    "                article_data.append(None)\n",
    "            df_data.append(article_data)\n",
    "        \n",
    "        \n",
    "    df = pd.DataFrame(df_data, columns=None)\n",
    "    df.columns = ['article_id','published','title','url','feed_label','content','summary']\n",
    "    df.published = [datetime.datetime.fromtimestamp(i/1000.0) for i in df.published]\n",
    "    return df"
   ]
  },
  {
   "cell_type": "code",
   "execution_count": 239,
   "metadata": {},
   "outputs": [],
   "source": [
    "json2df = process_pulled_data(pulled_json)"
   ]
  },
  {
   "cell_type": "markdown",
   "metadata": {},
   "source": [
    "---------------------"
   ]
  },
  {
   "cell_type": "markdown",
   "metadata": {},
   "source": [
    "## Filter the Items "
   ]
  },
  {
   "cell_type": "markdown",
   "metadata": {},
   "source": [
    "**Remove the EWS Posts - these are from IAP we don't need to process them **"
   ]
  },
  {
   "cell_type": "code",
   "execution_count": 240,
   "metadata": {},
   "outputs": [],
   "source": [
    "json2df['keep'] = [False if 'ews.rightsindevelopment.org' in i else True for i in json2df.url]"
   ]
  },
  {
   "cell_type": "code",
   "execution_count": 241,
   "metadata": {},
   "outputs": [
    {
     "data": {
      "text/plain": [
       "True     12098\n",
       "False     7902\n",
       "Name: keep, dtype: int64"
      ]
     },
     "execution_count": 241,
     "metadata": {},
     "output_type": "execute_result"
    }
   ],
   "source": [
    "json2df.keep.value_counts()"
   ]
  },
  {
   "cell_type": "code",
   "execution_count": 242,
   "metadata": {},
   "outputs": [],
   "source": [
    "json2df = json2df[json2df.keep]"
   ]
  },
  {
   "cell_type": "markdown",
   "metadata": {},
   "source": [
    "**Filter out File Uploads and other Non-Articles**\n",
    "\n",
    "It appears that if the `summary` field is empty the item is not an article. "
   ]
  },
  {
   "cell_type": "code",
   "execution_count": 243,
   "metadata": {},
   "outputs": [
    {
     "name": "stdout",
     "output_type": "stream",
     "text": [
      "(11036, 8)\n"
     ]
    }
   ],
   "source": [
    "json2df = json2df[json2df['summary'].notnull()]\n",
    "print(json2df.shape)"
   ]
  },
  {
   "cell_type": "markdown",
   "metadata": {},
   "source": [
    "---------------"
   ]
  },
  {
   "cell_type": "markdown",
   "metadata": {},
   "source": [
    "## De-Dupe a Bit "
   ]
  },
  {
   "cell_type": "markdown",
   "metadata": {},
   "source": [
    "This is just a basic group by - does not look for articles that are duplicated in content but maybe from a different url, or differnt source. "
   ]
  },
  {
   "cell_type": "code",
   "execution_count": 277,
   "metadata": {},
   "outputs": [],
   "source": [
    "grp_df = json2df.groupby(['article_id','title','url','keep']).agg({\n",
    "    'content':'min',\n",
    "    'summary':'min',\n",
    "    'published':'max',\n",
    "    'feed_label': lambda x: ','.join(set(x))}\n",
    "    ).reset_index()"
   ]
  },
  {
   "cell_type": "code",
   "execution_count": 278,
   "metadata": {},
   "outputs": [
    {
     "data": {
      "text/plain": [
       "(9194, 8)"
      ]
     },
     "execution_count": 278,
     "metadata": {},
     "output_type": "execute_result"
    }
   ],
   "source": [
    "grp_df.shape"
   ]
  },
  {
   "cell_type": "markdown",
   "metadata": {},
   "source": [
    "--------------------"
   ]
  },
  {
   "cell_type": "markdown",
   "metadata": {},
   "source": [
    "## Export - Pre Scrape"
   ]
  },
  {
   "cell_type": "markdown",
   "metadata": {},
   "source": [
    "This is just to create a file the IAP can use to create labeled data. "
   ]
  },
  {
   "cell_type": "code",
   "execution_count": 296,
   "metadata": {},
   "outputs": [],
   "source": [
    "# grp_df = grp_df.sample(frac=1)\n",
    "\n",
    "# print(grp_df.shape)\n",
    "\n",
    "# grp_df[['article_id','published','title','url','feed_label']].to_csv('../Temp_Output/article20k_pull4labeling.csv',index=False)"
   ]
  },
  {
   "cell_type": "markdown",
   "metadata": {},
   "source": [
    "----------------------------"
   ]
  },
  {
   "cell_type": "markdown",
   "metadata": {},
   "source": [
    "## Scrape the articles"
   ]
  },
  {
   "cell_type": "markdown",
   "metadata": {},
   "source": [
    "**NOTE** - This is Slow - so may need to run in batches or overnight, or both. "
   ]
  },
  {
   "cell_type": "markdown",
   "metadata": {},
   "source": [
    "Doing some scraping for article content --- I've pull around 20K articles which when deduped and filtered is around 11K actual news articles. This is a lot of content to scrape at once - hence the use of the file cache. Code is all a little hacky - just wanted to get some stuff pulled quickly. We don't want to be pulling data at the event . "
   ]
  },
  {
   "cell_type": "markdown",
   "metadata": {},
   "source": [
    "**Cache**\n",
    "I'm saving the \"scraped\" article content in a dictionary and then writing it to a file. If we change the information we are pulling using the newspaper library we will need to recreate this cache. "
   ]
  },
  {
   "cell_type": "code",
   "execution_count": 353,
   "metadata": {},
   "outputs": [],
   "source": [
    "try:\n",
    "    with open('../Temp_Output/article_cache.pkl', 'rb') as file:\n",
    "        cache = pickle.load(file)\n",
    "except:\n",
    "    cache = {}\n",
    "    print('Creating New Cache.. Is this Correct')\n",
    "    \n",
    "error_count = 0"
   ]
  },
  {
   "cell_type": "code",
   "execution_count": 356,
   "metadata": {},
   "outputs": [],
   "source": [
    "def get_text_via_Article(url, article_id, try_hard=False):\n",
    "    \"\"\"\n",
    "    Returns scraped article content and the keywords- using the newspaper3k module (http://newspaper.readthedocs.io/en/latest/)\n",
    "    \"\"\"\n",
    "    \n",
    "    global cache  ## Just writing to the global cahce object this way we can interrupt the run without losing the data\n",
    "    global error_count\n",
    "    if article_id not in cache:  ## Check to see if we have already scraped this article (maybe in a previous run of this)\n",
    "        article = Article(url)   ## Newspaper Article Object\n",
    "        article.download()\n",
    "        try:\n",
    "            article.parse()  ## Sometimes this step fails because the download doesn't complete\n",
    "        except ArticleException:  ## In that case we give the download an additional 10 seconds to complete. \n",
    "            if try_hard: ## If we want to actually try to download the ones that failed\n",
    "                print('Encountered Exception',url)\n",
    "                article.download()\n",
    "                print('\\nGoing to try a longer download period. ')\n",
    "                sleep(10) #Sometimes it take a lil bit to download the article - longer is better but then it takes longer .... \n",
    "                try:  \n",
    "                    article.parse()  ## Try again \n",
    "                except ArticleException:  #Otherwise lets just keep going\n",
    "                    print('Failed - Article Not Downloaded\\n')\n",
    "                    error_count += 1\n",
    "                    return None \n",
    "            else:\n",
    "                error_count += 1\n",
    "                return None\n",
    "        ## Now Process Article \n",
    "        article.nlp()\n",
    "        cache[article_id] = (article.text, article.keywords)\n",
    "        return None\n",
    "    else:\n",
    "        return None\n",
    "    "
   ]
  },
  {
   "cell_type": "markdown",
   "metadata": {},
   "source": [
    "**Loop over the dataframe and extract the article content (if it hasn't been scraped yet ) **"
   ]
  },
  {
   "cell_type": "code",
   "execution_count": null,
   "metadata": {},
   "outputs": [
    {
     "name": "stdout",
     "output_type": "stream",
     "text": [
      "** Completed Count 0  **\n",
      "** Error Count 0  **\n",
      "Article `download()` failed with 404 Client Error: Not Found for url: https://www.adb.org/node/415051?utm_source=feedburner&utm_medium=feed&utm_campaign=Feed%3A+adb_news+%28ADB.org+News+Releases+RSS%29 on URL http://feedproxy.google.com/~r/adb_news/~3/-LPJT1oP4-w/415051\n",
      "** Completed Count 25  **\n",
      "** Error Count 1  **\n",
      "Article `download()` failed with 404 Client Error: Not Found for url: http://barbadostoday.bb/2018/02/13/arthurs-cure/ on URL https://www.barbadostoday.bb/2018/02/13/arthurs-cure/\n",
      "** Completed Count 50  **\n",
      "** Error Count 2  **\n",
      "** Completed Count 75  **\n",
      "** Error Count 2  **\n",
      "Article `download()` failed with 503 Server Error: Service Temporarily Unavailable for url: https://www.brecorder.com/2018/06/06/421675/profile-of-dr-shamshad-akhtar/ on URL https://www.brecorder.com/2018/06/06/421675/profile-of-dr-shamshad-akhtar/\n",
      "** Completed Count 100  **\n",
      "** Error Count 3  **\n",
      "** Completed Count 125  **\n",
      "** Error Count 3  **\n",
      "Article `download()` failed with 404 Client Error: Not Found for url: https://www.news-shield.com/lifestyles/article_077979f7-627f-54af-afdb-95410f0ac7ff.html on URL http://www.news-shield.com/lifestyles/article_077979f7-627f-54af-afdb-95410f0ac7ff.html\n",
      "** Completed Count 150  **\n",
      "** Error Count 4  **\n",
      "** Completed Count 175  **\n",
      "** Error Count 4  **\n",
      "** Completed Count 200  **\n",
      "** Error Count 4  **\n",
      "** Completed Count 225  **\n",
      "** Error Count 4  **\n",
      "Article `download()` failed with 404 Client Error: Not Found for url: http://www.newtimes.co.rw/section/read/229601/ on URL http://www.newtimes.co.rw/section/read/229601/\n",
      "** Completed Count 250  **\n",
      "** Error Count 5  **\n",
      "Article `download()` failed with 404 Client Error: Unknown site! for url: http://hydro.cleantechnology-business-review.com/news/ebrd-provides-finance-to-modernize-enguri-hydroelectric-plant-in-georgia-110118-6025511 on URL http://hydro.cleantechnology-business-review.com/news/ebrd-provides-finance-to-modernize-enguri-hydroelectric-plant-in-georgia-110118-6025511\n",
      "Article `download()` failed with 404 Client Error: Not Found for url: http://www.latinfinance.com/web-articles/2018/3/opinion-what-new-fintech-laws-means-for-the-future on URL http://www.latinfinance.com/web-articles/2018/3/opinion-what-new-fintech-laws-means-for-the-future\n",
      "** Completed Count 275  **\n",
      "** Error Count 7  **\n",
      "** Completed Count 300  **\n",
      "** Error Count 7  **\n",
      "** Completed Count 325  **\n",
      "** Error Count 7  **\n",
      "Article `download()` failed with 404 Client Error: Not Found for url: https://reliefweb.int/report/world/building-resilience-creating-new-opportunities-eu-neighbourhood on URL https://reliefweb.int/report/world/building-resilience-creating-new-opportunities-eu-neighbourhood\n",
      "** Completed Count 350  **\n",
      "** Error Count 8  **\n",
      "You must `download()` an article first!\n",
      "** Completed Count 375  **\n",
      "** Error Count 9  **\n",
      "** Completed Count 400  **\n",
      "** Error Count 9  **\n",
      "** Completed Count 425  **\n",
      "** Error Count 9  **\n",
      "Article `download()` failed with 404 Client Error: Not Found for url: https://economictimes.indiatimes.com/news/international/business/adb-china-backed-aiib-to-co-finance-more-projects-this-year/articleshow/62474176.cms on URL https://economictimes.indiatimes.com/news/international/business/adb-china-backed-aiib-to-co-finance-more-projects-this-year/articleshow/62474176.cms\n",
      "** Completed Count 450  **\n",
      "** Error Count 10  **\n",
      "Article `download()` failed with 404 Client Error: Not Found for url: https://www.znbc.co.zm/world-bank-approves-14m/ on URL https://www.znbc.co.zm/world-bank-approves-14m/\n",
      "** Completed Count 475  **\n",
      "** Error Count 11  **\n",
      "Article `download()` failed with 503 Server Error: Service Temporarily Unavailable for url: https://www.brecorder.com/2018/03/05/402967/ebrd-seeks-to-invest-up-to-450mn-euros-a-year-in-serbia/ on URL https://www.brecorder.com/2018/03/05/402967/ebrd-seeks-to-invest-up-to-450mn-euros-a-year-in-serbia/\n",
      "** Completed Count 500  **\n",
      "** Error Count 12  **\n",
      "** Completed Count 525  **\n",
      "** Error Count 12  **\n",
      "** Completed Count 550  **\n",
      "** Error Count 12  **\n",
      "Article `download()` failed with 404 Client Error: Not Found for url: http://www.wacotrib.com/news/ap_nation/politics/the-latest-trump-talks-immigration-with-gop-senators/article_67ff8dce-8f4e-5c11-afdb-30494d51387e.html on URL http://www.wacotrib.com/news/ap_nation/politics/the-latest-trump-talks-immigration-with-gop-senators/article_67ff8dce-8f4e-5c11-afdb-30494d51387e.html\n",
      "Article `download()` failed with 404 Client Error: Not Found for url: http://www.africanreview.com/finance/economy/afdb-approves-third-sovereign-lending-instrument on URL http://www.africanreview.com/finance/economy/afdb-approves-third-sovereign-lending-instrument\n",
      "** Completed Count 575  **\n",
      "** Error Count 14  **\n",
      "Article `download()` failed with 404 Client Error: Unknown site! for url: http://waterwastemanagement.cleantechnology-business-review.com/news/eu-partners-with-ebrd-to-provide-eur53m-to-improve-wastewater-services-in-jordan-110518-6148272 on URL http://waterwastemanagement.cleantechnology-business-review.com/news/eu-partners-with-ebrd-to-provide-eur53m-to-improve-wastewater-services-in-jordan-110518-6148272\n",
      "Article `download()` failed with 404 Client Error: Not Found for url: http://www.journalgazette.net/apps/pbcs.dll/error on URL http://www.journalgazette.net/article/20180110/AP/301109855\n",
      "Article `download()` failed with 404 Client Error: Unknown site! for url: http://solar.cleantechnology-business-review.com/news/acciona-swicorp-start-building-three-solar-plants-totalling-150mw-in-egypt-210318-6090159 on URL http://solar.cleantechnology-business-review.com/news/acciona-swicorp-start-building-three-solar-plants-totalling-150mw-in-egypt-210318-6090159\n",
      "** Completed Count 600  **\n",
      "** Error Count 17  **\n",
      "Article `download()` failed with 404 Client Error: Not Found for url: https://www.znbc.co.zm/you-can-still-borrowbut-world-bank/ on URL https://www.znbc.co.zm/you-can-still-borrowbut-world-bank/\n",
      "** Completed Count 625  **\n",
      "** Error Count 18  **\n",
      "Article `download()` failed with 500 Server Error: Internal Server Error for url: http://theenergycollective.com/roberthargraves/2432729/open-letter-to-jim-kim-president-of-the-world-bank on URL http://theenergycollective.com/roberthargraves/2432729/open-letter-to-jim-kim-president-of-the-world-bank\n",
      "** Completed Count 650  **\n",
      "** Error Count 19  **\n",
      "You must `download()` an article first!\n",
      "** Completed Count 675  **\n",
      "** Error Count 20  **\n",
      "Article `download()` failed with 404 Client Error: Unknown site! for url: http://wind.cleantechnology-business-review.com/news/eib-to-provide-eur48m-support-for-austrian-wind-farms-totaling-39mw-250118-6036886 on URL http://wind.cleantechnology-business-review.com/news/eib-to-provide-eur48m-support-for-austrian-wind-farms-totaling-39mw-250118-6036886\n",
      "** Completed Count 700  **\n",
      "** Error Count 21  **\n",
      "** Completed Count 725  **\n",
      "** Error Count 21  **\n",
      "** Completed Count 750  **\n",
      "** Error Count 21  **\n",
      "** Completed Count 775  **\n",
      "** Error Count 21  **\n",
      "** Completed Count 800  **\n",
      "** Error Count 21  **\n",
      "** Completed Count 825  **\n",
      "** Error Count 21  **\n",
      "Article `download()` failed with 404 Client Error: Not Found for url: https://www3.nhk.or.jp/nhkworld/en/news/20180105_29/ on URL https://www3.nhk.or.jp/nhkworld/en/news/20180105_29/\n",
      "** Completed Count 850  **\n",
      "** Error Count 22  **\n",
      "** Completed Count 875  **\n",
      "** Error Count 22  **\n",
      "You must `download()` an article first!\n",
      "** Completed Count 900  **\n",
      "** Error Count 23  **\n",
      "Article `download()` failed with 503 Server Error: Service Temporarily Unavailable for url: https://www.brecorder.com/2018/02/13/398898/jica-to-support-home-based-women-workers-of-pakistan/ on URL https://www.brecorder.com/2018/02/13/398898/jica-to-support-home-based-women-workers-of-pakistan/\n",
      "** Completed Count 925  **\n",
      "** Error Count 24  **\n",
      "** Completed Count 950  **\n",
      "** Error Count 24  **\n",
      "Article `download()` failed with 404 Client Error: Not Found for url: https://asia.nikkei.com/Politics-Economy/Economy/AIIB-approves-1.5bn-of-loans-to-India-for-infrastructure-projects on URL https://asia.nikkei.com/Politics-Economy/Economy/AIIB-approves-1.5bn-of-loans-to-India-for-infrastructure-projects\n",
      "** Completed Count 975  **\n",
      "** Error Count 25  **\n",
      "** Completed Count 1000  **\n",
      "** Error Count 25  **\n",
      "Article `download()` failed with 403 Client Error: Forbidden for url: https://www.independent.co.ug/world-bank-shareholders-approve-13-bln-capital-increase/ on URL https://www.independent.co.ug/world-bank-shareholders-approve-13-bln-capital-increase/\n",
      "You must `download()` an article first!\n",
      "Article `download()` failed with 404 Client Error: Not Found for url: https://www.journalducameroun.com/en/nigeria-formalises-request-to-host-afdb-regional-office/ on URL https://www.journalducameroun.com/en/nigeria-formalises-request-to-host-afdb-regional-office/\n",
      "** Completed Count 1025  **\n",
      "** Error Count 28  **\n",
      "Article `download()` failed with 404 Client Error: Not Found for url: http://www.sanluisobispo.com/news/business/article210841149.html on URL http://www.sanluisobispo.com/news/business/article210841149.html\n",
      "** Completed Count 1050  **\n",
      "** Error Count 29  **\n",
      "Article `download()` failed with 410 Client Error: Gone for url: https://newsok.com/adb-chief-says-trade-friction-debt-could-hobble-asia-growth/article/feed/2137716 on URL http://newsok.com/adb-chief-says-trade-friction-debt-could-hobble-asia-growth/article/feed/2137716\n",
      "** Completed Count 1075  **\n",
      "** Error Count 30  **\n",
      "Article `download()` failed with 404 Client Error: Not Found for url: http://www.tampabay.com/apps/pbcs.dll/error on URL http://www.tampabay.com/the-latest-world-bank-approves-increase-in-lending-capacity-ap_nationalbce9754aa04a4737a50d7a198e4b82b5\n",
      "** Completed Count 1100  **\n",
      "** Error Count 31  **\n",
      "Article `download()` failed with 503 Server Error: Service Temporarily Unavailable for url: https://www.brecorder.com/2018/03/02/402260/no-chance-of-pakistans-inclusion-in-fatf-black-list-na-told/ on URL https://www.brecorder.com/2018/03/02/402260/no-chance-of-pakistans-inclusion-in-fatf-black-list-na-told/\n",
      "Article `download()` failed with 404 Client Error: Not Found for url: http://www.fijitimes.com/story.aspx?id=432422 on URL http://www.fijitimes.com/story.aspx?id=432422\n",
      "** Completed Count 1125  **\n",
      "** Error Count 33  **\n",
      "** Completed Count 1150  **\n",
      "** Error Count 33  **\n",
      "** Completed Count 1175  **\n",
      "** Error Count 33  **\n",
      "Article `download()` failed with 404 Client Error: Unknown site! for url: http://solar.cleantechnology-business-review.com/news/ebrd-to-support-french-company-urbasolar-in-kazakhstan-170118-6030331 on URL http://solar.cleantechnology-business-review.com/news/ebrd-to-support-french-company-urbasolar-in-kazakhstan-170118-6030331\n",
      "Article `download()` failed with 404 Client Error: Not Found for url: http://carbon-pulse.com/45733/ on URL http://carbon-pulse.com/45733/\n",
      "** Completed Count 1200  **\n",
      "** Error Count 35  **\n",
      "You must `download()` an article first!\n",
      "** Completed Count 1225  **\n",
      "** Error Count 36  **\n",
      "** Completed Count 1250  **\n",
      "** Error Count 36  **\n",
      "** Completed Count 1275  **\n",
      "** Error Count 36  **\n",
      "** Completed Count 1300  **\n",
      "** Error Count 36  **\n",
      "Article `download()` failed with 503 Server Error: Service Temporarily Unavailable for url: https://fp.brecorder.com/2018/03/20180314351436/ on URL https://fp.brecorder.com/2018/03/20180314351436/\n",
      "Article `download()` failed with 404 Client Error: Not Found for url: https://www.journalducameroun.com/en/world-bank-doubles-support-fragile-states/ on URL https://www.journalducameroun.com/en/world-bank-doubles-support-fragile-states/\n",
      "** Completed Count 1325  **\n",
      "** Error Count 38  **\n",
      "** Completed Count 1350  **\n",
      "** Error Count 38  **\n",
      "Article `download()` failed with 503 Server Error: Service Temporarily Unavailable for url: http://thestandard.com.ph/business/power-technology/261689/edc-secures-90-b-loan-from-world-bank-arm.html on URL http://thestandard.com.ph/business/power-technology/261689/edc-secures-90-b-loan-from-world-bank-arm.html\n",
      "** Completed Count 1375  **\n",
      "** Error Count 39  **\n",
      "Article `download()` failed with 404 Client Error: Not Found for url: http://www.theeagle.com/news/nation/the-latest-airport-agency-head-jfk-woes-unacceptable/article_2d244031-19b8-58d6-afdb-aa0da6f47890.html on URL http://www.theeagle.com/news/nation/the-latest-airport-agency-head-jfk-woes-unacceptable/article_2d244031-19b8-58d6-afdb-aa0da6f47890.html\n",
      "** Completed Count 1400  **\n",
      "** Error Count 40  **\n",
      "** Completed Count 1425  **\n",
      "** Error Count 40  **\n",
      "You must `download()` an article first!\n",
      "** Completed Count 1450  **\n",
      "** Error Count 41  **\n",
      "** Completed Count 1475  **\n",
      "** Error Count 41  **\n",
      "You must `download()` an article first!\n",
      "Article `download()` failed with 404 Client Error: Not Found for url: http://www.informationng.com/2018/02/dragon-flew-away-with-our-newly-world-bank-loaned-money-486-million-lai-mohammad-presidency.html on URL https://www.informationng.com/2018/02/dragon-flew-away-with-our-newly-world-bank-loaned-money-486-million-lai-mohammad-presidency.html\n",
      "** Completed Count 1500  **\n",
      "** Error Count 43  **\n",
      "** Completed Count 1525  **\n",
      "** Error Count 43  **\n",
      "Article `download()` failed with 503 Server Error: Service Temporarily Unavailable for url: https://www.brecorder.com/2018/04/10/410754/pti-govt-drowns-kpk-with-rs-3-trillion-loans/ on URL https://www.brecorder.com/2018/04/10/410754/pti-govt-drowns-kpk-with-rs-3-trillion-loans/\n",
      "** Completed Count 1550  **\n",
      "** Error Count 44  **\n",
      "Article `download()` failed with 405 Client Error: Not Allowed for url: https://www.hydroworld.com/articles/2018/02/eib-approves-loan-to-fund-hydropower-project-in-georgia.html on URL http://www.hydroworld.com/articles/2018/02/eib-approves-loan-to-fund-hydropower-project-in-georgia.html\n",
      "** Completed Count 1575  **\n",
      "** Error Count 45  **\n",
      "Article `download()` failed with 404 Client Error: Not Found for url: https://reliefweb.int/report/world/east-african-ministers-share-african-development-banks-vision-continent on URL https://reliefweb.int/report/world/east-african-ministers-share-african-development-banks-vision-continent\n",
      "** Completed Count 1600  **\n",
      "** Error Count 46  **\n",
      "Article `download()` failed with 404 Client Error: Not Found for url: http://www.ntv.co.ug/news/business/13/apr/2018/world-bank-support-uganda-tourism-skills-training-camp-25072 on URL http://ntv.co.ug/news/business/13/apr/2018/world-bank-support-uganda-tourism-skills-training-camp-25072\n",
      "** Completed Count 1625  **\n",
      "** Error Count 47  **\n",
      "You must `download()` an article first!\n",
      "** Completed Count 1650  **\n",
      "** Error Count 48  **\n",
      "Article `download()` failed with 404 Client Error: Not Found for url: http://the-japan-news.com/news/article/0004224519 on URL http://the-japan-news.com/news/article/0004224519\n",
      "** Completed Count 1675  **\n",
      "** Error Count 49  **\n",
      "Article `download()` failed with 404 Client Error: Not Found for url: http://www.bdtonline.com/news/world-bank-predicts-solid-percent-global-growth-in/article_0604a87b-5ba5-5eba-90c7-701337b4a1c2.html on URL http://www.bdtonline.com/news/world-bank-predicts-solid-percent-global-growth-in/article_0604a87b-5ba5-5eba-90c7-701337b4a1c2.html\n",
      "** Completed Count 1700  **\n",
      "** Error Count 50  **\n",
      "** Completed Count 1725  **\n",
      "** Error Count 50  **\n",
      "Article `download()` failed with 500 Server Error: Internal Server Error for url: http://www.koreatimes.co.kr/www/tech/2018/05/694_248318.html on URL http://www.koreatimes.co.kr/www/tech/2018/05/694_248318.html\n",
      "** Completed Count 1750  **\n",
      "** Error Count 51  **\n",
      "** Completed Count 1775  **\n",
      "** Error Count 51  **\n",
      "** Completed Count 1800  **\n",
      "** Error Count 51  **\n",
      "** Completed Count 1825  **\n",
      "** Error Count 51  **\n",
      "Article `download()` failed with 404 Client Error: Not Found for url: http://barbadostoday.bb/2018/01/25/single-business-blamed-for-gastro-outbreak/ on URL https://www.barbadostoday.bb/2018/01/25/single-business-blamed-for-gastro-outbreak/\n",
      "** Completed Count 1850  **\n",
      "** Error Count 52  **\n",
      "** Completed Count 1875  **\n",
      "** Error Count 52  **\n",
      "** Completed Count 1900  **\n",
      "** Error Count 52  **\n",
      "** Completed Count 1925  **\n",
      "** Error Count 52  **\n",
      "You must `download()` an article first!\n",
      "** Completed Count 1950  **\n",
      "** Error Count 53  **\n",
      "Article `download()` failed with 404 Client Error: Not Found for url: http://www.fijitimes.com/story.aspx?id=434207 on URL http://www.fijitimes.com/story.aspx?id=434207\n",
      "** Completed Count 1975  **\n",
      "** Error Count 54  **\n",
      "Article `download()` failed with 404 Client Error: Not Found for url: https://www.channelnewsasia.com/news/business/world-bank-shareholders-approve-us-13-billion-capital-increase-10162000 on URL https://www.channelnewsasia.com/news/business/us-signals-support-for-increase-in-world-bank-funding-10162000\n",
      "Article `download()` failed with 404 Client Error: Unknown site! for url: http://energyinfrastructure.cleantechnology-business-review.com/news/eib-provides-eur100m-loan-to-acciona-to-develop-digitalisation-strategy-220118-6033130 on URL http://energyinfrastructure.cleantechnology-business-review.com/news/eib-provides-eur100m-loan-to-acciona-to-develop-digitalisation-strategy-220118-6033130\n",
      "** Completed Count 2000  **\n",
      "** Error Count 56  **\n",
      "Article `download()` failed with 405 Client Error: Not Allowed for url: https://www.ogj.com/articles/2018/05/ebrd-finances-upgrade-of-egypt-s-suez-refinery.html on URL https://www.ogj.com/articles/2018/05/ebrd-finances-upgrade-of-egypt-s-suez-refinery.html\n",
      "** Completed Count 2025  **\n",
      "** Error Count 57  **\n",
      "Article `download()` failed with 404 Client Error: Not Found for url: https://reliefweb.int/report/mozambique/african-development-bank-and-mozambique-sign-us-29-million-grant-agreements on URL https://reliefweb.int/report/mozambique/african-development-bank-and-mozambique-sign-us-29-million-grant-agreements\n",
      "You must `download()` an article first!\n",
      "** Completed Count 2050  **\n",
      "** Error Count 59  **\n",
      "Article `download()` failed with 403 Client Error: 2 for url: https://www.globalresearch.ca/how-the-1-3-billion-eib-loan-uses-public-money-to-muddy-democracy-the-environment-and-climate-change-targets/5628943 on URL https://www.globalresearch.ca/how-the-1-3-billion-eib-loan-uses-public-money-to-muddy-democracy-the-environment-and-climate-change-targets/5628943\n",
      "** Completed Count 2075  **\n",
      "** Error Count 60  **\n",
      "** Completed Count 2100  **\n",
      "** Error Count 60  **\n",
      "Article `download()` failed with 404 Client Error: Unknown site! for url: http://biopower.cleantechnology-business-review.com/news/ebrd-to-support-construction-of-biogas-fired-power-plants-in-belarus-250118-6036869 on URL http://biopower.cleantechnology-business-review.com/news/ebrd-to-support-construction-of-biogas-fired-power-plants-in-belarus-250118-6036869\n",
      "You must `download()` an article first!\n",
      "** Completed Count 2125  **\n",
      "** Error Count 62  **\n",
      "Article `download()` failed with 404 Client Error: Not Found for url: http://www.fijitimes.com/story.aspx?id=438497 on URL http://www.fijitimes.com/story.aspx?id=438497\n",
      "** Completed Count 2150  **\n",
      "** Error Count 63  **\n",
      "You must `download()` an article first!\n",
      "You must `download()` an article first!\n",
      "** Completed Count 2175  **\n",
      "** Error Count 65  **\n",
      "Article `download()` failed with 403 Client Error: 2 for url: https://www.globalresearch.ca/uk-conservatives-seek-closer-economic-ties-with-china/5625921 on URL https://www.globalresearch.ca/uk-conservatives-seek-closer-economic-ties-with-china/5625921\n",
      "** Completed Count 2200  **\n",
      "** Error Count 66  **\n",
      "** Completed Count 2225  **\n",
      "** Error Count 66  **\n",
      "Article `download()` failed with 404 Client Error: Not Found for url: https://www.journalducameroun.com/en/cameroon-crude-oil-imports-get-f-cfa-44-6-billion-grant-idb/ on URL https://www.journalducameroun.com/en/cameroon-crude-oil-imports-get-f-cfa-44-6-billion-grant-idb/\n",
      "** Completed Count 2250  **\n",
      "** Error Count 67  **\n",
      "** Completed Count 2275  **\n",
      "** Error Count 67  **\n",
      "** Completed Count 2300  **\n",
      "** Error Count 67  **\n",
      "Article `download()` failed with 404 Client Error: Not Found for url: http://www.fijitimes.com/story.aspx?id=441093 on URL http://www.fijitimes.com/story.aspx?id=441093\n",
      "** Completed Count 2325  **\n",
      "** Error Count 68  **\n",
      "Article `download()` failed with 404 Client Error: Not Found for url: https://www.trinidadexpress.com/20180109/business/tough-decisions-needed-to-turn-wasa-around/ on URL http://www.trinidadexpress.com/20180109/business/tough-decisions-needed-to-turn-wasa-around\n",
      "** Completed Count 2350  **\n",
      "** Error Count 69  **\n",
      "Article `download()` failed with 403 Client Error: 2 for url: https://www.globalresearch.ca/new-evidence-of-africas-systematic-looting-from-an-increasingly-schizophrenic-world-bank/5631738 on URL https://www.globalresearch.ca/new-evidence-of-africas-systematic-looting-from-an-increasingly-schizophrenic-world-bank/5631738\n",
      "** Completed Count 2375  **\n",
      "** Error Count 70  **\n",
      "** Completed Count 2400  **\n",
      "** Error Count 70  **\n",
      "You must `download()` an article first!\n",
      "Article `download()` failed with 404 Client Error: Unknown site! for url: http://waterwastemanagement.cleantechnology-business-review.com/news/eib-to-provide-rwanda-with-eur45m-loan-to-improve-sanitation-network-in-kigali-210218-6062003 on URL http://waterwastemanagement.cleantechnology-business-review.com/news/eib-to-provide-rwanda-with-eur45m-loan-to-improve-sanitation-network-in-kigali-210218-6062003\n",
      "** Completed Count 2425  **\n",
      "** Error Count 72  **\n",
      "You must `download()` an article first!\n",
      "Article `download()` failed with 404 Client Error: Not Found for url: http://saharareporters.com/2018/05/06/afdbs-investments-electricity-was-100-renewable-energy-2017-official on URL http://saharareporters.com/2018/05/06/afdbs-investments-electricity-was-100-renewable-energy-2017-official\n",
      "Article `download()` failed with 404 Client Error: Not Found for url: https://www.idahostatesman.com/news/business/article210355649.html on URL https://www.idahostatesman.com/news/business/article210355649.html\n",
      "** Completed Count 2450  **\n",
      "** Error Count 75  **\n",
      "** Completed Count 2475  **\n",
      "** Error Count 75  **\n",
      "Article `download()` failed with 405 Client Error: Not Allowed for url: https://www.hydroworld.com/articles/2018/05/epm-working-on-recovery-at-ituango-dam-after-two-tunnel-collapses.html on URL https://www.hydroworld.com/articles/2018/05/epm-working-on-recovery-at-ituango-dam-after-two-tunnel-collapses.html\n",
      "** Completed Count 2500  **\n",
      "** Error Count 76  **\n",
      "You must `download()` an article first!\n",
      "** Completed Count 2525  **\n",
      "** Error Count 77  **\n",
      "You must `download()` an article first!\n",
      "** Completed Count 2550  **\n",
      "** Error Count 78  **\n",
      "Article `download()` failed with 404 Client Error: Not Found for url: http://www.fijitimes.com/story.aspx?id=440984 on URL http://www.fijitimes.com/story.aspx?id=440984\n",
      "** Completed Count 2575  **\n",
      "** Error Count 79  **\n",
      "** Completed Count 2600  **\n",
      "** Error Count 79  **\n",
      "** Completed Count 2625  **\n",
      "** Error Count 79  **\n",
      "Article `download()` failed with 404 Client Error: Not Found for url: http://barbadostoday.bb/2018/02/19/idb-brings-barbados-close-to-energy-security/ on URL https://www.barbadostoday.bb/2018/02/19/idb-brings-barbados-close-to-energy-security/\n",
      "You must `download()` an article first!\n",
      "** Completed Count 2650  **\n",
      "** Error Count 81  **\n",
      "** Completed Count 2675  **\n",
      "** Error Count 81  **\n"
     ]
    }
   ],
   "source": [
    "for cnt, idx in enumerate(grp_df.index):\n",
    "    if cnt%25 == 0:\n",
    "        print('** Iteration Count', cnt,' **')\n",
    "        print('** Error Count', error_count, ' **')\n",
    "    row = grp_df.loc[idx]\n",
    "    get_text_via_Article(row['url'],row['article_id'])"
   ]
  },
  {
   "cell_type": "code",
   "execution_count": 352,
   "metadata": {},
   "outputs": [],
   "source": [
    "import pickle\n",
    "\n",
    "with open('../Temp_Output/article_cache.pkl', 'wb') as file:\n",
    "    pickle.dump( cache, file)\n",
    "test_df['scraped_content'] = test_df['article_id'].map(cache)"
   ]
  },
  {
   "cell_type": "markdown",
   "metadata": {},
   "source": [
    "## Review Results and add in Some Language Detection"
   ]
  },
  {
   "cell_type": "markdown",
   "metadata": {},
   "source": [
    "IAP only has content in English currently so tagging articles in other languages is likely too complicated at this time as it wold also involve a translation step. Therefore we may want to filter out non English language articles. \n",
    "\n",
    "Newspaper 3k has this functionality - but it is slow - this work pretty fast. "
   ]
  },
  {
   "cell_type": "code",
   "execution_count": 45,
   "metadata": {},
   "outputs": [],
   "source": [
    "from langdetect import detect_langs\n",
    "from langdetect.lang_detect_exception import LangDetectException"
   ]
  },
  {
   "cell_type": "code",
   "execution_count": 48,
   "metadata": {
    "scrolled": true
   },
   "outputs": [
    {
     "name": "stdout",
     "output_type": "stream",
     "text": [
      "[en:0.9999952972346535]\n",
      "European Union institution the European Investment Bank (EIB) has renewed its partnership with French port Marseille Fos under a €50 million funding agreement to support five key development projects.\n",
      "\n",
      "\n",
      "\n",
      "The projects, which require a total investment of €136 million, include connecting the two exist \n",
      "\n",
      "*******\n",
      "[en:0.9999991131684797]\n",
      "India signed a USD 500 million (Rs 3,371 crore) loan pact with World Bank today to provide additional financing for PMGSY rural road projects.\n",
      "\n",
      "The loan has a 3-year grace period, and a maturity of 10 years, the finance Ministry said in a release.\n",
      "\n",
      "It will provide additional financing for the Pradha \n",
      "\n",
      "*******\n",
      "[en:0.9999952599411848]\n",
      "9700 Jamaican families enrolled in study\n",
      "\n",
      "Data on fathers’ impact on child development collected for the first time\n",
      "\n",
      "The UWI JA KIDS Birth Cohort Study Research Team will host a conference at the University of the West Indies from May 31 to June 1 to share ground-breaking findings from their seven-y \n",
      "\n",
      "*******\n",
      "[en:0.9999973036038267]\n",
      "WASHINGTON, United States, Thursday May 31, 2018 – Latin America and the Caribbean could add an additional $11 billion in annual trade flows by blending 33 separate agreements into a single regional free trade bloc, according to a study by the Inter-American Development Bank (IDB) .\n",
      "\n",
      "‘Connecting the \n",
      "\n",
      "*******\n",
      "[en:0.9999978397052093]\n",
      "The European Investment Bank (EIB) on Thursday confirmed €35 million in new financing for the expansion of strategic oil reserves in Cyprus.\n",
      "\n",
      "Management of strategic oil reserves in Cyprus is to be transformed through construction of a new emergency energy facility enabling Cyprus to hold one month’ \n",
      "\n",
      "*******\n"
     ]
    }
   ],
   "source": [
    "for i in test_df.head().scraped_content:\n",
    "    try:\n",
    "        print(detect_langs(i))\n",
    "    except LangDetectException:  \n",
    "        continue\n",
    "    print(i[0:300],\n",
    "         '\\n')\n",
    "    print ('*******')"
   ]
  },
  {
   "cell_type": "code",
   "execution_count": null,
   "metadata": {},
   "outputs": [],
   "source": []
  },
  {
   "cell_type": "markdown",
   "metadata": {
    "colab": {
     "autoexec": {
      "startup": false,
      "wait_interval": 0
     }
    },
    "colab_type": "code",
    "id": "cY_u0Azs8IAD",
    "run_control": {
     "frozen": false,
     "read_only": false
    }
   },
   "source": [
    "# TODO "
   ]
  },
  {
   "cell_type": "markdown",
   "metadata": {},
   "source": [
    "1. Detect Language\n",
    "2. Error Test on larger set\n",
    "3. Manually verify extact is generally correct \n",
    "4. Extract article content for all articles in DataDive dataset (Could take a long time)\n",
    "5. Method for Identifying articles previously scraped (we need a unique identifier so we can only scrape new articles in the future) -- This is just something to keep in mind. `article_id` might be fine (based on the json items `fingerprint` field."
   ]
  },
  {
   "cell_type": "markdown",
   "metadata": {},
   "source": [
    "-------------------"
   ]
  },
  {
   "cell_type": "markdown",
   "metadata": {},
   "source": [
    "# End"
   ]
  }
 ],
 "metadata": {
  "colab": {
   "collapsed_sections": [],
   "default_view": {},
   "name": "feedly_test.ipynb",
   "provenance": [],
   "toc_visible": true,
   "version": "0.3.2",
   "views": {}
  },
  "kernelspec": {
   "display_name": "my_py_3",
   "language": "python",
   "name": "my_py_3"
  },
  "language_info": {
   "codemirror_mode": {
    "name": "ipython",
    "version": 3
   },
   "file_extension": ".py",
   "mimetype": "text/x-python",
   "name": "python",
   "nbconvert_exporter": "python",
   "pygments_lexer": "ipython3",
   "version": "3.5.5"
  },
  "toc": {
   "nav_menu": {
    "height": "64px",
    "width": "252px"
   },
   "navigate_menu": true,
   "number_sections": true,
   "sideBar": true,
   "threshold": 4,
   "toc_cell": false,
   "toc_section_display": "block",
   "toc_window_display": false
  }
 },
 "nbformat": 4,
 "nbformat_minor": 2
}
