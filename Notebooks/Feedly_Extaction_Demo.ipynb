{
 "cells": [
  {
   "cell_type": "code",
   "execution_count": 1,
   "metadata": {
    "colab": {
     "autoexec": {
      "startup": false,
      "wait_interval": 0
     }
    },
    "colab_type": "code",
    "id": "JYddtNRdtwSW",
    "run_control": {
     "frozen": false,
     "read_only": false
    }
   },
   "outputs": [],
   "source": [
    "from feedly.client import *\n",
    "from feedly import *\n",
    "from newspaper import Article, ArticleException\n",
    "from time import sleep\n",
    "import pandas as pd\n",
    "import datetime\n",
    "\n",
    "pd.set_option('max_rows',300)"
   ]
  },
  {
   "cell_type": "code",
   "execution_count": 2,
   "metadata": {
    "colab": {
     "autoexec": {
      "startup": false,
      "wait_interval": 0
     }
    },
    "colab_type": "code",
    "id": "J6F2HIOJs_Bl",
    "run_control": {
     "frozen": false,
     "read_only": false
    }
   },
   "outputs": [],
   "source": [
    "\n",
    "## IAP Crds\n",
    "TOKEN = \"Az3LMscr9j9aXAzSsN-UNG6FMXrmJp6n9Z399dZFJ3XUoUsWjkmyso8f3ost9O0Yv1rm6VxQ5rNaERtdRr2c1Y4XDIlu5XDO-XQD_31HsUTvYFYvdqQzaDpOH7iNrvSHOdPaAKILi9CpTca2kQ82Fij6bBTwj_mc2yW2xH2XgLScogGcgZlHyKuC3xiYxS1Ys3FWtQHUBWg7noiifNFRPPTMNQgFdV6V35olZsUq-k1H9kI1qQqJVvZW:feedlydev\"\n",
    "FEEDLY_REDIRECT_URI = \"http://fabreadly.com/auth_callback\"\n",
    "FEEDLY_CLIENT_ID=\"d8f62d80-bd91-4b23-bdc3-c219d0489a26\"\n"
   ]
  },
  {
   "cell_type": "markdown",
   "metadata": {
    "colab_type": "text",
    "id": "5GBsfMXqOI6m"
   },
   "source": [
    "# Load the Feed"
   ]
  },
  {
   "cell_type": "markdown",
   "metadata": {},
   "source": [
    "Reference: [Feedly Documentation](https://developer.feedly.com/cloud/)"
   ]
  },
  {
   "cell_type": "code",
   "execution_count": 3,
   "metadata": {
    "colab": {
     "autoexec": {
      "startup": false,
      "wait_interval": 0
     }
    },
    "colab_type": "code",
    "id": "QDjHGtvvzBRa",
    "run_control": {
     "frozen": false,
     "read_only": false
    }
   },
   "outputs": [],
   "source": [
    "import json\n",
    "import requests\n",
    "\n",
    "# Feedly\n",
    "feedaccess = TOKEN\n",
    "\n",
    "## Use url below to get the feed ids. \n",
    "myurl = 'https://cloud.feedly.com/v3/subscriptions'\n",
    "headers = {'Authorization': 'OAuth ' + feedaccess}\n",
    "res = requests.get(url=myurl, headers=headers)\n",
    "con = res.json()\n",
    "output = json.dumps(con , indent=4)"
   ]
  },
  {
   "cell_type": "markdown",
   "metadata": {},
   "source": [
    "# See all IAP Feeds and their IDs"
   ]
  },
  {
   "cell_type": "markdown",
   "metadata": {},
   "source": [
    "From the API you can pull specific feeds by ID, or you can pull everything. One issue is that IAP is also a content generator and actually pushes things to Feedly, so you also end up pulling that stuff. Anything marked EWS, or ewsdata.rightsindevelopment.org or a link to that site is an IAP generated entry, we need to filter these out. We should be able to do this faitly easily with the metadata that is available for each item. Other option is pull from a bunch of different feeds, but my guess is that filtering will actually be easier. \n",
    "\n",
    "Code below shows all the different feeds - the ALL feed is not listed but is coded as an option in the `pull_feed` function."
   ]
  },
  {
   "cell_type": "code",
   "execution_count": 9,
   "metadata": {},
   "outputs": [],
   "source": [
    "def see_feeds(feedaccess=feedaccess):\n",
    "    \"\"\"\n",
    "        Get the list of IAP feeds and the feed id - we need this when pulling the feed data. \n",
    "    \"\"\"\n",
    "    myurl = 'https://cloud.feedly.com/v3/subscriptions'\n",
    "    headers = {'Authorization': 'OAuth ' + feedaccess}\n",
    "    res = requests.get(url=myurl, headers=headers)\n",
    "    con = res.json()\n",
    "    output = json.dumps(con , indent=4)\n",
    "    df = pd.DataFrame([(c['title'] , c['categories'][0]['id']) for c in con])\n",
    "    df.columns = ['Title','id']\n",
    "    return df, con"
   ]
  },
  {
   "cell_type": "code",
   "execution_count": 5,
   "metadata": {},
   "outputs": [],
   "source": [
    "df, raw  = see_feeds()"
   ]
  },
  {
   "cell_type": "code",
   "execution_count": 6,
   "metadata": {},
   "outputs": [
    {
     "data": {
      "text/html": [
       "<div>\n",
       "<style scoped>\n",
       "    .dataframe tbody tr th:only-of-type {\n",
       "        vertical-align: middle;\n",
       "    }\n",
       "\n",
       "    .dataframe tbody tr th {\n",
       "        vertical-align: top;\n",
       "    }\n",
       "\n",
       "    .dataframe thead th {\n",
       "        text-align: right;\n",
       "    }\n",
       "</style>\n",
       "<table border=\"1\" class=\"dataframe\">\n",
       "  <thead>\n",
       "    <tr style=\"text-align: right;\">\n",
       "      <th></th>\n",
       "      <th>Title</th>\n",
       "      <th>id</th>\n",
       "    </tr>\n",
       "  </thead>\n",
       "  <tbody>\n",
       "    <tr>\n",
       "      <th>0</th>\n",
       "      <td>All - EWS</td>\n",
       "      <td>user/d8f62d80-bd91-4b23-bdc3-c219d0489a26/cate...</td>\n",
       "    </tr>\n",
       "    <tr>\n",
       "      <th>1</th>\n",
       "      <td>EWS SA</td>\n",
       "      <td>user/d8f62d80-bd91-4b23-bdc3-c219d0489a26/cate...</td>\n",
       "    </tr>\n",
       "    <tr>\n",
       "      <th>2</th>\n",
       "      <td>ADB</td>\n",
       "      <td>user/d8f62d80-bd91-4b23-bdc3-c219d0489a26/cate...</td>\n",
       "    </tr>\n",
       "    <tr>\n",
       "      <th>3</th>\n",
       "      <td>WB</td>\n",
       "      <td>user/d8f62d80-bd91-4b23-bdc3-c219d0489a26/cate...</td>\n",
       "    </tr>\n",
       "    <tr>\n",
       "      <th>4</th>\n",
       "      <td>Title: World Bank, Text: Loan</td>\n",
       "      <td>user/d8f62d80-bd91-4b23-bdc3-c219d0489a26/cate...</td>\n",
       "    </tr>\n",
       "  </tbody>\n",
       "</table>\n",
       "</div>"
      ],
      "text/plain": [
       "                           Title  \\\n",
       "0                      All - EWS   \n",
       "1                         EWS SA   \n",
       "2                            ADB   \n",
       "3                             WB   \n",
       "4  Title: World Bank, Text: Loan   \n",
       "\n",
       "                                                  id  \n",
       "0  user/d8f62d80-bd91-4b23-bdc3-c219d0489a26/cate...  \n",
       "1  user/d8f62d80-bd91-4b23-bdc3-c219d0489a26/cate...  \n",
       "2  user/d8f62d80-bd91-4b23-bdc3-c219d0489a26/cate...  \n",
       "3  user/d8f62d80-bd91-4b23-bdc3-c219d0489a26/cate...  \n",
       "4  user/d8f62d80-bd91-4b23-bdc3-c219d0489a26/cate...  "
      ]
     },
     "execution_count": 6,
     "metadata": {},
     "output_type": "execute_result"
    }
   ],
   "source": [
    "df.head()"
   ]
  },
  {
   "cell_type": "code",
   "execution_count": 33,
   "metadata": {},
   "outputs": [],
   "source": [
    "def pull_feed(feed_id, feedcount, all_feeds=False,  feedaccess=feedaccess):\n",
    "    \"\"\"\n",
    "    Pull the feed information from the Feedly API and returns a list of pulled JSON objects. \n",
    "    Returns a list in case we are pulling more then 1000 items, then we have multiple JSON objects. \n",
    "    \n",
    "    feed_id: Id of the feed we want to pull from. (str)\n",
    "    feedcount: Target number of items to pull from the feed. (int)\n",
    "    all_feeds: If true then pulls all items in the IAP feed - value of feed_id will be ignored (Bool)\n",
    "    feedaccess: Token Information (str)\n",
    "    \"\"\"\n",
    "    \n",
    "    feedcount = str(feedcount)\n",
    "    current_count = 0\n",
    "    continuation_rounds = math.ceil(int(feedcount) / 1000.0)\n",
    "    json_data = []\n",
    "    continuation_id = None\n",
    "    if all_feeds:\n",
    "        feed_id = 'user/d8f62d80-bd91-4b23-bdc3-c219d0489a26/category/global.all'\n",
    "\n",
    "    for i in range(continuation_rounds):\n",
    "        print('Pulling Data - Round %s' % str(i+1))\n",
    "        myurl = \"http://cloud.feedly.com/v3/streams/contents?streamId=\" + feed_id + \"&count=\" + feedcount\n",
    "        \n",
    "        if continuation_id:\n",
    "            myurl += \"&continuation={}\".format(continuation_id)\n",
    "        headers = {'Authorization': 'OAuth ' + feedaccess}\n",
    "        res = requests.get(url=myurl, headers=headers)\n",
    "        con = res.json()\n",
    "        json_data.append(con)\n",
    "        \n",
    "        if int(feedcount) > 1000:\n",
    "            print(con.keys())\n",
    "            continuation_id = con['continuation']\n",
    "    \n",
    "    print('Complete')\n",
    "    return json_data"
   ]
  },
  {
   "cell_type": "code",
   "execution_count": 34,
   "metadata": {},
   "outputs": [
    {
     "name": "stdout",
     "output_type": "stream",
     "text": [
      "Pulling Data - Round 1\n",
      "Complete\n"
     ]
    }
   ],
   "source": [
    "pulled_json = pull_feed('',40,all_feeds=True)"
   ]
  },
  {
   "cell_type": "markdown",
   "metadata": {
    "colab_type": "text",
    "id": "YqMdKZCNOLnW"
   },
   "source": [
    "# Process the Feed "
   ]
  },
  {
   "cell_type": "markdown",
   "metadata": {},
   "source": [
    "Convert to a dataframe\n",
    "\n",
    "#TODO - Figure out what tags we need to preserve here - like from which news feed were they pulled - should be valuable for identifying the bank being mentioned.  "
   ]
  },
  {
   "cell_type": "code",
   "execution_count": 35,
   "metadata": {
    "colab": {
     "autoexec": {
      "startup": false,
      "wait_interval": 0
     }
    },
    "colab_type": "code",
    "id": "SbMJxlMw6eBX",
    "run_control": {
     "frozen": false,
     "read_only": false
    }
   },
   "outputs": [],
   "source": [
    "def process_pulled_data(json_data):\n",
    "    df_data = []\n",
    "    \n",
    "    for grp in range(len(json_data)):\n",
    "        data = json_data[grp]\n",
    "        for i in range(len(data['items'])):\n",
    "\n",
    "            vals = data['items'][i]\n",
    "            article_data = []\n",
    "            article_data += [vals['published'], vals['title'],vals['alternate'][0]['href']]\n",
    "            try:\n",
    "                article_data.append(vals['content']['content'])\n",
    "            except:\n",
    "                article_data.append(None)\n",
    "\n",
    "            try:\n",
    "                article_data.append(vals['summary']['content'])\n",
    "            except:\n",
    "                article_data.append(None)\n",
    "            df_data.append(article_data)\n",
    "        \n",
    "        \n",
    "    df = pd.DataFrame(df_data, columns=None)\n",
    "    df.columns = ['published','title','url','content','summary']\n",
    "    df.published = [datetime.datetime.fromtimestamp(i/1000.0) for i in df.published]\n",
    "    return df"
   ]
  },
  {
   "cell_type": "code",
   "execution_count": 36,
   "metadata": {},
   "outputs": [],
   "source": [
    "test_df = process_pulled_data(pulled_json)"
   ]
  },
  {
   "cell_type": "code",
   "execution_count": 37,
   "metadata": {},
   "outputs": [],
   "source": [
    "test_df['keep'] = [False if 'ews.rightsindevelopment.org' in i else True for i in test_df.url]"
   ]
  },
  {
   "cell_type": "code",
   "execution_count": 38,
   "metadata": {},
   "outputs": [
    {
     "data": {
      "text/plain": [
       "True     28\n",
       "False    12\n",
       "Name: keep, dtype: int64"
      ]
     },
     "execution_count": 38,
     "metadata": {},
     "output_type": "execute_result"
    }
   ],
   "source": [
    "test_df.keep.value_counts()"
   ]
  },
  {
   "cell_type": "code",
   "execution_count": 39,
   "metadata": {},
   "outputs": [
    {
     "data": {
      "text/plain": [
       "<matplotlib.axes._subplots.AxesSubplot at 0x10aea9358>"
      ]
     },
     "execution_count": 39,
     "metadata": {},
     "output_type": "execute_result"
    },
    {
     "data": {
      "image/png": "[encoded data removed]",
      "text/plain": [
       "<Figure size 432x288 with 1 Axes>"
      ]
     },
     "metadata": {},
     "output_type": "display_data"
    }
   ],
   "source": [
    "%matplotlib inline\n",
    "test_df.url.value_counts().hist()"
   ]
  },
  {
   "cell_type": "markdown",
   "metadata": {},
   "source": [
    "## Filter the Items "
   ]
  },
  {
   "cell_type": "code",
   "execution_count": 40,
   "metadata": {},
   "outputs": [],
   "source": [
    "#TODO"
   ]
  },
  {
   "cell_type": "markdown",
   "metadata": {},
   "source": [
    "## Scrape the articles"
   ]
  },
  {
   "cell_type": "markdown",
   "metadata": {},
   "source": [
    "**NOTE** - This is Slow"
   ]
  },
  {
   "cell_type": "code",
   "execution_count": 41,
   "metadata": {},
   "outputs": [],
   "source": [
    "def get_text_via_Article(url):\n",
    "    \"\"\"\n",
    "    Returns scraped article content - using the newspaper3k module (http://newspaper.readthedocs.io/en/latest/)\n",
    "    \"\"\"\n",
    "    article = Article(url)\n",
    "    article.download()\n",
    "    try:\n",
    "        article.parse()\n",
    "    except ArticleException:\n",
    "        print(url)\n",
    "        article.download()\n",
    "        print('sleeping')\n",
    "        sleep(10)\n",
    "    \n",
    "        article.parse()\n",
    "    return article.text"
   ]
  },
  {
   "cell_type": "code",
   "execution_count": 42,
   "metadata": {},
   "outputs": [],
   "source": [
    "test_df['scraped_content'] = [get_text_via_Article(url) for url in test_df.url]"
   ]
  },
  {
   "cell_type": "code",
   "execution_count": 44,
   "metadata": {},
   "outputs": [
    {
     "name": "stdout",
     "output_type": "stream",
     "text": [
      "European Union institution the European Investment Bank (EIB) has renewed its partnership with French port Marseille Fos under a €50 million funding agreement to support five key development projects.\n",
      "\n",
      "\n",
      "\n",
      "The projects, which require a total investment of €136 million, include connecting the two existing Fos 2XL deepsea container terminals via a mid-section to provide a continuous quay length of 2.6km. Due to start this summer, the extension will increase capacity by 15-20 percent and improve berthing for ultra-large boxships.\n",
      "\n",
      "\n",
      "\n",
      "Two other projects in the Fos western harbor area are also covered under the agreement – further development of the Feuillane logistics park and renovation of two ship refueling stations. Meanwhile, in the Marseille eastern harbor, the funding will go toward reorganization of the Corsica and North Africa ferry passenger terminals and enlargement of the Passe Nord access for mega cruise ships.\n",
      "\n",
      "\n",
      "\n",
      "The agreement was signed on May 28 by Marseille Fos CEO Christine Cabau Woehrel and EIB vice-president Ambroise Fayolle, who later visited the site of the container terminal project. Mme. Cabau Woehrel commented, “Ten years after having helped Marseille Fos to create Fos 2XL, we are honored that the EIB is renewing its confidence in our projects to such a level. We now have the investment capacity to continue developing our infrastructure and to reinforce our international scope. This support addresses the interest of our port-industrial cluster in ensuring we have the means to attract the very biggest international investors to our territory.”\n",
      "\n",
      "\n",
      "\n",
      "Fayolle added, “I am very happy that funding of this scale supports the attractiveness and development of France’s premier port. By giving the port the means to equip itself with modernized and efficient infrastructure geared to market demand, the EIB has strengthened the capacity, competitiveness and international influence of a port complex that is unique in France. Our goal is to accompany the port’s long-term development and support the site’s businesses and employment.”\n",
      "\n",
      "\n",
      "\n",
      "Under a diversification strategy giving entry to new markets, Marseille Fos has seen strong traffic growth over the past three years together with increasing implantation by large industrial organizations. The EIB funding will ensure that the port meets important deadlines as its 2014-18 strategic plan draws to a close and allow it to fix the objectives proposed in its 2019-23 plan. \n",
      "****\n",
      "India signed a USD 500 million (Rs 3,371 crore) loan pact with World Bank today to provide additional financing for PMGSY rural road projects.\n",
      "\n",
      "The loan has a 3-year grace period, and a maturity of 10 years, the finance Ministry said in a release.\n",
      "\n",
      "It will provide additional financing for the Pradhan Mantri Gram Sadak Yojana (PMGSY) Rural Roads Project “which will build 7,000 km of climate resilient roads, out of which 3,500 km will be constructed using green technologies”, the release said.\n",
      "\n",
      "The World Bank has supported PMGSY since its inception in 2004. So far it has invested over USD 1.8 billion in loans and credits mostly in the economically weaker and hill states across North India -- Bihar, Himachal Pradesh, Jharkhand, Meghalaya, Rajasthan, Uttarakhand, and Uttar Pradesh.\n",
      "\n",
      "It has built and improved about 35,000 km of rural roads and benefited about eight million people with access to all-weather roads.\n",
      "\n",
      "The release further said that adequate maintenance of the existing 4.6 million km of road network is emerging as a major challenge.\n",
      "\n",
      "Many parts of the existing road network are either vulnerable to or have already suffered damage from climate induced events such as floods, high rainfall, sudden cloud bursts and land-slides.\n",
      "\n",
      "To support the rural economy and communities and households that depend on rural livelihoods, it will be critical to ensure that infrastructure is built and maintained to withstand climatic changes, said Mr Junaid Ahmad, World Bank Country Director in India.\n",
      "\n",
      "The project, he said will demonstrate how climate resilient construction can be integrated in the strategy and planning of rural roads.\n",
      "\n",
      "The additional financing will also fill the gender gap by creating employment opportunities for women in construction and maintenance.\n",
      "\n",
      "The earlier project had piloted community-based maintenance contracts through women self-help groups (SHGs) for routine maintenance of 200 km of PMGSY roads in Uttarakhand, Meghalaya and Himachal Pradesh.\n",
      "\n",
      "SHG-run maintenance contracts will now be extended to about 500 km roads over 5 states, the ministry said. \n",
      "****\n",
      "9700 Jamaican families enrolled in study\n",
      "\n",
      "Data on fathers’ impact on child development collected for the first time\n",
      "\n",
      "The UWI JA KIDS Birth Cohort Study Research Team will host a conference at the University of the West Indies from May 31 to June 1 to share ground-breaking findings from their seven-year investigation of Jamaican children and their families. JA KIDS, The Jamaican Birth Cohort Study, is a comprehensive exploration of child health and development in 21st century Jamaica. It is Jamaica’s second birth cohort study and includes every baby born between July 1, 2011 and September 30, 2011.\n",
      "\n",
      "Jamaica’s first birth cohort study took place in 1986 and had significant impact on various policies, programmes and interventions for children, especially in the health sector. For example, findings from the study lead to the development of referral high-risk clinics run by visiting obstetricians, the modernization of Registrar General’s Department and improvement of cross-sectoral services for children from birth to 6 years. Children from the 1986 cohort were last contacted at age 22 to identify birth factors that influence adult disorders such as hypertension and diabetes. Despite its successes, the 1986 study was undertaken prior to the widespread expansion in knowledge of the impact of the early childhood years on development and therefore did not collect detailed data on this period. Such factors are now deemed critical to childhood, national and human development. Consequently, some 25 years after the first birth cohort study, JA KIDS was launched to add new dimensions to the knowledge of Jamaican children and families, including detailed developmental and behavioural evaluations on children in the early years.\n",
      "\n",
      "JA KIDS aims to improve the health and well-being of Jamaica’s children by obtaining current and detailed information on factors that influence health, disease and social and emotional development in young children. The identification of these factors will enable Jamaica to build on its existing strengths and to target interventions to mitigate risks in populations where they are identified. The study is also likely to inform regional and international policy and practice as many Caribbean countries and other developing nations, which do not have the capacity to implement longitudinal studies of this nature, are likely to find the information generated relevant to their own societies.\n",
      "\n",
      "To date, JA KIDS has enrolled over 9700 families in the study. The research team has collected a tremendous amount of valuable data on the relationships among a wide range of family, school, community, environmental and individual variables in the early childhood years. Participants were recruited while pregnant during March to September 2011 and at the birth of their child at hospitals across the island. Subsequently, contact was made via telephone with parents when their children were 9 – 12 months and face-to-face when the children were 18 – 22 months and then 4 – 5 years old. At each contact, parents are asked questions about their health and well-being, their child’s growth and development, the child’s environment, nutrition and parental practices. In the face-to-face contacts, children participated in assessments of their development, school readiness and behaviour.\n",
      "\n",
      "The JA KIDS Research Team has also conducted special investigations on a variety of topics relevant to the Jamaican context. These include an examination of the role of fathers in child development, the outcomes for newborns admitted to hospital shortly after birth and the levels of PCBs (Polychlorinated biphenyls), OC (Organochlorine) pesticides, and six heavy metals (lead, mercury, arsenic, cadmium, manganese, and aluminium) in the cord-blood obtained from JA KIDS newborns.\n",
      "\n",
      "It is expected that findings from the JA KIDS study will benefit Jamaica by providing the health, education, social and academic sectors with information from which to develop national policies and programmes to ensure the best possible outcomes for our children and families. As the study’s Principal Investigator, Prof. Maureen Samms-Vaughan emphasises: “Our JA KIDS children and families have allowed us to understand so much about parenting children in modern Jamaica. We owe it to them and to all our children to use this information well.”\n",
      "\n",
      "Analysis of the data already collected in the JA KIDS study will provide information on maternal health and well-being; pregnancy; paternal well-being and involvement; children's status at birth and at various points thereafter; and children's experiences and growth in the early years. According to Dr. Tomlin Paul, Dean of the Faculty of Medical Sciences at the University of the West Indies: “The JA KIDS study is an ideal example of the University delivering on its mission. As we make interventions aimed at improving the lives of our people, we are giving priority to understanding the factors which affect how our children grow and develop. This is an investment which we expect to reap long lasting returns to the population.”\n",
      "\n",
      "The establishment of the JA KIDS cohort was funded primarily through a grant from the Inter-American Development Bank (IDB), and the Bank has remained a strong supporter of the study over the years. General Manager for the IDB’s Caribbean Country Department, Therese Turner—Jones, says the Bank has been happy to partner with JA KIDS over the past seven years, since “it aligns with our vision to improve lives by creating vibrant sustainable economies where people are safe productive and happy.” She added that, “Looking ahead, the IDB anticipates that these ground-breaking data and analyses will lead to innovation in how Jamaican children are treated from birth to adolescence. It is our hope that it improves parenting (for example understanding that boys and girls develop differently), education and overall child and maternal health.”\n",
      "\n",
      "The powerful findings from the study will be presented at the JA KIDS Conference and Exhibition - “Growing Up in Jamaica: The First Five Years” at the Faculty of Medical Sciences Teaching and Research Complex at the University of the West Indies, Mona. Conference panels and discussions will be focussed on child health and development, child nutrition, children’s exposure to violence, parenting and the policy implications of the study. The conference will also host international guest speakers from the University of Bristol and the University of Oxford who will discuss issues surrounding fatherhood and lessons learned from cohort studies around the world. There will also be special events for JA KIDS participants throughout the duration of the conference. \n",
      "****\n",
      "WASHINGTON, United States, Thursday May 31, 2018 – Latin America and the Caribbean could add an additional $11 billion in annual trade flows by blending 33 separate agreements into a single regional free trade bloc, according to a study by the Inter-American Development Bank (IDB) .\n",
      "\n",
      "‘Connecting the Dots: A Road Map for a Better Integration of Latin America and the Caribbean’ charts a course for the region to attain the elusive goal of regional integration, noting that Argentina, Mexico and Brazil would be the key players in any meaningful integration effort.\n",
      "\n",
      "Trade in the region is a complicated patchwork of preferential trade agreements (PTAs), anchored by its two main blocs, the Pacific Alliance and MERCOSUR. The study notes that while these agreements have increased intraregional trade by 64 per cent on average since their inception, these gains fell well short of what a $5 trillion market could offer. More worryingly, they have proved inadequate at making the region more competitive internationally.\n",
      "\n",
      "The report offers a roadmap toward maximizing these gains by promoting a path of convergence among the existing PTAs which would eventually lead to a Latin American and Caribbean Free Trade Agreement (LAC-FTA).\n",
      "\n",
      "“Convergence is the way to strengthen the economic relevance of the preferential trade agreements in our region,” said Antoni Estevadeordal, manager of the IDB’s Trade and Integration Sector. “Together, they could help improve the region’s competitiveness abroad, particularly in this increasingly challenging trade environment. Alone, and without a critical mass, these agreements face irrelevancy or even a slow death in the face of major deals already in place in Europe, Asia and North America.”\n",
      "\n",
      "The report looks at the trade impacts of a LAC-FTA under various international scenarios. In the prevailing environment, the agreement would produce average gains of nine per cent for intraregional trade in intermediate goods used in exports from Latin America and the Caribbean, which would bolster the region’s underdeveloped value chains.\n",
      "\n",
      "Driven mostly by tariff elimination, a LAC-FTA would also increase intraregional trade in all goods by an average 3.5 per cent or an additional US$11.3 billion, based on 2017 flows. The boost to specific exports would range from 1 per cent in mining in the Andean countries to eight per cent in manufacturing in Mexico and 21 per cent in agriculture in Central America.\n",
      "\n",
      "In a scenario of increasing trade fictions, the report argues that a region-wide agreement could prove to be an effective insurance policy against market losses. “A free trade agreement of this sort could mitigate the negative impacts of global trade frictions on LAC exports by as much as 40 per cent,” added Estevadeordal.\n",
      "\n",
      "The report acknowledges that this type of strategy is likely to be met with skepticism, given the difficulties faced by previous attempts to reach a single, regional free trade deal. It argues, however, that nearly 90 percent of intraregional trade is already duty-free, thus providing a solid platform for building a regional free trade area. Moreover, the region has never been closer to political consensus around the benefits of trade and integration.\n",
      "\n",
      "Drawing on the lessons of more than a quarter of a century of integration initiatives, the report recommends first creating a free trade zone focused on goods and services, with other issues such as labor, intellectual property and the environment to be added later. It should also include a chapter on trade facilitation, which would include should move beyond mere customs-related measures to include mechanisms that reduce transportation and transaction costs.\n",
      "\n",
      "According to the report, a critical mass of countries would be required to get the integration process moving. Argentina, Brazil and Mexico are uniquely positioned to bring together the region’s largest subregional blocs, the Pacific Alliance and MERCOSUR, whose combined $4.3-trillion market accounts for 81 percent of the region’s GDP.\n",
      "\n",
      "Governments could opt for a cautious, step-by-step approach that extends cumulation of rules of origin and fills in gaps in relationships where needed. Despite the political advantages of such an approach, the study argues for a more aggressive undertaking, as the complexities of multiple product rules and intraregional PTAs will remain.\n",
      "\n",
      "“If governments in the region are really committed to strengthening both the political and the economic cases for integration,” said IDB trade research specialist and the study’s coordinator, Mauricio Moreira. “Time, unfortunately, is not on their side.” \n",
      "****\n",
      "The European Investment Bank (EIB) on Thursday confirmed €35 million in new financing for the expansion of strategic oil reserves in Cyprus.\n",
      "\n",
      "Management of strategic oil reserves in Cyprus is to be transformed through construction of a new emergency energy facility enabling Cyprus to hold one month’s worth of emergency oil supplies.\n",
      "\n",
      "The new EIB financing represents the first infrastructure scheme in Cyprus to be supported by the Investment Plan for Europe initiative.\n",
      "\n",
      "The new EIB support for crucial energy infrastructure in Cyprus was formally signed in Nicosia by Jonathan Taylor, European Investment Bank Vice President responsible for lending operations in Cyprus, and Panagiotis Malekkos, Chairman of KODAP, the Cyprus Organisation for Storage and Management of Oil Stocks.\n",
      "\n",
      "Also present at the signing was energy minister Giorgos Lakkotrypis.\n",
      "\n",
      "“The European Investment Bank has been a key partner for energy investment in Cyprus for more than 40 years. New EIB support for emergency oil storage at Vasilikos confirmed today will ensure critical energy infrastructure in a modern and safe facility,” Lakkotrypis said.\n",
      "\n",
      "“The €35m long-term EIB financing represents our largest support for energy investment in Cyprus for more than five years and is the first infrastructure project in Cyprus backed by the Investment Plan for Europe.” Taylor said.\n",
      "\n",
      "The 20-year long-term EIB loan will finance a new six tank 200,000 cubic metres oil storage facility at Vasilikos on the southern coast of the island, as well as firefighting, fencing, pipelines, security and roads at the new site.\n",
      "\n",
      "The Vasilikos terminal will hold the bulk of oil reserves owned by KODAP.\n",
      "\n",
      "Once operational in 2020, the new Vasilikos facility will allow storage of one month’s worth of oil supplies for Cyprus and contribute towards compliance with a European obligation to store oil reserves equivalent to 90 days of energy needs.\n",
      "\n",
      "The project is the first infrastructure scheme in Cyprus supported by the €500bn Investment Plan for Europe initiative. The new Vasilikos facility will be financed by the European Investment Bank under the Investment Plan for Europe, using a guarantee from the European Fund for Strategic Investments.\n",
      "\n",
      "According to a press release, the EIB has supported energy, education, transport, health, water and small business investment in Cyprus since 1981. This has included providing more than €818m for energy investment in wind energy, power distribution and transmission, energy efficiency and security of energy supply projects. \n",
      "****\n"
     ]
    }
   ],
   "source": [
    "for i in test_df.head(5).scraped_content:\n",
    "    print(i,'\\n****')"
   ]
  },
  {
   "cell_type": "markdown",
   "metadata": {},
   "source": [
    "## Review Results and add in Some Language Detection"
   ]
  },
  {
   "cell_type": "markdown",
   "metadata": {},
   "source": [
    "IAP only has content in English currently so tagging articles in other languages is likely too complicated at this time as it wold also involve a translation step. Therefore we may want to filter out non English language articles. "
   ]
  },
  {
   "cell_type": "code",
   "execution_count": 45,
   "metadata": {},
   "outputs": [],
   "source": [
    "from langdetect import detect_langs\n",
    "from langdetect.lang_detect_exception import LangDetectException"
   ]
  },
  {
   "cell_type": "code",
   "execution_count": 48,
   "metadata": {
    "scrolled": true
   },
   "outputs": [
    {
     "name": "stdout",
     "output_type": "stream",
     "text": [
      "[en:0.9999952972346535]\n",
      "European Union institution the European Investment Bank (EIB) has renewed its partnership with French port Marseille Fos under a €50 million funding agreement to support five key development projects.\n",
      "\n",
      "\n",
      "\n",
      "The projects, which require a total investment of €136 million, include connecting the two exist \n",
      "\n",
      "*******\n",
      "[en:0.9999991131684797]\n",
      "India signed a USD 500 million (Rs 3,371 crore) loan pact with World Bank today to provide additional financing for PMGSY rural road projects.\n",
      "\n",
      "The loan has a 3-year grace period, and a maturity of 10 years, the finance Ministry said in a release.\n",
      "\n",
      "It will provide additional financing for the Pradha \n",
      "\n",
      "*******\n",
      "[en:0.9999952599411848]\n",
      "9700 Jamaican families enrolled in study\n",
      "\n",
      "Data on fathers’ impact on child development collected for the first time\n",
      "\n",
      "The UWI JA KIDS Birth Cohort Study Research Team will host a conference at the University of the West Indies from May 31 to June 1 to share ground-breaking findings from their seven-y \n",
      "\n",
      "*******\n",
      "[en:0.9999973036038267]\n",
      "WASHINGTON, United States, Thursday May 31, 2018 – Latin America and the Caribbean could add an additional $11 billion in annual trade flows by blending 33 separate agreements into a single regional free trade bloc, according to a study by the Inter-American Development Bank (IDB) .\n",
      "\n",
      "‘Connecting the \n",
      "\n",
      "*******\n",
      "[en:0.9999978397052093]\n",
      "The European Investment Bank (EIB) on Thursday confirmed €35 million in new financing for the expansion of strategic oil reserves in Cyprus.\n",
      "\n",
      "Management of strategic oil reserves in Cyprus is to be transformed through construction of a new emergency energy facility enabling Cyprus to hold one month’ \n",
      "\n",
      "*******\n"
     ]
    }
   ],
   "source": [
    "for i in test_df.head().scraped_content:\n",
    "    try:\n",
    "        print(detect_langs(i))\n",
    "    except LangDetectException:  \n",
    "        continue\n",
    "    print(i[0:300],\n",
    "         '\\n')\n",
    "    print ('*******')"
   ]
  },
  {
   "cell_type": "code",
   "execution_count": null,
   "metadata": {},
   "outputs": [],
   "source": []
  },
  {
   "cell_type": "markdown",
   "metadata": {
    "colab": {
     "autoexec": {
      "startup": false,
      "wait_interval": 0
     }
    },
    "colab_type": "code",
    "id": "cY_u0Azs8IAD",
    "run_control": {
     "frozen": false,
     "read_only": false
    }
   },
   "source": [
    "# TODO "
   ]
  },
  {
   "cell_type": "markdown",
   "metadata": {},
   "source": [
    "1. Detect Language\n",
    "2. Error Test on larger set\n",
    "3. Manually verify extact is generally correct \n",
    "4. Extract article content for all articles in DataDive dataset (Could take a long time)\n",
    "5. Method for Identifying articles previously scraped (we need a unique identifier so we can only scrape new articles in the future) -- This is just something to keep in mind. "
   ]
  },
  {
   "cell_type": "markdown",
   "metadata": {},
   "source": [
    "-------------------"
   ]
  },
  {
   "cell_type": "markdown",
   "metadata": {},
   "source": [
    "# End"
   ]
  }
 ],
 "metadata": {
  "colab": {
   "collapsed_sections": [],
   "default_view": {},
   "name": "feedly_test.ipynb",
   "provenance": [],
   "toc_visible": true,
   "version": "0.3.2",
   "views": {}
  },
  "kernelspec": {
   "display_name": "my_py_3",
   "language": "python",
   "name": "my_py_3"
  },
  "language_info": {
   "codemirror_mode": {
    "name": "ipython",
    "version": 3
   },
   "file_extension": ".py",
   "mimetype": "text/x-python",
   "name": "python",
   "nbconvert_exporter": "python",
   "pygments_lexer": "ipython3",
   "version": "3.5.5"
  },
  "toc": {
   "nav_menu": {
    "height": "64px",
    "width": "252px"
   },
   "navigate_menu": true,
   "number_sections": true,
   "sideBar": true,
   "threshold": 4,
   "toc_cell": false,
   "toc_section_display": "block",
   "toc_window_display": false
  }
 },
 "nbformat": 4,
 "nbformat_minor": 2
}
