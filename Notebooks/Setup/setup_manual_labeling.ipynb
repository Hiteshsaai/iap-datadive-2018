{
 "cells": [
  {
   "cell_type": "markdown",
   "metadata": {},
   "source": [
    "# Setup Manual Labeling"
   ]
  },
  {
   "cell_type": "code",
   "execution_count": 1,
   "metadata": {},
   "outputs": [],
   "source": [
    "import pandas as pd"
   ]
  },
  {
   "cell_type": "markdown",
   "metadata": {},
   "source": [
    "**Get the feedly data and remove the extra features **"
   ]
  },
  {
   "cell_type": "code",
   "execution_count": 2,
   "metadata": {},
   "outputs": [],
   "source": [
    "feedly = pd.read_pickle('../../Data/Feedly_Processed_DF_cleaned.pkl')"
   ]
  },
  {
   "cell_type": "code",
   "execution_count": 7,
   "metadata": {},
   "outputs": [],
   "source": [
    "feedly= feedly[feedly.columns[0:-5]]"
   ]
  },
  {
   "cell_type": "code",
   "execution_count": 19,
   "metadata": {},
   "outputs": [
    {
     "data": {
      "text/plain": [
       "(10674, 6)"
      ]
     },
     "execution_count": 19,
     "metadata": {},
     "output_type": "execute_result"
    }
   ],
   "source": [
    "feedly.shape"
   ]
  },
  {
   "cell_type": "markdown",
   "metadata": {},
   "source": [
    "**Get the Labeled Data so we have only those rows that are unlabeled**"
   ]
  },
  {
   "cell_type": "code",
   "execution_count": 9,
   "metadata": {},
   "outputs": [],
   "source": [
    "import os"
   ]
  },
  {
   "cell_type": "code",
   "execution_count": null,
   "metadata": {},
   "outputs": [],
   "source": []
  },
  {
   "cell_type": "code",
   "execution_count": 44,
   "metadata": {},
   "outputs": [],
   "source": [
    "files = os.listdir('../../Data/Labeled_Data')\n",
    "labels = pd.read_csv('../../Data/Labeled_Data/'+files[0])\n",
    "for i in files[1:]:\n",
    "    labels = labels.append(pd.read_csv('../../Data/Labeled_Data/'+i))\n",
    "    \n",
    "labeled = {}\n",
    "for i in files:\n",
    "    labeled[i] = pd.read_csv('../../Data/Labeled_Data/'+i)"
   ]
  },
  {
   "cell_type": "code",
   "execution_count": 35,
   "metadata": {},
   "outputs": [
    {
     "data": {
      "text/plain": [
       "(1191, 15)"
      ]
     },
     "execution_count": 35,
     "metadata": {},
     "output_type": "execute_result"
    }
   ],
   "source": [
    "labels.shape"
   ]
  },
  {
   "cell_type": "code",
   "execution_count": 36,
   "metadata": {},
   "outputs": [
    {
     "data": {
      "text/plain": [
       "(10241, 6)"
      ]
     },
     "execution_count": 36,
     "metadata": {},
     "output_type": "execute_result"
    }
   ],
   "source": [
    "feedly[~feedly.article_id.isin(labels.article_id.unique())].shape"
   ]
  },
  {
   "cell_type": "code",
   "execution_count": 59,
   "metadata": {},
   "outputs": [],
   "source": [
    "for_labeling = feedly[~feedly.article_id.isin(labels.article_id.unique())]\n",
    "for_labeling = for_labeling.drop('content',axis=1)"
   ]
  },
  {
   "cell_type": "code",
   "execution_count": 60,
   "metadata": {},
   "outputs": [
    {
     "data": {
      "text/plain": [
       "Index(['Bank1', 'Bank2', 'Country1', 'EWS Project Name', 'EWS hyperlink',\n",
       "       'Matched', 'ProjectNumber', 'Sectors', 'article_id', 'cl_Sector',\n",
       "       'feed_label', 'published', 'title', 'top_sector', 'url'],\n",
       "      dtype='object')"
      ]
     },
     "execution_count": 60,
     "metadata": {},
     "output_type": "execute_result"
    }
   ],
   "source": [
    "labels.columns\n",
    "# for_labeling.head()"
   ]
  },
  {
   "cell_type": "code",
   "execution_count": 61,
   "metadata": {},
   "outputs": [],
   "source": [
    "add_cols = ['Bank1','Bank2','Country1','Sectors','cl_Sector',\\\n",
    "            'top_sector','ProjectNumber','EWS Project Name','EWS hyperlink','Matched']"
   ]
  },
  {
   "cell_type": "code",
   "execution_count": 62,
   "metadata": {},
   "outputs": [],
   "source": [
    "for col in add_cols:\n",
    "    for_labeling[col] = None"
   ]
  },
  {
   "cell_type": "code",
   "execution_count": 63,
   "metadata": {},
   "outputs": [
    {
     "data": {
      "text/html": [
       "<div>\n",
       "<style scoped>\n",
       "    .dataframe tbody tr th:only-of-type {\n",
       "        vertical-align: middle;\n",
       "    }\n",
       "\n",
       "    .dataframe tbody tr th {\n",
       "        vertical-align: top;\n",
       "    }\n",
       "\n",
       "    .dataframe thead th {\n",
       "        text-align: right;\n",
       "    }\n",
       "</style>\n",
       "<table border=\"1\" class=\"dataframe\">\n",
       "  <thead>\n",
       "    <tr style=\"text-align: right;\">\n",
       "      <th></th>\n",
       "      <th>article_id</th>\n",
       "      <th>title</th>\n",
       "      <th>url</th>\n",
       "      <th>feed_label</th>\n",
       "      <th>published</th>\n",
       "      <th>Bank1</th>\n",
       "      <th>Bank2</th>\n",
       "      <th>Country1</th>\n",
       "      <th>Sectors</th>\n",
       "      <th>cl_Sector</th>\n",
       "      <th>top_sector</th>\n",
       "      <th>ProjectNumber</th>\n",
       "      <th>EWS Project Name</th>\n",
       "      <th>EWS hyperlink</th>\n",
       "      <th>Matched</th>\n",
       "    </tr>\n",
       "  </thead>\n",
       "  <tbody>\n",
       "    <tr>\n",
       "      <th>10900</th>\n",
       "      <td>eebb9702</td>\n",
       "      <td>India, World Bank sign financing agreement for...</td>\n",
       "      <td>http://www.abplive.in/business/india-world-ban...</td>\n",
       "      <td>NEWS WB- All Streams</td>\n",
       "      <td>2017-12-21 09:22:12</td>\n",
       "      <td>None</td>\n",
       "      <td>None</td>\n",
       "      <td>None</td>\n",
       "      <td>None</td>\n",
       "      <td>None</td>\n",
       "      <td>None</td>\n",
       "      <td>None</td>\n",
       "      <td>None</td>\n",
       "      <td>None</td>\n",
       "      <td>None</td>\n",
       "    </tr>\n",
       "    <tr>\n",
       "      <th>4268</th>\n",
       "      <td>6832ce57</td>\n",
       "      <td>Rs 40000-crore development projects in limbo i...</td>\n",
       "      <td>http://www.moneycontrol.com/news/business/econ...</td>\n",
       "      <td>NEWS AIIB - All Streams</td>\n",
       "      <td>2017-12-10 09:40:00</td>\n",
       "      <td>None</td>\n",
       "      <td>None</td>\n",
       "      <td>None</td>\n",
       "      <td>None</td>\n",
       "      <td>None</td>\n",
       "      <td>None</td>\n",
       "      <td>None</td>\n",
       "      <td>None</td>\n",
       "      <td>None</td>\n",
       "      <td>None</td>\n",
       "    </tr>\n",
       "    <tr>\n",
       "      <th>1663</th>\n",
       "      <td>30f8f65e</td>\n",
       "      <td>https://www.the-american-interest.com/2018/01/...</td>\n",
       "      <td>https://www.the-american-interest.com/2018/01/...</td>\n",
       "      <td>NEWS AFDB- All Streams</td>\n",
       "      <td>2018-01-03 12:21:54</td>\n",
       "      <td>None</td>\n",
       "      <td>None</td>\n",
       "      <td>None</td>\n",
       "      <td>None</td>\n",
       "      <td>None</td>\n",
       "      <td>None</td>\n",
       "      <td>None</td>\n",
       "      <td>None</td>\n",
       "      <td>None</td>\n",
       "      <td>None</td>\n",
       "    </tr>\n",
       "    <tr>\n",
       "      <th>3789</th>\n",
       "      <td>5ec16472</td>\n",
       "      <td>$300 Million to Expand and Upgrade Infrastruct...</td>\n",
       "      <td>https://jis.gov.jm/300-million-to-expand-and-u...</td>\n",
       "      <td>NEWS IDB - All Streams</td>\n",
       "      <td>2018-04-27 16:28:43</td>\n",
       "      <td>None</td>\n",
       "      <td>None</td>\n",
       "      <td>None</td>\n",
       "      <td>None</td>\n",
       "      <td>None</td>\n",
       "      <td>None</td>\n",
       "      <td>None</td>\n",
       "      <td>None</td>\n",
       "      <td>None</td>\n",
       "      <td>None</td>\n",
       "    </tr>\n",
       "    <tr>\n",
       "      <th>6657</th>\n",
       "      <td>989c9942</td>\n",
       "      <td>ADB Provides $346 Million to Upgrade State Hig...</td>\n",
       "      <td>http://www.business-standard.com/article/news-...</td>\n",
       "      <td>NEWS ADB - All Streams</td>\n",
       "      <td>2017-12-10 01:00:00</td>\n",
       "      <td>None</td>\n",
       "      <td>None</td>\n",
       "      <td>None</td>\n",
       "      <td>None</td>\n",
       "      <td>None</td>\n",
       "      <td>None</td>\n",
       "      <td>None</td>\n",
       "      <td>None</td>\n",
       "      <td>None</td>\n",
       "      <td>None</td>\n",
       "    </tr>\n",
       "  </tbody>\n",
       "</table>\n",
       "</div>"
      ],
      "text/plain": [
       "      article_id                                              title  \\\n",
       "10900   eebb9702  India, World Bank sign financing agreement for...   \n",
       "4268    6832ce57  Rs 40000-crore development projects in limbo i...   \n",
       "1663    30f8f65e  https://www.the-american-interest.com/2018/01/...   \n",
       "3789    5ec16472  $300 Million to Expand and Upgrade Infrastruct...   \n",
       "6657    989c9942  ADB Provides $346 Million to Upgrade State Hig...   \n",
       "\n",
       "                                                     url  \\\n",
       "10900  http://www.abplive.in/business/india-world-ban...   \n",
       "4268   http://www.moneycontrol.com/news/business/econ...   \n",
       "1663   https://www.the-american-interest.com/2018/01/...   \n",
       "3789   https://jis.gov.jm/300-million-to-expand-and-u...   \n",
       "6657   http://www.business-standard.com/article/news-...   \n",
       "\n",
       "                    feed_label           published Bank1 Bank2 Country1  \\\n",
       "10900     NEWS WB- All Streams 2017-12-21 09:22:12  None  None     None   \n",
       "4268   NEWS AIIB - All Streams 2017-12-10 09:40:00  None  None     None   \n",
       "1663    NEWS AFDB- All Streams 2018-01-03 12:21:54  None  None     None   \n",
       "3789    NEWS IDB - All Streams 2018-04-27 16:28:43  None  None     None   \n",
       "6657    NEWS ADB - All Streams 2017-12-10 01:00:00  None  None     None   \n",
       "\n",
       "      Sectors cl_Sector top_sector ProjectNumber EWS Project Name  \\\n",
       "10900    None      None       None          None             None   \n",
       "4268     None      None       None          None             None   \n",
       "1663     None      None       None          None             None   \n",
       "3789     None      None       None          None             None   \n",
       "6657     None      None       None          None             None   \n",
       "\n",
       "      EWS hyperlink Matched  \n",
       "10900          None    None  \n",
       "4268           None    None  \n",
       "1663           None    None  \n",
       "3789           None    None  \n",
       "6657           None    None  "
      ]
     },
     "execution_count": 63,
     "metadata": {},
     "output_type": "execute_result"
    }
   ],
   "source": [
    "for_labeling.head()"
   ]
  },
  {
   "cell_type": "code",
   "execution_count": 64,
   "metadata": {},
   "outputs": [
    {
     "data": {
      "text/html": [
       "<div>\n",
       "<style scoped>\n",
       "    .dataframe tbody tr th:only-of-type {\n",
       "        vertical-align: middle;\n",
       "    }\n",
       "\n",
       "    .dataframe tbody tr th {\n",
       "        vertical-align: top;\n",
       "    }\n",
       "\n",
       "    .dataframe thead th {\n",
       "        text-align: right;\n",
       "    }\n",
       "</style>\n",
       "<table border=\"1\" class=\"dataframe\">\n",
       "  <thead>\n",
       "    <tr style=\"text-align: right;\">\n",
       "      <th></th>\n",
       "      <th>article_id</th>\n",
       "      <th>published</th>\n",
       "      <th>title</th>\n",
       "      <th>url</th>\n",
       "      <th>feed_label</th>\n",
       "      <th>ProjectNumber</th>\n",
       "      <th>EWS Project Name</th>\n",
       "      <th>EWS hyperlink</th>\n",
       "      <th>Matched</th>\n",
       "    </tr>\n",
       "  </thead>\n",
       "  <tbody>\n",
       "    <tr>\n",
       "      <th>0</th>\n",
       "      <td>10f9ed2</td>\n",
       "      <td>2018-01-11</td>\n",
       "      <td>ADB Provides Support for Three Infrastructure ...</td>\n",
       "      <td>http://moderndiplomacy.eu/2018/01/11/adb-provi...</td>\n",
       "      <td>NEWS ADB - All Streams</td>\n",
       "      <td>ADB-41123-015, ADB-48158-001, ADB-41435-053</td>\n",
       "      <td>Road Network Improvement Project (formerly Sec...</td>\n",
       "      <td>https://ewsdata.rightsindevelopment.org/projec...</td>\n",
       "      <td>1.0</td>\n",
       "    </tr>\n",
       "    <tr>\n",
       "      <th>1</th>\n",
       "      <td>c0eece9b</td>\n",
       "      <td>2018-05-13</td>\n",
       "      <td>ADB Helps Inaugurate New Power Distribution Ne...</td>\n",
       "      <td>http://feedproxy.google.com/~r/adb_news/~3/2My...</td>\n",
       "      <td>NEWS ADB - All Streams</td>\n",
       "      <td>ADB-47282-001</td>\n",
       "      <td>Energy Supply Improvement Investment Program (...</td>\n",
       "      <td>https://ewsdata.rightsindevelopment.org/projec...</td>\n",
       "      <td>1.0</td>\n",
       "    </tr>\n",
       "    <tr>\n",
       "      <th>2</th>\n",
       "      <td>d1d79dd8</td>\n",
       "      <td>2018-02-20</td>\n",
       "      <td>ADB Provides $360 Million for Rolling Stock to...</td>\n",
       "      <td>http://feedproxy.google.com/~r/adb_news/~3/v9s...</td>\n",
       "      <td>NEWS ADB - All Streams</td>\n",
       "      <td>ADB-50312-003</td>\n",
       "      <td>Railway Rolling Stock Operations Improvement P...</td>\n",
       "      <td>https://ewsdata.rightsindevelopment.org/projec...</td>\n",
       "      <td>1.0</td>\n",
       "    </tr>\n",
       "    <tr>\n",
       "      <th>3</th>\n",
       "      <td>f0d65e5</td>\n",
       "      <td>2018-02-25</td>\n",
       "      <td>ADB provides financing to Thailand's B.Grimm P...</td>\n",
       "      <td>https://www.dealstreetasia.com/stories/adb-b-g...</td>\n",
       "      <td>NEWS ADB - All Streams</td>\n",
       "      <td>ADB-50410-001</td>\n",
       "      <td>ASEAN Distributed Power Project: Initial Pover...</td>\n",
       "      <td>https://ewsdata.rightsindevelopment.org/projec...</td>\n",
       "      <td>1.0</td>\n",
       "    </tr>\n",
       "    <tr>\n",
       "      <th>4</th>\n",
       "      <td>4a557358</td>\n",
       "      <td>2018-02-26</td>\n",
       "      <td>ADB's $235m loan to support B.Grimm Power expa...</td>\n",
       "      <td>https://www.power-technology.com/news/adbs-235...</td>\n",
       "      <td>NEWS ADB - All Streams</td>\n",
       "      <td>ADB-50410-001</td>\n",
       "      <td>ASEAN Distributed Power Project: Initial Pover...</td>\n",
       "      <td>https://ewsdata.rightsindevelopment.org/projec...</td>\n",
       "      <td>1.0</td>\n",
       "    </tr>\n",
       "  </tbody>\n",
       "</table>\n",
       "</div>"
      ],
      "text/plain": [
       "  article_id   published                                              title  \\\n",
       "0    10f9ed2  2018-01-11  ADB Provides Support for Three Infrastructure ...   \n",
       "1   c0eece9b  2018-05-13  ADB Helps Inaugurate New Power Distribution Ne...   \n",
       "2   d1d79dd8  2018-02-20  ADB Provides $360 Million for Rolling Stock to...   \n",
       "3    f0d65e5  2018-02-25  ADB provides financing to Thailand's B.Grimm P...   \n",
       "4   4a557358  2018-02-26  ADB's $235m loan to support B.Grimm Power expa...   \n",
       "\n",
       "                                                 url              feed_label  \\\n",
       "0  http://moderndiplomacy.eu/2018/01/11/adb-provi...  NEWS ADB - All Streams   \n",
       "1  http://feedproxy.google.com/~r/adb_news/~3/2My...  NEWS ADB - All Streams   \n",
       "2  http://feedproxy.google.com/~r/adb_news/~3/v9s...  NEWS ADB - All Streams   \n",
       "3  https://www.dealstreetasia.com/stories/adb-b-g...  NEWS ADB - All Streams   \n",
       "4  https://www.power-technology.com/news/adbs-235...  NEWS ADB - All Streams   \n",
       "\n",
       "                                 ProjectNumber  \\\n",
       "0  ADB-41123-015, ADB-48158-001, ADB-41435-053   \n",
       "1                                ADB-47282-001   \n",
       "2                                ADB-50312-003   \n",
       "3                                ADB-50410-001   \n",
       "4                                ADB-50410-001   \n",
       "\n",
       "                                    EWS Project Name  \\\n",
       "0  Road Network Improvement Project (formerly Sec...   \n",
       "1  Energy Supply Improvement Investment Program (...   \n",
       "2  Railway Rolling Stock Operations Improvement P...   \n",
       "3  ASEAN Distributed Power Project: Initial Pover...   \n",
       "4  ASEAN Distributed Power Project: Initial Pover...   \n",
       "\n",
       "                                       EWS hyperlink  Matched  \n",
       "0  https://ewsdata.rightsindevelopment.org/projec...      1.0  \n",
       "1  https://ewsdata.rightsindevelopment.org/projec...      1.0  \n",
       "2  https://ewsdata.rightsindevelopment.org/projec...      1.0  \n",
       "3  https://ewsdata.rightsindevelopment.org/projec...      1.0  \n",
       "4  https://ewsdata.rightsindevelopment.org/projec...      1.0  "
      ]
     },
     "execution_count": 64,
     "metadata": {},
     "output_type": "execute_result"
    }
   ],
   "source": [
    "labeled['projects.csv'].head()"
   ]
  },
  {
   "cell_type": "code",
   "execution_count": 65,
   "metadata": {},
   "outputs": [],
   "source": [
    "for_labeling.to_csv('../../Data/Manual_Labeling.csv')"
   ]
  },
  {
   "cell_type": "code",
   "execution_count": null,
   "metadata": {},
   "outputs": [],
   "source": []
  }
 ],
 "metadata": {
  "kernelspec": {
   "display_name": "my_py_3",
   "language": "python",
   "name": "my_py_3"
  },
  "language_info": {
   "codemirror_mode": {
    "name": "ipython",
    "version": 3
   },
   "file_extension": ".py",
   "mimetype": "text/x-python",
   "name": "python",
   "nbconvert_exporter": "python",
   "pygments_lexer": "ipython3",
   "version": "3.5.5"
  }
 },
 "nbformat": 4,
 "nbformat_minor": 2
}
