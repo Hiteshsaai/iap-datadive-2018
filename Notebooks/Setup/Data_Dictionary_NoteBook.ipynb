{
 "cells": [
  {
   "cell_type": "code",
   "execution_count": 2,
   "metadata": {},
   "outputs": [],
   "source": [
    "import pandas as pd\n",
    "import numpy as np\n",
    "import os\n",
    "from collections import Counter\n",
    "%matplotlib inline\n",
    "pd.set_option('max_rows',300)"
   ]
  },
  {
   "cell_type": "markdown",
   "metadata": {},
   "source": [
    "# Feedly Data "
   ]
  },
  {
   "cell_type": "code",
   "execution_count": 12,
   "metadata": {},
   "outputs": [],
   "source": [
    "feedly = pd.read_pickle('../../Data/Feedly_Processed_DF_cleaned.pkl')"
   ]
  },
  {
   "cell_type": "code",
   "execution_count": 13,
   "metadata": {},
   "outputs": [
    {
     "name": "stdout",
     "output_type": "stream",
     "text": [
      "article_id\n",
      "title\n",
      "url\n",
      "feed_label\n",
      "content\n",
      "published\n",
      "summary\n",
      "article_text\n",
      "article_keywords\n",
      "article_text_len\n",
      "top_lang\n"
     ]
    }
   ],
   "source": [
    "for i in feedly.columns:\n",
    "    print(i)"
   ]
  },
  {
   "cell_type": "markdown",
   "metadata": {},
   "source": [
    "## Feedly Data \n",
    "\n",
    "```\n",
    "article_id          : unique identifier for article (LINKING FIELD)\n",
    "title               : Title of article as provided by the feedly API\n",
    "url                 : url of article \n",
    "feed_label          : Label of the Feedly Feed (created by IAP)\n",
    "content             : article content - as provided by feedly API (sparsely populated)\n",
    "published           : date article was published \n",
    "summary             : summary info on article provided by feedly API \n",
    "article_text        : text of article as scraped from Newspaper3K library\n",
    "article_keywords    : keywords of article as calculated from Newspaper3K library\n",
    "article_text_len    : length of article text\n",
    "top_lang            : detected language (all english)\n",
    "```"
   ]
  },
  {
   "cell_type": "markdown",
   "metadata": {},
   "source": [
    "## Projects Data "
   ]
  },
  {
   "cell_type": "code",
   "execution_count": 14,
   "metadata": {},
   "outputs": [],
   "source": [
    "projects=pd.read_csv('../../Data/EWS_Published Project_Listing_DD.csv', encoding='ISO-8859-1')"
   ]
  },
  {
   "cell_type": "code",
   "execution_count": 16,
   "metadata": {},
   "outputs": [
    {
     "name": "stdout",
     "output_type": "stream",
     "text": [
      "EWS ID\n",
      "ProjectNumber\n",
      "Published\n",
      "Bank Risk Rating\n",
      "Project Status\n",
      "EWS URL\n",
      "Detailed Analysis URL\n",
      "Project Name\n",
      "City\n",
      "Country Count\n",
      "Country 1\n",
      "Country 2\n",
      "Country 3\n",
      "Country 4\n",
      "Country 5\n",
      "Country 6\n",
      "Country 7\n",
      "Country 8\n",
      "Country 9\n",
      "Country 10\n",
      "Country 11\n",
      "Country 12\n",
      "Borrower or Client\n",
      "Private Actor Count\n",
      "Private Actor 1\n",
      "Private Actor 2\n",
      "Private Actor 3\n",
      "Private Actor 4\n",
      "Private Actor 5\n",
      "Private Actor 6\n",
      "Private Actor 7\n",
      "Private Actor 8\n",
      "Private Actor 9\n",
      "Private Actor 10\n",
      "Private Actor 11\n",
      "Private Actor 12\n",
      "Private Actor 13\n",
      "Private Actor 14\n",
      "Private Actor 15\n",
      "Bank Count\n",
      "Bank 1\n",
      "Bank 2\n",
      "Bank 3\n",
      "Bank 4\n",
      "Bank 5\n",
      "Sector Count\n",
      "Sector 1\n",
      "Sector 2\n",
      "Sector 3\n",
      "Sector 4\n",
      "Sector 5\n",
      "Sector 6\n",
      "Sector 7\n",
      "Last Edited\n",
      "Date Scraped\n",
      "Date Disclosed\n",
      "Board Date\n",
      "Source URL\n",
      "Project Cost\n",
      "Investment Amount\n",
      "Project Description\n",
      "Contact Information\n"
     ]
    }
   ],
   "source": [
    "for i in projects.columns:\n",
    "    print(i)"
   ]
  },
  {
   "cell_type": "markdown",
   "metadata": {},
   "source": [
    "```\n",
    "EWS ID                 : ID used internally IAPs system (ignore)\n",
    "ProjectNumber          : ID used to match projects in this data to labeled projects (LINKING FIELD)\n",
    "Published              : Date projects was published to IAP system\n",
    "Bank Risk Rating       : Bank Risk Rating for project\n",
    "Project Status         : Project Status\n",
    "EWS URL                : URL on EWS system\n",
    "Detailed Analysis URL  : Detailed Analysis URL\n",
    "Project Name           : Project Name \n",
    "City                   : City of project (often null)\n",
    "Country Count          : Count of Countries involved in project\n",
    "Country 1              : First Country \n",
    "Country 2              : Second Country (if more than one)\n",
    "Country 3              : Third Country (if more than one)\n",
    "Country 4              : etc. (above)\n",
    "Country 5              : etc. (above)\n",
    "Country 6              : etc. (above)\n",
    "Country 7              : etc. (above)\n",
    "Country 8              : etc. (above)\n",
    "Country 9              : etc. (above)\n",
    "Country 10             : etc. (above)\n",
    "Country 11             : etc. (above)\n",
    "Country 12             : etc. (above)\n",
    "Borrower or Client     : Entity that \n",
    "Private Actor Count    : Count of Private Actors involved with project (often null)\n",
    "Private Actor 1        : First Private Actor\n",
    "Private Actor 2        : etc.\n",
    "Private Actor 3        : etc.\n",
    "Private Actor 4        : etc.\n",
    "...\n",
    "Bank Count             : Count of Banks Involved\n",
    "Bank 1                 : First Bank\n",
    "Bank 2                 : Second Bank \n",
    "Bank 3                 : etc.\n",
    "Bank 4                 : etc.\n",
    "Bank 5                 : etc.\n",
    "Sector Count           : Count of Relevant Sectors\n",
    "Sector 1               : First Sector\n",
    "Sector 2               : Second Sector\n",
    "Sector 3               : etc.\n",
    "Sector 4               : etc.\n",
    "Sector 5               : etc.\n",
    "Sector 6               : etc.\n",
    "Sector 7               : etc.\n",
    "Last Edited            : Date project information was last edited \n",
    "Date Scraped           : Date project information was scraped\n",
    "Date Disclosed         : Date the project was disclosed by bank\n",
    "Board Date             : Date the board will vote/review.\n",
    "Source URL             : Scrape url\n",
    "Project Cost           : Project Cost\n",
    "Investment Amount      : Amount expeted to be invested by bank\n",
    "Project Description    : Text description of project (USEFUL !!)\n",
    "Contact Information    : More text description of contacts for the bank\n",
    "```\n"
   ]
  },
  {
   "cell_type": "markdown",
   "metadata": {},
   "source": [
    "## Labeled Data "
   ]
  },
  {
   "cell_type": "code",
   "execution_count": 32,
   "metadata": {},
   "outputs": [],
   "source": [
    "import os\n",
    "from os import path\n",
    "labeled_data = {}\n",
    "pth = '../../Data/Labeled_Data'\n",
    "for f in os.listdir(pth):\n",
    "    labeled_data[f] = pd.read_csv(path.join(pth,f))"
   ]
  },
  {
   "cell_type": "markdown",
   "metadata": {},
   "source": [
    "### Banks "
   ]
  },
  {
   "cell_type": "code",
   "execution_count": 33,
   "metadata": {},
   "outputs": [
    {
     "name": "stdout",
     "output_type": "stream",
     "text": [
      "article_id\n",
      "published\n",
      "title\n",
      "url\n",
      "feed_label\n",
      "Bank1\n",
      "Bank2\n"
     ]
    }
   ],
   "source": [
    "for i in labeled_data['banks.csv'].columns:\n",
    "    print(i)"
   ]
  },
  {
   "cell_type": "markdown",
   "metadata": {},
   "source": [
    "```\n",
    "article_id     : unique identifier for article (LINKING FIELD)\n",
    "published      : date article was published\n",
    "title          : Title of article as provided by the feedly API\n",
    "url            : url of article \n",
    "feed_label     : Label of the Feedly Feed (created by IAP)\n",
    "Bank1          : Bank associated with article\n",
    "Bank2          : Second bank associated with article\n",
    "```"
   ]
  },
  {
   "cell_type": "markdown",
   "metadata": {},
   "source": [
    "### Sectors "
   ]
  },
  {
   "cell_type": "code",
   "execution_count": 34,
   "metadata": {},
   "outputs": [
    {
     "name": "stdout",
     "output_type": "stream",
     "text": [
      "article_id\n",
      "published\n",
      "title\n",
      "url\n",
      "feed_label\n",
      "Sectors\n",
      "cl_Sector\n",
      "top_sector\n"
     ]
    }
   ],
   "source": [
    "for i in labeled_data['sectors.csv'].columns:\n",
    "    print(i)"
   ]
  },
  {
   "cell_type": "markdown",
   "metadata": {},
   "source": [
    "```\n",
    "article_id     : unique identifier for article (LINKING FIELD)\n",
    "published      : date article was published\n",
    "title          : Title of article as provided by the feedly API\n",
    "url            : url of article \n",
    "feed_label     : Label of the Feedly Feed (created by IAP)\n",
    "Sectors        : Sector(s) associated with article\n",
    "cl_Sector      : Sector(s) but lowercased and whitespace stripped\n",
    "top_sector     : First sector if multiple, or just the one sector listed. \n",
    "```"
   ]
  },
  {
   "cell_type": "markdown",
   "metadata": {},
   "source": [
    "### Countries"
   ]
  },
  {
   "cell_type": "code",
   "execution_count": 35,
   "metadata": {},
   "outputs": [
    {
     "name": "stdout",
     "output_type": "stream",
     "text": [
      "article_id\n",
      "published\n",
      "title\n",
      "url\n",
      "feed_label\n",
      "Country1\n"
     ]
    }
   ],
   "source": [
    "for i in labeled_data['countries.csv'].columns:\n",
    "    print(i)"
   ]
  },
  {
   "cell_type": "markdown",
   "metadata": {},
   "source": [
    "```\n",
    "article_id     : unique identifier for article (LINKING FIELD)\n",
    "published      : date article was published\n",
    "title          : Title of article as provided by the feedly API\n",
    "url            : url of article \n",
    "feed_label     : Label of the Feedly Feed (created by IAP)\n",
    "Country1       : Country(possibly more) associated with article\n",
    "```"
   ]
  },
  {
   "cell_type": "markdown",
   "metadata": {},
   "source": [
    "**Labeled Projects**"
   ]
  },
  {
   "cell_type": "code",
   "execution_count": 36,
   "metadata": {},
   "outputs": [
    {
     "name": "stdout",
     "output_type": "stream",
     "text": [
      "article_id\n",
      "published\n",
      "title\n",
      "url\n",
      "feed_label\n",
      "ProjectNumber\n",
      "EWS Project Name\n",
      "EWS hyperlink\n",
      "Matched\n"
     ]
    }
   ],
   "source": [
    "for i in labeled_data['projects.csv'].columns:\n",
    "    print(i)"
   ]
  },
  {
   "cell_type": "markdown",
   "metadata": {},
   "source": [
    "```\n",
    "article_id       : unique identifier for article (LINKING FIELD)\n",
    "published        : date article was published\n",
    "title            : Title of article as provided by the feedly API\n",
    "url              : url of article \n",
    "feed_label       : Label of the Feedly Feed (created by IAP)\n",
    "ProjectNumber    : Project ID number in EWS System (LINKING FIELD)\n",
    "EWS Project Name : Project Name in EWS System\n",
    "EWS hyperlink    : Link to Project in EWS System\n",
    "Matched          : !IMPORTANT! Indicates if project is matched to article, 1 = match exists, 0 article has no \\\n",
    "                    matching project. Not all articles will match a project.  \n",
    "```"
   ]
  },
  {
   "cell_type": "markdown",
   "metadata": {},
   "source": [
    "# End"
   ]
  }
 ],
 "metadata": {
  "kernelspec": {
   "display_name": "my_py_3",
   "language": "python",
   "name": "my_py_3"
  },
  "language_info": {
   "codemirror_mode": {
    "name": "ipython",
    "version": 3
   },
   "file_extension": ".py",
   "mimetype": "text/x-python",
   "name": "python",
   "nbconvert_exporter": "python",
   "pygments_lexer": "ipython3",
   "version": "3.5.5"
  }
 },
 "nbformat": 4,
 "nbformat_minor": 2
}
