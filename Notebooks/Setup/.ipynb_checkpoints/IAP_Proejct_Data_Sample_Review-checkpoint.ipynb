{
 "cells": [
  {
   "cell_type": "markdown",
   "metadata": {},
   "source": [
    "# Project Data Sample Review "
   ]
  },
  {
   "cell_type": "code",
   "execution_count": 1,
   "metadata": {},
   "outputs": [],
   "source": [
    "import pandas as pd\n",
    "import numpy as np\n",
    "import os\n",
    "from collections import Counter\n",
    "%matplotlib inline\n",
    "pd.set_option('max_rows',300)"
   ]
  },
  {
   "cell_type": "code",
   "execution_count": 4,
   "metadata": {},
   "outputs": [],
   "source": [
    "projects=pd.read_csv('../../Data/EWS_Published Project_Listing_DD.csv', encoding='ISO-8859-1')\n",
    "projects = projects[projects['EWS ID'].notnull()]"
   ]
  },
  {
   "cell_type": "code",
   "execution_count": 5,
   "metadata": {},
   "outputs": [
    {
     "data": {
      "text/plain": [
       "(6847, 62)"
      ]
     },
     "execution_count": 5,
     "metadata": {},
     "output_type": "execute_result"
    }
   ],
   "source": [
    "projects.shape"
   ]
  },
  {
   "cell_type": "markdown",
   "metadata": {},
   "source": [
    "** Null Check **"
   ]
  },
  {
   "cell_type": "code",
   "execution_count": 6,
   "metadata": {},
   "outputs": [
    {
     "data": {
      "text/plain": [
       "EWS ID                   1.000000\n",
       "ProjectNumber            0.998832\n",
       "Published                0.998832\n",
       "Bank Risk Rating         0.998832\n",
       "Project Status           0.936469\n",
       "EWS URL                  0.998832\n",
       "Detailed Analysis URL    0.000000\n",
       "Project Name             0.998686\n",
       "City                     0.169563\n",
       "Country Count            0.998832\n",
       "Country 1                0.908719\n",
       "Country 2                0.035782\n",
       "Country 3                0.019863\n",
       "Country 4                0.011830\n",
       "Country 5                0.007741\n",
       "Country 6                0.005112\n",
       "Country 7                0.003359\n",
       "Country 8                0.001899\n",
       "Country 9                0.001607\n",
       "Country 10               0.001460\n",
       "Country 11               0.001022\n",
       "Country 12               0.000584\n",
       "Borrower or Client       0.760917\n",
       "Private Actor Count      0.997955\n",
       "Private Actor 1          0.077114\n",
       "Private Actor 2          0.017964\n",
       "Private Actor 3          0.006572\n",
       "Private Actor 4          0.003067\n",
       "Private Actor 5          0.002191\n",
       "Private Actor 6          0.000876\n",
       "Private Actor 7          0.000146\n",
       "Private Actor 8          0.000146\n",
       "Private Actor 9          0.000000\n",
       "Private Actor 10         0.000000\n",
       "Private Actor 11         0.000000\n",
       "Private Actor 12         0.000000\n",
       "Private Actor 13         0.000000\n",
       "Private Actor 14         0.000000\n",
       "Private Actor 15         0.000000\n",
       "Bank Count               0.998832\n",
       "Bank 1                   0.998832\n",
       "Bank 2                   0.009347\n",
       "Bank 3                   0.001753\n",
       "Bank 4                   0.000584\n",
       "Bank 5                   0.000000\n",
       "Sector Count             0.998832\n",
       "Sector 1                 0.822696\n",
       "Sector 2                 0.311815\n",
       "Sector 3                 0.096539\n",
       "Sector 4                 0.024098\n",
       "Sector 5                 0.006572\n",
       "Sector 6                 0.002045\n",
       "Sector 7                 0.000438\n",
       "Last Edited              0.895429\n",
       "Date Scraped             0.998832\n",
       "Date Disclosed           0.811304\n",
       "Board Date               0.794362\n",
       "Source URL               0.997663\n",
       "Project Cost             0.660873\n",
       "Investment Amount        0.864904\n",
       "Project Description      0.891193\n",
       "Contact Information      0.855557\n",
       "dtype: float64"
      ]
     },
     "execution_count": 6,
     "metadata": {},
     "output_type": "execute_result"
    }
   ],
   "source": [
    "projects.count()/len(projects.index)"
   ]
  },
  {
   "cell_type": "markdown",
   "metadata": {},
   "source": [
    "## Project Description Column will Likely Be most Useful for Matching "
   ]
  },
  {
   "cell_type": "markdown",
   "metadata": {},
   "source": [
    "**Notes**\n",
    "    * Some descriptions are pretty short - not sure how easy it will be to match to those\n",
    "    * Some of the other fields will likely be useful (Country, Borrower or Client, etc.)"
   ]
  },
  {
   "cell_type": "code",
   "execution_count": 7,
   "metadata": {},
   "outputs": [],
   "source": [
    "# for i in projects.sample(15)['Project Description']:\n",
    "#     print(i)\n",
    "#     print('*****\\n')"
   ]
  },
  {
   "cell_type": "markdown",
   "metadata": {},
   "source": [
    "## Looking at the Sector Data \n",
    "\n",
    "This could be a dataset that could help in the tagging of the news articles with (Sector Infortmation)"
   ]
  },
  {
   "cell_type": "code",
   "execution_count": 8,
   "metadata": {},
   "outputs": [],
   "source": [
    "def get_category_cols(category, additional_removes=None):\n",
    "    cols = [i for i in projects.columns if category in i]\n",
    "    cols.remove(category + ' Count')\n",
    "    if additional_removes:\n",
    "        [cols.remove(i) for i in additional_removes]\n",
    "    return cols\n",
    "\n",
    "sector_cols = get_category_cols('Sector')   \n",
    "all_sectors = projects[sector_cols].as_matrix().flatten()\n"
   ]
  },
  {
   "cell_type": "code",
   "execution_count": 9,
   "metadata": {},
   "outputs": [
    {
     "name": "stdout",
     "output_type": "stream",
     "text": [
      "Agriculture and Forestry\n",
      "nan\n",
      "Infrastructure\n",
      "Transport\n",
      "Construction\n",
      "Humanitarian Response\n",
      "Industry and Trade\n",
      "Water and Sanitation\n",
      "Education and Health\n",
      "Law and Government\n",
      "Energy\n",
      "Hydropower\n",
      "Climate and Environment\n",
      "Finance\n",
      "Mining\n",
      "Communications\n",
      "Technical Cooperation\n"
     ]
    }
   ],
   "source": [
    "for i in Counter(all_sectors): print(i)"
   ]
  },
  {
   "cell_type": "markdown",
   "metadata": {},
   "source": [
    "# NOTE "
   ]
  },
  {
   "cell_type": "markdown",
   "metadata": {},
   "source": [
    "Might be able to use this to also classify the Bank and Country "
   ]
  },
  {
   "cell_type": "markdown",
   "metadata": {},
   "source": [
    "**Countries**"
   ]
  },
  {
   "cell_type": "code",
   "execution_count": 10,
   "metadata": {},
   "outputs": [
    {
     "name": "stdout",
     "output_type": "stream",
     "text": [
      "180\n"
     ]
    },
    {
     "data": {
      "text/plain": [
       "Counter({'Afghanistan': 48,\n",
       "         'Albania': 27,\n",
       "         'Algeria': 3,\n",
       "         'Angola': 8,\n",
       "         'Argentina': 163,\n",
       "         'Armenia': 50,\n",
       "         'Austria': 24,\n",
       "         'Azerbaijan': 31,\n",
       "         'Bahamas': 30,\n",
       "         'Bangladesh': 140,\n",
       "         'Barbados': 14,\n",
       "         'Belarus': 17,\n",
       "         'Belgium': 25,\n",
       "         'Belize': 17,\n",
       "         'Benin': 13,\n",
       "         'Bhutan': 36,\n",
       "         'Bolivia': 106,\n",
       "         'Bosnia and Herzegovina': 34,\n",
       "         'Botswana': 5,\n",
       "         'Brazil': 213,\n",
       "         'Bulgaria': 22,\n",
       "         'Burkina Faso': 23,\n",
       "         'Burundi': 9,\n",
       "         'Cambodia': 72,\n",
       "         'Cameroon': 26,\n",
       "         'Canada': 1,\n",
       "         'Cape Verde': 6,\n",
       "         'Central African Republic': 16,\n",
       "         'Chad': 17,\n",
       "         'Chile': 82,\n",
       "         'China': 255,\n",
       "         'Colombia': 168,\n",
       "         'Comoros': 2,\n",
       "         'Congo, Democratic Republic of': 26,\n",
       "         'Congo, Republic of': 9,\n",
       "         'Cook Islands': 1,\n",
       "         'Costa Rica': 49,\n",
       "         'Croatia': 37,\n",
       "         'Cyprus': 5,\n",
       "         'Czech Republic': 26,\n",
       "         'Denmark': 21,\n",
       "         'Djibouti': 10,\n",
       "         'Dominica': 3,\n",
       "         'Dominican Republic': 47,\n",
       "         'Ecuador': 113,\n",
       "         'Egypt': 134,\n",
       "         'El Salvador': 43,\n",
       "         'Equatorial Guinea': 2,\n",
       "         'Estonia': 5,\n",
       "         'Ethiopia': 37,\n",
       "         'Fiji': 20,\n",
       "         'Finland': 32,\n",
       "         'France': 104,\n",
       "         'Gabon': 7,\n",
       "         'Gambia': 8,\n",
       "         'Georgia': 82,\n",
       "         'Germany': 72,\n",
       "         'Ghana': 44,\n",
       "         'Greece': 59,\n",
       "         'Grenada': 3,\n",
       "         'Guatemala': 51,\n",
       "         'Guinea': 17,\n",
       "         'Guinea-Bissau': 6,\n",
       "         'Guyana': 42,\n",
       "         'Haiti': 50,\n",
       "         'Honduras': 61,\n",
       "         'Hungary': 25,\n",
       "         'Iceland': 2,\n",
       "         'India': 291,\n",
       "         'Indonesia': 103,\n",
       "         'Iraq': 11,\n",
       "         'Ireland': 20,\n",
       "         'Italy': 118,\n",
       "         'Ivory Coast': 34,\n",
       "         'Jamaica': 50,\n",
       "         'Japan': 1,\n",
       "         'Jordan': 53,\n",
       "         'Kazakhstan': 65,\n",
       "         'Kenya': 64,\n",
       "         'Kiribati': 11,\n",
       "         'Kosovo': 15,\n",
       "         'Kyrgyzstan': 38,\n",
       "         'Laos': 44,\n",
       "         'Latvia': 10,\n",
       "         'Lebanon': 26,\n",
       "         'Lesotho': 9,\n",
       "         'Liberia': 20,\n",
       "         'Lithuania': 11,\n",
       "         'Luxembourg': 4,\n",
       "         'Macedonia': 7,\n",
       "         'Madagascar': 29,\n",
       "         'Malawi': 17,\n",
       "         'Malaysia': 6,\n",
       "         'Maldives': 12,\n",
       "         'Mali': 22,\n",
       "         'Malta': 4,\n",
       "         'Marshall Islands': 11,\n",
       "         'Mauritania': 9,\n",
       "         'Mauritius': 6,\n",
       "         'Mexico': 137,\n",
       "         'Micronesia': 7,\n",
       "         'Moldova': 23,\n",
       "         'Mongolia': 104,\n",
       "         'Montenegro': 17,\n",
       "         'Morocco': 34,\n",
       "         'Mozambique': 16,\n",
       "         'Myanmar': 85,\n",
       "         'Namibia': 8,\n",
       "         'Nauru': 9,\n",
       "         'Nepal': 47,\n",
       "         'Netherlands': 38,\n",
       "         'New Caledonia': 1,\n",
       "         'Nicaragua': 69,\n",
       "         'Niger': 12,\n",
       "         'Nigeria': 59,\n",
       "         'Norway': 3,\n",
       "         'Oman': 3,\n",
       "         'Pakistan': 130,\n",
       "         'Palau': 5,\n",
       "         'Palestine, West Bank, Gaza': 15,\n",
       "         'Panama': 66,\n",
       "         'Papua New Guinea': 24,\n",
       "         'Paraguay': 91,\n",
       "         'Peru': 129,\n",
       "         'Philippines': 71,\n",
       "         'Poland': 118,\n",
       "         'Portugal': 32,\n",
       "         'Romania': 67,\n",
       "         'Russia': 5,\n",
       "         'Rwanda': 36,\n",
       "         'Samoa': 13,\n",
       "         'Sao Tome and Principe': 6,\n",
       "         'Saudi Arabia': 2,\n",
       "         'Senegal': 40,\n",
       "         'Serbia': 41,\n",
       "         'Seychelles': 1,\n",
       "         'Sierra Leone': 19,\n",
       "         'Singapore': 4,\n",
       "         'Slovakia': 22,\n",
       "         'Slovenia': 9,\n",
       "         'Solomon Islands': 24,\n",
       "         'Somalia': 7,\n",
       "         'South Africa': 42,\n",
       "         'South Korea': 1,\n",
       "         'South Sudan': 8,\n",
       "         'Spain': 105,\n",
       "         'Sri Lanka': 74,\n",
       "         'St. Lucia': 3,\n",
       "         'St. Vincent and the Grenadines': 2,\n",
       "         'Sudan': 3,\n",
       "         'Suriname': 25,\n",
       "         'Swaziland': 3,\n",
       "         'Sweden': 26,\n",
       "         'Switzerland': 1,\n",
       "         'Taiwan': 1,\n",
       "         'Tajikistan': 49,\n",
       "         'Tanzania': 34,\n",
       "         'Thailand': 22,\n",
       "         'Timor-Leste': 14,\n",
       "         'Togo': 12,\n",
       "         'Tonga': 16,\n",
       "         'Trinidad and Tobago': 9,\n",
       "         'Tunisia': 40,\n",
       "         'Turkey': 150,\n",
       "         'Turkmenistan': 9,\n",
       "         'Tuvalu': 10,\n",
       "         'Uganda': 30,\n",
       "         'Ukraine': 56,\n",
       "         'United Arab Emirates': 1,\n",
       "         'United Kingdom': 30,\n",
       "         'United States of America': 1,\n",
       "         'Uruguay': 82,\n",
       "         'Uzbekistan': 66,\n",
       "         'Vanuatu': 16,\n",
       "         'Venezuela': 9,\n",
       "         'Vietnam': 105,\n",
       "         'Yemen': 9,\n",
       "         'Zambia': 40,\n",
       "         'Zimbabwe': 10,\n",
       "         nan: 75324})"
      ]
     },
     "execution_count": 10,
     "metadata": {},
     "output_type": "execute_result"
    }
   ],
   "source": [
    "country_cols = get_category_cols('Country')\n",
    "all_countries = projects[country_cols].as_matrix().flatten()\n",
    "country_counter = Counter(all_countries)\n",
    "print(len(country_counter))\n",
    "country_counter"
   ]
  },
  {
   "cell_type": "markdown",
   "metadata": {},
   "source": [
    "**Banks**"
   ]
  },
  {
   "cell_type": "code",
   "execution_count": 11,
   "metadata": {},
   "outputs": [
    {
     "name": "stdout",
     "output_type": "stream",
     "text": [
      "13\n"
     ]
    },
    {
     "data": {
      "text/plain": [
       "Counter({'African Development Bank (AFDB)': 86,\n",
       "         'Asian Development Bank (ADB)': 1159,\n",
       "         'Asian Infrastructure Investment Bank (AIIB)': 62,\n",
       "         'European Bank for Reconstruction and Development (EBRD)': 496,\n",
       "         'European Investment Bank (EIB)': 1029,\n",
       "         'Green Climate Fund (GCF)': 72,\n",
       "         'Inter-American Development Bank (IADB)': 1585,\n",
       "         'Inter-American Investment Corporation (IIC)': 135,\n",
       "         'International Finance Corporation (IFC)': 1057,\n",
       "         'Multilateral Investment Guarantee Agency (MIGA)': 88,\n",
       "         'Netherlands Development Finance Company (FMO)': 249,\n",
       "         'New Development Bank (NDB)': 13,\n",
       "         'World Bank (WB)': 888})"
      ]
     },
     "execution_count": 11,
     "metadata": {},
     "output_type": "execute_result"
    }
   ],
   "source": [
    "banks_cols = get_category_cols('Bank', ['Bank Risk Rating'])\n",
    "all_banks = projects[banks_cols].as_matrix().flatten()\n",
    "all_banks = [i for i  in all_banks if  pd.notnull(i)] ## Something weird with the nulls in this one. \n",
    "banks_counter = Counter(all_banks)\n",
    "print(len(banks_counter))\n",
    "banks_counter"
   ]
  },
  {
   "cell_type": "code",
   "execution_count": 12,
   "metadata": {},
   "outputs": [
    {
     "name": "stdout",
     "output_type": "stream",
     "text": [
      "World Bank (WB)\n",
      "Inter-American Investment Corporation (IIC)\n",
      "African Development Bank (AFDB)\n",
      "New Development Bank (NDB)\n",
      "Asian Infrastructure Investment Bank (AIIB)\n",
      "Green Climate Fund (GCF)\n",
      "Multilateral Investment Guarantee Agency (MIGA)\n",
      "Inter-American Development Bank (IADB)\n",
      "European Bank for Reconstruction and Development (EBRD)\n",
      "European Investment Bank (EIB)\n",
      "Netherlands Development Finance Company (FMO)\n",
      "Asian Development Bank (ADB)\n",
      "International Finance Corporation (IFC)\n"
     ]
    }
   ],
   "source": [
    "for b in banks_counter: print(b)"
   ]
  },
  {
   "cell_type": "markdown",
   "metadata": {},
   "source": [
    "------------"
   ]
  },
  {
   "cell_type": "markdown",
   "metadata": {},
   "source": [
    "# Compare to the Labeled Data "
   ]
  },
  {
   "cell_type": "code",
   "execution_count": 14,
   "metadata": {},
   "outputs": [],
   "source": [
    "feedly = pd.read_pickle('../../Data/Feedly_Processed_DF_cleaned.pkl')"
   ]
  },
  {
   "cell_type": "code",
   "execution_count": 18,
   "metadata": {},
   "outputs": [],
   "source": [
    "labels = pd.read_excel('../../Data/SetupData/Feedly_Labeled_Data.xlsx')"
   ]
  },
  {
   "cell_type": "code",
   "execution_count": 19,
   "metadata": {},
   "outputs": [
    {
     "name": "stdout",
     "output_type": "stream",
     "text": [
      "(433, 16)\n"
     ]
    }
   ],
   "source": [
    "labels = labels[labels.article_id.isin(feedly.article_id)]\n",
    "print(labels.shape)"
   ]
  },
  {
   "cell_type": "markdown",
   "metadata": {},
   "source": [
    "-----------"
   ]
  },
  {
   "cell_type": "markdown",
   "metadata": {},
   "source": [
    "## Projects "
   ]
  },
  {
   "cell_type": "markdown",
   "metadata": {},
   "source": [
    "**Valid EWS HyperLink**"
   ]
  },
  {
   "cell_type": "markdown",
   "metadata": {},
   "source": [
    "We have some repeat projects "
   ]
  },
  {
   "cell_type": "code",
   "execution_count": 20,
   "metadata": {},
   "outputs": [
    {
     "data": {
      "text/plain": [
       "https://ewsdata.rightsindevelopment.org/projects/20150676-tanap-trans-anatolian-natural-gas-pipeline/                                                                                                                                                                                                 16\n",
       "https://ewsdata.rightsindevelopment.org/projects/50410-001-asean-distributed-power-project-initial-poverty-a/                                                                                                                                                                                          6\n",
       "https://ewsdata.rightsindevelopment.org/projects/00057-bangladesh-bhola-ipp/                                                                                                                                                                                                                           6\n",
       "https://ewsdata.rightsindevelopment.org/projects/000015-bangladesh-natural-gas-infrastructure-and-efficie/; https://ewsdata.rightsindevelopment.org/projects/0003-bangladesh-distribution-system-upgrade-and-expans/; https://ewsdata.rightsindevelopment.org/projects/00057-bangladesh-bhola-ipp/     4\n",
       "https://ewsdata.rightsindevelopment.org/projects/p146330-ng-electricity-transmission-project/                                                                                                                                                                                                          3\n",
       "Name: EWS hyperlink, dtype: int64"
      ]
     },
     "execution_count": 20,
     "metadata": {},
     "output_type": "execute_result"
    }
   ],
   "source": [
    "labels[(labels['EWS hyperlink'].notnull()) & (labels['EWS hyperlink'].str.contains('//ews')) ]['EWS hyperlink'].value_counts().head()"
   ]
  },
  {
   "cell_type": "markdown",
   "metadata": {},
   "source": [
    "We have this Many Unique Projects that were matched to Articles "
   ]
  },
  {
   "cell_type": "code",
   "execution_count": 21,
   "metadata": {},
   "outputs": [
    {
     "data": {
      "text/plain": [
       "41"
      ]
     },
     "execution_count": 21,
     "metadata": {},
     "output_type": "execute_result"
    }
   ],
   "source": [
    "labels[(labels['EWS hyperlink'].notnull()) & (labels['EWS hyperlink'].str.contains('//ews')) ]['EWS hyperlink'].nunique()"
   ]
  },
  {
   "cell_type": "code",
   "execution_count": 22,
   "metadata": {},
   "outputs": [
    {
     "name": "stdout",
     "output_type": "stream",
     "text": [
      "(112, 16)\n"
     ]
    }
   ],
   "source": [
    "project_labeled_data = labels.copy(deep=True)\n",
    "project_labeled_data = project_labeled_data[project_labeled_data.Matched.notnull()]\n",
    "print(project_labeled_data.shape)"
   ]
  },
  {
   "cell_type": "markdown",
   "metadata": {},
   "source": [
    "### Clean the ID Columns for unmatched Projects "
   ]
  },
  {
   "cell_type": "code",
   "execution_count": 23,
   "metadata": {},
   "outputs": [],
   "source": [
    "project_labeled_data.loc[project_labeled_data.Matched == 0,'Projects(EWSProjectID)'] = np.nan\n",
    "project_labeled_data.loc[project_labeled_data.Matched == 0,'EWS Project Name'] = np.nan\n",
    "project_labeled_data.loc[project_labeled_data.Matched == 0,'EWS hyperlink'] = np.nan\n",
    "\n"
   ]
  },
  {
   "cell_type": "markdown",
   "metadata": {},
   "source": [
    "**Process to Check How Many We can Match ** "
   ]
  },
  {
   "cell_type": "code",
   "execution_count": 24,
   "metadata": {},
   "outputs": [],
   "source": [
    "project_labels = project_labeled_data[project_labeled_data.Matched ==1]\n",
    "project_labels = project_labels[project_labels['EWS hyperlink'].str.contains('https://ews')]"
   ]
  },
  {
   "cell_type": "code",
   "execution_count": 25,
   "metadata": {},
   "outputs": [],
   "source": [
    "project_ids = []\n",
    "for i in project_labels['Projects(EWSProjectID)']:\n",
    "    project_ids += [j.strip() for j in  i.split(',')]"
   ]
  },
  {
   "cell_type": "code",
   "execution_count": 26,
   "metadata": {},
   "outputs": [
    {
     "name": "stdout",
     "output_type": "stream",
     "text": [
      "46\n"
     ]
    }
   ],
   "source": [
    "project_ids = list(set(project_ids))\n",
    "print(len(project_ids))"
   ]
  },
  {
   "cell_type": "code",
   "execution_count": 27,
   "metadata": {},
   "outputs": [
    {
     "name": "stdout",
     "output_type": "stream",
     "text": [
      "46 are matched\n"
     ]
    }
   ],
   "source": [
    "print(len(set(project_ids) & set(projects.ProjectNumber.unique())), 'are matched')"
   ]
  },
  {
   "cell_type": "markdown",
   "metadata": {},
   "source": [
    "-----------"
   ]
  },
  {
   "cell_type": "markdown",
   "metadata": {},
   "source": [
    "# Sector "
   ]
  },
  {
   "cell_type": "markdown",
   "metadata": {},
   "source": [
    "```Communications\n",
    "Construction\n",
    "Hydropower\n",
    "Infrastructure\n",
    "Education and Health\n",
    "Law and Government\n",
    "Energy\n",
    "Agriculture and Forestry\n",
    "Finance\n",
    "Climate and Environment\n",
    "Humanitarian Response\n",
    "Water and Sanitation\n",
    "Industry and Trade\n",
    "Mining\n",
    "Technical Cooperation\n",
    "Transport```"
   ]
  },
  {
   "cell_type": "code",
   "execution_count": 28,
   "metadata": {},
   "outputs": [],
   "source": [
    "def clean(x):\n",
    "    try:\n",
    "        return x.lower().strip()\n",
    "    except:\n",
    "        return 'NA'"
   ]
  },
  {
   "cell_type": "code",
   "execution_count": 29,
   "metadata": {},
   "outputs": [],
   "source": [
    "sector_data = labels[labels.Sectors.notnull()].copy(deep=True)\n",
    "sector_data.loc[:,'cl_Sector'] = sector_data.Sectors.apply(clean)\n",
    "\n",
    "sector_dict={0:'MISC','not a project':'MISC','NA':'MISC'}\n",
    "for k in sector_dict:\n",
    "    sector_data.loc[sector_data.cl_Sector == k, 'cl_Sector'] = sector_dict[k]\n"
   ]
  },
  {
   "cell_type": "code",
   "execution_count": 30,
   "metadata": {},
   "outputs": [
    {
     "data": {
      "text/html": [
       "<div>\n",
       "<style scoped>\n",
       "    .dataframe tbody tr th:only-of-type {\n",
       "        vertical-align: middle;\n",
       "    }\n",
       "\n",
       "    .dataframe tbody tr th {\n",
       "        vertical-align: top;\n",
       "    }\n",
       "\n",
       "    .dataframe thead th {\n",
       "        text-align: right;\n",
       "    }\n",
       "</style>\n",
       "<table border=\"1\" class=\"dataframe\">\n",
       "  <thead>\n",
       "    <tr style=\"text-align: right;\">\n",
       "      <th></th>\n",
       "      <th>Sectors</th>\n",
       "      <th>cl_Sector</th>\n",
       "    </tr>\n",
       "  </thead>\n",
       "  <tbody>\n",
       "    <tr>\n",
       "      <th>0</th>\n",
       "      <td>Infrastructure</td>\n",
       "      <td>infrastructure</td>\n",
       "    </tr>\n",
       "    <tr>\n",
       "      <th>1</th>\n",
       "      <td>Energy</td>\n",
       "      <td>energy</td>\n",
       "    </tr>\n",
       "    <tr>\n",
       "      <th>3</th>\n",
       "      <td>Transport</td>\n",
       "      <td>transport</td>\n",
       "    </tr>\n",
       "    <tr>\n",
       "      <th>4</th>\n",
       "      <td>Construction, Finance</td>\n",
       "      <td>construction, finance</td>\n",
       "    </tr>\n",
       "    <tr>\n",
       "      <th>5</th>\n",
       "      <td>Construction, Finance</td>\n",
       "      <td>construction, finance</td>\n",
       "    </tr>\n",
       "  </tbody>\n",
       "</table>\n",
       "</div>"
      ],
      "text/plain": [
       "                 Sectors              cl_Sector\n",
       "0         Infrastructure         infrastructure\n",
       "1                 Energy                 energy\n",
       "3              Transport              transport\n",
       "4  Construction, Finance  construction, finance\n",
       "5  Construction, Finance  construction, finance"
      ]
     },
     "execution_count": 30,
     "metadata": {},
     "output_type": "execute_result"
    }
   ],
   "source": [
    "sector_data[['Sectors','cl_Sector']].head()"
   ]
  },
  {
   "cell_type": "code",
   "execution_count": 31,
   "metadata": {},
   "outputs": [
    {
     "data": {
      "text/plain": [
       "energy                                                84\n",
       "finance                                               40\n",
       "infrastructure                                        38\n",
       "transport                                             29\n",
       "water and sanitation                                  28\n",
       "education and health                                  12\n",
       "MISC                                                  11\n",
       "industry and trade                                    10\n",
       "communications                                         9\n",
       "construction, finance                                  6\n",
       "hydropower                                             4\n",
       "water and sanitation, climate                          3\n",
       "agriculture and forestry, industry and trade           3\n",
       "finance, energy                                        3\n",
       "infrastructure, transport                              2\n",
       "agriculture and forestry                               2\n",
       "transport, industry and trade                          2\n",
       "finance, education and health                          1\n",
       "energy, transport                                      1\n",
       "humanitarian response                                  1\n",
       "infrastructure, finance                                1\n",
       "energy, finance, industry and trade                    1\n",
       "transport, water and sanitation                        1\n",
       "infrastructure, communications, trade and industry     1\n",
       "finance, construction,industry and trade               1\n",
       "energy, construction, hydropower                       1\n",
       "transport, infrastructure                              1\n",
       "Name: cl_Sector, dtype: int64"
      ]
     },
     "execution_count": 31,
     "metadata": {},
     "output_type": "execute_result"
    }
   ],
   "source": [
    "sector_data.cl_Sector.value_counts(dropna=False)"
   ]
  },
  {
   "cell_type": "code",
   "execution_count": 32,
   "metadata": {},
   "outputs": [],
   "source": [
    "sector_data['top_sector'] = [i.split(',')[0] for i in sector_data.cl_Sector]"
   ]
  },
  {
   "cell_type": "code",
   "execution_count": 33,
   "metadata": {},
   "outputs": [
    {
     "data": {
      "text/plain": [
       "energy                      87\n",
       "finance                     45\n",
       "infrastructure              42\n",
       "transport                   33\n",
       "water and sanitation        31\n",
       "education and health        12\n",
       "MISC                        11\n",
       "industry and trade          10\n",
       "communications               9\n",
       "construction                 6\n",
       "agriculture and forestry     5\n",
       "hydropower                   4\n",
       "humanitarian response        1\n",
       "Name: top_sector, dtype: int64"
      ]
     },
     "execution_count": 33,
     "metadata": {},
     "output_type": "execute_result"
    }
   ],
   "source": [
    "sector_data.top_sector.value_counts()"
   ]
  },
  {
   "cell_type": "markdown",
   "metadata": {},
   "source": [
    "----------"
   ]
  },
  {
   "cell_type": "markdown",
   "metadata": {},
   "source": [
    "## Banks "
   ]
  },
  {
   "cell_type": "markdown",
   "metadata": {},
   "source": [
    "```\n",
    "Asian Infrastructure Investment Bank (AIIB)\n",
    "African Development Bank (AFDB)\n",
    "Asian Development Bank (ADB)\n",
    "Green Climate Fund (GCF)\n",
    "New Development Bank (NDB)\n",
    "European Investment Bank (EIB)\n",
    "World Bank (WB)\n",
    "International Finance Corporation (IFC)\n",
    "Inter-American Investment Corporation (IIC)\n",
    "Netherlands Development Finance Company (FMO)\n",
    "Inter-American Development Bank (IADB)\n",
    "Multilateral Investment Guarantee Agency (MIGA)\n",
    "European Bank for Reconstruction and Development (EBRD)\n",
    "```"
   ]
  },
  {
   "cell_type": "code",
   "execution_count": 34,
   "metadata": {},
   "outputs": [],
   "source": [
    "banks_data = labels[labels.Bank1.notnull()]\n",
    "banks_data.Bank1 = banks_data.Bank1.apply(clean)\n",
    "banks_data.Bank2 = banks_data.Bank2.apply(clean)"
   ]
  },
  {
   "cell_type": "code",
   "execution_count": 35,
   "metadata": {},
   "outputs": [
    {
     "data": {
      "text/plain": [
       "Counter({'NA': 422,\n",
       "         'adb': 210,\n",
       "         'afdb': 81,\n",
       "         'aiib': 49,\n",
       "         'ebrd': 68,\n",
       "         'eib': 15,\n",
       "         'gcf': 1,\n",
       "         'idb': 5,\n",
       "         'ifc': 2,\n",
       "         'indonesia': 1,\n",
       "         'jica': 3,\n",
       "         'pakistan': 1,\n",
       "         'wb': 8})"
      ]
     },
     "execution_count": 35,
     "metadata": {},
     "output_type": "execute_result"
    }
   ],
   "source": [
    "Counter(banks_data.Bank1.tolist() + banks_data.Bank2.tolist())"
   ]
  },
  {
   "cell_type": "markdown",
   "metadata": {},
   "source": [
    "---------"
   ]
  },
  {
   "cell_type": "markdown",
   "metadata": {},
   "source": [
    "## Country "
   ]
  },
  {
   "cell_type": "code",
   "execution_count": 36,
   "metadata": {},
   "outputs": [],
   "source": [
    "country_data = labels[labels.Country1.notnull()]\n",
    "country_data.is_copy = False\n",
    "country_data.Country1 = country_data.Country1.apply(clean)\n",
    "country_data.Country2 = country_data.Country2.apply(clean)"
   ]
  },
  {
   "cell_type": "code",
   "execution_count": 37,
   "metadata": {},
   "outputs": [
    {
     "data": {
      "text/plain": [
       "india                                                                                                       70\n",
       "philippines                                                                                                 24\n",
       "pakistan                                                                                                    20\n",
       "turkey                                                                                                      20\n",
       "bangladesh                                                                                                  19\n",
       "nigeria                                                                                                     17\n",
       "mongolia                                                                                                    10\n",
       "egypt                                                                                                        9\n",
       "sri lanka                                                                                                    9\n",
       "liberia                                                                                                      8\n",
       "thailand                                                                                                     8\n",
       "indonesia                                                                                                    7\n",
       "nepal                                                                                                        6\n",
       "ukraine                                                                                                      5\n",
       "rwanda                                                                                                       5\n",
       "ghana                                                                                                        5\n",
       "armenia                                                                                                      5\n",
       "papua new guinea                                                                                             5\n",
       "azerbaijan                                                                                                   5\n",
       "georgia                                                                                                      5\n",
       "tajikistan                                                                                                   4\n",
       "cambodia                                                                                                     4\n",
       "romania                                                                                                      3\n",
       "afghanistan                                                                                                  3\n",
       "zimbabwe                                                                                                     3\n",
       "china                                                                                                        3\n",
       "vietnam                                                                                                      2\n",
       "jordan                                                                                                       2\n",
       "turkenistan                                                                                                  2\n",
       "argentina                                                                                                    2\n",
       "serbia                                                                                                       2\n",
       "ecuador                                                                                                      2\n",
       "zambia                                                                                                       2\n",
       "kiribati                                                                                                     2\n",
       "bulgaria                                                                                                     2\n",
       "montenegro                                                                                                   2\n",
       "lebanon                                                                                                      2\n",
       "kenya                                                                                                        2\n",
       "sudan                                                                                                        2\n",
       "albania                                                                                                      2\n",
       "gambia                                                                                                       1\n",
       "malawi                                                                                                       1\n",
       "georgia, ukraine                                                                                             1\n",
       "kyrgyzstan                                                                                                   1\n",
       "morocco                                                                                                      1\n",
       "uzbekistan                                                                                                   1\n",
       "somalia                                                                                                      1\n",
       "tunisia                                                                                                      1\n",
       "finland                                                                                                      1\n",
       "swaziland                                                                                                    1\n",
       "bosnia                                                                                                       1\n",
       "micronesia                                                                                                   1\n",
       "kazakhstan                                                                                                   1\n",
       "botswana, ghana, kenya, zambia, lesotho, senegal, côte d’ivoire, nigeria, uganda, malawi, gabon and togo     1\n",
       "china, pakistan                                                                                              1\n",
       "angola                                                                                                       1\n",
       "myanmar                                                                                                      1\n",
       "iraq                                                                                                         1\n",
       "ghana, ethiopia, malawi, nigeria, mozambique and burkina faso.                                               1\n",
       "greece                                                                                                       1\n",
       "indina                                                                                                       1\n",
       "ethiopia, kenya, nigeria, tanzania, uganda                                                                   1\n",
       "turkey, greece, croatia                                                                                      1\n",
       "fiji                                                                                                         1\n",
       "maldives                                                                                                     1\n",
       "morocco, tunisia                                                                                             1\n",
       "global                                                                                                       1\n",
       "greek                                                                                                        1\n",
       "jamaica                                                                                                      1\n",
       "cambodia, mongolia, tajikistan                                                                               1\n",
       "japan                                                                                                        1\n",
       "timor-leste                                                                                                  1\n",
       "albania, greece, italy                                                                                       1\n",
       "bangladesh, india                                                                                            1\n",
       "turkey, azerbaijan, georgia                                                                                  1\n",
       "burkina faso                                                                                                 1\n",
       "africa                                                                                                       1\n",
       "nauru                                                                                                        1\n",
       "pacific region                                                                                               1\n",
       "asia-pacific                                                                                                 1\n",
       "Name: Country1, dtype: int64"
      ]
     },
     "execution_count": 37,
     "metadata": {},
     "output_type": "execute_result"
    }
   ],
   "source": [
    "country_data.Country1.value_counts()"
   ]
  },
  {
   "cell_type": "code",
   "execution_count": 38,
   "metadata": {},
   "outputs": [
    {
     "name": "stdout",
     "output_type": "stream",
     "text": [
      "(350, 16)\n"
     ]
    }
   ],
   "source": [
    "country_data = country_data[country_data.Country1 != 'NA']\n",
    "print(country_data.shape)"
   ]
  },
  {
   "cell_type": "code",
   "execution_count": 39,
   "metadata": {},
   "outputs": [],
   "source": [
    "country_data = country_data.drop('Country2',axis=1)"
   ]
  },
  {
   "cell_type": "markdown",
   "metadata": {},
   "source": [
    "## Clean files "
   ]
  },
  {
   "cell_type": "code",
   "execution_count": 40,
   "metadata": {},
   "outputs": [],
   "source": [
    "drop_list = ['DK_ADMIN_TRANSFERRED_CSV','HyperLink']"
   ]
  },
  {
   "cell_type": "code",
   "execution_count": 59,
   "metadata": {},
   "outputs": [],
   "source": [
    "output_files = {}\n",
    "for df in [('banks',banks_data),( 'sectors',sector_data), ('countries',country_data),( 'projects',project_labeled_data)]:\n",
    "    out_df = df[1].drop(drop_list, axis=1).copy()\n",
    "    if df[0] == 'banks':\n",
    "        out_df = out_df.drop(['Sectors','Country1','Country2','Matched','Projects(EWSProjectID)','EWS Project Name',\n",
    "                             'EWS hyperlink'],axis=1)\n",
    "    if df[0] == 'sectors':\n",
    "        out_df = out_df.drop(['Bank1','Bank2','Country1','Country2','Matched','Projects(EWSProjectID)','EWS Project Name',\n",
    "                             'EWS hyperlink'],axis=1)\n",
    "    if df[0] == 'countries':\n",
    "        out_df = out_df.drop(['Bank1','Bank2','Sectors','Matched','Projects(EWSProjectID)','EWS Project Name',\n",
    "                             'EWS hyperlink'],axis=1)\n",
    "    if df[0] == 'projects':\n",
    "        out_df = out_df.drop(['Bank1','Bank2','Sectors','Country2','Country1'],axis=1)\n",
    "        out_df.rename(columns={\"Projects(EWSProjectID)\":\"ProjectNumber\"},inplace=True) \n",
    "\n",
    "    output_files[df[0]] = out_df\n",
    "\n",
    "    #drop admin cols etc "
   ]
  },
  {
   "cell_type": "code",
   "execution_count": 49,
   "metadata": {},
   "outputs": [
    {
     "name": "stdout",
     "output_type": "stream",
     "text": [
      "(433, 7)\n"
     ]
    },
    {
     "data": {
      "text/html": [
       "<div>\n",
       "<style scoped>\n",
       "    .dataframe tbody tr th:only-of-type {\n",
       "        vertical-align: middle;\n",
       "    }\n",
       "\n",
       "    .dataframe tbody tr th {\n",
       "        vertical-align: top;\n",
       "    }\n",
       "\n",
       "    .dataframe thead th {\n",
       "        text-align: right;\n",
       "    }\n",
       "</style>\n",
       "<table border=\"1\" class=\"dataframe\">\n",
       "  <thead>\n",
       "    <tr style=\"text-align: right;\">\n",
       "      <th></th>\n",
       "      <th>article_id</th>\n",
       "      <th>published</th>\n",
       "      <th>title</th>\n",
       "      <th>url</th>\n",
       "      <th>feed_label</th>\n",
       "      <th>Bank1</th>\n",
       "      <th>Bank2</th>\n",
       "    </tr>\n",
       "  </thead>\n",
       "  <tbody>\n",
       "    <tr>\n",
       "      <th>0</th>\n",
       "      <td>10f9ed2</td>\n",
       "      <td>2018-01-11</td>\n",
       "      <td>ADB Provides Support for Three Infrastructure ...</td>\n",
       "      <td>http://moderndiplomacy.eu/2018/01/11/adb-provi...</td>\n",
       "      <td>NEWS ADB - All Streams</td>\n",
       "      <td>adb</td>\n",
       "      <td>NA</td>\n",
       "    </tr>\n",
       "    <tr>\n",
       "      <th>1</th>\n",
       "      <td>c0eece9b</td>\n",
       "      <td>2018-05-13</td>\n",
       "      <td>ADB Helps Inaugurate New Power Distribution Ne...</td>\n",
       "      <td>http://feedproxy.google.com/~r/adb_news/~3/2My...</td>\n",
       "      <td>NEWS ADB - All Streams</td>\n",
       "      <td>adb</td>\n",
       "      <td>NA</td>\n",
       "    </tr>\n",
       "    <tr>\n",
       "      <th>3</th>\n",
       "      <td>d1d79dd8</td>\n",
       "      <td>2018-02-20</td>\n",
       "      <td>ADB Provides $360 Million for Rolling Stock to...</td>\n",
       "      <td>http://feedproxy.google.com/~r/adb_news/~3/v9s...</td>\n",
       "      <td>NEWS ADB - All Streams</td>\n",
       "      <td>adb</td>\n",
       "      <td>NA</td>\n",
       "    </tr>\n",
       "    <tr>\n",
       "      <th>4</th>\n",
       "      <td>f0d65e5</td>\n",
       "      <td>2018-02-25</td>\n",
       "      <td>ADB provides financing to Thailand's B.Grimm P...</td>\n",
       "      <td>https://www.dealstreetasia.com/stories/adb-b-g...</td>\n",
       "      <td>NEWS ADB - All Streams</td>\n",
       "      <td>adb</td>\n",
       "      <td>NA</td>\n",
       "    </tr>\n",
       "    <tr>\n",
       "      <th>5</th>\n",
       "      <td>4a557358</td>\n",
       "      <td>2018-02-26</td>\n",
       "      <td>ADB's $235m loan to support B.Grimm Power expa...</td>\n",
       "      <td>https://www.power-technology.com/news/adbs-235...</td>\n",
       "      <td>NEWS ADB - All Streams</td>\n",
       "      <td>adb</td>\n",
       "      <td>NA</td>\n",
       "    </tr>\n",
       "  </tbody>\n",
       "</table>\n",
       "</div>"
      ],
      "text/plain": [
       "  article_id  published                                              title  \\\n",
       "0    10f9ed2 2018-01-11  ADB Provides Support for Three Infrastructure ...   \n",
       "1   c0eece9b 2018-05-13  ADB Helps Inaugurate New Power Distribution Ne...   \n",
       "3   d1d79dd8 2018-02-20  ADB Provides $360 Million for Rolling Stock to...   \n",
       "4    f0d65e5 2018-02-25  ADB provides financing to Thailand's B.Grimm P...   \n",
       "5   4a557358 2018-02-26  ADB's $235m loan to support B.Grimm Power expa...   \n",
       "\n",
       "                                                 url              feed_label  \\\n",
       "0  http://moderndiplomacy.eu/2018/01/11/adb-provi...  NEWS ADB - All Streams   \n",
       "1  http://feedproxy.google.com/~r/adb_news/~3/2My...  NEWS ADB - All Streams   \n",
       "3  http://feedproxy.google.com/~r/adb_news/~3/v9s...  NEWS ADB - All Streams   \n",
       "4  https://www.dealstreetasia.com/stories/adb-b-g...  NEWS ADB - All Streams   \n",
       "5  https://www.power-technology.com/news/adbs-235...  NEWS ADB - All Streams   \n",
       "\n",
       "  Bank1 Bank2  \n",
       "0   adb    NA  \n",
       "1   adb    NA  \n",
       "3   adb    NA  \n",
       "4   adb    NA  \n",
       "5   adb    NA  "
      ]
     },
     "execution_count": 49,
     "metadata": {},
     "output_type": "execute_result"
    }
   ],
   "source": [
    "print(output_files['banks'].shape)\n",
    "output_files['banks'].head()"
   ]
  },
  {
   "cell_type": "code",
   "execution_count": 50,
   "metadata": {},
   "outputs": [
    {
     "name": "stdout",
     "output_type": "stream",
     "text": [
      "(296, 8)\n"
     ]
    },
    {
     "data": {
      "text/html": [
       "<div>\n",
       "<style scoped>\n",
       "    .dataframe tbody tr th:only-of-type {\n",
       "        vertical-align: middle;\n",
       "    }\n",
       "\n",
       "    .dataframe tbody tr th {\n",
       "        vertical-align: top;\n",
       "    }\n",
       "\n",
       "    .dataframe thead th {\n",
       "        text-align: right;\n",
       "    }\n",
       "</style>\n",
       "<table border=\"1\" class=\"dataframe\">\n",
       "  <thead>\n",
       "    <tr style=\"text-align: right;\">\n",
       "      <th></th>\n",
       "      <th>article_id</th>\n",
       "      <th>published</th>\n",
       "      <th>title</th>\n",
       "      <th>url</th>\n",
       "      <th>feed_label</th>\n",
       "      <th>Sectors</th>\n",
       "      <th>cl_Sector</th>\n",
       "      <th>top_sector</th>\n",
       "    </tr>\n",
       "  </thead>\n",
       "  <tbody>\n",
       "    <tr>\n",
       "      <th>0</th>\n",
       "      <td>10f9ed2</td>\n",
       "      <td>2018-01-11</td>\n",
       "      <td>ADB Provides Support for Three Infrastructure ...</td>\n",
       "      <td>http://moderndiplomacy.eu/2018/01/11/adb-provi...</td>\n",
       "      <td>NEWS ADB - All Streams</td>\n",
       "      <td>Infrastructure</td>\n",
       "      <td>infrastructure</td>\n",
       "      <td>infrastructure</td>\n",
       "    </tr>\n",
       "    <tr>\n",
       "      <th>1</th>\n",
       "      <td>c0eece9b</td>\n",
       "      <td>2018-05-13</td>\n",
       "      <td>ADB Helps Inaugurate New Power Distribution Ne...</td>\n",
       "      <td>http://feedproxy.google.com/~r/adb_news/~3/2My...</td>\n",
       "      <td>NEWS ADB - All Streams</td>\n",
       "      <td>Energy</td>\n",
       "      <td>energy</td>\n",
       "      <td>energy</td>\n",
       "    </tr>\n",
       "    <tr>\n",
       "      <th>3</th>\n",
       "      <td>d1d79dd8</td>\n",
       "      <td>2018-02-20</td>\n",
       "      <td>ADB Provides $360 Million for Rolling Stock to...</td>\n",
       "      <td>http://feedproxy.google.com/~r/adb_news/~3/v9s...</td>\n",
       "      <td>NEWS ADB - All Streams</td>\n",
       "      <td>Transport</td>\n",
       "      <td>transport</td>\n",
       "      <td>transport</td>\n",
       "    </tr>\n",
       "    <tr>\n",
       "      <th>4</th>\n",
       "      <td>f0d65e5</td>\n",
       "      <td>2018-02-25</td>\n",
       "      <td>ADB provides financing to Thailand's B.Grimm P...</td>\n",
       "      <td>https://www.dealstreetasia.com/stories/adb-b-g...</td>\n",
       "      <td>NEWS ADB - All Streams</td>\n",
       "      <td>Construction, Finance</td>\n",
       "      <td>construction, finance</td>\n",
       "      <td>construction</td>\n",
       "    </tr>\n",
       "    <tr>\n",
       "      <th>5</th>\n",
       "      <td>4a557358</td>\n",
       "      <td>2018-02-26</td>\n",
       "      <td>ADB's $235m loan to support B.Grimm Power expa...</td>\n",
       "      <td>https://www.power-technology.com/news/adbs-235...</td>\n",
       "      <td>NEWS ADB - All Streams</td>\n",
       "      <td>Construction, Finance</td>\n",
       "      <td>construction, finance</td>\n",
       "      <td>construction</td>\n",
       "    </tr>\n",
       "  </tbody>\n",
       "</table>\n",
       "</div>"
      ],
      "text/plain": [
       "  article_id  published                                              title  \\\n",
       "0    10f9ed2 2018-01-11  ADB Provides Support for Three Infrastructure ...   \n",
       "1   c0eece9b 2018-05-13  ADB Helps Inaugurate New Power Distribution Ne...   \n",
       "3   d1d79dd8 2018-02-20  ADB Provides $360 Million for Rolling Stock to...   \n",
       "4    f0d65e5 2018-02-25  ADB provides financing to Thailand's B.Grimm P...   \n",
       "5   4a557358 2018-02-26  ADB's $235m loan to support B.Grimm Power expa...   \n",
       "\n",
       "                                                 url              feed_label  \\\n",
       "0  http://moderndiplomacy.eu/2018/01/11/adb-provi...  NEWS ADB - All Streams   \n",
       "1  http://feedproxy.google.com/~r/adb_news/~3/2My...  NEWS ADB - All Streams   \n",
       "3  http://feedproxy.google.com/~r/adb_news/~3/v9s...  NEWS ADB - All Streams   \n",
       "4  https://www.dealstreetasia.com/stories/adb-b-g...  NEWS ADB - All Streams   \n",
       "5  https://www.power-technology.com/news/adbs-235...  NEWS ADB - All Streams   \n",
       "\n",
       "                 Sectors              cl_Sector      top_sector  \n",
       "0         Infrastructure         infrastructure  infrastructure  \n",
       "1                 Energy                 energy          energy  \n",
       "3              Transport              transport       transport  \n",
       "4  Construction, Finance  construction, finance    construction  \n",
       "5  Construction, Finance  construction, finance    construction  "
      ]
     },
     "execution_count": 50,
     "metadata": {},
     "output_type": "execute_result"
    }
   ],
   "source": [
    "print(output_files['sectors'].shape)\n",
    "output_files['sectors'].head()"
   ]
  },
  {
   "cell_type": "code",
   "execution_count": 51,
   "metadata": {},
   "outputs": [
    {
     "name": "stdout",
     "output_type": "stream",
     "text": [
      "(350, 6)\n"
     ]
    },
    {
     "data": {
      "text/html": [
       "<div>\n",
       "<style scoped>\n",
       "    .dataframe tbody tr th:only-of-type {\n",
       "        vertical-align: middle;\n",
       "    }\n",
       "\n",
       "    .dataframe tbody tr th {\n",
       "        vertical-align: top;\n",
       "    }\n",
       "\n",
       "    .dataframe thead th {\n",
       "        text-align: right;\n",
       "    }\n",
       "</style>\n",
       "<table border=\"1\" class=\"dataframe\">\n",
       "  <thead>\n",
       "    <tr style=\"text-align: right;\">\n",
       "      <th></th>\n",
       "      <th>article_id</th>\n",
       "      <th>published</th>\n",
       "      <th>title</th>\n",
       "      <th>url</th>\n",
       "      <th>feed_label</th>\n",
       "      <th>Country1</th>\n",
       "    </tr>\n",
       "  </thead>\n",
       "  <tbody>\n",
       "    <tr>\n",
       "      <th>0</th>\n",
       "      <td>10f9ed2</td>\n",
       "      <td>2018-01-11</td>\n",
       "      <td>ADB Provides Support for Three Infrastructure ...</td>\n",
       "      <td>http://moderndiplomacy.eu/2018/01/11/adb-provi...</td>\n",
       "      <td>NEWS ADB - All Streams</td>\n",
       "      <td>cambodia</td>\n",
       "    </tr>\n",
       "    <tr>\n",
       "      <th>1</th>\n",
       "      <td>c0eece9b</td>\n",
       "      <td>2018-05-13</td>\n",
       "      <td>ADB Helps Inaugurate New Power Distribution Ne...</td>\n",
       "      <td>http://feedproxy.google.com/~r/adb_news/~3/2My...</td>\n",
       "      <td>NEWS ADB - All Streams</td>\n",
       "      <td>afghanistan</td>\n",
       "    </tr>\n",
       "    <tr>\n",
       "      <th>3</th>\n",
       "      <td>d1d79dd8</td>\n",
       "      <td>2018-02-20</td>\n",
       "      <td>ADB Provides $360 Million for Rolling Stock to...</td>\n",
       "      <td>http://feedproxy.google.com/~r/adb_news/~3/v9s...</td>\n",
       "      <td>NEWS ADB - All Streams</td>\n",
       "      <td>bangladesh</td>\n",
       "    </tr>\n",
       "    <tr>\n",
       "      <th>4</th>\n",
       "      <td>f0d65e5</td>\n",
       "      <td>2018-02-25</td>\n",
       "      <td>ADB provides financing to Thailand's B.Grimm P...</td>\n",
       "      <td>https://www.dealstreetasia.com/stories/adb-b-g...</td>\n",
       "      <td>NEWS ADB - All Streams</td>\n",
       "      <td>thailand</td>\n",
       "    </tr>\n",
       "    <tr>\n",
       "      <th>5</th>\n",
       "      <td>4a557358</td>\n",
       "      <td>2018-02-26</td>\n",
       "      <td>ADB's $235m loan to support B.Grimm Power expa...</td>\n",
       "      <td>https://www.power-technology.com/news/adbs-235...</td>\n",
       "      <td>NEWS ADB - All Streams</td>\n",
       "      <td>thailand</td>\n",
       "    </tr>\n",
       "  </tbody>\n",
       "</table>\n",
       "</div>"
      ],
      "text/plain": [
       "  article_id  published                                              title  \\\n",
       "0    10f9ed2 2018-01-11  ADB Provides Support for Three Infrastructure ...   \n",
       "1   c0eece9b 2018-05-13  ADB Helps Inaugurate New Power Distribution Ne...   \n",
       "3   d1d79dd8 2018-02-20  ADB Provides $360 Million for Rolling Stock to...   \n",
       "4    f0d65e5 2018-02-25  ADB provides financing to Thailand's B.Grimm P...   \n",
       "5   4a557358 2018-02-26  ADB's $235m loan to support B.Grimm Power expa...   \n",
       "\n",
       "                                                 url              feed_label  \\\n",
       "0  http://moderndiplomacy.eu/2018/01/11/adb-provi...  NEWS ADB - All Streams   \n",
       "1  http://feedproxy.google.com/~r/adb_news/~3/2My...  NEWS ADB - All Streams   \n",
       "3  http://feedproxy.google.com/~r/adb_news/~3/v9s...  NEWS ADB - All Streams   \n",
       "4  https://www.dealstreetasia.com/stories/adb-b-g...  NEWS ADB - All Streams   \n",
       "5  https://www.power-technology.com/news/adbs-235...  NEWS ADB - All Streams   \n",
       "\n",
       "      Country1  \n",
       "0     cambodia  \n",
       "1  afghanistan  \n",
       "3   bangladesh  \n",
       "4     thailand  \n",
       "5     thailand  "
      ]
     },
     "execution_count": 51,
     "metadata": {},
     "output_type": "execute_result"
    }
   ],
   "source": [
    "print(output_files['countries'].shape)\n",
    "\n",
    "output_files['countries'].head()"
   ]
  },
  {
   "cell_type": "code",
   "execution_count": 61,
   "metadata": {},
   "outputs": [
    {
     "name": "stdout",
     "output_type": "stream",
     "text": [
      "(112, 9)\n"
     ]
    },
    {
     "data": {
      "text/html": [
       "<div>\n",
       "<style scoped>\n",
       "    .dataframe tbody tr th:only-of-type {\n",
       "        vertical-align: middle;\n",
       "    }\n",
       "\n",
       "    .dataframe tbody tr th {\n",
       "        vertical-align: top;\n",
       "    }\n",
       "\n",
       "    .dataframe thead th {\n",
       "        text-align: right;\n",
       "    }\n",
       "</style>\n",
       "<table border=\"1\" class=\"dataframe\">\n",
       "  <thead>\n",
       "    <tr style=\"text-align: right;\">\n",
       "      <th></th>\n",
       "      <th>article_id</th>\n",
       "      <th>published</th>\n",
       "      <th>title</th>\n",
       "      <th>url</th>\n",
       "      <th>feed_label</th>\n",
       "      <th>ProjectNumber</th>\n",
       "      <th>EWS Project Name</th>\n",
       "      <th>EWS hyperlink</th>\n",
       "      <th>Matched</th>\n",
       "    </tr>\n",
       "  </thead>\n",
       "  <tbody>\n",
       "    <tr>\n",
       "      <th>0</th>\n",
       "      <td>10f9ed2</td>\n",
       "      <td>2018-01-11</td>\n",
       "      <td>ADB Provides Support for Three Infrastructure ...</td>\n",
       "      <td>http://moderndiplomacy.eu/2018/01/11/adb-provi...</td>\n",
       "      <td>NEWS ADB - All Streams</td>\n",
       "      <td>ADB-41123-015, ADB-48158-001, ADB-41435-053</td>\n",
       "      <td>Road Network Improvement Project (formerly Sec...</td>\n",
       "      <td>https://ewsdata.rightsindevelopment.org/projec...</td>\n",
       "      <td>1.0</td>\n",
       "    </tr>\n",
       "    <tr>\n",
       "      <th>1</th>\n",
       "      <td>c0eece9b</td>\n",
       "      <td>2018-05-13</td>\n",
       "      <td>ADB Helps Inaugurate New Power Distribution Ne...</td>\n",
       "      <td>http://feedproxy.google.com/~r/adb_news/~3/2My...</td>\n",
       "      <td>NEWS ADB - All Streams</td>\n",
       "      <td>ADB-47282-001</td>\n",
       "      <td>Energy Supply Improvement Investment Program (...</td>\n",
       "      <td>https://ewsdata.rightsindevelopment.org/projec...</td>\n",
       "      <td>1.0</td>\n",
       "    </tr>\n",
       "    <tr>\n",
       "      <th>3</th>\n",
       "      <td>d1d79dd8</td>\n",
       "      <td>2018-02-20</td>\n",
       "      <td>ADB Provides $360 Million for Rolling Stock to...</td>\n",
       "      <td>http://feedproxy.google.com/~r/adb_news/~3/v9s...</td>\n",
       "      <td>NEWS ADB - All Streams</td>\n",
       "      <td>ADB-50312-003</td>\n",
       "      <td>Railway Rolling Stock Operations Improvement P...</td>\n",
       "      <td>https://ewsdata.rightsindevelopment.org/projec...</td>\n",
       "      <td>1.0</td>\n",
       "    </tr>\n",
       "    <tr>\n",
       "      <th>4</th>\n",
       "      <td>f0d65e5</td>\n",
       "      <td>2018-02-25</td>\n",
       "      <td>ADB provides financing to Thailand's B.Grimm P...</td>\n",
       "      <td>https://www.dealstreetasia.com/stories/adb-b-g...</td>\n",
       "      <td>NEWS ADB - All Streams</td>\n",
       "      <td>ADB-50410-001</td>\n",
       "      <td>ASEAN Distributed Power Project: Initial Pover...</td>\n",
       "      <td>https://ewsdata.rightsindevelopment.org/projec...</td>\n",
       "      <td>1.0</td>\n",
       "    </tr>\n",
       "    <tr>\n",
       "      <th>5</th>\n",
       "      <td>4a557358</td>\n",
       "      <td>2018-02-26</td>\n",
       "      <td>ADB's $235m loan to support B.Grimm Power expa...</td>\n",
       "      <td>https://www.power-technology.com/news/adbs-235...</td>\n",
       "      <td>NEWS ADB - All Streams</td>\n",
       "      <td>ADB-50410-001</td>\n",
       "      <td>ASEAN Distributed Power Project: Initial Pover...</td>\n",
       "      <td>https://ewsdata.rightsindevelopment.org/projec...</td>\n",
       "      <td>1.0</td>\n",
       "    </tr>\n",
       "  </tbody>\n",
       "</table>\n",
       "</div>"
      ],
      "text/plain": [
       "  article_id  published                                              title  \\\n",
       "0    10f9ed2 2018-01-11  ADB Provides Support for Three Infrastructure ...   \n",
       "1   c0eece9b 2018-05-13  ADB Helps Inaugurate New Power Distribution Ne...   \n",
       "3   d1d79dd8 2018-02-20  ADB Provides $360 Million for Rolling Stock to...   \n",
       "4    f0d65e5 2018-02-25  ADB provides financing to Thailand's B.Grimm P...   \n",
       "5   4a557358 2018-02-26  ADB's $235m loan to support B.Grimm Power expa...   \n",
       "\n",
       "                                                 url              feed_label  \\\n",
       "0  http://moderndiplomacy.eu/2018/01/11/adb-provi...  NEWS ADB - All Streams   \n",
       "1  http://feedproxy.google.com/~r/adb_news/~3/2My...  NEWS ADB - All Streams   \n",
       "3  http://feedproxy.google.com/~r/adb_news/~3/v9s...  NEWS ADB - All Streams   \n",
       "4  https://www.dealstreetasia.com/stories/adb-b-g...  NEWS ADB - All Streams   \n",
       "5  https://www.power-technology.com/news/adbs-235...  NEWS ADB - All Streams   \n",
       "\n",
       "                                 ProjectNumber  \\\n",
       "0  ADB-41123-015, ADB-48158-001, ADB-41435-053   \n",
       "1                                ADB-47282-001   \n",
       "3                                ADB-50312-003   \n",
       "4                                ADB-50410-001   \n",
       "5                                ADB-50410-001   \n",
       "\n",
       "                                    EWS Project Name  \\\n",
       "0  Road Network Improvement Project (formerly Sec...   \n",
       "1  Energy Supply Improvement Investment Program (...   \n",
       "3  Railway Rolling Stock Operations Improvement P...   \n",
       "4  ASEAN Distributed Power Project: Initial Pover...   \n",
       "5  ASEAN Distributed Power Project: Initial Pover...   \n",
       "\n",
       "                                       EWS hyperlink  Matched  \n",
       "0  https://ewsdata.rightsindevelopment.org/projec...      1.0  \n",
       "1  https://ewsdata.rightsindevelopment.org/projec...      1.0  \n",
       "3  https://ewsdata.rightsindevelopment.org/projec...      1.0  \n",
       "4  https://ewsdata.rightsindevelopment.org/projec...      1.0  \n",
       "5  https://ewsdata.rightsindevelopment.org/projec...      1.0  "
      ]
     },
     "execution_count": 61,
     "metadata": {},
     "output_type": "execute_result"
    }
   ],
   "source": [
    "print(output_files['projects'].shape)\n",
    "\n",
    "output_files['projects'].head()"
   ]
  },
  {
   "cell_type": "code",
   "execution_count": 47,
   "metadata": {},
   "outputs": [],
   "source": [
    "for k in output_files:\n",
    "    output_files[k].to_csv('../../Data/Labeled_Data/'+k+'.csv',index=False)"
   ]
  },
  {
   "cell_type": "markdown",
   "metadata": {},
   "source": [
    "-----------------"
   ]
  },
  {
   "cell_type": "markdown",
   "metadata": {},
   "source": [
    "## Sanity Check "
   ]
  },
  {
   "cell_type": "code",
   "execution_count": 98,
   "metadata": {},
   "outputs": [
    {
     "data": {
      "text/plain": [
       "article_id                                                   11e77947\n",
       "published                                         2018-04-26 00:00:00\n",
       "title               EBRD declares effective 218 mln euro loan for ...\n",
       "url                 https://seenews.com/news/ebrd-declares-effecti...\n",
       "feed_label                                    NEWS EBRD - All streams\n",
       "ProjectNumber                                              EBRD-48132\n",
       "EWS Project Name              KESH Restructuring Project (EBRD-48132)\n",
       "EWS hyperlink       https://ewsdata.rightsindevelopment.org/projec...\n",
       "Matched                                                             1\n",
       "Name: 51, dtype: object"
      ]
     },
     "execution_count": 98,
     "metadata": {},
     "output_type": "execute_result"
    }
   ],
   "source": [
    "idx = 40\n",
    "test = output_files['projects'].iloc[idx]\n",
    "test"
   ]
  },
  {
   "cell_type": "code",
   "execution_count": 99,
   "metadata": {},
   "outputs": [
    {
     "data": {
      "text/html": [
       "<div>\n",
       "<style scoped>\n",
       "    .dataframe tbody tr th:only-of-type {\n",
       "        vertical-align: middle;\n",
       "    }\n",
       "\n",
       "    .dataframe tbody tr th {\n",
       "        vertical-align: top;\n",
       "    }\n",
       "\n",
       "    .dataframe thead th {\n",
       "        text-align: right;\n",
       "    }\n",
       "</style>\n",
       "<table border=\"1\" class=\"dataframe\">\n",
       "  <thead>\n",
       "    <tr style=\"text-align: right;\">\n",
       "      <th></th>\n",
       "      <th>article_id</th>\n",
       "      <th>title</th>\n",
       "      <th>url</th>\n",
       "      <th>keep</th>\n",
       "      <th>feed_label</th>\n",
       "      <th>content</th>\n",
       "      <th>published</th>\n",
       "      <th>summary</th>\n",
       "      <th>scraped_content</th>\n",
       "      <th>article_text</th>\n",
       "      <th>article_keywords</th>\n",
       "      <th>article_text_len</th>\n",
       "      <th>top_lang</th>\n",
       "    </tr>\n",
       "  </thead>\n",
       "  <tbody>\n",
       "    <tr>\n",
       "      <th>81</th>\n",
       "      <td>11e77947</td>\n",
       "      <td>EBRD declares effective 218 mln euro loan for ...</td>\n",
       "      <td>https://seenews.com/news/ebrd-declares-effecti...</td>\n",
       "      <td>True</td>\n",
       "      <td>NEWS EBRD - All streams</td>\n",
       "      <td>NaN</td>\n",
       "      <td>2018-04-26 06:14:54</td>\n",
       "      <td>&lt;table border=\"0\" cellspacing=\"3\" cellpadding=...</td>\n",
       "      <td>(EBRD declares effective 218 mln euro loan for...</td>\n",
       "      <td>EBRD declares effective 218 mln euro loan for ...</td>\n",
       "      <td>[ebrd, declares, 218, sector, mln, albanias, m...</td>\n",
       "      <td>1994</td>\n",
       "      <td>en</td>\n",
       "    </tr>\n",
       "  </tbody>\n",
       "</table>\n",
       "</div>"
      ],
      "text/plain": [
       "   article_id                                              title  \\\n",
       "81   11e77947  EBRD declares effective 218 mln euro loan for ...   \n",
       "\n",
       "                                                  url  keep  \\\n",
       "81  https://seenews.com/news/ebrd-declares-effecti...  True   \n",
       "\n",
       "                 feed_label content           published  \\\n",
       "81  NEWS EBRD - All streams     NaN 2018-04-26 06:14:54   \n",
       "\n",
       "                                              summary  \\\n",
       "81  <table border=\"0\" cellspacing=\"3\" cellpadding=...   \n",
       "\n",
       "                                      scraped_content  \\\n",
       "81  (EBRD declares effective 218 mln euro loan for...   \n",
       "\n",
       "                                         article_text  \\\n",
       "81  EBRD declares effective 218 mln euro loan for ...   \n",
       "\n",
       "                                     article_keywords  article_text_len  \\\n",
       "81  [ebrd, declares, 218, sector, mln, albanias, m...              1994   \n",
       "\n",
       "   top_lang  \n",
       "81       en  "
      ]
     },
     "execution_count": 99,
     "metadata": {},
     "output_type": "execute_result"
    }
   ],
   "source": [
    "feedly[feedly.article_id == test.article_id ]"
   ]
  },
  {
   "cell_type": "code",
   "execution_count": 100,
   "metadata": {},
   "outputs": [
    {
     "data": {
      "text/html": [
       "<div>\n",
       "<style scoped>\n",
       "    .dataframe tbody tr th:only-of-type {\n",
       "        vertical-align: middle;\n",
       "    }\n",
       "\n",
       "    .dataframe tbody tr th {\n",
       "        vertical-align: top;\n",
       "    }\n",
       "\n",
       "    .dataframe thead th {\n",
       "        text-align: right;\n",
       "    }\n",
       "</style>\n",
       "<table border=\"1\" class=\"dataframe\">\n",
       "  <thead>\n",
       "    <tr style=\"text-align: right;\">\n",
       "      <th></th>\n",
       "      <th>EWS ID</th>\n",
       "      <th>ProjectNumber</th>\n",
       "      <th>Published</th>\n",
       "      <th>Bank Risk Rating</th>\n",
       "      <th>Project Status</th>\n",
       "      <th>EWS URL</th>\n",
       "      <th>Detailed Analysis URL</th>\n",
       "      <th>Project Name</th>\n",
       "      <th>City</th>\n",
       "      <th>Country Count</th>\n",
       "      <th>...</th>\n",
       "      <th>Sector 7</th>\n",
       "      <th>Last Edited</th>\n",
       "      <th>Date Scraped</th>\n",
       "      <th>Date Disclosed</th>\n",
       "      <th>Board Date</th>\n",
       "      <th>Source URL</th>\n",
       "      <th>Project Cost</th>\n",
       "      <th>Investment Amount</th>\n",
       "      <th>Project Description</th>\n",
       "      <th>Contact Information</th>\n",
       "    </tr>\n",
       "  </thead>\n",
       "  <tbody>\n",
       "    <tr>\n",
       "      <th>1286</th>\n",
       "      <td>19153</td>\n",
       "      <td>EBRD-48132</td>\n",
       "      <td>Published</td>\n",
       "      <td>B</td>\n",
       "      <td>Approved</td>\n",
       "      <td>https://ews.rightsindevelopment.org/projects/4...</td>\n",
       "      <td>NaN</td>\n",
       "      <td>KESH Restructuring Project</td>\n",
       "      <td>NaN</td>\n",
       "      <td>1.0</td>\n",
       "      <td>...</td>\n",
       "      <td>NaN</td>\n",
       "      <td>8/10/17</td>\n",
       "      <td>1/13/17</td>\n",
       "      <td>3/22/16</td>\n",
       "      <td>6/22/16</td>\n",
       "      <td>http://www.ebrd.com/work-with-us/projects/psd/...</td>\n",
       "      <td>246.02</td>\n",
       "      <td>246.02</td>\n",
       "      <td>This project finances a comprehensive program ...</td>\n",
       "      <td>Ani Spahiu, Taulant Hoxha\\r\\rspahiua@kesh.al, ...</td>\n",
       "    </tr>\n",
       "  </tbody>\n",
       "</table>\n",
       "<p>1 rows × 62 columns</p>\n",
       "</div>"
      ],
      "text/plain": [
       "     EWS ID ProjectNumber  Published Bank Risk Rating Project Status  \\\n",
       "1286  19153    EBRD-48132  Published                B       Approved   \n",
       "\n",
       "                                                EWS URL  \\\n",
       "1286  https://ews.rightsindevelopment.org/projects/4...   \n",
       "\n",
       "      Detailed Analysis URL                Project Name City  Country Count  \\\n",
       "1286                    NaN  KESH Restructuring Project  NaN            1.0   \n",
       "\n",
       "                            ...                         Sector 7 Last Edited  \\\n",
       "1286                        ...                              NaN     8/10/17   \n",
       "\n",
       "     Date Scraped Date Disclosed Board Date  \\\n",
       "1286      1/13/17        3/22/16    6/22/16   \n",
       "\n",
       "                                             Source URL Project Cost  \\\n",
       "1286  http://www.ebrd.com/work-with-us/projects/psd/...       246.02   \n",
       "\n",
       "     Investment Amount                                Project Description  \\\n",
       "1286            246.02  This project finances a comprehensive program ...   \n",
       "\n",
       "                                    Contact Information  \n",
       "1286  Ani Spahiu, Taulant Hoxha\\r\\rspahiua@kesh.al, ...  \n",
       "\n",
       "[1 rows x 62 columns]"
      ]
     },
     "execution_count": 100,
     "metadata": {},
     "output_type": "execute_result"
    }
   ],
   "source": [
    "projects[projects.ProjectNumber == test.ProjectNumber]"
   ]
  },
  {
   "cell_type": "markdown",
   "metadata": {},
   "source": [
    "--------------"
   ]
  }
 ],
 "metadata": {
  "kernelspec": {
   "display_name": "my_py_3",
   "language": "python",
   "name": "my_py_3"
  },
  "language_info": {
   "codemirror_mode": {
    "name": "ipython",
    "version": 3
   },
   "file_extension": ".py",
   "mimetype": "text/x-python",
   "name": "python",
   "nbconvert_exporter": "python",
   "pygments_lexer": "ipython3",
   "version": "3.5.5"
  }
 },
 "nbformat": 4,
 "nbformat_minor": 2
}
