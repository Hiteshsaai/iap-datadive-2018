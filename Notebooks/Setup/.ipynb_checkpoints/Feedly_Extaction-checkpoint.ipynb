{
 "cells": [
  {
   "cell_type": "markdown",
   "metadata": {},
   "source": [
    "# Feedly Data Extraction Demo\n",
    "\n",
    "Python 3"
   ]
  },
  {
   "cell_type": "code",
   "execution_count": 29,
   "metadata": {
    "colab": {
     "autoexec": {
      "startup": false,
      "wait_interval": 0
     }
    },
    "colab_type": "code",
    "id": "JYddtNRdtwSW",
    "run_control": {
     "frozen": false,
     "read_only": false
    }
   },
   "outputs": [],
   "source": [
    "from feedly.client import *\n",
    "from feedly import *\n",
    "from newspaper import Article, ArticleException # http://newspaper.readthedocs.io/en/latest/\n",
    "from time import sleep\n",
    "import numpy as np\n",
    "import pandas as pd\n",
    "import datetime\n",
    "import math\n",
    "import pickle\n",
    "%matplotlib inline\n",
    "pd.set_option('max_rows',300)"
   ]
  },
  {
   "cell_type": "code",
   "execution_count": 30,
   "metadata": {
    "colab": {
     "autoexec": {
      "startup": false,
      "wait_interval": 0
     }
    },
    "colab_type": "code",
    "id": "J6F2HIOJs_Bl",
    "run_control": {
     "frozen": false,
     "read_only": false
    }
   },
   "outputs": [],
   "source": [
    "## IAP Crds\n",
    "TOKEN = \"A2zjasgZJawkY8etL3a9w1QP_BFLH7YcnaW_s-7kR7oU8Nkrz-ZY8spKj_rGuqYtyAJ4vYItikat_WS35cBCKA9jqYrbg_frpzLL_987_THA8BB4cXYfVGReSQMoScif6g7HI72_aKHYcheyqFVjObZX6QYiCZbrDAyzE1XvvvORiy8MjTSwRXQoX3in0_ywGYgFsfxJRA5M073PVSJJDv0Tv67JxC-GlvFRV3xiLqthS3Ed_8Qzztk:feedlydev\"\n",
    "FEEDLY_REDIRECT_URI = \"http://fabreadly.com/auth_callback\"\n",
    "FEEDLY_CLIENT_ID=\"d8f62d80-bd91-4b23-bdc3-c219d0489a26\""
   ]
  },
  {
   "cell_type": "markdown",
   "metadata": {
    "colab_type": "text",
    "id": "5GBsfMXqOI6m"
   },
   "source": [
    "# Load the Feed"
   ]
  },
  {
   "cell_type": "markdown",
   "metadata": {},
   "source": [
    "Reference: [Feedly Documentation](https://developer.feedly.com/cloud/)"
   ]
  },
  {
   "cell_type": "code",
   "execution_count": 31,
   "metadata": {
    "colab": {
     "autoexec": {
      "startup": false,
      "wait_interval": 0
     }
    },
    "colab_type": "code",
    "id": "QDjHGtvvzBRa",
    "run_control": {
     "frozen": false,
     "read_only": false
    }
   },
   "outputs": [],
   "source": [
    "import json\n",
    "import requests\n",
    "\n",
    "# Feedly\n",
    "feedaccess = TOKEN\n",
    "\n",
    "## Use url below to get the feed ids. \n",
    "myurl = 'https://cloud.feedly.com/v3/subscriptions'\n",
    "headers = {'Authorization': 'OAuth ' + feedaccess}\n",
    "res = requests.get(url=myurl, headers=headers)\n",
    "con = res.json()\n",
    "output = json.dumps(con , indent=4)"
   ]
  },
  {
   "cell_type": "markdown",
   "metadata": {},
   "source": [
    "# See all IAP Feeds and their IDs"
   ]
  },
  {
   "cell_type": "markdown",
   "metadata": {},
   "source": [
    "From the API you can pull specific feeds by ID, or you can pull everything. One issue is that IAP is also a content generator and actually pushes things to Feedly, so you also end up pulling that stuff. Anything marked EWS, or ewsdata.rightsindevelopment.org or a link to that site is an IAP generated entry, we need to filter these out. We should be able to do this faitly easily with the metadata that is available for each item. Other option is pull from a bunch of different feeds, but my guess is that filtering will actually be easier. \n",
    "\n",
    "Code below shows all the different feeds - the ALL feed is not listed but is coded as an option in the `pull_feed` function."
   ]
  },
  {
   "cell_type": "code",
   "execution_count": 32,
   "metadata": {},
   "outputs": [],
   "source": [
    "def see_feeds(feedaccess=feedaccess):\n",
    "    \"\"\"\n",
    "        Get the list of IAP feeds and the feed id - we need this when pulling the feed data. \n",
    "    \"\"\"\n",
    "    myurl = 'https://cloud.feedly.com/v3/subscriptions'\n",
    "    headers = {'Authorization': 'OAuth ' + feedaccess}\n",
    "    res = requests.get(url=myurl, headers=headers)\n",
    "    con = res.json()\n",
    "    output = json.dumps(con , indent=4)\n",
    "    df = pd.DataFrame([(c['title'] , c['categories'][0]['id']) for c in con])\n",
    "    df.columns = ['Title','id']\n",
    "    return df, con"
   ]
  },
  {
   "cell_type": "code",
   "execution_count": 33,
   "metadata": {},
   "outputs": [],
   "source": [
    "df, raw  = see_feeds(feedaccess)"
   ]
  },
  {
   "cell_type": "code",
   "execution_count": 34,
   "metadata": {},
   "outputs": [
    {
     "data": {
      "text/html": [
       "<div>\n",
       "<style scoped>\n",
       "    .dataframe tbody tr th:only-of-type {\n",
       "        vertical-align: middle;\n",
       "    }\n",
       "\n",
       "    .dataframe tbody tr th {\n",
       "        vertical-align: top;\n",
       "    }\n",
       "\n",
       "    .dataframe thead th {\n",
       "        text-align: right;\n",
       "    }\n",
       "</style>\n",
       "<table border=\"1\" class=\"dataframe\">\n",
       "  <thead>\n",
       "    <tr style=\"text-align: right;\">\n",
       "      <th></th>\n",
       "      <th>Title</th>\n",
       "      <th>id</th>\n",
       "    </tr>\n",
       "  </thead>\n",
       "  <tbody>\n",
       "    <tr>\n",
       "      <th>0</th>\n",
       "      <td>All - EWS</td>\n",
       "      <td>user/d8f62d80-bd91-4b23-bdc3-c219d0489a26/cate...</td>\n",
       "    </tr>\n",
       "    <tr>\n",
       "      <th>1</th>\n",
       "      <td>EWS SA</td>\n",
       "      <td>user/d8f62d80-bd91-4b23-bdc3-c219d0489a26/cate...</td>\n",
       "    </tr>\n",
       "    <tr>\n",
       "      <th>2</th>\n",
       "      <td>ADB</td>\n",
       "      <td>user/d8f62d80-bd91-4b23-bdc3-c219d0489a26/cate...</td>\n",
       "    </tr>\n",
       "    <tr>\n",
       "      <th>3</th>\n",
       "      <td>WB</td>\n",
       "      <td>user/d8f62d80-bd91-4b23-bdc3-c219d0489a26/cate...</td>\n",
       "    </tr>\n",
       "    <tr>\n",
       "      <th>4</th>\n",
       "      <td>Title: World Bank, Text: Loan</td>\n",
       "      <td>user/d8f62d80-bd91-4b23-bdc3-c219d0489a26/cate...</td>\n",
       "    </tr>\n",
       "  </tbody>\n",
       "</table>\n",
       "</div>"
      ],
      "text/plain": [
       "                           Title  \\\n",
       "0                      All - EWS   \n",
       "1                         EWS SA   \n",
       "2                            ADB   \n",
       "3                             WB   \n",
       "4  Title: World Bank, Text: Loan   \n",
       "\n",
       "                                                  id  \n",
       "0  user/d8f62d80-bd91-4b23-bdc3-c219d0489a26/cate...  \n",
       "1  user/d8f62d80-bd91-4b23-bdc3-c219d0489a26/cate...  \n",
       "2  user/d8f62d80-bd91-4b23-bdc3-c219d0489a26/cate...  \n",
       "3  user/d8f62d80-bd91-4b23-bdc3-c219d0489a26/cate...  \n",
       "4  user/d8f62d80-bd91-4b23-bdc3-c219d0489a26/cate...  "
      ]
     },
     "execution_count": 34,
     "metadata": {},
     "output_type": "execute_result"
    }
   ],
   "source": [
    "df.head()"
   ]
  },
  {
   "cell_type": "code",
   "execution_count": 35,
   "metadata": {},
   "outputs": [],
   "source": [
    "def pull_feed(feed_id, feedcount, all_feeds=False,  feedaccess=feedaccess):\n",
    "    \"\"\"\n",
    "    Pull the feed information from the Feedly API and returns a list of pulled JSON objects. \n",
    "    Returns a list in case we are pulling more then 1000 items, then we have multiple JSON objects. \n",
    "    \n",
    "    feed_id: Id of the feed we want to pull from. (str)\n",
    "    feedcount: Target number of items to pull from the feed. (int)\n",
    "    all_feeds: If true then pulls all items in the IAP feed - value of feed_id will be ignored (Bool)\n",
    "    feedaccess: Token Information (str)\n",
    "    \"\"\"\n",
    "    \n",
    "    feedcount = str(feedcount)\n",
    "    current_count = 0\n",
    "    continuation_rounds = math.ceil(int(feedcount) / 1000.0)\n",
    "    json_data = []\n",
    "    continuation_id = None\n",
    "    if all_feeds:\n",
    "        feed_id = 'user/d8f62d80-bd91-4b23-bdc3-c219d0489a26/category/global.all'\n",
    "\n",
    "    for i in range(continuation_rounds):\n",
    "        print('Pulling Data - Round %s' % str(i+1))\n",
    "        myurl = \"http://cloud.feedly.com/v3/streams/contents?streamId=\" + feed_id + \"&count=\" + feedcount\n",
    "        \n",
    "        if continuation_id:\n",
    "            myurl += \"&continuation={}\".format(continuation_id)\n",
    "        headers = {'Authorization': 'OAuth ' + feedaccess}\n",
    "        res = requests.get(url=myurl, headers=headers)\n",
    "        con = res.json()\n",
    "        json_data.append(con)\n",
    "        \n",
    "        if int(feedcount) > 1000:\n",
    "            print(con.keys())\n",
    "            continuation_id = con['continuation']\n",
    "    \n",
    "    print('Complete')\n",
    "    return json_data"
   ]
  },
  {
   "cell_type": "code",
   "execution_count": 53,
   "metadata": {},
   "outputs": [
    {
     "name": "stdout",
     "output_type": "stream",
     "text": [
      "Pulling Data - Round 1\n",
      "dict_keys(['items', 'id', 'continuation', 'updated'])\n",
      "Pulling Data - Round 2\n",
      "dict_keys(['items', 'id', 'continuation', 'updated'])\n",
      "Pulling Data - Round 3\n",
      "dict_keys(['items', 'id', 'continuation', 'updated'])\n",
      "Pulling Data - Round 4\n",
      "dict_keys(['items', 'id', 'continuation', 'updated'])\n",
      "Pulling Data - Round 5\n",
      "dict_keys(['items', 'id', 'continuation', 'updated'])\n",
      "Pulling Data - Round 6\n",
      "dict_keys(['items', 'id', 'continuation', 'updated'])\n",
      "Pulling Data - Round 7\n",
      "dict_keys(['items', 'id', 'continuation', 'updated'])\n",
      "Pulling Data - Round 8\n",
      "dict_keys(['items', 'id', 'continuation', 'updated'])\n",
      "Pulling Data - Round 9\n",
      "dict_keys(['items', 'id', 'continuation', 'updated'])\n",
      "Pulling Data - Round 10\n",
      "dict_keys(['items', 'id', 'continuation', 'updated'])\n",
      "Pulling Data - Round 11\n",
      "dict_keys(['items', 'id', 'continuation', 'updated'])\n",
      "Pulling Data - Round 12\n",
      "dict_keys(['items', 'id', 'continuation', 'updated'])\n",
      "Pulling Data - Round 13\n",
      "dict_keys(['items', 'id', 'continuation', 'updated'])\n",
      "Pulling Data - Round 14\n",
      "dict_keys(['items', 'id', 'continuation', 'updated'])\n",
      "Pulling Data - Round 15\n",
      "dict_keys(['items', 'id', 'continuation', 'updated'])\n",
      "Pulling Data - Round 16\n",
      "dict_keys(['items', 'id', 'continuation', 'updated'])\n",
      "Pulling Data - Round 17\n",
      "dict_keys(['items', 'id', 'continuation', 'updated'])\n",
      "Pulling Data - Round 18\n",
      "dict_keys(['items', 'id', 'continuation', 'updated'])\n",
      "Pulling Data - Round 19\n",
      "dict_keys(['items', 'id', 'continuation', 'updated'])\n",
      "Pulling Data - Round 20\n",
      "dict_keys(['items', 'id', 'continuation', 'updated'])\n",
      "Pulling Data - Round 21\n",
      "dict_keys(['items', 'id', 'continuation', 'updated'])\n",
      "Pulling Data - Round 22\n",
      "dict_keys(['items', 'id', 'continuation', 'updated'])\n",
      "Pulling Data - Round 23\n",
      "dict_keys(['items', 'id', 'continuation', 'updated'])\n",
      "Pulling Data - Round 24\n",
      "dict_keys(['items', 'id', 'continuation', 'updated'])\n",
      "Pulling Data - Round 25\n",
      "dict_keys(['items', 'id', 'continuation', 'updated'])\n",
      "Pulling Data - Round 26\n",
      "dict_keys(['items', 'id', 'continuation', 'updated'])\n",
      "Pulling Data - Round 27\n",
      "dict_keys(['items', 'id', 'continuation', 'updated'])\n",
      "Pulling Data - Round 28\n",
      "dict_keys(['items', 'id', 'continuation', 'updated'])\n",
      "Pulling Data - Round 29\n",
      "dict_keys(['items', 'id', 'continuation', 'updated'])\n",
      "Pulling Data - Round 30\n",
      "dict_keys(['items', 'id', 'continuation', 'updated'])\n",
      "Pulling Data - Round 31\n",
      "dict_keys(['items', 'id', 'continuation', 'updated'])\n",
      "Pulling Data - Round 32\n",
      "dict_keys(['items', 'id', 'continuation', 'updated'])\n",
      "Pulling Data - Round 33\n",
      "dict_keys(['items', 'id', 'continuation', 'updated'])\n",
      "Pulling Data - Round 34\n",
      "dict_keys(['items', 'id', 'continuation', 'updated'])\n",
      "Pulling Data - Round 35\n",
      "dict_keys(['items', 'id', 'continuation', 'updated'])\n",
      "Pulling Data - Round 36\n",
      "dict_keys(['items', 'id', 'continuation', 'updated'])\n",
      "Pulling Data - Round 37\n",
      "dict_keys(['items', 'id', 'continuation', 'updated'])\n",
      "Pulling Data - Round 38\n",
      "dict_keys(['items', 'id', 'continuation', 'updated'])\n",
      "Pulling Data - Round 39\n",
      "dict_keys(['items', 'id', 'continuation', 'updated'])\n",
      "Pulling Data - Round 40\n",
      "dict_keys(['items', 'id', 'continuation', 'updated'])\n",
      "Pulling Data - Round 41\n",
      "dict_keys(['items', 'id', 'continuation', 'updated'])\n",
      "Pulling Data - Round 42\n",
      "dict_keys(['items', 'id', 'continuation', 'updated'])\n",
      "Pulling Data - Round 43\n",
      "dict_keys(['items', 'id', 'continuation', 'updated'])\n",
      "Pulling Data - Round 44\n",
      "dict_keys(['items', 'id', 'continuation', 'updated'])\n",
      "Pulling Data - Round 45\n",
      "dict_keys(['items', 'id', 'continuation', 'updated'])\n",
      "Complete\n"
     ]
    }
   ],
   "source": [
    "pulled_json = pull_feed('',45000,all_feeds=True)"
   ]
  },
  {
   "cell_type": "markdown",
   "metadata": {},
   "source": [
    "---------------"
   ]
  },
  {
   "cell_type": "markdown",
   "metadata": {
    "colab_type": "text",
    "id": "YqMdKZCNOLnW"
   },
   "source": [
    "# Process the Feed "
   ]
  },
  {
   "cell_type": "markdown",
   "metadata": {},
   "source": [
    "Convert to a dataframe\n",
    "\n",
    "#TODO - Figure out what tags we need to preserve here - like from which news feed were they pulled - should be valuable for identifying the bank being mentioned.  Might have all of them but might be some others that could be useful. "
   ]
  },
  {
   "cell_type": "markdown",
   "metadata": {},
   "source": [
    "items reference: https://developer.feedly.com/v3/entries/"
   ]
  },
  {
   "cell_type": "code",
   "execution_count": 54,
   "metadata": {
    "colab": {
     "autoexec": {
      "startup": false,
      "wait_interval": 0
     }
    },
    "colab_type": "code",
    "id": "SbMJxlMw6eBX",
    "run_control": {
     "frozen": false,
     "read_only": false
    }
   },
   "outputs": [],
   "source": [
    "def process_pulled_data(json_data):\n",
    "    df_data = []\n",
    "    \n",
    "    for grp in range(len(json_data)):\n",
    "        data = json_data[grp]\n",
    "        for i in range(len(data['items'])):\n",
    "\n",
    "            vals = data['items'][i]\n",
    "            article_data = []\n",
    "            article_data += [vals['fingerprint'], vals['published'], vals['title'],vals['alternate'][0]['href'],vals['categories'][0]['label']]\n",
    "            try:\n",
    "                article_data.append(vals['content']['content'])\n",
    "            except:\n",
    "                article_data.append(None)\n",
    "\n",
    "            try:\n",
    "                article_data.append(vals['summary']['content'])\n",
    "            except:\n",
    "                article_data.append(None)\n",
    "            df_data.append(article_data)\n",
    "        \n",
    "        \n",
    "    df = pd.DataFrame(df_data, columns=None)\n",
    "    df.columns = ['article_id','published','title','url','feed_label','content','summary']\n",
    "    df.published = [datetime.datetime.fromtimestamp(i/1000.0) for i in df.published]\n",
    "    return df"
   ]
  },
  {
   "cell_type": "code",
   "execution_count": 55,
   "metadata": {},
   "outputs": [],
   "source": [
    "json2df = process_pulled_data(pulled_json)"
   ]
  },
  {
   "cell_type": "code",
   "execution_count": 56,
   "metadata": {},
   "outputs": [
    {
     "data": {
      "text/plain": [
       "{'alternate': [{'href': 'https://news.mongabay.com/2018/06/not-all-doom-and-gloom-qa-with-conservation-job-market-researchers/',\n",
       "   'type': 'text/html'}],\n",
       " 'author': 'Jeremy Hance',\n",
       " 'categories': [{'id': 'user/d8f62d80-bd91-4b23-bdc3-c219d0489a26/category/NEWS - Mongabay',\n",
       "   'label': 'NEWS - Mongabay'}],\n",
       " 'content': {'content': 'You grew up watching David Attenborough documentaries and reading Gerald Durrell memoirs. You volunteered banding marmosets in Brazil. You have a bachelor’s in biology and a master’s in conservation biology. You spent a year interning at an international NGO. You’ve got the passion, the education, the experience — but now you just can’t find a job. And you’re not the only one: young conservationists are reporting a tough, rough time out there, with intense competition, a flood of unpaid internships, a prevalence of short-term work, and high student-loan debt. A recent study in Conservation Biology\\xa0attempts to uncover some concrete data on the hard-to-quantify conservation job market in an effort to help students prepare themselves for the competitive, challenging hunt for paid employment. Headed by Jane Lucas, a recent recipient of a Ph.D. in rainforest ecology from the University of Oklahoma, the study looks at postings for 200 conservation-related jobs, half in the U.S. and half in other countries. She and her co-authors used the postings, as well as interviews with 20 conservation professionals, to find out where the bulk of the jobs are and to compile a comprehensive list of the most desirable skills for young conservationists seeking careers. Looking at four sectors — nonprofit, academia, government and private industry — Lucas and her colleagues found that the nonprofit sector had the biggest piece of the pie, comprising half of the job listings. Meanwhile, government jobs made up 21 percent, private industry nearly 16 percent, and academia just 13 percent.…',\n",
       "  'direction': 'ltr'},\n",
       " 'crawled': 1529350802761,\n",
       " 'enclosure': [{'href': 'https://imgs.mongabay.com/wp-content/uploads/sites/20/2018/06/18151815/brnxz_876-768x512.jpg',\n",
       "   'type': 'image/jpeg'}],\n",
       " 'fingerprint': '7c0f1411',\n",
       " 'id': 'ypyfh/hj+CNB3rfY8ZMCyXFQ/K+GN/iq2amdc6NLzsI=_16414694d49:1294241:93d646dc',\n",
       " 'keywords': ['Uncategorized'],\n",
       " 'origin': {'htmlUrl': 'https://news.mongabay.com',\n",
       "  'streamId': 'feed/https://news.mongabay.com/feed/',\n",
       "  'title': 'Conservation news'},\n",
       " 'originId': 'https://news.mongabay.com/?p=207516',\n",
       " 'published': 1529280000000,\n",
       " 'summary': {'content': '<img alt=\"Ebony langur (Trachypithecus auratus). Image by Rhett Butler.\" sizes=\"(max-width: 100px) 100vw, 100px\" srcset=\"https://imgs.mongabay.com/wp-content/uploads/sites/20/2018/06/18151815/brnxz_876.jpg 100w, https://imgs.mongabay.com/wp-content/uploads/sites/20/2018/06/18151815/brnxz_876.jpg 550w, https://imgs.mongabay.com/wp-content/uploads/sites/20/2018/06/18151815/brnxz_876.jpg 470w\" src=\"https://imgs.mongabay.com/wp-content/uploads/sites/20/2018/06/18151815/brnxz_876-100x100.jpg\" class=\"wp-post-image\">You grew up watching David Attenborough documentaries and reading Gerald Durrell memoirs. You volunteered banding marmosets in Brazil. You have a bachelor’s in biology and a master’s in conservation biology. You spent a year interning at an international NGO. You’ve got the passion, the education, the experience — but now you just can’t find a […]',\n",
       "  'direction': 'ltr'},\n",
       " 'title': '‘Not all doom and gloom’: Q&A with conservation job market researchers',\n",
       " 'unread': True,\n",
       " 'visual': {'contentType': 'image/jpeg',\n",
       "  'url': 'https://imgs.mongabay.com/wp-content/uploads/sites/20/2018/06/18151815/brnxz_876-768x512.jpg'}}"
      ]
     },
     "execution_count": 56,
     "metadata": {},
     "output_type": "execute_result"
    }
   ],
   "source": [
    "pulled_json[0]['items'][0]"
   ]
  },
  {
   "cell_type": "markdown",
   "metadata": {},
   "source": [
    "---------------------"
   ]
  },
  {
   "cell_type": "markdown",
   "metadata": {},
   "source": [
    "## Filter the Items "
   ]
  },
  {
   "cell_type": "markdown",
   "metadata": {},
   "source": [
    "**Remove the EWS Posts - these are from IAP we don't need to process them **"
   ]
  },
  {
   "cell_type": "code",
   "execution_count": 40,
   "metadata": {},
   "outputs": [],
   "source": [
    "json2df['keep'] = [False if 'ews.rightsindevelopment.org' in i else True for i in json2df.url]"
   ]
  },
  {
   "cell_type": "code",
   "execution_count": 41,
   "metadata": {},
   "outputs": [
    {
     "data": {
      "text/plain": [
       "True     18893\n",
       "False    16107\n",
       "Name: keep, dtype: int64"
      ]
     },
     "execution_count": 41,
     "metadata": {},
     "output_type": "execute_result"
    }
   ],
   "source": [
    "json2df.keep.value_counts()"
   ]
  },
  {
   "cell_type": "code",
   "execution_count": 42,
   "metadata": {},
   "outputs": [],
   "source": [
    "json2df = json2df[json2df.keep]"
   ]
  },
  {
   "cell_type": "markdown",
   "metadata": {},
   "source": [
    "**Filter out File Uploads and other Non-Articles**\n",
    "\n",
    "It appears that if the `summary` field is empty the item is not an article. "
   ]
  },
  {
   "cell_type": "code",
   "execution_count": 43,
   "metadata": {},
   "outputs": [],
   "source": [
    "temp_keep = json2df.copy(deep=True)"
   ]
  },
  {
   "cell_type": "code",
   "execution_count": 44,
   "metadata": {},
   "outputs": [
    {
     "name": "stdout",
     "output_type": "stream",
     "text": [
      "(17038, 8)\n"
     ]
    }
   ],
   "source": [
    "json2df = json2df[json2df['summary'].notnull()]\n",
    "print(json2df.shape)"
   ]
  },
  {
   "cell_type": "markdown",
   "metadata": {},
   "source": [
    "---------------"
   ]
  },
  {
   "cell_type": "markdown",
   "metadata": {},
   "source": [
    "## De-Dupe a Bit "
   ]
  },
  {
   "cell_type": "markdown",
   "metadata": {},
   "source": [
    "This is just a basic group by - does not look for articles that are duplicated in content but maybe from a different url, or differnt source. "
   ]
  },
  {
   "cell_type": "code",
   "execution_count": 45,
   "metadata": {},
   "outputs": [],
   "source": [
    "grp_df = json2df.groupby(['article_id','title','url','keep']).agg({\n",
    "    'content':'min',\n",
    "    'summary':'min',\n",
    "    'published':'max',\n",
    "    'feed_label': lambda x: ','.join(set(x))}\n",
    "    ).reset_index()"
   ]
  },
  {
   "cell_type": "code",
   "execution_count": 46,
   "metadata": {},
   "outputs": [
    {
     "data": {
      "text/html": [
       "<div>\n",
       "<style scoped>\n",
       "    .dataframe tbody tr th:only-of-type {\n",
       "        vertical-align: middle;\n",
       "    }\n",
       "\n",
       "    .dataframe tbody tr th {\n",
       "        vertical-align: top;\n",
       "    }\n",
       "\n",
       "    .dataframe thead th {\n",
       "        text-align: right;\n",
       "    }\n",
       "</style>\n",
       "<table border=\"1\" class=\"dataframe\">\n",
       "  <thead>\n",
       "    <tr style=\"text-align: right;\">\n",
       "      <th></th>\n",
       "      <th>article_id</th>\n",
       "      <th>title</th>\n",
       "      <th>url</th>\n",
       "      <th>keep</th>\n",
       "      <th>published</th>\n",
       "      <th>summary</th>\n",
       "      <th>feed_label</th>\n",
       "      <th>content</th>\n",
       "    </tr>\n",
       "  </thead>\n",
       "  <tbody>\n",
       "    <tr>\n",
       "      <th>0</th>\n",
       "      <td>100904a0</td>\n",
       "      <td>AfDB approves third sovereign lending instrument</td>\n",
       "      <td>https://newtelegraphonline.com/2018/01/afdb-ap...</td>\n",
       "      <td>True</td>\n",
       "      <td>2018-01-04 20:19:26</td>\n",
       "      <td>&lt;table border=\"0\" cellspacing=\"3\" cellpadding=...</td>\n",
       "      <td>NEWS AFDB- All Streams</td>\n",
       "      <td>NaN</td>\n",
       "    </tr>\n",
       "    <tr>\n",
       "      <th>1</th>\n",
       "      <td>100da81a</td>\n",
       "      <td>Nigerian banks to benefit from AfDB's $50m tra...</td>\n",
       "      <td>http://punchng.com/nigerian-banks-to-benefit-f...</td>\n",
       "      <td>True</td>\n",
       "      <td>2018-04-05 19:06:37</td>\n",
       "      <td>&lt;table border=\"0\" cellspacing=\"3\" cellpadding=...</td>\n",
       "      <td>NEWS AFDB- All Streams</td>\n",
       "      <td>NaN</td>\n",
       "    </tr>\n",
       "    <tr>\n",
       "      <th>2</th>\n",
       "      <td>10117f34</td>\n",
       "      <td>EBRD invests over EUR 0.5 bln in Romania in 2017</td>\n",
       "      <td>https://www.romania-insider.com/ebrd-invests-r...</td>\n",
       "      <td>True</td>\n",
       "      <td>2018-01-30 05:30:26</td>\n",
       "      <td>&lt;table border=\"0\" cellspacing=\"3\" cellpadding=...</td>\n",
       "      <td>NEWS EBRD - All streams</td>\n",
       "      <td>NaN</td>\n",
       "    </tr>\n",
       "    <tr>\n",
       "      <th>3</th>\n",
       "      <td>1012c3f6</td>\n",
       "      <td>Britain pledges to easy Zim's cash shortages</td>\n",
       "      <td>http://www.thezimbabwean.co/2017/11/britain-pl...</td>\n",
       "      <td>True</td>\n",
       "      <td>2017-11-30 03:01:00</td>\n",
       "      <td>&lt;table border=\"0\" cellspacing=\"3\" cellpadding=...</td>\n",
       "      <td>NEWS AFDB- All Streams</td>\n",
       "      <td>NaN</td>\n",
       "    </tr>\n",
       "    <tr>\n",
       "      <th>4</th>\n",
       "      <td>10146756</td>\n",
       "      <td>First real test for Jokowi on haze as annual f...</td>\n",
       "      <td>https://news.mongabay.com/2017/08/indonesian-p...</td>\n",
       "      <td>True</td>\n",
       "      <td>2017-08-07 20:00:00</td>\n",
       "      <td>&lt;img alt=\"\" src=\"https://imgs.mongabay.com/wp-...</td>\n",
       "      <td>NEWS - Mongabay</td>\n",
       "      <td>JAKARTA — Fire season has returned to Indonesi...</td>\n",
       "    </tr>\n",
       "  </tbody>\n",
       "</table>\n",
       "</div>"
      ],
      "text/plain": [
       "  article_id                                              title  \\\n",
       "0   100904a0   AfDB approves third sovereign lending instrument   \n",
       "1   100da81a  Nigerian banks to benefit from AfDB's $50m tra...   \n",
       "2   10117f34   EBRD invests over EUR 0.5 bln in Romania in 2017   \n",
       "3   1012c3f6       Britain pledges to easy Zim's cash shortages   \n",
       "4   10146756  First real test for Jokowi on haze as annual f...   \n",
       "\n",
       "                                                 url  keep  \\\n",
       "0  https://newtelegraphonline.com/2018/01/afdb-ap...  True   \n",
       "1  http://punchng.com/nigerian-banks-to-benefit-f...  True   \n",
       "2  https://www.romania-insider.com/ebrd-invests-r...  True   \n",
       "3  http://www.thezimbabwean.co/2017/11/britain-pl...  True   \n",
       "4  https://news.mongabay.com/2017/08/indonesian-p...  True   \n",
       "\n",
       "            published                                            summary  \\\n",
       "0 2018-01-04 20:19:26  <table border=\"0\" cellspacing=\"3\" cellpadding=...   \n",
       "1 2018-04-05 19:06:37  <table border=\"0\" cellspacing=\"3\" cellpadding=...   \n",
       "2 2018-01-30 05:30:26  <table border=\"0\" cellspacing=\"3\" cellpadding=...   \n",
       "3 2017-11-30 03:01:00  <table border=\"0\" cellspacing=\"3\" cellpadding=...   \n",
       "4 2017-08-07 20:00:00  <img alt=\"\" src=\"https://imgs.mongabay.com/wp-...   \n",
       "\n",
       "                feed_label                                            content  \n",
       "0   NEWS AFDB- All Streams                                                NaN  \n",
       "1   NEWS AFDB- All Streams                                                NaN  \n",
       "2  NEWS EBRD - All streams                                                NaN  \n",
       "3   NEWS AFDB- All Streams                                                NaN  \n",
       "4          NEWS - Mongabay  JAKARTA — Fire season has returned to Indonesi...  "
      ]
     },
     "execution_count": 46,
     "metadata": {},
     "output_type": "execute_result"
    }
   ],
   "source": [
    "grp_df.head()"
   ]
  },
  {
   "cell_type": "code",
   "execution_count": 48,
   "metadata": {},
   "outputs": [
    {
     "data": {
      "text/plain": [
       "(14237, 8)"
      ]
     },
     "execution_count": 48,
     "metadata": {},
     "output_type": "execute_result"
    }
   ],
   "source": [
    "grp_df.shape"
   ]
  },
  {
   "cell_type": "markdown",
   "metadata": {},
   "source": [
    "--------------------"
   ]
  },
  {
   "cell_type": "markdown",
   "metadata": {},
   "source": [
    "## Export - Pre Scrape"
   ]
  },
  {
   "cell_type": "markdown",
   "metadata": {},
   "source": [
    "This is just to create a file the IAP can use to create labeled data. "
   ]
  },
  {
   "cell_type": "code",
   "execution_count": 296,
   "metadata": {},
   "outputs": [],
   "source": [
    "# grp_df = grp_df.sample(frac=1)\n",
    "\n",
    "# print(grp_df.shape)\n",
    "\n",
    "# grp_df[['article_id','published','title','url','feed_label']].to_csv('../Temp_Output/article20k_pull4labeling.csv',index=False)"
   ]
  },
  {
   "cell_type": "markdown",
   "metadata": {},
   "source": [
    "----------------------------"
   ]
  },
  {
   "cell_type": "markdown",
   "metadata": {},
   "source": [
    "## Export the Article Dataset "
   ]
  },
  {
   "cell_type": "markdown",
   "metadata": {},
   "source": [
    "**Dump**"
   ]
  },
  {
   "cell_type": "code",
   "execution_count": 53,
   "metadata": {},
   "outputs": [],
   "source": [
    "# with open('../Temp_Output/api_article_extract.pkl', 'wb') as file:\n",
    "#     pickle.dump(grp_df, file)\n"
   ]
  },
  {
   "cell_type": "markdown",
   "metadata": {},
   "source": [
    "## Load the Api article extract "
   ]
  },
  {
   "cell_type": "code",
   "execution_count": 8,
   "metadata": {},
   "outputs": [],
   "source": [
    "with open('../Temp_Output/api_article_extract.pkl', 'rb') as file:\n",
    "    grp_df = pickle.load(file)\n"
   ]
  },
  {
   "cell_type": "code",
   "execution_count": 9,
   "metadata": {},
   "outputs": [
    {
     "data": {
      "text/plain": [
       "(11753, 8)"
      ]
     },
     "execution_count": 9,
     "metadata": {},
     "output_type": "execute_result"
    }
   ],
   "source": [
    "grp_df.shape"
   ]
  },
  {
   "cell_type": "markdown",
   "metadata": {},
   "source": [
    "-----------"
   ]
  },
  {
   "cell_type": "markdown",
   "metadata": {},
   "source": [
    "## Scrape the articles"
   ]
  },
  {
   "cell_type": "markdown",
   "metadata": {},
   "source": [
    "**NOTE** - This is Slow - so may need to run in batches or overnight, or both. "
   ]
  },
  {
   "cell_type": "markdown",
   "metadata": {},
   "source": [
    "Doing some scraping for article content --- I've pull around 20K articles which when deduped and filtered is around 11K actual news articles. This is a lot of content to scrape at once - hence the use of the file cache. Code is all a little hacky - just wanted to get some stuff pulled quickly. We don't want to be pulling data at the event . "
   ]
  },
  {
   "cell_type": "markdown",
   "metadata": {},
   "source": [
    "**Cache**\n",
    "I'm saving the \"scraped\" article content in a dictionary and then writing it to a file. If we change the information we are pulling using the newspaper library we will need to recreate this cache. "
   ]
  },
  {
   "cell_type": "markdown",
   "metadata": {},
   "source": [
    "**Shuffle **"
   ]
  },
  {
   "cell_type": "code",
   "execution_count": 7,
   "metadata": {},
   "outputs": [],
   "source": [
    "grp_df = grp_df.sample(frac=1)"
   ]
  },
  {
   "cell_type": "code",
   "execution_count": 5,
   "metadata": {},
   "outputs": [],
   "source": [
    "try:\n",
    "    with open('../Temp_Output/article_cache.pkl', 'rb') as file:\n",
    "        cache = pickle.load(file)\n",
    "except:\n",
    "    print('error')\n",
    "    \n",
    "error_count = 0"
   ]
  },
  {
   "cell_type": "code",
   "execution_count": 34,
   "metadata": {},
   "outputs": [],
   "source": [
    "def get_text_via_Article(url, article_id, try_hard=False):\n",
    "    \"\"\"\n",
    "    Returns scraped article content and the keywords- using the newspaper3k module (http://newspaper.readthedocs.io/en/latest/)\n",
    "    \"\"\"\n",
    "    \n",
    "    global cache  ## Just writing to the global cahce object this way we can interrupt the run without losing the data\n",
    "    global error_count\n",
    "    if article_id not in cache:  ## Check to see if we have already scraped this article (maybe in a previous run of this)\n",
    "        article = Article(url)   ## Newspaper Article Object\n",
    "        article.download()\n",
    "        try:\n",
    "            article.parse()  ## Sometimes this step fails because the download doesn't complete\n",
    "        except ArticleException:  ## In that case we give the download an additional 10 seconds to complete. \n",
    "            if try_hard: ## If we want to actually try to download the ones that failed\n",
    "                print('Encountered Exception',url)\n",
    "                article.download()\n",
    "                print('\\nGoing to try a longer download period. ')\n",
    "                sleep(10) #Sometimes it take a lil bit to download the article - longer is better but then it takes longer .... \n",
    "                try:  \n",
    "                    article.parse()  ## Try again \n",
    "                except ArticleException:  #Otherwise lets just keep going\n",
    "                    print('Failed - Article Not Downloaded\\n')\n",
    "                    error_count += 1\n",
    "                    cache[article_id] = (-1,-1)\n",
    "                    return None \n",
    "            else:\n",
    "                error_count += 1\n",
    "                cache[article_id] = (-1,-1)\n",
    "                return None\n",
    "        ## Now Process Article \n",
    "        try:\n",
    "            article.nlp() ## This came up for one article - parse passed but not nlp\n",
    "        except ArticleException:\n",
    "            cache[article_id] = (-1,-1)\n",
    "            return None\n",
    "        cache[article_id] = (article.text, article.keywords)\n",
    "        return None\n",
    "    else:\n",
    "        return None\n",
    "    "
   ]
  },
  {
   "cell_type": "markdown",
   "metadata": {},
   "source": [
    "**Loop over the dataframe and extract the article content (if it hasn't been scraped yet ) **"
   ]
  },
  {
   "cell_type": "code",
   "execution_count": 35,
   "metadata": {},
   "outputs": [
    {
     "name": "stdout",
     "output_type": "stream",
     "text": [
      "** Iteration Count 0  **\n",
      "** Error Count 78  **\n",
      "### Saving Cache ###\n",
      "** Iteration Count 100  **\n",
      "** Error Count 78  **\n",
      "** Iteration Count 200  **\n",
      "** Error Count 78  **\n",
      "** Iteration Count 300  **\n",
      "** Error Count 78  **\n",
      "** Iteration Count 400  **\n",
      "** Error Count 78  **\n",
      "** Iteration Count 500  **\n",
      "** Error Count 78  **\n",
      "### Saving Cache ###\n",
      "** Iteration Count 600  **\n",
      "** Error Count 78  **\n",
      "** Iteration Count 700  **\n",
      "** Error Count 78  **\n",
      "** Iteration Count 800  **\n",
      "** Error Count 78  **\n",
      "** Iteration Count 900  **\n",
      "** Error Count 78  **\n",
      "** Iteration Count 1000  **\n",
      "** Error Count 78  **\n",
      "### Saving Cache ###\n",
      "** Iteration Count 1100  **\n",
      "** Error Count 78  **\n",
      "** Iteration Count 1200  **\n",
      "** Error Count 78  **\n",
      "** Iteration Count 1300  **\n",
      "** Error Count 78  **\n",
      "** Iteration Count 1400  **\n",
      "** Error Count 78  **\n",
      "** Iteration Count 1500  **\n",
      "** Error Count 78  **\n",
      "### Saving Cache ###\n",
      "** Iteration Count 1600  **\n",
      "** Error Count 78  **\n",
      "** Iteration Count 1700  **\n",
      "** Error Count 78  **\n",
      "** Iteration Count 1800  **\n",
      "** Error Count 78  **\n",
      "You must `parse()` an article first!\n",
      "You must `download()` an article first!\n",
      "Article `download()` failed with 404 Client Error: Unknown site! for url: http://energyinfrastructure.cleantechnology-business-review.com/news/eu-eib-ebrd-and-world-bank-offer-finance-to-moldova-romania-power-link-221217-6010468 on URL http://energyinfrastructure.cleantechnology-business-review.com/news/eu-eib-ebrd-and-world-bank-offer-finance-to-moldova-romania-power-link-221217-6010468\n",
      "Article `download()` failed with 500 Server Error: Internal Server Error for url: https://www.myjoyonline.com/opinion/2017/December-8th/ebony-reigns-is-a-saint.php on URL https://www.myjoyonline.com/opinion/2017/December-8th/ebony-reigns-is-a-saint.php\n",
      "You must `download()` an article first!\n",
      "You must `download()` an article first!\n",
      "** Iteration Count 1900  **\n",
      "** Error Count 83  **\n",
      "Article `download()` failed with 503 Server Error: Service Temporarily Unavailable for url: http://thestandard.com.ph/business/power-technology/261689/edc-secures-90-b-loan-from-world-bank-arm.html on URL http://thestandard.com.ph/business/power-technology/261689/edc-secures-90-b-loan-from-world-bank-arm.html\n",
      "Article `download()` failed with 500 Server Error: Internal Server Error for url: https://www.myjoyonline.com/business/2018/January-20th/2018-african-economic-outlook-afdb-boss-pushing-for-africas-industrialisation.php on URL https://www.myjoyonline.com/business/2018/January-20th/2018-african-economic-outlook-afdb-boss-pushing-for-africas-industrialisation.php\n"
     ]
    },
    {
     "name": "stderr",
     "output_type": "stream",
     "text": [
      "/Users/michaeldowd/anaconda/envs/my_py_3/lib/python3.5/site-packages/dateutil/parser/_parser.py:1165: UnknownTimezoneWarning: tzname IST identified but not understood.  Pass `tzinfos` argument in order to correctly return a timezone-aware datetime.  In a future version, this raise an exception.\n",
      "  category=UnknownTimezoneWarning)\n"
     ]
    },
    {
     "name": "stdout",
     "output_type": "stream",
     "text": [
      "You must `download()` an article first!\n",
      "You must `download()` an article first!\n",
      "You must `download()` an article first!\n",
      "You must `download()` an article first!\n",
      "** Iteration Count 2000  **\n",
      "** Error Count 89  **\n",
      "### Saving Cache ###\n",
      "You must `download()` an article first!\n",
      "Article `download()` failed with 404 Client Error: Not Found for url: http://www.businessdayonline.com/cros-agro-secures-afdbgrow-africa-funding-support/ on URL http://www.businessdayonline.com/cros-agro-secures-afdbgrow-africa-funding-support/\n",
      "You must `download()` an article first!\n",
      "Article `download()` failed with 404 Client Error: Not Found for url: http://www.fijitimes.com/story.aspx?id=427964 on URL http://www.fijitimes.com/story.aspx?id=427964\n",
      "** Iteration Count 2100  **\n",
      "** Error Count 93  **\n",
      "Article `download()` failed with 503 Server Error: Service Temporarily Unavailable for url: https://www.moneylife.in/article/indian-economy-to-advance-73-percentage-in-2018-19-fastest-growing-world-bank/54242.html on URL https://www.moneylife.in/article/indian-economy-to-advance-73-percentage-in-2018-19-fastest-growing-world-bank/54242.html\n",
      "You must `download()` an article first!\n",
      "You must `download()` an article first!\n",
      "Article `download()` failed with 503 Server Error: Service Temporarily Unavailable for url: https://fp.brecorder.com/2017/12/20171218328210/ on URL https://fp.brecorder.com/2017/12/20171218328210/\n",
      "Article `download()` failed with 503 Server Error: Service Temporarily Unavailable for url: https://www.brecorder.com/2018/01/12/392475/to-do-list-for-adb-pakistan/ on URL https://www.brecorder.com/2018/01/12/392475/to-do-list-for-adb-pakistan/\n",
      "Article `download()` failed with 404 Client Error: Unknown site! for url: http://wind.cleantechnology-business-review.com/news/ebrd-releases-first-loan-under-350m-polish-green-facility-030118-6017497 on URL http://wind.cleantechnology-business-review.com/news/ebrd-releases-first-loan-under-350m-polish-green-facility-030118-6017497\n",
      "Article `download()` failed with 416 Client Error: Requested Range Not Satisfiable for url: https://www.streetinsider.com/SEC+Filings/Form+497K+CONSULTING+GROUP+CAPITAL/13639767.html on URL https://www.streetinsider.com/SEC+Filings/Form+497K+CONSULTING+GROUP+CAPITAL/13639767.html\n",
      "You must `download()` an article first!\n",
      "You must `download()` an article first!\n",
      "Article `download()` failed with 404 Client Error: Not Found for url: http://www.fijitimes.com/story.aspx?id=432780 on URL http://www.fijitimes.com/story.aspx?id=432780\n",
      "Article `download()` failed with 404 Client Error: Not Found for url: https://www.montrosepress.com/national/sports/carolina-panthers-run-game-pass-rush-key-in-snapping-vikings/article_e64e2cec-afdb-589f-850a-d89c6d50d2b1.html on URL http://www.montrosepress.com/national/sports/carolina-panthers-run-game-pass-rush-key-in-snapping-vikings/article_e64e2cec-afdb-589f-850a-d89c6d50d2b1.html\n",
      "Article `download()` failed with 503 Server Error: Service Temporarily Unavailable for url: http://thestandard.com.ph/business/biz-plus/260765/jica-dotr-team-up-to-form-rail-institute.html on URL http://thestandard.com.ph/business/biz-plus/260765/jica-dotr-team-up-to-form-rail-institute.html\n",
      "You must `download()` an article first!\n",
      "** Iteration Count 2200  **\n",
      "** Error Count 106  **\n",
      "You must `download()` an article first!\n",
      "Article `download()` failed with 404 Client Error: Not Found for url: https://www.opengovasia.com/articles/1 on URL https://www.opengovasia.com/articles/1\n",
      "Article `download()` failed with 404 Client Error: Not Found for url: https://www.ajc.com/business/china-protests-australia-criticism-chinese-aid-pacific/vD5fJjNXpLr6I9jOdPklEJ/ on URL http://www.ajc.com/business/china-protests-australia-criticism-chinese-aid-pacific/vD5fJjNXpLr6I9jOdPklEJ/\n",
      "You must `download()` an article first!\n",
      "Article `download()` failed with 503 Server Error: Service Temporarily Unavailable for url: https://www.brecorder.com/2017/12/21/388416/climate-change-policies-yearning-implementation/ on URL https://www.brecorder.com/2017/12/21/388416/climate-change-policies-yearning-implementation/\n"
     ]
    },
    {
     "name": "stderr",
     "output_type": "stream",
     "text": [
      "/Users/michaeldowd/anaconda/envs/my_py_3/lib/python3.5/site-packages/PIL/TiffImagePlugin.py:739: UserWarning: Possibly corrupt EXIF data.  Expecting to read 2060 bytes but only got 719. Skipping tag 59932\n",
      "  \" Skipping tag %s\" % (size, len(data), tag))\n",
      "/Users/michaeldowd/anaconda/envs/my_py_3/lib/python3.5/site-packages/PIL/TiffImagePlugin.py:756: UserWarning: Corrupt EXIF data.  Expecting to read 2 bytes but only got 0. \n",
      "  warnings.warn(str(msg))\n",
      "/Users/michaeldowd/anaconda/envs/my_py_3/lib/python3.5/site-packages/PIL/TiffImagePlugin.py:739: UserWarning: Possibly corrupt EXIF data.  Expecting to read 2060 bytes but only got 1743. Skipping tag 59932\n",
      "  \" Skipping tag %s\" % (size, len(data), tag))\n",
      "/Users/michaeldowd/anaconda/envs/my_py_3/lib/python3.5/site-packages/PIL/TiffImagePlugin.py:739: UserWarning: Possibly corrupt EXIF data.  Expecting to read 2060 bytes but only got 550. Skipping tag 59932\n",
      "  \" Skipping tag %s\" % (size, len(data), tag))\n",
      "/Users/michaeldowd/anaconda/envs/my_py_3/lib/python3.5/site-packages/PIL/TiffImagePlugin.py:739: UserWarning: Possibly corrupt EXIF data.  Expecting to read 2060 bytes but only got 1574. Skipping tag 59932\n",
      "  \" Skipping tag %s\" % (size, len(data), tag))\n"
     ]
    },
    {
     "name": "stdout",
     "output_type": "stream",
     "text": [
      "Article `download()` failed with 404 Client Error: Not Found for url: https://www.journalducameroun.com/en/tunisia-gets-e50m-ebrd-loan-to-finance-small-businesses/ on URL https://www.journalducameroun.com/en/tunisia-gets-e50m-ebrd-loan-to-finance-small-businesses/\n",
      "Article `download()` failed with 404 Client Error: Not Found for url: https://reliefweb.int/report/mozambique/african-development-bank-and-mozambique-sign-us-29-million-grant-agreements on URL https://reliefweb.int/report/mozambique/african-development-bank-and-mozambique-sign-us-29-million-grant-agreements\n",
      "** Iteration Count 2300  **\n",
      "** Error Count 113  **\n",
      "You must `download()` an article first!\n",
      "You must `download()` an article first!\n",
      "You must `download()` an article first!\n",
      "Article `download()` failed with 503 Server Error: Service Unavailable: Back-end server is at capacity for url: http://www.downtoearth.org.in/news/private-finance-gets-a-boost-at-climate-summit-in-france-but-states-don-t-commit-much-59329 on URL http://www.downtoearth.org.in/news/private-finance-gets-a-boost-at-climate-summit-in-france-but-states-don-t-commit-much-59329\n",
      "Article `download()` failed with 404 Client Error: Not Found for url: http://www.pressofatlanticcity.com/business/technology/bitcoin-goes-on-wild-ride-and-it-may-only-get/article_5d7df915-5107-5cb4-afdb-975d21ec7a85.html on URL http://www.pressofatlanticcity.com/business/technology/bitcoin-goes-on-wild-ride-and-it-may-only-get/article_5d7df915-5107-5cb4-afdb-975d21ec7a85.html\n",
      "** Iteration Count 2400  **\n",
      "** Error Count 118  **\n",
      "Article `download()` failed with 403 Client Error: forbidden for url: http://www.constructionweekonline.com/article-47721-acwa-power-closes-financing-for-egypt-solar-projects-worth-190m/ on URL http://www.constructionweekonline.com/article-47721-acwa-power-closes-financing-for-egypt-solar-projects-worth-190m/\n",
      "You must `download()` an article first!\n",
      "Article `download()` failed with 500 Server Error: Internal Server Error for url: https://www.myjoyonline.com/business/2017/December-26th/ghana-gets-us200m-aid-from-world-bank.php on URL https://www.myjoyonline.com/business/2017/December-26th/ghana-gets-us200m-aid-from-world-bank.php\n",
      "Article `download()` failed with 403 Client Error: Forbidden for url: https://www.independent.co.ug/african-dev-bank-indicates-oil-investments-spur-uganda-economy-2018/ on URL https://www.independent.co.ug/african-dev-bank-indicates-oil-investments-spur-uganda-economy-2018/\n",
      "You must `download()` an article first!\n",
      "You must `download()` an article first!\n",
      "You must `download()` an article first!\n",
      "You must `download()` an article first!\n",
      "You must `parse()` an article first!\n",
      "** Iteration Count 2500  **\n",
      "** Error Count 126  **\n",
      "### Saving Cache ###\n",
      "You must `download()` an article first!\n",
      "You must `download()` an article first!\n",
      "You must `download()` an article first!\n",
      "You must `download()` an article first!\n",
      "** Iteration Count 2600  **\n",
      "** Error Count 130  **\n",
      "Article `download()` failed with 404 Client Error: Not Found for url: http://www.fijitimes.com/story.aspx?id=435713 on URL http://www.fijitimes.com/story.aspx?id=435713\n",
      "Article `download()` failed with 404 Client Error: Not Found for url: https://www.statesman.com/business/china-protests-australia-criticism-chinese-aid-pacific/vD5fJjNXpLr6I9jOdPklEJ/ on URL http://www.statesman.com/business/china-protests-australia-criticism-chinese-aid-pacific/vD5fJjNXpLr6I9jOdPklEJ/\n",
      "Article `download()` failed with 404 Client Error: Not Found for url: http://www.morganton.com/news/us/ap/former-christie-bridge-lawyers-get-key-trump-positions/article_9e530ca4-efa3-55fb-afdb-6185e4b1b5d6.html on URL http://www.morganton.com/news/us/ap/former-christie-bridge-lawyers-get-key-trump-positions/article_9e530ca4-efa3-55fb-afdb-6185e4b1b5d6.html\n",
      "Article `download()` failed with 404 Client Error: Not Found for url: http://www.centralchronicle.com/india-to-host-3rd-annual-meeting-of-board-of-governors-of-aiib.html on URL http://www.centralchronicle.com/india-to-host-3rd-annual-meeting-of-board-of-governors-of-aiib.html\n",
      "You must `download()` an article first!\n",
      "You must `download()` an article first!\n",
      "Article `download()` failed with 405 Client Error: Not Allowed for url: https://www.hydroworld.com/articles/2018/03/world-bank-approves-us-375-million-ida-credit-to-support-ethiopia-2025-goal.html on URL http://www.hydroworld.com/articles/2018/03/world-bank-approves-us-375-million-ida-credit-to-support-ethiopia-2025-goal.html\n",
      "You must `download()` an article first!\n",
      "** Iteration Count 2700  **\n",
      "** Error Count 138  **\n",
      "Article `download()` failed with 404 Client Error: Not Found for url: http://www.ntv.co.ug/node/23969 on URL http://www.ntv.co.ug/node/23969\n",
      "Article `download()` failed with 404 Client Error: Not Found for url: https://www.businessdayonline.com/afdb-raise-8bn-capital-markets-2018/ on URL https://www.businessdayonline.com/afdb-raise-8bn-capital-markets-2018/\n",
      "Article `download()` failed with 404 Client Error: Not Found for url: https://lancasteronline.com/news/national/bada-bing-new-jersey-whacks-sopranos-strip-club/article_feb7e9ef-0675-5b04-afdb-943e37cbf4ce.html on URL http://lancasteronline.com/news/national/bada-bing-new-jersey-whacks-sopranos-strip-club/article_feb7e9ef-0675-5b04-afdb-943e37cbf4ce.html\n",
      "Article `download()` failed with 404 Client Error: Not Found for url: https://www.frontiersman.com/national/pets/service-dog-inspires-woman-to-live-life-to-the-fullest/youtube_a618ee22-d3f8-5c92-afdb-9d286e5f42f6.html on URL http://www.frontiersman.com/national/pets/service-dog-inspires-woman-to-live-life-to-the-fullest/youtube_a618ee22-d3f8-5c92-afdb-9d286e5f42f6.html\n",
      "You must `download()` an article first!\n",
      "Article `download()` failed with 416 Client Error: Requested Range Not Satisfiable for url: http://www.streetinsider.com/Reuters/Russia+moves+to+save+Promsvyazbank+in+third+bailout+of+2017/13604830.html on URL http://www.streetinsider.com/Reuters/Russia+moves+to+save+Promsvyazbank+in+third+bailout+of+2017/13604830.html\n",
      "You must `download()` an article first!\n",
      "You must `download()` an article first!\n",
      "** Iteration Count 2800  **\n",
      "** Error Count 146  **\n",
      "Article `download()` failed with 404 Client Error: Not Found for url: http://www.businessdayonline.com/nba-launches-300m-afdb-fund-niger-basin/ on URL http://www.businessdayonline.com/nba-launches-300m-afdb-fund-niger-basin/\n",
      "You must `download()` an article first!\n",
      "You must `download()` an article first!\n",
      "You must `download()` an article first!\n",
      "You must `download()` an article first!\n",
      "You must `download()` an article first!\n",
      "** Iteration Count 2900  **\n",
      "** Error Count 152  **\n",
      "You must `download()` an article first!\n",
      "You must `download()` an article first!\n",
      "Article `download()` failed with 503 Server Error: Service Temporarily Unavailable for url: https://fp.brecorder.com/2018/04/20180406358100/ on URL https://fp.brecorder.com/2018/04/20180406358100/\n",
      "Article `download()` failed with 500 Server Error: Internal Server Error for url: https://www.myjoyonline.com/business/2017/December-11th/world-bank-innovation-unlocks-capital-markets-for-climate-action.php on URL https://www.myjoyonline.com/business/2017/December-11th/world-bank-innovation-unlocks-capital-markets-for-climate-action.php\n",
      "** Iteration Count 3000  **\n",
      "** Error Count 156  **\n",
      "### Saving Cache ###\n",
      "Article `download()` failed with 500 Server Error: Internal Server Error for url: https://www.myjoyonline.com/business/2018/june-5th/world-bank-approves-50m-for-agric.php on URL https://www.myjoyonline.com/business/2018/june-5th/world-bank-approves-50m-for-agric.php\n",
      "You must `download()` an article first!\n",
      "You must `download()` an article first!\n",
      "You must `download()` an article first!\n",
      "Article `download()` failed with 404 Client Error: Unknown site! for url: http://recyclingandwastemanagement.cleantechnology-business-review.com/news/adb-partners-with-china-everbright-to-develop-waste-to-energy-plants-in-vietnam-020518-6046350 on URL http://recyclingandwastemanagement.cleantechnology-business-review.com/news/adb-partners-with-china-everbright-to-develop-waste-to-energy-plants-in-vietnam-020518-6046350\n",
      "You must `download()` an article first!\n",
      "Article `download()` failed with 404 Client Error: Not Found for url: http://www.businessdayonline.com/nigeria-signs-mou-arc-climate-risk-financing/ on URL http://www.businessdayonline.com/nigeria-signs-mou-arc-climate-risk-financing/\n",
      "Article `download()` failed with 404 Client Error: Not Found for url: http://www.newtimes.co.rw/section/read/229601/ on URL http://www.newtimes.co.rw/section/read/229601/\n",
      "** Iteration Count 3100  **\n",
      "** Error Count 164  **\n",
      "Article `download()` failed with 404 Client Error: Not Found for url: https://www.chieftain.com/news/birthday-letdown-mitchell-scores-jazz-top-james-cavs/article_f6048845-e7ad-5c57-afdb-486a5f61d1c9.html on URL http://www.chieftain.com/news/birthday-letdown-mitchell-scores-jazz-top-james-cavs/article_f6048845-e7ad-5c57-afdb-486a5f61d1c9.html\n",
      "Article `download()` failed with 404 Client Error: Not Found for url: http://www.financecolombia.com/colombian-exports-jump-18-8-in-first-quarter-of-2018/ on URL http://www.financecolombia.com/colombian-exports-jump-18-8-in-first-quarter-of-2018/\n",
      "You must `download()` an article first!\n",
      "Article `download()` failed with 500 Server Error: Internal Server Error for url: https://www.myjoyonline.com/news/2018/February-13th/government-secures-40m-from-world-bank-to-support-free-shs.php on URL https://www.myjoyonline.com/news/2018/February-13th/government-secures-40m-from-world-bank-to-support-free-shs.php\n",
      "Article `download()` failed with 404 Client Error: Not Found for url: http://www.fijitimes.com/story.aspx?id=428912 on URL http://www.fijitimes.com/story.aspx?id=428912\n",
      "Article `download()` failed with 404 Client Error: Unknown site! for url: http://solar.cleantechnology-business-review.com/news/acciona-swicorp-start-building-three-solar-plants-totalling-150mw-in-egypt-210318-6090159 on URL http://solar.cleantechnology-business-review.com/news/acciona-swicorp-start-building-three-solar-plants-totalling-150mw-in-egypt-210318-6090159\n",
      "** Iteration Count 3200  **\n",
      "** Error Count 170  **\n",
      "You must `download()` an article first!\n",
      "You must `download()` an article first!\n",
      "Article `download()` failed with 404 Client Error: Not Found for url: http://www.wacotrib.com/news/ap_nation/politics/the-latest-trump-talks-immigration-with-gop-senators/article_67ff8dce-8f4e-5c11-afdb-30494d51387e.html on URL http://www.wacotrib.com/news/ap_nation/politics/the-latest-trump-talks-immigration-with-gop-senators/article_67ff8dce-8f4e-5c11-afdb-30494d51387e.html\n",
      "You must `download()` an article first!\n",
      "Article `download()` failed with 404 Client Error: Not Found for url: http://friscofastball.com/could-hill-international-inc-hil-skyrocket-even-more-the-stock-just-made-52-week-high/ on URL http://friscofastball.com/could-hill-international-inc-hil-skyrocket-even-more-the-stock-just-made-52-week-high/\n",
      "You must `download()` an article first!\n",
      "You must `download()` an article first!\n",
      "You must `download()` an article first!\n",
      "You must `download()` an article first!\n",
      "Article `download()` failed with 404 Client Error: Not Found for url: http://www.njherald.com/apps/pbcs.dll/error on URL http://www.njherald.com/article/20180510/AP/305109906\n",
      "** Iteration Count 3300  **\n",
      "** Error Count 180  **\n",
      "Article `download()` failed with 404 Client Error: Not Found for url: http://www.businessdayonline.com/afdbs-new-africa-investment-forum-moves-explore-ppp-model/ on URL http://www.businessdayonline.com/afdbs-new-africa-investment-forum-moves-explore-ppp-model/\n",
      "Article `download()` failed with 404 Client Error: Unknown site! for url: http://energyinfrastructure.cleantechnology-business-review.com/news/eib-provides-eur100m-loan-to-acciona-to-develop-digitalisation-strategy-220118-6033130 on URL http://energyinfrastructure.cleantechnology-business-review.com/news/eib-provides-eur100m-loan-to-acciona-to-develop-digitalisation-strategy-220118-6033130\n",
      "Article `download()` failed with 405 Client Error: Not Allowed for url: https://www.hydroworld.com/articles/2018/05/epm-working-on-recovery-at-ituango-dam-after-two-tunnel-collapses.html on URL https://www.hydroworld.com/articles/2018/05/epm-working-on-recovery-at-ituango-dam-after-two-tunnel-collapses.html\n",
      "Article `download()` failed with 404 Client Error: Not Found for url: https://reliefweb.int/report/world/building-resilience-creating-new-opportunities-eu-neighbourhood on URL https://reliefweb.int/report/world/building-resilience-creating-new-opportunities-eu-neighbourhood\n",
      "You must `download()` an article first!\n",
      "You must `download()` an article first!\n",
      "** Iteration Count 3400  **\n",
      "** Error Count 186  **\n",
      "Article `download()` failed with 405 Client Error: Not Allowed for url: https://www.hydroworld.com/articles/2017/12/norwegian-firm-will-oversee-hydropower-rehabilitation-and-new-development-in-papua-new-guinea.html on URL http://www.hydroworld.com/articles/2017/12/norwegian-firm-will-oversee-hydropower-rehabilitation-and-new-development-in-papua-new-guinea.html\n",
      "You must `download()` an article first!\n",
      "You must `download()` an article first!\n",
      "Article `download()` failed with 503 Server Error: Service Temporarily Unavailable for url: https://www.brecorder.com/2018/06/05/421582/adb-launches-sustainability-report/ on URL https://www.brecorder.com/2018/06/05/421582/adb-launches-sustainability-report/\n",
      "Article `download()` failed with 404 Client Error: Not Found for url: https://www.news-shield.com/lifestyles/article_077979f7-627f-54af-afdb-95410f0ac7ff.html on URL http://www.news-shield.com/lifestyles/article_077979f7-627f-54af-afdb-95410f0ac7ff.html\n",
      "You must `download()` an article first!\n",
      "** Iteration Count 3500  **\n",
      "** Error Count 192  **\n",
      "### Saving Cache ###\n",
      "You must `download()` an article first!\n",
      "You must `download()` an article first!\n",
      "You must `download()` an article first!\n",
      "Article `download()` failed with 503 Server Error: Service Temporarily Unavailable for url: https://fp.brecorder.com/2017/12/20171207325061/ on URL https://fp.brecorder.com/2017/12/20171207325061/\n",
      "Article `download()` failed with 403 Client Error: Forbidden for url: https://www.independent.co.ug/makerere-offers-land-mutebile-centre-excellence/ on URL https://www.independent.co.ug/makerere-offers-land-mutebile-centre-excellence/\n",
      "Article `download()` failed with 404 Client Error: Unknown site! for url: http://waterwastemanagement.cleantechnology-business-review.com/news/acciona-wins-contract-to-operate-16-wastewater-treatment-plants-in-madrid-spain-100518-6147297 on URL http://waterwastemanagement.cleantechnology-business-review.com/news/acciona-wins-contract-to-operate-16-wastewater-treatment-plants-in-madrid-spain-100518-6147297\n",
      "You must `download()` an article first!\n",
      "Article `download()` failed with 404 Client Error: Not Found for url: https://www.journalducameroun.com/en/africas-average-economic-growth-to-hit-over-4-0-percent-in-2018-afdb/ on URL https://www.journalducameroun.com/en/africas-average-economic-growth-to-hit-over-4-0-percent-in-2018-afdb/\n",
      "Article `download()` failed with 403 Client Error: 2 for url: https://www.globalresearch.ca/uk-conservatives-seek-closer-economic-ties-with-china/5625921 on URL https://www.globalresearch.ca/uk-conservatives-seek-closer-economic-ties-with-china/5625921\n",
      "** Iteration Count 3600  **\n",
      "** Error Count 201  **\n",
      "Article `download()` failed with 404 Client Error: Not Found for url: https://www.journalducameroun.com/en/liberian-newspapers-are-agog-with-reports-on-president-elect-weah-others/ on URL https://www.journalducameroun.com/en/liberian-newspapers-are-agog-with-reports-on-president-elect-weah-others/\n",
      "Article `download()` failed with 404 Client Error: Not Found for url: https://bzweekly.com/whats-next-for-hill-international-inc-hil-after-todays-huge-increase/ on URL https://bzweekly.com/whats-next-for-hill-international-inc-hil-after-todays-huge-increase/\n",
      "Article `download()` failed with 404 Client Error: Not Found for url: http://www.omaha.com/news/world/american-man-escapes-from-prison-on-indonesia-s-bali/article_b05607a3-03e0-504e-afdb-b4744ec1f63f.html on URL http://www.omaha.com/news/world/american-man-escapes-from-prison-on-indonesia-s-bali/article_b05607a3-03e0-504e-afdb-b4744ec1f63f.html\n",
      "You must `download()` an article first!\n",
      "Article `download()` failed with 404 Client Error: Not Found for url: http://www.hickoryrecord.com/sports/ap/diego-costa-returns-to-atletico-bearing-high-expectations/article_8b722ead-f25d-5b25-afdb-675d9cfee852.html on URL http://www.hickoryrecord.com/sports/ap/diego-costa-returns-to-atletico-bearing-high-expectations/article_8b722ead-f25d-5b25-afdb-675d9cfee852.html\n"
     ]
    },
    {
     "name": "stderr",
     "output_type": "stream",
     "text": [
      "/Users/michaeldowd/anaconda/envs/my_py_3/lib/python3.5/site-packages/PIL/TiffImagePlugin.py:739: UserWarning: Possibly corrupt EXIF data.  Expecting to read 6 bytes but only got 0. Skipping tag 271\n",
      "  \" Skipping tag %s\" % (size, len(data), tag))\n",
      "/Users/michaeldowd/anaconda/envs/my_py_3/lib/python3.5/site-packages/PIL/TiffImagePlugin.py:739: UserWarning: Possibly corrupt EXIF data.  Expecting to read 14 bytes but only got 0. Skipping tag 272\n",
      "  \" Skipping tag %s\" % (size, len(data), tag))\n",
      "/Users/michaeldowd/anaconda/envs/my_py_3/lib/python3.5/site-packages/PIL/TiffImagePlugin.py:739: UserWarning: Possibly corrupt EXIF data.  Expecting to read 8 bytes but only got 0. Skipping tag 282\n",
      "  \" Skipping tag %s\" % (size, len(data), tag))\n",
      "/Users/michaeldowd/anaconda/envs/my_py_3/lib/python3.5/site-packages/PIL/TiffImagePlugin.py:739: UserWarning: Possibly corrupt EXIF data.  Expecting to read 8 bytes but only got 0. Skipping tag 283\n",
      "  \" Skipping tag %s\" % (size, len(data), tag))\n",
      "/Users/michaeldowd/anaconda/envs/my_py_3/lib/python3.5/site-packages/PIL/TiffImagePlugin.py:739: UserWarning: Possibly corrupt EXIF data.  Expecting to read 27 bytes but only got 0. Skipping tag 305\n",
      "  \" Skipping tag %s\" % (size, len(data), tag))\n",
      "/Users/michaeldowd/anaconda/envs/my_py_3/lib/python3.5/site-packages/PIL/TiffImagePlugin.py:739: UserWarning: Possibly corrupt EXIF data.  Expecting to read 20 bytes but only got 0. Skipping tag 306\n",
      "  \" Skipping tag %s\" % (size, len(data), tag))\n",
      "/Users/michaeldowd/anaconda/envs/my_py_3/lib/python3.5/site-packages/PIL/TiffImagePlugin.py:739: UserWarning: Possibly corrupt EXIF data.  Expecting to read 2060 bytes but only got 848. Skipping tag 59932\n",
      "  \" Skipping tag %s\" % (size, len(data), tag))\n",
      "/Users/michaeldowd/anaconda/envs/my_py_3/lib/python3.5/site-packages/PIL/TiffImagePlugin.py:739: UserWarning: Possibly corrupt EXIF data.  Expecting to read 2060 bytes but only got 1872. Skipping tag 59932\n",
      "  \" Skipping tag %s\" % (size, len(data), tag))\n",
      "/Users/michaeldowd/anaconda/envs/my_py_3/lib/python3.5/site-packages/PIL/TiffImagePlugin.py:739: UserWarning: Possibly corrupt EXIF data.  Expecting to read 8 bytes but only got 0. Skipping tag 33434\n",
      "  \" Skipping tag %s\" % (size, len(data), tag))\n",
      "/Users/michaeldowd/anaconda/envs/my_py_3/lib/python3.5/site-packages/PIL/TiffImagePlugin.py:739: UserWarning: Possibly corrupt EXIF data.  Expecting to read 8 bytes but only got 0. Skipping tag 33437\n",
      "  \" Skipping tag %s\" % (size, len(data), tag))\n",
      "/Users/michaeldowd/anaconda/envs/my_py_3/lib/python3.5/site-packages/PIL/TiffImagePlugin.py:739: UserWarning: Possibly corrupt EXIF data.  Expecting to read 20 bytes but only got 0. Skipping tag 36867\n",
      "  \" Skipping tag %s\" % (size, len(data), tag))\n",
      "/Users/michaeldowd/anaconda/envs/my_py_3/lib/python3.5/site-packages/PIL/TiffImagePlugin.py:739: UserWarning: Possibly corrupt EXIF data.  Expecting to read 20 bytes but only got 0. Skipping tag 36868\n",
      "  \" Skipping tag %s\" % (size, len(data), tag))\n",
      "/Users/michaeldowd/anaconda/envs/my_py_3/lib/python3.5/site-packages/PIL/TiffImagePlugin.py:739: UserWarning: Possibly corrupt EXIF data.  Expecting to read 8 bytes but only got 0. Skipping tag 37377\n",
      "  \" Skipping tag %s\" % (size, len(data), tag))\n",
      "/Users/michaeldowd/anaconda/envs/my_py_3/lib/python3.5/site-packages/PIL/TiffImagePlugin.py:739: UserWarning: Possibly corrupt EXIF data.  Expecting to read 8 bytes but only got 0. Skipping tag 37378\n",
      "  \" Skipping tag %s\" % (size, len(data), tag))\n",
      "/Users/michaeldowd/anaconda/envs/my_py_3/lib/python3.5/site-packages/PIL/TiffImagePlugin.py:739: UserWarning: Possibly corrupt EXIF data.  Expecting to read 8 bytes but only got 0. Skipping tag 37380\n",
      "  \" Skipping tag %s\" % (size, len(data), tag))\n",
      "/Users/michaeldowd/anaconda/envs/my_py_3/lib/python3.5/site-packages/PIL/TiffImagePlugin.py:739: UserWarning: Possibly corrupt EXIF data.  Expecting to read 8 bytes but only got 0. Skipping tag 37386\n",
      "  \" Skipping tag %s\" % (size, len(data), tag))\n",
      "/Users/michaeldowd/anaconda/envs/my_py_3/lib/python3.5/site-packages/PIL/TiffImagePlugin.py:739: UserWarning: Possibly corrupt EXIF data.  Expecting to read 264 bytes but only got 0. Skipping tag 37510\n",
      "  \" Skipping tag %s\" % (size, len(data), tag))\n",
      "/Users/michaeldowd/anaconda/envs/my_py_3/lib/python3.5/site-packages/PIL/TiffImagePlugin.py:739: UserWarning: Possibly corrupt EXIF data.  Expecting to read 8 bytes but only got 0. Skipping tag 41486\n",
      "  \" Skipping tag %s\" % (size, len(data), tag))\n",
      "/Users/michaeldowd/anaconda/envs/my_py_3/lib/python3.5/site-packages/PIL/TiffImagePlugin.py:739: UserWarning: Possibly corrupt EXIF data.  Expecting to read 8 bytes but only got 0. Skipping tag 41487\n",
      "  \" Skipping tag %s\" % (size, len(data), tag))\n",
      "/Users/michaeldowd/anaconda/envs/my_py_3/lib/python3.5/site-packages/PIL/TiffImagePlugin.py:739: UserWarning: Possibly corrupt EXIF data.  Expecting to read 2060 bytes but only got 434. Skipping tag 59932\n",
      "  \" Skipping tag %s\" % (size, len(data), tag))\n",
      "/Users/michaeldowd/anaconda/envs/my_py_3/lib/python3.5/site-packages/PIL/TiffImagePlugin.py:739: UserWarning: Possibly corrupt EXIF data.  Expecting to read 2060 bytes but only got 1458. Skipping tag 59932\n",
      "  \" Skipping tag %s\" % (size, len(data), tag))\n"
     ]
    },
    {
     "name": "stdout",
     "output_type": "stream",
     "text": [
      "Article `download()` failed with 404 Client Error: Not Found for url: http://www.fijitimes.com/story.aspx?id=438014 on URL http://www.fijitimes.com/story.aspx?id=438014\n",
      "You must `download()` an article first!\n",
      "Article `download()` failed with 521 Server Error: Origin Down for url: https://nbherard.com/world/the-european-investment-bank-provides-eur-10-million-loan-to-flexenclosure/36556 on URL https://nbherard.com/world/the-european-investment-bank-provides-eur-10-million-loan-to-flexenclosure/36556\n",
      "** Iteration Count 3700  **\n",
      "** Error Count 209  **\n",
      "Article `download()` failed with 404 Client Error: Unknown site! for url: http://waterwastemanagement.cleantechnology-business-review.com/news/eu-partners-with-ebrd-to-provide-eur53m-to-improve-wastewater-services-in-jordan-110518-6148272 on URL http://waterwastemanagement.cleantechnology-business-review.com/news/eu-partners-with-ebrd-to-provide-eur53m-to-improve-wastewater-services-in-jordan-110518-6148272\n",
      "Article `download()` failed with 404 Client Error: Not Found for url: https://www.znbc.co.zm/you-can-still-borrowbut-world-bank/ on URL https://www.znbc.co.zm/you-can-still-borrowbut-world-bank/\n",
      "Article `download()` failed with 404 Client Error: Not Found for url: https://bzweekly.com/today-hill-international-incorporated-nysehil-reported-increase-in-shorted-shares/ on URL https://bzweekly.com/today-hill-international-incorporated-nysehil-reported-increase-in-shorted-shares/\n",
      "** Iteration Count 3800  **\n",
      "** Error Count 212  **\n",
      "You must `download()` an article first!\n",
      "You must `download()` an article first!\n",
      "** Iteration Count 3900  **\n",
      "** Error Count 214  **\n",
      "Article `download()` failed with 403 Client Error: Forbidden for url: https://seekingalpha.com/article/4134685-precious-metals-finish-strong-investors-eye-silver-2018-david-morgan-smart-money on URL https://seekingalpha.com/article/4134685-precious-metals-finish-strong-investors-eye-silver-2018-david-morgan-smart-money\n",
      "You must `download()` an article first!\n",
      "Article `download()` failed with 410 Client Error: Gone for url: https://newsok.com/adb-chief-says-trade-friction-debt-could-hobble-asia-growth/article/feed/2137716 on URL http://newsok.com/adb-chief-says-trade-friction-debt-could-hobble-asia-growth/article/feed/2137716\n",
      "** Iteration Count 4000  **\n",
      "** Error Count 217  **\n",
      "### Saving Cache ###\n",
      "Article `download()` failed with 404 Client Error: Not Found for url: http://www.bdtonline.com/news/world-bank-predicts-solid-percent-global-growth-in/article_0604a87b-5ba5-5eba-90c7-701337b4a1c2.html on URL http://www.bdtonline.com/news/world-bank-predicts-solid-percent-global-growth-in/article_0604a87b-5ba5-5eba-90c7-701337b4a1c2.html\n",
      "You must `download()` an article first!\n",
      "Article `download()` failed with 404 Client Error: Not Found for url: https://www.kpvi.com/news/national_news/people-die-in-a-small-plane-crash-in-southeastern-indiana/article_65192b84-afdb-5ab2-932d-b825bcf43c8e.html on URL https://www.kpvi.com/news/national_news/people-die-in-a-small-plane-crash-in-southeastern-indiana/article_65192b84-afdb-5ab2-932d-b825bcf43c8e.html\n",
      "You must `download()` an article first!\n",
      "You must `download()` an article first!\n",
      "Article `download()` failed with 503 Server Error: Service Temporarily Unavailable for url: https://fp.brecorder.com/2017/12/20171219328317/ on URL https://fp.brecorder.com/2017/12/20171219328317/\n",
      "Article `download()` failed with 503 Server Error: Service Temporarily Unavailable for url: https://www.brecorder.com/2017/12/16/387434/russia-hit-by-3-4bn-promsvyazbank-bailout-in-latest-bank-blow/ on URL https://www.brecorder.com/2017/12/16/387434/russia-hit-by-3-4bn-promsvyazbank-bailout-in-latest-bank-blow/\n",
      "You must `download()` an article first!\n",
      "Article `download()` failed with 404 Client Error: Not Found for url: https://economictimes.indiatimes.com/news/international/world-news/whats-in-the-brexit-divorce-deal/articleshow/61979669.cms on URL https://economictimes.indiatimes.com/news/international/world-news/whats-in-the-brexit-divorce-deal/articleshow/61979669.cms\n",
      "You must `download()` an article first!\n",
      "You must `download()` an article first!\n",
      "** Iteration Count 4100  **\n",
      "** Error Count 228  **\n",
      "Article `download()` failed with 404 Client Error: Unknown site! for url: http://waterwastemanagement.cleantechnology-business-review.com/news/eib-to-provide-rwanda-with-eur45m-loan-to-improve-sanitation-network-in-kigali-210218-6062003 on URL http://waterwastemanagement.cleantechnology-business-review.com/news/eib-to-provide-rwanda-with-eur45m-loan-to-improve-sanitation-network-in-kigali-210218-6062003\n",
      "You must `download()` an article first!\n",
      "Article `download()` failed with 400 Client Error: Bad Request for url: http://braintree.wickedlocal.com/news/20171211/feds-allege-joyce-secretly-profited-from-state-senate-seat on URL http://braintree.wickedlocal.com/news/20171211/feds-say-joyce-ran-senate-office-as-criminal-enterprise\n",
      "Article `download()` failed with 404 Client Error: Not Found for url: https://www.al-monitor.com/pulse/originals/2018/01/egypt-world-bank-intermediary-ethiopia-renaissance-dam.html on URL https://www.al-monitor.com/pulse/originals/2018/01/egypt-world-bank-intermediary-ethiopia-renaissance-dam.html\n",
      "Article `download()` failed with 404 Client Error: Not Found for url: http://www.businessdayonline.com/nigeria-draws-70-million-investment-afdb-eib/ on URL http://www.businessdayonline.com/nigeria-draws-70-million-investment-afdb-eib/\n",
      "** Iteration Count 4200  **\n",
      "** Error Count 233  **\n",
      "You must `download()` an article first!\n",
      "You must `download()` an article first!\n",
      "Article `download()` failed with 404 Client Error: Not Found for url: https://bzweekly.com/how-analysts-feel-about-hill-international-inc-hil-after-todays-significant-decline/ on URL https://bzweekly.com/how-analysts-feel-about-hill-international-inc-hil-after-todays-significant-decline/\n",
      "Article `download()` failed with 404 Client Error: Not Found for url: https://weeklyregister.com/whats-next-for-hill-international-inc-hil-after-achieving-52-week-high/ on URL https://weeklyregister.com/whats-next-for-hill-international-inc-hil-after-achieving-52-week-high/\n",
      "You must `download()` an article first!\n",
      "Article `download()` failed with 404 Client Error: Not Found for url: http://www.newtimes.co.rw/section/read/229931/ on URL http://www.newtimes.co.rw/section/read/229931/\n",
      "** Iteration Count 4300  **\n",
      "** Error Count 239  **\n",
      "Article `download()` failed with 503 Server Error: Service Temporarily Unavailable for url: http://thestandard.com.ph/business/power-technology/264255/pnoc-adb-to-sign-lng-bida-guidelines.html on URL http://thestandard.com.ph/business/power-technology/264255/pnoc-adb-to-sign-lng-bida-guidelines.html\n",
      "You must `download()` an article first!\n",
      "Article `download()` failed with 403 Client Error: Forbidden for url: https://www.independent.co.ug/uganda-benefit-cheaper-de-risked-world-bank-financing/ on URL https://www.independent.co.ug/uganda-benefit-cheaper-de-risked-world-bank-financing/\n",
      "Article `download()` failed with 404 Client Error: Not Found for url: http://www.greensboro.com/ap/us_world/former-wisconsin-regulator-to-lead-epa-s-chicago-office/article_68c33905-568c-52e0-afdb-d18078fd6c27.html on URL http://www.greensboro.com/ap/us_world/former-wisconsin-regulator-to-lead-epa-s-chicago-office/article_68c33905-568c-52e0-afdb-d18078fd6c27.html\n",
      "Article `download()` failed with 404 Client Error: Not Found for url: https://www3.nhk.or.jp/nhkworld/en/news/20180311_05/ on URL https://www3.nhk.or.jp/nhkworld/en/news/20180311_05/\n",
      "Article `download()` failed with 404 Client Error: Unknown site! for url: http://energystorage.cleantechnology-business-review.com/news/afdb-and-partners-to-create-55m-off-grid-energy-access-fund-6020437 on URL http://energystorage.cleantechnology-business-review.com/news/afdb-and-partners-to-create-55m-off-grid-energy-access-fund-6020437\n",
      "Article `download()` failed with 404 Client Error: Not Found for url: http://www.fijitimes.com/story.aspx?id=432422 on URL http://www.fijitimes.com/story.aspx?id=432422\n",
      "Article `download()` failed with 404 Client Error: Not Found for url: https://www.graphic.com.gh/business-news/ghana-gets-us-200-million-support-from-world-bank.html on URL https://www.graphic.com.gh/business-news/ghana-gets-us-200-million-support-from-world-bank.html\n",
      "Article `download()` failed with 404 Client Error: Not Found for url: http://www.kansas.com/news/business/article210841149.html on URL http://www.kansas.com/news/business/article210841149.html\n",
      "Article `download()` failed with 404 Client Error: Not Found for url: https://friscofastball.com/hill-international-inc-nysehil-move-as-institutional-investors-sentiment-improved/ on URL https://friscofastball.com/hill-international-inc-nysehil-move-as-institutional-investors-sentiment-improved/\n",
      "You must `download()` an article first!\n",
      "** Iteration Count 4400  **\n",
      "** Error Count 250  **\n"
     ]
    },
    {
     "name": "stderr",
     "output_type": "stream",
     "text": [
      "Building prefix dict from /Users/michaeldowd/anaconda/envs/my_py_3/lib/python3.5/site-packages/jieba/dict.txt ...\n",
      "Dumping model to file cache /var/folders/dv/85fh_3dj591fh0bk3w5sw4lr0000gn/T/jieba.cache\n",
      "Loading model cost 2.8712501525878906 seconds.\n",
      "Prefix dict has been built succesfully.\n"
     ]
    },
    {
     "name": "stdout",
     "output_type": "stream",
     "text": [
      "You must `download()` an article first!\n",
      "You must `download()` an article first!\n",
      "Article `download()` failed with 503 Server Error: Service Temporarily Unavailable for url: https://fp.brecorder.com/2017/12/20171229331069/ on URL https://fp.brecorder.com/2017/12/20171229331069/\n",
      "You must `download()` an article first!\n",
      "You must `download()` an article first!\n",
      "Article `download()` failed with 503 Server Error: Service Temporarily Unavailable for url: https://mothership.sg/2018/01/we-watched-a-63-minute-davos-forum-to-see-if-chan-chun-sing-did-spore-proud/ on URL https://mothership.sg/2018/01/we-watched-a-63-minute-davos-forum-to-see-if-chan-chun-sing-did-spore-proud/\n",
      "Article `download()` failed with 404 Client Error: Not Found for url: http://the-japan-news.com/news/article/0004163603 on URL http://the-japan-news.com/news/article/0004163603\n",
      "You must `download()` an article first!\n",
      "Article `download()` failed with 503 Server Error: Service Temporarily Unavailable for url: https://www.brecorder.com/2018/03/02/402260/no-chance-of-pakistans-inclusion-in-fatf-black-list-na-told/ on URL https://www.brecorder.com/2018/03/02/402260/no-chance-of-pakistans-inclusion-in-fatf-black-list-na-told/\n",
      "Article `download()` failed with 503 Server Error: Service Temporarily Unavailable for url: https://www.brecorder.com/2018/03/11/404142/adb-isa-commit-to-promote-solar-energy-in-asia-and-pacific-region/ on URL https://www.brecorder.com/2018/03/11/404142/adb-isa-commit-to-promote-solar-energy-in-asia-and-pacific-region/\n",
      "Article `download()` failed with 405 Client Error: Not Allowed for url: https://www.hydroworld.com/articles/2018/02/ebrd-approves-us-230-million-for-hydropower-plant-in-georgia.html on URL http://www.hydroworld.com/articles/2018/02/ebrd-approves-us-230-million-for-hydropower-plant-in-georgia.html\n",
      "** Iteration Count 4500  **\n",
      "** Error Count 261  **\n",
      "### Saving Cache ###\n",
      "Article `download()` failed with 404 Client Error: Not Found for url: http://www.conference-news.co.uk/2017/12/post-sustainability/ on URL http://www.conference-news.co.uk/2017/12/post-sustainability/\n",
      "You must `download()` an article first!\n",
      "Article `download()` failed with 405 Client Error: Not Allowed for url: https://www.decentralized-energy.com/articles/2018/01/ebrd-funds-four-chp-plants-in-belarus.html on URL http://www.decentralized-energy.com/articles/2018/01/ebrd-funds-four-chp-plants-in-belarus.html\n",
      "** Iteration Count 4600  **\n",
      "** Error Count 264  **\n",
      "Article `download()` failed with 503 Server Error: Service Temporarily Unavailable for url: https://www.brecorder.com/2017/12/21/388358/world-bank-approves-825mn-loan-for-pakistan-infrastructure/ on URL https://www.brecorder.com/2017/12/21/388358/world-bank-approves-825mn-loan-for-pakistan-infrastructure/\n",
      "Article `download()` failed with 404 Client Error: Not Found for url: http://www.fijitimes.com/story.aspx?id=433625 on URL http://www.fijitimes.com/story.aspx?id=433625\n",
      "Article `download()` failed with 404 Client Error: Not Found for url: https://www.cnbcafrica.com/news/southern-africa/2018/05/25/the-african-development-bank-and-the-global-green-growth-institute-partner-to-fasttrack-green-growth-in-africa-3/ on URL https://www.cnbcafrica.com/news/southern-africa/2018/05/25/the-african-development-bank-and-the-global-green-growth-institute-partner-to-fasttrack-green-growth-in-africa-3/\n",
      "** Iteration Count 4700  **\n",
      "** Error Count 267  **\n",
      "You must `download()` an article first!\n",
      "You must `download()` an article first!\n",
      "Article `download()` failed with 404 Client Error: Unknown site! for url: http://biopower.cleantechnology-business-review.com/news/ebrd-to-support-construction-of-biogas-fired-power-plants-in-belarus-250118-6036869 on URL http://biopower.cleantechnology-business-review.com/news/ebrd-to-support-construction-of-biogas-fired-power-plants-in-belarus-250118-6036869\n",
      "Article `download()` failed with 404 Client Error: Not Found for url: https://tw.news.yahoo.com/%E4%BF%84%E7%92%B0%E4%BF%9D%E5%A5%B3%E9%AC%A5%E5%A3%AB-%E9%81%A0%E8%B5%B0%E4%BB%96%E9%84%89%E7%99%BC%E8%81%B2-052900050.html on URL https://tw.news.yahoo.com/%E4%BF%84%E7%92%B0%E4%BF%9D%E5%A5%B3%E9%AC%A5%E5%A3%AB-%E9%81%A0%E8%B5%B0%E4%BB%96%E9%84%89%E7%99%BC%E8%81%B2-052900050.html\n",
      "** Iteration Count 4800  **\n",
      "** Error Count 271  **\n",
      "Article `download()` failed with 404 Client Error: Unknown site! for url: http://solar.cleantechnology-business-review.com/news/acwa-powers-three-egyptian-solar-projects-totaling-165mw-reach-financial-close-090118-6022775 on URL http://solar.cleantechnology-business-review.com/news/acwa-powers-three-egyptian-solar-projects-totaling-165mw-reach-financial-close-090118-6022775\n",
      "Article `download()` failed with 404 Client Error: Not Found for url: https://www.zimeye.net/state-procurement-board-dissolved/ on URL https://www.zimeye.net/state-procurement-board-dissolved/\n",
      "You must `download()` an article first!\n",
      "Article `download()` failed with 404 Client Error: Not Found for url: http://the-japan-news.com/news/article/0004224519 on URL http://the-japan-news.com/news/article/0004224519\n",
      "Article `download()` failed with 404 Client Error: Not Found for url: https://barbadostoday.bb/2018/01/24/sewage-fix-coming/ on URL https://www.barbadostoday.bb/2018/01/24/sewage-fix-coming/\n",
      "** Iteration Count 4900  **\n",
      "** Error Count 276  **\n",
      "Article `download()` failed with 404 Client Error: Not Found for url: https://www.journalducameroun.com/en/senegal-world-bank-approves-60b-fcfa-for-local-governance/ on URL https://www.journalducameroun.com/en/senegal-world-bank-approves-60b-fcfa-for-local-governance/\n",
      "You must `download()` an article first!\n",
      "Article `download()` failed with 404 Client Error: Not Found for url: http://m.engineeringnews.co.za/error.php?error=404&al_id=1212969 on URL http://m.engineeringnews.co.za/article/afdb-aims-partner-to-strengthen-maths-science-skills-in-africa-2018-05-23\n",
      "Article `download()` failed with 404 Client Error: Not Found for url: https://barbadostoday.bb/2018/02/19/idb-brings-barbados-close-to-energy-security/ on URL https://www.barbadostoday.bb/2018/02/19/idb-brings-barbados-close-to-energy-security/\n",
      "** Iteration Count 5000  **\n",
      "** Error Count 280  **\n",
      "### Saving Cache ###\n",
      "Article `download()` failed with 404 Client Error: Not Found for url: http://www.scnow.com/sports/wire/article_34fd543e-db2d-5cb1-afdb-8782346db208.html on URL http://www.scnow.com/sports/wire/article_34fd543e-db2d-5cb1-afdb-8782346db208.html\n",
      "You must `download()` an article first!\n",
      "Article `download()` failed with 404 Client Error: Not Found for url: http://www.fijitimes.com/story.aspx?id=427960 on URL http://www.fijitimes.com/story.aspx?id=427960\n",
      "Article `download()` failed with 410 Client Error: Gone for url: https://www.mrt.com/news/science/article/The-Latest-Climate-activists-protest-at-intl-12423553.php on URL http://www.mrt.com/news/science/article/The-Latest-Climate-activists-protest-at-intl-12423553.php\n",
      "Article `download()` failed with 404 Client Error: Not Found for url: http://www.pressofatlanticcity.com/business/technology/when-your-money-makes-too-much-change-bitcoin-price-plunges/article_5d7df915-5107-5cb4-afdb-975d21ec7a85.html on URL http://www.pressofatlanticcity.com/business/technology/when-your-money-makes-too-much-change-bitcoin-price-plunges/article_5d7df915-5107-5cb4-afdb-975d21ec7a85.html\n",
      "Article `download()` failed with 404 Client Error: Not Found for url: http://www.fijitimes.com/story.aspx?id=433761 on URL http://www.fijitimes.com/story.aspx?id=433761\n",
      "You must `parse()` an article first!\n",
      "** Iteration Count 5100  **\n",
      "** Error Count 286  **\n",
      "Article `download()` failed with 404 Client Error: Not Found for url: https://au.news.yahoo.com/eib-plans-internationally-focused-offshoot-38201421.html on URL https://au.news.yahoo.com/a/38201421/eib-plans-internationally-focused-offshoot/\n",
      "Article `download()` failed with 500 Server Error: Internal Server Error for url: https://www.myjoyonline.com/business/2017/December-21st/ghana-gets-200m-support-from-world-bank-for-jobs-social-security.php on URL https://www.myjoyonline.com/business/2017/December-21st/ghana-gets-200m-support-from-world-bank-for-jobs-social-security.php\n",
      "Article `download()` failed with 404 Client Error: Not Found for url: https://www.kpvi.com/news/national_news/feds-employ-data-driven-early-warning-system-in-opioid-fight/article_cbff7fb7-cd99-5bc8-afdb-bd9b9898eb3b.html on URL https://www.kpvi.com/news/national_news/feds-employ-data-driven-early-warning-system-in-opioid-fight/article_cbff7fb7-cd99-5bc8-afdb-bd9b9898eb3b.html\n",
      "Article `download()` failed with 404 Client Error: Not Found for url: https://www.journalducameroun.com/en/ouagadougou-launches-cfa28b-sanitation-waste-management-project/ on URL https://www.journalducameroun.com/en/ouagadougou-launches-cfa28b-sanitation-waste-management-project/\n",
      "You must `download()` an article first!\n",
      "Article `download()` failed with 404 Client Error: Not Found for url: https://www.journalducameroun.com/en/overseas-aid-to-burkina-topped-cfa600-bln-in-2016/ on URL https://www.journalducameroun.com/en/overseas-aid-to-burkina-topped-cfa600-bln-in-2016/\n",
      "You must `download()` an article first!\n",
      "Article `download()` failed with 404 Client Error: Not Found for url: http://www.theedgemarkets.com/article/world-bank-cuts-2018-gdp-forecast-malaysia-52-58 on URL http://www.theedgemarkets.com/article/world-bank-cuts-2018-gdp-forecast-malaysia-52-58\n",
      "You must `download()` an article first!\n",
      "** Iteration Count 5200  **\n",
      "** Error Count 295  **\n",
      "Article `download()` failed with 404 Client Error: Unknown site! for url: http://energyinfrastructure.cleantechnology-business-review.com/news/eib-provides-eur100m-loan-to-acciona-to-develop-digitalisation-strategy-220118-6033130 on URL http://energyinfrastructure.cleantechnology-business-review.com/news/eib-provides-eur100m-loan-to-acciona-to-develop-digitalisation-strategy-220118-6033130\n",
      "Article `download()` failed with 404 Client Error: Not Found for url: http://presstelegraph.com/could-hill-international-incorporated-nysehil-skyrocket-the-stock-has-too-many-sellers/ on URL http://presstelegraph.com/could-hill-international-incorporated-nysehil-skyrocket-the-stock-has-too-many-sellers/\n",
      "You must `download()` an article first!\n",
      "You must `download()` an article first!\n",
      "** Iteration Count 5300  **\n",
      "** Error Count 299  **\n",
      "Article `download()` failed with 404 Client Error: Unknown site! for url: http://recyclingandwastemanagement.cleantechnology-business-review.com/news/eib-to-offer-eur422m-loan-for-argentinean-province-to-develop-waste-management-plant-260318-6095225 on URL http://recyclingandwastemanagement.cleantechnology-business-review.com/news/eib-to-offer-eur422m-loan-for-argentinean-province-to-develop-waste-management-plant-260318-6095225\n",
      "Article `download()` failed with 404 Client Error: Not Found for url: http://www.maravipost.com/house-approves-k117-billion-loan-bill-transform-malawis-agricultural-productivity/ on URL http://www.maravipost.com/house-approves-k117-billion-loan-bill-transform-malawis-agricultural-productivity/\n",
      "You must `download()` an article first!\n",
      "** Iteration Count 5400  **\n",
      "** Error Count 302  **\n",
      "Article `download()` failed with 503 Server Error: Service Temporarily Unavailable for url: https://www.brecorder.com/2018/02/20/400002/pcjcci-celebrates-chinese-new-year/ on URL https://www.brecorder.com/2018/02/20/400002/pcjcci-celebrates-chinese-new-year/\n",
      "Article `download()` failed with 404 Client Error: Not Found for url: https://economicconfidential.com/news/national-news/world-bank-lauds-economic-growth-strategy/ on URL https://economicconfidential.com/news/national-news/world-bank-lauds-economic-growth-strategy/\n",
      "Article `download()` failed with 403 Client Error: Forbidden for url: https://www.independent.co.ug/three-ugandan-youth-win-world-bank-blog4dev-youth-essay-contest/ on URL https://www.independent.co.ug/three-ugandan-youth-win-world-bank-blog4dev-youth-essay-contest/\n",
      "Article `download()` failed with 404 Client Error: Not Found for url: http://www.businessdayonline.com/afdb-253m-donor-loan-agreement-france/ on URL http://www.businessdayonline.com/afdb-253m-donor-loan-agreement-france/\n",
      "Article `download()` failed with 404 Client Error: Not Found for url: http://www.newsobserver.com/news/business/article207557669.html on URL http://www.newsobserver.com/news/business/article207557669.html\n",
      "You must `download()` an article first!\n",
      "You must `download()` an article first!\n",
      "Article `download()` failed with 404 Client Error: Not Found for url: http://www.tv360nigeria.com/dmo-over-197m-spent-on-debt-servicing-in-q3-2017/ on URL http://www.tv360nigeria.com/dmo-over-197m-spent-on-debt-servicing-in-q3-2017/\n",
      "You must `download()` an article first!\n",
      "** Iteration Count 5500  **\n",
      "** Error Count 311  **\n",
      "### Saving Cache ###\n",
      "You must `download()` an article first!\n",
      "You must `download()` an article first!\n",
      "Article `download()` failed with 404 Client Error: Not Found for url: http://www.globaltimes.cn/content/1086882.shtml on URL http://www.globaltimes.cn/content/1086882.shtml\n",
      "Article `download()` failed with 404 Client Error: Not Found for url: https://www.channelnewsasia.com/news/world/ukraine-to-launch-its-first-solar-plant-at-chernobyl-9847852 on URL https://www.channelnewsasia.com/news/world/ukraine-to-launch-its-first-solar-plant-at-chernobyl-9847852\n",
      "You must `download()` an article first!\n",
      "You must `download()` an article first!\n",
      "Article `download()` failed with 404 Client Error: Not Found for url: https://www.journalducameroun.com/en/egypt-world-bank-pumps-1-5bn-into-struggling-economy/ on URL https://www.journalducameroun.com/en/egypt-world-bank-pumps-1-5bn-into-struggling-economy/\n",
      "You must `download()` an article first!\n",
      "** Iteration Count 5600  **\n",
      "** Error Count 319  **\n",
      "Article `download()` failed with 404 Client Error: Not Found for url: http://www.fijitimes.com/story.aspx?id=440984 on URL http://www.fijitimes.com/story.aspx?id=440984\n",
      "You must `download()` an article first!\n",
      "Article `download()` failed with 405 Client Error: Not Allowed for url: https://www.hydroworld.com/articles/2018/03/world-bank-new-us-250-million-guarantee-for-renewables-in-argentina-includes-small-hydro.html on URL http://www.hydroworld.com/articles/2018/03/world-bank-new-us-250-million-guarantee-for-renewables-in-argentina-includes-small-hydro.html\n",
      "Article `download()` failed with 404 Client Error: Not Found for url: http://www.businessdayonline.com/afdb-iita-launch-plan-revolutionise-africas-agriculture/ on URL http://www.businessdayonline.com/afdb-iita-launch-plan-revolutionise-africas-agriculture/\n",
      "** Iteration Count 5700  **\n",
      "** Error Count 323  **\n",
      "You must `download()` an article first!\n",
      "You must `download()` an article first!\n",
      "You must `download()` an article first!\n",
      "Article `download()` failed with 404 Client Error: Not Found for url: https://weeklyregister.com/will-hill-international-inc-hil-short-squeeze-soon/ on URL https://weeklyregister.com/will-hill-international-inc-hil-short-squeeze-soon/\n",
      "Article `download()` failed with 404 Client Error: Not Found for url: http://www.wacotrib.com/news/ap_nation/the-latest-trump-talks-immigration-with-gop-senators/article_67ff8dce-8f4e-5c11-afdb-30494d51387e.html on URL http://www.wacotrib.com/news/ap_nation/the-latest-trump-talks-immigration-with-gop-senators/article_67ff8dce-8f4e-5c11-afdb-30494d51387e.html\n",
      "You must `download()` an article first!\n",
      "Article `download()` failed with 404 Client Error: Not Found for url: http://www.fijitimes.com/story.aspx?id=426844 on URL http://www.fijitimes.com/story.aspx?id=426844\n",
      "You must `download()` an article first!\n",
      "Article `download()` failed with 503 Server Error: Service Temporarily Unavailable for url: https://www.brecorder.com/2018/03/05/402967/ebrd-seeks-to-invest-up-to-450mn-euros-a-year-in-serbia/ on URL https://www.brecorder.com/2018/03/05/402967/ebrd-seeks-to-invest-up-to-450mn-euros-a-year-in-serbia/\n",
      "** Iteration Count 5800  **\n",
      "** Error Count 332  **\n",
      "You must `download()` an article first!\n",
      "Article `download()` failed with 404 Client Error: Not Found for url: http://www.the-messenger.com/sports/article_1b62c87f-0a97-504b-afdb-83188369b250.html on URL http://www.the-messenger.com/sports/article_1b62c87f-0a97-504b-afdb-83188369b250.html\n",
      "You must `download()` an article first!\n",
      "** Iteration Count 5900  **\n",
      "** Error Count 335  **\n",
      "Article `download()` failed with 404 Client Error: Not Found for url: https://www.journalducameroun.com/en/afdb-boss-describes-president-sirleaf-as-jewel-of-africa/ on URL https://www.journalducameroun.com/en/afdb-boss-describes-president-sirleaf-as-jewel-of-africa/\n",
      "Article `download()` failed with 403 Client Error: Forbidden for url: http://www.theedgemarkets.com/article/china-infrastructure-plan-can-help-asias-growing-cities-%E2%80%94-expert on URL http://www.theedgemarkets.com/article/china-infrastructure-plan-can-help-asias-growing-cities-%E2%80%94-expert\n",
      "Article `download()` failed with 404 Client Error: Not Found for url: https://www.trinidadexpress.com/20180109/business/tough-decisions-needed-to-turn-wasa-around/ on URL http://www.trinidadexpress.com/20180109/business/tough-decisions-needed-to-turn-wasa-around\n",
      "Article `download()` failed with 404 Client Error: Unknown site! for url: http://hydro.cleantechnology-business-review.com/news/ebrd-provides-loan-to-ko-holding-to-acquire-two-hydropower-plants-in-turkey-090318-6079886 on URL http://hydro.cleantechnology-business-review.com/news/ebrd-provides-loan-to-ko-holding-to-acquire-two-hydropower-plants-in-turkey-090318-6079886\n",
      "Article `download()` failed with 403 Client Error: 2 for url: https://www.globalresearch.ca/world-bank-on-philippines-economy/5628035 on URL https://www.globalresearch.ca/world-bank-on-philippines-economy/5628035\n",
      "** Iteration Count 6000  **\n",
      "** Error Count 340  **\n",
      "### Saving Cache ###\n",
      "Article `download()` failed with 405 Client Error: Not Allowed for url: https://www.ogj.com/articles/2018/05/ebrd-finances-upgrade-of-egypt-s-suez-refinery.html on URL https://www.ogj.com/articles/2018/05/ebrd-finances-upgrade-of-egypt-s-suez-refinery.html\n",
      "You must `download()` an article first!\n",
      "You must `download()` an article first!\n",
      "Article `download()` failed with 503 Server Error: Service Unavailable for url: http://www.safetravelsmagazine.com/2018/05/01/job-security-operations-support-manager-for-the-world-bank-deadline-wednesday/ on URL http://www.safetravelsmagazine.com/2018/05/01/job-security-operations-support-manager-for-the-world-bank-deadline-wednesday/\n",
      "You must `download()` an article first!\n",
      "You must `parse()` an article first!\n",
      "** Iteration Count 6100  **\n",
      "** Error Count 345  **\n",
      "Article `download()` failed with 404 Client Error: Not Found for url: https://newsline.com/european-energy-companies-issue-green-finance-pledge/ on URL https://newsline.com/european-energy-companies-issue-green-finance-pledge/\n",
      "Article `download()` failed with 404 Client Error: Not Found for url: https://economictimes.indiatimes.com/news/international/business/adb-china-backed-aiib-to-co-finance-more-projects-this-year/articleshow/62474176.cms on URL https://economictimes.indiatimes.com/news/international/business/adb-china-backed-aiib-to-co-finance-more-projects-this-year/articleshow/62474176.cms\n",
      "You must `download()` an article first!\n",
      "Article `download()` failed with 404 Client Error: Not Found for url: http://www.africanreview.com/finance/economy/afdb-approves-third-sovereign-lending-instrument on URL http://www.africanreview.com/finance/economy/afdb-approves-third-sovereign-lending-instrument\n",
      "You must `download()` an article first!\n",
      "** Iteration Count 6200  **\n",
      "** Error Count 350  **\n",
      "Article `download()` failed with 404 Client Error: Not Found for url: http://www.fredericksburg.com/business/business-wire/eu-ebrd-fund-albania-s-main-rail-link-upgrade/article_40159122-51cb-5908-9d07-099f28bd2a11.html on URL http://www.fredericksburg.com/business/business-wire/eu-ebrd-fund-albania-s-main-rail-link-upgrade/article_40159122-51cb-5908-9d07-099f28bd2a11.html\n",
      "Article `download()` failed with 503 Server Error: Service Temporarily Unavailable for url: https://fp.brecorder.com/2017/12/20171208325212/ on URL https://fp.brecorder.com/2017/12/20171208325212/\n",
      "You must `download()` an article first!\n",
      "Article `download()` failed with 404 Client Error: Not Found for url: http://www.journalgazette.net/apps/pbcs.dll/error on URL http://www.journalgazette.net/article/20180110/AP/301109855\n",
      "Article `download()` failed with 500 Server Error: Internal Server Error for url: https://www.myjoyonline.com/business/2017/December-15th/ghana-places-7th-on-africas-financial-markets-index.php on URL https://www.myjoyonline.com/business/2017/December-15th/ghana-places-7th-on-africas-financial-markets-index.php\n",
      "Article `download()` failed with 404 Client Error: Unknown site! for url: http://solar.cleantechnology-business-review.com/news/jica-ifc-to-financially-support-to-masdar-for-200mw-solar-plant-in-jordan-290118-6039882 on URL http://solar.cleantechnology-business-review.com/news/jica-ifc-to-financially-support-to-masdar-for-200mw-solar-plant-in-jordan-290118-6039882\n",
      "** Iteration Count 6300  **\n",
      "** Error Count 356  **\n",
      "Article `download()` failed with 503 Server Error: Service Temporarily Unavailable for url: https://fp.brecorder.com/2018/04/20180424364348/ on URL https://fp.brecorder.com/2018/04/20180424364348/\n",
      "Article `download()` failed with 404 Client Error: Unknown site! for url: http://waterwastemanagement.cleantechnology-business-review.com/news/eib-to-provide-rwanda-with-eur45m-loan-to-improve-sanitation-network-in-kigali-210218-6062003 on URL http://waterwastemanagement.cleantechnology-business-review.com/news/eib-to-provide-rwanda-with-eur45m-loan-to-improve-sanitation-network-in-kigali-210218-6062003\n",
      "You must `download()` an article first!\n",
      "Article `download()` failed with 404 Client Error: Not Found for url: http://carbon-pulse.com/45733/ on URL http://carbon-pulse.com/45733/\n",
      "Article `download()` failed with 404 Client Error: Not Found for url: https://kildare-nationalist.ie/2017/12/08/national-childrens-hospital-recieves-significant-funding-boost-from-eib/ on URL http://www.kildare-nationalist.ie/2017/12/08/national-childrens-hospital-recieves-significant-funding-boost-from-eib/\n",
      "You must `download()` an article first!\n",
      "You must `download()` an article first!\n",
      "** Iteration Count 6400  **\n",
      "** Error Count 363  **\n",
      "Article `download()` failed with 403 Client Error: forbidden for url: http://www.arabianoilandgas.com/article-18188-world-bank-will-no-longer-finance-upstream-oil-and-gas-after-2019/ on URL http://www.arabianoilandgas.com/article-18188-world-bank-will-no-longer-finance-upstream-oil-and-gas-after-2019/\n",
      "Article `download()` failed with 404 Client Error: Not Found for url: https://en.interfax.com.ua/news/press-release/469895.html on URL http://en.interfax.com.ua/news/press-release/469895.html\n",
      "Article `download()` failed with 404 Client Error: Not Found for url: https://www.journalducameroun.com/en/uemoa-expects-7-growth-in-2017-boad/ on URL https://www.journalducameroun.com/en/uemoa-expects-7-growth-in-2017-boad/\n",
      "Article `download()` failed with 404 Client Error: Not Found for url: https://au.news.yahoo.com/ukraine-to-launch-its-first-solar-plant-at-chernobyl-38554538.html on URL https://au.news.yahoo.com/a/38554538/ukraine-to-launch-its-first-solar-plant-at-chernobyl/\n",
      "Article `download()` failed with 503 Server Error: Service Temporarily Unavailable for url: https://www.brecorder.com/2018/03/20/406253/pakistan-adb-sign-260mn-loan-agreement-to-improve-power-transmission-network/ on URL https://www.brecorder.com/2018/03/20/406253/pakistan-adb-sign-260mn-loan-agreement-to-improve-power-transmission-network/\n",
      "Article `download()` failed with 404 Client Error: Not Found for url: http://wskgnews.org/post/why-ivy-league-mba-went-back-ghana-help-pineapple-farm on URL http://wskgnews.org/post/why-ivy-league-mba-went-back-ghana-help-pineapple-farm\n",
      "Article `download()` failed with 404 Client Error: Not Found for url: http://www.heraldcourier.com/news/scientists-get-k-to-study-great-lakes-cleanup-results/article_01592541-3c6d-5f70-afdb-eb6a53454da0.html on URL http://www.heraldcourier.com/news/scientists-get-k-to-study-great-lakes-cleanup-results/article_01592541-3c6d-5f70-afdb-eb6a53454da0.html\n",
      "** Iteration Count 6500  **\n",
      "** Error Count 370  **\n",
      "### Saving Cache ###\n",
      "You must `download()` an article first!\n",
      "Article `download()` failed with 404 Client Error: Not Found for url: https://www.kpvi.com/news/national_news/turkey-islamic-state-group-suspects-detained-in-raids/article_eb2d3e76-090c-51c1-afdb-7616371debbe.html on URL https://www.kpvi.com/news/national_news/turkey-islamic-state-group-suspects-detained-in-raids/article_eb2d3e76-090c-51c1-afdb-7616371debbe.html\n",
      "** Iteration Count 6600  **\n",
      "** Error Count 372  **\n",
      "Article `download()` failed with 404 Client Error: Not Found for url: https://www.journalducameroun.com/en/swazis-eye-business-opportunities-from-proposed-mozambican-corridor-project/ on URL https://www.journalducameroun.com/en/swazis-eye-business-opportunities-from-proposed-mozambican-corridor-project/\n",
      "You must `download()` an article first!\n",
      "You must `download()` an article first!\n",
      "You must `download()` an article first!\n",
      "You must `download()` an article first!\n",
      "Article `download()` failed with 404 Client Error: Unknown site! for url: http://solar.cleantechnology-business-review.com/news/afdb-signs-agreement-with-isa-to-scale-up-solar-energy-in-africa-130318-6080960 on URL http://solar.cleantechnology-business-review.com/news/afdb-signs-agreement-with-isa-to-scale-up-solar-energy-in-africa-130318-6080960\n",
      "You must `download()` an article first!\n",
      "** Iteration Count 6700  **\n",
      "** Error Count 379  **\n",
      "Article `download()` failed with 404 Client Error: Not Found for url: https://www.washingtonpost.com/world/europe/eu-ebrd-fund-albanias-main-rail-link-upgrade/2018/05/10/888f5c00-5439-11e8-a6d4-ca1d035642ce_story.html?noredirect=on on URL https://www.washingtonpost.com/world/europe/eu-ebrd-fund-albanias-main-rail-link-upgrade/2018/05/10/888f5c00-5439-11e8-a6d4-ca1d035642ce_story.html\n",
      "You must `download()` an article first!\n",
      "You must `download()` an article first!\n",
      "Article `download()` failed with 404 Client Error: Not Found for url: http://www.businessdayonline.com/world-bank-details-sectors-350m-loan-ogun/ on URL http://www.businessdayonline.com/world-bank-details-sectors-350m-loan-ogun/\n",
      "You must `download()` an article first!\n",
      "Article `download()` failed with 503 Server Error: Service Temporarily Unavailable for url: https://www.brecorder.com/2018/05/05/416243/pakistan-suggests-adb-to-strengthen-its-resident-mission/ on URL https://www.brecorder.com/2018/05/05/416243/pakistan-suggests-adb-to-strengthen-its-resident-mission/\n",
      "Article `download()` failed with 404 Client Error: Not Found for url: http://weeklyregister.com/hill-international-incorporated-nysehil-cant-be-more-risky-short-interest-increased/ on URL http://weeklyregister.com/hill-international-incorporated-nysehil-cant-be-more-risky-short-interest-increased/\n",
      "** Iteration Count 6800  **\n",
      "** Error Count 386  **\n",
      "You must `download()` an article first!\n",
      "Article `download()` failed with 404 Client Error: Not Found for url: https://newsline.com/oxford-bond-debut-success-shows-uk-universities-another-course/ on URL https://newsline.com/oxford-bond-debut-success-shows-uk-universities-another-course/\n",
      "Article `download()` failed with 404 Client Error: Not Found for url: http://www.starherald.com/sports/national/top-capsules/article_3ae23c44-5dbb-57de-afdb-12d0e725ab4c.html on URL http://www.starherald.com/sports/national/top-capsules/article_3ae23c44-5dbb-57de-afdb-12d0e725ab4c.html\n",
      "You must `download()` an article first!\n",
      "Article `download()` failed with 503 Server Error: Service Temporarily Unavailable for url: http://www.thestandard.com.ph/business/biz-plus/257145/govt-secures-380-m-adb-loan-to-improve-mindanao-roads.html on URL http://www.thestandard.com.ph/business/biz-plus/257145/govt-secures-380-m-adb-loan-to-improve-mindanao-roads.html\n",
      "Article `download()` failed with 404 Client Error: Not Found for url: https://www.traveldailynews.asia/news/article/67041/organic-tourism-campaign-set-for on URL http://www.traveldailynews.asia/news/article/67041/organic-tourism-campaign-set-for\n",
      "** Iteration Count 6900  **\n",
      "** Error Count 392  **\n",
      "Article `download()` failed with 503 Server Error: Service Temporarily Unavailable for url: https://www.brecorder.com/2018/02/23/400866/ami-project-good-riddance/ on URL https://www.brecorder.com/2018/02/23/400866/ami-project-good-riddance/\n",
      "Article `download()` failed with 500 Server Error: Internal Server Error for url: https://www.myjoyonline.com/entertainment/2018/January-9th/joy-fms-philip-nai-michaela-welcome-royalty-with-a-royal-ceremony.php on URL https://www.myjoyonline.com/entertainment/2018/January-9th/joy-fms-philip-nai-michaela-welcome-royalty-with-a-royal-ceremony.php\n",
      "You must `download()` an article first!\n",
      "Article `download()` failed with 404 Client Error: Not Found for url: http://www.businessdayonline.com/nigeria-others-get-200m-wbank-support-off-grid-electrification/ on URL http://www.businessdayonline.com/nigeria-others-get-200m-wbank-support-off-grid-electrification/\n",
      "Article `download()` failed with 404 Client Error: Not Found for url: https://reliefweb.int/report/nepal/world-bank-approves-credit-support-livestock-development on URL https://reliefweb.int/report/nepal/world-bank-approves-credit-support-livestock-development\n",
      "** Iteration Count 7000  **\n",
      "** Error Count 397  **\n",
      "### Saving Cache ###\n",
      "You must `download()` an article first!\n",
      "Article `download()` failed with 503 Server Error: Service Temporarily Unavailable for url: https://www.brecorder.com/2017/12/20/388145/world-bank-approves-825-million-for-pakistan/ on URL https://www.brecorder.com/2017/12/20/388145/world-bank-approves-825-million-for-pakistan/\n",
      "Article `download()` failed with 404 Client Error: Unknown site! for url: http://recyclingandwastemanagement.cleantechnology-business-review.com/news/adb-offers-50m-to-improve-urban-water-supply-in-cambodia-111217-5998955 on URL http://recyclingandwastemanagement.cleantechnology-business-review.com/news/adb-offers-50m-to-improve-urban-water-supply-in-cambodia-111217-5998955\n",
      "You must `download()` an article first!\n",
      "Article `download()` failed with 404 Client Error: Not Found for url: https://www.expressandstar.com/news/business/2018/06/11/appeal-to-health-minister-over-midland-met-hospital-delays/ on URL https://www.expressandstar.com/news/business/2018/06/11/appeal-to-health-minister-over-midland-met-hospital-delays/\n",
      "Article `download()` failed with 404 Client Error: Not Found for url: http://www.informationng.com/2018/02/dragon-flew-away-with-our-newly-world-bank-loaned-money-486-million-lai-mohammad-presidency.html on URL https://www.informationng.com/2018/02/dragon-flew-away-with-our-newly-world-bank-loaned-money-486-million-lai-mohammad-presidency.html\n",
      "You must `download()` an article first!\n",
      "Article `download()` failed with 403 Client Error: 2 for url: https://www.globalresearch.ca/president-trumps-fundamentally-flawed-africa-policy/5625517 on URL https://www.globalresearch.ca/president-trumps-fundamentally-flawed-africa-policy/5625517\n",
      "** Iteration Count 7100  **\n",
      "** Error Count 405  **\n",
      "Article `download()` failed with 405 Client Error: Not Allowed for url: https://www.hydroworld.com/content/hydro/en/articles/2018/02/eib-approves-loan-to-fund-hydropower-project-in-georgia.html on URL http://www.hydroworld.com/content/hydro/en/articles/2018/02/eib-approves-loan-to-fund-hydropower-project-in-georgia.html\n",
      "You must `download()` an article first!\n",
      "You must `download()` an article first!\n",
      "You must `download()` an article first!\n",
      "You must `download()` an article first!\n",
      "** Iteration Count 7200  **\n",
      "** Error Count 410  **\n",
      "Article `download()` failed with 404 Client Error: Not Found for url: http://www.fijitimes.com/story.aspx?id=426694 on URL http://www.fijitimes.com/story.aspx?id=426694\n",
      "Article `download()` failed with 404 Client Error: Unknown site! for url: http://solar.cleantechnology-business-review.com/news/eib-akuo-energy-partner-to-invest-330m-in-renewable-energy-projects-121217-5999825 on URL http://solar.cleantechnology-business-review.com/news/eib-akuo-energy-partner-to-invest-330m-in-renewable-energy-projects-121217-5999825\n",
      "Article `download()` failed with 404 Client Error: Not Found for url: http://www.fijitimes.com/story.aspx?id=427493 on URL http://www.fijitimes.com/story.aspx?id=427493\n",
      "** Iteration Count 7300  **\n",
      "** Error Count 413  **\n",
      "Article `download()` failed with 404 Client Error: Not Found for url: https://barbadostoday.bb/2018/01/25/single-business-blamed-for-gastro-outbreak/ on URL https://www.barbadostoday.bb/2018/01/25/single-business-blamed-for-gastro-outbreak/\n",
      "You must `download()` an article first!\n",
      "You must `download()` an article first!\n",
      "You must `download()` an article first!\n",
      "Article `download()` failed with 404 Client Error: Not Found for url: http://www.fijitimes.com/story.aspx?id=434207 on URL http://www.fijitimes.com/story.aspx?id=434207\n",
      "** Iteration Count 7400  **\n",
      "** Error Count 418  **\n",
      "Article `download()` failed with 405 Client Error: Not Allowed for url: https://www.hydroworld.com/articles/2017/12/small-hydro-in-samoa-increasing-via-rehabilitation-and-development-project.html on URL http://www.hydroworld.com/articles/2017/12/small-hydro-in-samoa-increasing-via-rehabilitation-and-development-project.html\n",
      "Article `download()` failed with 404 Client Error: Not Found for url: https://economictimes.indiatimes.com/news/international/business/adb-china-backed-aiib-to-co-finance-more-projects-this-year/articleshow/62474176.cms on URL https://economictimes.indiatimes.com/news/international/business/adb-china-backed-aiib-to-co-finance-more-projects-this-year/articleshow/62474176.cms\n",
      "Article `download()` failed with 405 Client Error: Not Allowed for url: https://www.hydroworld.com/articles/2018/03/turkey-s-privatization-of-hydro-assets-continues-with-ebrd-funding.html on URL http://www.hydroworld.com/articles/2018/03/turkey-s-privatization-of-hydro-assets-continues-with-ebrd-funding.html\n",
      "You must `download()` an article first!\n",
      "Article `download()` failed with 404 Client Error: Not Found for url: http://the-japan-news.com/news/article/0004273811 on URL http://the-japan-news.com/news/article/0004273811\n",
      "Article `download()` failed with 404 Client Error: Not Found for url: https://poststar.com/business/the-latest-experts-try-to-save-georgia-o-keeffe-paintings/article_fb8dc994-b8c7-5588-afdb-7d2b62fcba05.html on URL http://poststar.com/business/the-latest-experts-try-to-save-georgia-o-keeffe-paintings/article_fb8dc994-b8c7-5588-afdb-7d2b62fcba05.html\n",
      "Article `download()` failed with 404 Client Error: Not Found for url: https://www.journalducameroun.com/en/morocco-world-bank-sign-200m-loan-agreement/ on URL https://www.journalducameroun.com/en/morocco-world-bank-sign-200m-loan-agreement/\n",
      "Article `download()` failed with 404 Client Error: Not Found for url: http://www.hickoryrecord.com/sports/ap/hamsik-eclipses-maradona-as-napoli-leading-scorer/article_905ea02d-afdb-5955-b11c-22444ac5740d.html on URL http://www.hickoryrecord.com/sports/ap/hamsik-eclipses-maradona-as-napoli-leading-scorer/article_905ea02d-afdb-5955-b11c-22444ac5740d.html\n",
      "You must `download()` an article first!\n",
      "** Iteration Count 7500  **\n",
      "** Error Count 427  **\n",
      "### Saving Cache ###\n",
      "Article `download()` failed with 503 Server Error: Service Temporarily Unavailable for url: http://thestandard.com.ph/business/biz-plus/255984/adb-extends-680-m-loan-for-road-project-capital-market-reforms.html on URL http://thestandard.com.ph/business/biz-plus/255984/adb-extends-680-m-loan-for-road-project-capital-market-reforms.html\n",
      "Article `download()` failed with 403 Client Error: 2 for url: https://www.globalresearch.ca/how-the-1-3-billion-eib-loan-uses-public-money-to-muddy-democracy-the-environment-and-climate-change-targets/5628943 on URL https://www.globalresearch.ca/how-the-1-3-billion-eib-loan-uses-public-money-to-muddy-democracy-the-environment-and-climate-change-targets/5628943\n",
      "Article `download()` failed with 403 Client Error: Forbidden for url: https://seekingalpha.com/article/4160236-world-bank-hummingbird-leveraging-knowledge-development-finance on URL https://seekingalpha.com/article/4160236-world-bank-hummingbird-leveraging-knowledge-development-finance\n",
      "Article `download()` failed with 503 Server Error: Service Temporarily Unavailable for url: https://fp.brecorder.com/2017/12/20171219328394/ on URL https://fp.brecorder.com/2017/12/20171219328394/\n",
      "You must `download()` an article first!\n",
      "Article `download()` failed with 404 Client Error: Not Found for url: http://www.fijitimes.com/story.aspx?id=441093 on URL http://www.fijitimes.com/story.aspx?id=441093\n",
      "** Iteration Count 7600  **\n",
      "** Error Count 433  **\n",
      "Article `download()` failed with 404 Client Error: Not Found for url: https://lancasteronline.com/news/pennsylvania/no-duke-bounces-back-with---win-over-pitt/article_85d9ede6-4f9c-57b3-afdb-b8e41982d9d1.html on URL http://lancasteronline.com/news/pennsylvania/no-duke-bounces-back-with---win-over-pitt/article_85d9ede6-4f9c-57b3-afdb-b8e41982d9d1.html\n",
      "You must `download()` an article first!\n",
      "Article `download()` failed with 410 Client Error: Gone for url: http://www.bcdemocrat.com/2017/12/12/eu-climate-summit-the-latest/ on URL http://www.bcdemocrat.com/2017/12/12/eu-climate-summit-the-latest/\n",
      "You must `download()` an article first!\n",
      "** Iteration Count 7700  **\n",
      "** Error Count 437  **\n",
      "Article `download()` failed with 503 Server Error: Service Temporarily Unavailable for url: http://thestandard.com.ph/business/biz-plus/256441/adb-lends-105m-to-support-ph-infra-deals.html on URL http://thestandard.com.ph/business/biz-plus/256441/adb-lends-105m-to-support-ph-infra-deals.html\n",
      "Article `download()` failed with 404 Client Error: Not Found for url: http://www.miamiherald.com/news/business/article210841149.html on URL http://www.miamiherald.com/news/business/article210841149.html\n",
      "** Iteration Count 7800  **\n",
      "** Error Count 439  **\n",
      "Article `download()` failed with 404 Client Error: Not Found for url: https://www.journalducameroun.com/en/adb-to-raise-8b-from-capital-markets-in-2018/ on URL https://www.journalducameroun.com/en/adb-to-raise-8b-from-capital-markets-in-2018/\n",
      "You must `download()` an article first!\n",
      "You must `download()` an article first!\n",
      "Article `download()` failed with 404 Client Error: Not Found for url: https://www.journalducameroun.com/en/afdb-approves-10m-loan-for-african-currency-board-fund/ on URL https://www.journalducameroun.com/en/afdb-approves-10m-loan-for-african-currency-board-fund/\n",
      "You must `download()` an article first!\n",
      "You must `download()` an article first!\n",
      "Article `download()` failed with 405 Client Error: Not Allowed for url: https://www.powerengineeringint.com/articles/2018/01/eib-funds-spanish-renewable-group-s-digital-expansion.html on URL http://www.powerengineeringint.com/articles/2018/01/eib-funds-spanish-renewable-group-s-digital-expansion.html\n",
      "** Iteration Count 7900  **\n",
      "** Error Count 446  **\n",
      "Article `download()` failed with 404 Client Error: Not Found for url: http://www.fijitimes.com/story.aspx?id=426845 on URL http://www.fijitimes.com/story.aspx?id=426845\n",
      "Article `download()` failed with 404 Client Error: Not Found for url: http://www.fijitimes.com/story.aspx?id=438497 on URL http://www.fijitimes.com/story.aspx?id=438497\n",
      "Article `download()` failed with 500 Server Error: Internal Server Error for url: http://theenergycollective.com/roberthargraves/2432729/open-letter-to-jim-kim-president-of-the-world-bank on URL http://theenergycollective.com/roberthargraves/2432729/open-letter-to-jim-kim-president-of-the-world-bank\n",
      "Article `download()` failed with 503 Server Error: Service Temporarily Unavailable for url: https://www.brecorder.com/2018/02/27/401522/aiib-delegation-calls-on-shehbaz-sharif/ on URL https://www.brecorder.com/2018/02/27/401522/aiib-delegation-calls-on-shehbaz-sharif/\n",
      "You must `download()` an article first!\n",
      "Article `download()` failed with 404 Client Error: Not Found for url: https://host.madison.com/lifestyles/food-and-cooking/new-supreme-court-cookbook-dishes-up-history-recipes/article_619fe87a-374c-5c07-afdb-e17ecf341e0c.html on URL http://host.madison.com/lifestyles/food-and-cooking/new-supreme-court-cookbook-dishes-up-history-recipes/article_619fe87a-374c-5c07-afdb-e17ecf341e0c.html\n",
      "You must `download()` an article first!\n",
      "You must `download()` an article first!\n",
      "Article `download()` failed with 503 Server Error: Service Temporarily Unavailable for url: https://www.brecorder.com/2017/12/18/387695/world-bank-approves-150mn-loan-for-chinas-farm-produce-distribution-system/ on URL https://www.brecorder.com/2017/12/18/387695/world-bank-approves-150mn-loan-for-chinas-farm-produce-distribution-system/\n",
      "** Iteration Count 8000  **\n",
      "** Error Count 455  **\n",
      "### Saving Cache ###\n",
      "Article `download()` failed with 503 Server Error: Service Temporarily Unavailable for url: https://fp.brecorder.com/2017/12/20171219328374/ on URL https://fp.brecorder.com/2017/12/20171219328374/\n",
      "Article `download()` failed with 404 Client Error: Not Found for url: http://www.sacbee.com/news/business/article210841149.html on URL http://www.sacbee.com/news/business/article210841149.html\n",
      "** Iteration Count 8100  **\n",
      "** Error Count 457  **\n",
      "You must `download()` an article first!\n",
      "You must `download()` an article first!\n",
      "You must `download()` an article first!\n",
      "Article `download()` failed with 405 Client Error: Not Allowed for url: https://www.decentralized-energy.com/articles/2018/01/ebrd-backs-turkish-efficiency-plan.html on URL http://www.decentralized-energy.com/articles/2018/01/ebrd-backs-turkish-efficiency-plan.html\n",
      "You must `download()` an article first!\n",
      "Article `download()` failed with 404 Client Error: Not Found for url: http://www.caledonianrecord.com/news/strange/st-louis-man-amasses-collection-of-historic-military-planes/article_69cdfb44-a886-542e-afdb-61c2f1007bca.html on URL http://www.caledonianrecord.com/news/strange/st-louis-man-amasses-collection-of-historic-military-planes/article_69cdfb44-a886-542e-afdb-61c2f1007bca.html\n",
      "** Iteration Count 8200  **\n",
      "** Error Count 463  **\n",
      "Article `download()` failed with 404 Client Error: Not Found for url: https://www.businessdayonline.com/world-bank-support-nigeria-fragile-states-hits-14bn-says-country-director/ on URL https://www.businessdayonline.com/world-bank-support-nigeria-fragile-states-hits-14bn-says-country-director/\n",
      "Article `download()` failed with 503 Server Error: Service Temporarily Unavailable for url: https://www.brecorder.com/2017/12/23/388811/ebrd-loans-350mn-to-arcelormittals-ukraine-mill/ on URL https://www.brecorder.com/2017/12/23/388811/ebrd-loans-350mn-to-arcelormittals-ukraine-mill/\n",
      "You must `download()` an article first!\n",
      "You must `download()` an article first!\n",
      "Article `download()` failed with 416 Client Error: Requested Range Not Satisfiable for url: https://www.streetinsider.com/Reuters/Special+Report%3A+Meet+the+force+behind+Zimbabwes+Crocodile+president/13640669.html on URL https://www.streetinsider.com/Reuters/Special+Report%3A+Meet+the+force+behind+Zimbabwes+Crocodile+president/13640669.html\n",
      "** Iteration Count 8300  **\n",
      "** Error Count 468  **\n",
      "You must `download()` an article first!\n",
      "You must `download()` an article first!\n",
      "Article `download()` failed with 500 Server Error: Internal Server Error for url: https://www.theenergycollective.com/desmog/2418081/american-cities-states-fighting-climate-change-globally on URL https://www.theenergycollective.com/desmog/2418081/american-cities-states-fighting-climate-change-globally\n",
      "Article `download()` failed with 503 Server Error: Service Temporarily Unavailable for url: http://www.moneylife.in/article/imf-world-bank-wants-frdi-bill-to-have-more-onerous-conditions-for-creditors/52558.html on URL http://www.moneylife.in/article/imf-world-bank-wants-frdi-bill-to-have-more-onerous-conditions-for-creditors/52558.html\n",
      "Article `download()` failed with 404 Client Error: Not Found for url: http://www.sanluisobispo.com/news/business/article210841149.html on URL http://www.sanluisobispo.com/news/business/article210841149.html\n",
      "** Iteration Count 8400  **\n",
      "** Error Count 473  **\n",
      "Article `download()` failed with 404 Client Error: Not Found for url: https://www.journalducameroun.com/en/world-bank-provides-470m-in-grant-loan-to-ethiopia/ on URL https://www.journalducameroun.com/en/world-bank-provides-470m-in-grant-loan-to-ethiopia/\n",
      "You must `download()` an article first!\n",
      "Article `download()` failed with 503 Server Error: Service Temporarily Unavailable for url: https://www.brecorder.com/2018/01/04/390594/diamer-bhashas-jerky-ride/ on URL https://www.brecorder.com/2018/01/04/390594/diamer-bhashas-jerky-ride/\n",
      "You must `download()` an article first!\n",
      "Article `download()` failed with 404 Client Error: Unknown site! for url: http://biopower.cleantechnology-business-review.com/news/ebrd-to-support-construction-of-biogas-fired-power-plants-in-belarus-250118-6036869 on URL http://biopower.cleantechnology-business-review.com/news/ebrd-to-support-construction-of-biogas-fired-power-plants-in-belarus-250118-6036869\n",
      "You must `download()` an article first!\n",
      "** Iteration Count 8500  **\n",
      "** Error Count 479  **\n",
      "### Saving Cache ###\n",
      "Article `download()` failed with 404 Client Error: Not Found for url: http://www.businessdayonline.com/focus-power-sector-afdb-salvage-sinking-nigerian-discos/ on URL http://www.businessdayonline.com/focus-power-sector-afdb-salvage-sinking-nigerian-discos/\n",
      "You must `download()` an article first!\n",
      "Article `download()` failed with 404 Client Error: Unknown site! for url: http://waterwastemanagement.cleantechnology-business-review.com/news/eib-offers-50m-loan-for-water-treatment-in-panama-6010075 on URL http://waterwastemanagement.cleantechnology-business-review.com/news/eib-offers-50m-loan-for-water-treatment-in-panama-6010075\n",
      "Article `download()` failed with 404 Client Error: Not Found for url: https://www.kpvi.com/news/national_news/armed-with-new-data-officials-target-drug-dealing-doctors/article_cbff7fb7-cd99-5bc8-afdb-bd9b9898eb3b.html on URL https://www.kpvi.com/news/national_news/armed-with-new-data-officials-target-drug-dealing-doctors/article_cbff7fb7-cd99-5bc8-afdb-bd9b9898eb3b.html\n",
      "** Iteration Count 8600  **\n",
      "** Error Count 483  **\n",
      "Article `download()` failed with 404 Client Error: Unknown site! for url: http://solar.cleantechnology-business-review.com/news/adb-isa-sign-cooperation-agreement-to-promote-solar-energy-in-asia-and-pacific-region-120318-6079558 on URL http://solar.cleantechnology-business-review.com/news/adb-isa-sign-cooperation-agreement-to-promote-solar-energy-in-asia-and-pacific-region-120318-6079558\n",
      "You must `download()` an article first!\n",
      "Article `download()` failed with 404 Client Error: Not Found for url: https://lancasteronline.com/features/entertainment/national/bada-bing-new-jersey-whacks-sopranos-strip-club/article_feb7e9ef-0675-5b04-afdb-943e37cbf4ce.html on URL http://lancasteronline.com/entertainment/national/bada-bing-new-jersey-whacks-sopranos-strip-club/article_feb7e9ef-0675-5b04-afdb-943e37cbf4ce.html\n",
      "Article `download()` failed with 404 Client Error: Unknown site! for url: http://hydro.cleantechnology-business-review.com/news/kyrgyz-republic-awards-104m-hydropower-modernization-contract-ge-120218-6052973 on URL http://hydro.cleantechnology-business-review.com/news/kyrgyz-republic-awards-104m-hydropower-modernization-contract-ge-120218-6052973\n",
      "** Iteration Count 8700  **\n",
      "** Error Count 487  **\n",
      "You must `download()` an article first!\n",
      "Article `download()` failed with 503 Server Error: Service Temporarily Unavailable for url: https://fp.brecorder.com/2018/03/20180314351436/ on URL https://fp.brecorder.com/2018/03/20180314351436/\n",
      "You must `download()` an article first!\n",
      "Article `download()` failed with 503 Server Error: Service Temporarily Unavailable for url: https://fp.brecorder.com/2017/12/20171219328316/ on URL https://fp.brecorder.com/2017/12/20171219328316/\n",
      "** Iteration Count 8800  **\n",
      "** Error Count 491  **\n",
      "Article `download()` failed with 404 Client Error: Not Found for url: http://www.fijitimes.com/story.aspx?id=432655 on URL http://www.fijitimes.com/story.aspx?id=432655\n",
      "Article `download()` failed with 404 Client Error: Not Found for url: https://www.journalducameroun.com/en/nigeria-formalises-request-to-host-afdb-regional-office/ on URL https://www.journalducameroun.com/en/nigeria-formalises-request-to-host-afdb-regional-office/\n",
      "You must `download()` an article first!\n",
      "Article `download()` failed with 404 Client Error: Not Found for url: https://lebanon-express.com/news/world/gas-flows-restored-after-explosion-at-austrian-hub/article_052747f4-e6f3-5390-afdb-6d333e6ac9be.html on URL http://lebanon-express.com/news/world/gas-flows-restored-after-explosion-at-austrian-hub/article_052747f4-e6f3-5390-afdb-6d333e6ac9be.html\n",
      "You must `download()` an article first!\n",
      "You must `download()` an article first!\n",
      "Article `download()` failed with 404 Client Error: Not Found for url: https://www.vanguardngr.com/2018/04/edo-lagos-host-11-world-bank-executive-directors-review-projects-funding/ on URL https://www.vanguardngr.com/2018/04/edo-lagos-host-11-world-bank-executive-directors-review-projects-funding/\n",
      "** Iteration Count 8900  **\n",
      "** Error Count 498  **\n",
      "Article `download()` failed with 404 Client Error: Not Found for url: http://www.fijitimes.com/story.aspx?id=434239 on URL http://www.fijitimes.com/story.aspx?id=434239\n",
      "Article `download()` failed with 404 Client Error: Not Found for url: https://news.vice.com/story/world-bank-and-axa-insurance-slash-billions-of-dollars-in-fossil-fuel-investments on URL https://news.vice.com/story/world-bank-and-axa-insurance-slash-billions-of-dollars-in-fossil-fuel-investments\n",
      "** Iteration Count 9000  **\n",
      "** Error Count 500  **\n",
      "### Saving Cache ###\n",
      "Article `download()` failed with 405 Client Error: Not Allowed for url: https://www.hydroworld.com/articles/2018/02/eib-approves-loan-to-fund-hydropower-project-in-georgia.html on URL http://www.hydroworld.com/articles/2018/02/eib-approves-loan-to-fund-hydropower-project-in-georgia.html\n",
      "You must `download()` an article first!\n",
      "You must `download()` an article first!\n",
      "You must `download()` an article first!\n",
      "** Iteration Count 9100  **\n",
      "** Error Count 504  **\n",
      "Article `download()` failed with 404 Client Error: Not Found for url: http://www.ntv.co.ug/news/business/11/dec/2017/world-banks-private-sector-lender-ifc-launches-9-trillion-shillings-credit on URL http://ntv.co.ug/news/business/11/dec/2017/world-banks-private-sector-lender-ifc-launches-9-trillion-shillings-credit\n",
      "You must `download()` an article first!\n",
      "Article `download()` failed with 404 Client Error: Not Found for url: http://www.theeagle.com/news/nation/the-latest-airport-agency-head-jfk-woes-unacceptable/article_2d244031-19b8-58d6-afdb-aa0da6f47890.html on URL http://www.theeagle.com/news/nation/the-latest-airport-agency-head-jfk-woes-unacceptable/article_2d244031-19b8-58d6-afdb-aa0da6f47890.html\n",
      "You must `download()` an article first!\n",
      "You must `download()` an article first!\n",
      "You must `download()` an article first!\n",
      "Article `download()` failed with 404 Client Error: Not Found for url: http://www.fijitimes.com/story.aspx?id=432329 on URL http://www.fijitimes.com/story.aspx?id=432329\n",
      "** Iteration Count 9200  **\n",
      "** Error Count 511  **\n",
      "Article `download()` failed with 404 Client Error: Not Found for url: http://www.newtimes.co.rw/section/read/229119/ on URL http://www.newtimes.co.rw/section/read/229119/\n",
      "You must `download()` an article first!\n",
      "** Iteration Count 9300  **\n",
      "** Error Count 513  **\n",
      "Article `download()` failed with 404 Client Error: Unknown site! for url: http://hydro.cleantechnology-business-review.com/news/ebrd-provides-finance-to-modernize-enguri-hydroelectric-plant-in-georgia-110118-6025511 on URL http://hydro.cleantechnology-business-review.com/news/ebrd-provides-finance-to-modernize-enguri-hydroelectric-plant-in-georgia-110118-6025511\n",
      "Article `download()` failed with 403 Client Error: Forbidden for url: https://www.independent.co.ug/electricity-boom-2018/ on URL https://www.independent.co.ug/electricity-boom-2018/\n",
      "You must `download()` an article first!\n",
      "Article `download()` failed with 503 Server Error: Service Temporarily Unavailable for url: http://www.moneylife.in/article/imf-world-bank-want-frdi-bill-to-have-more-onerous-conditions-for-creditors/52558.html on URL http://www.moneylife.in/article/imf-world-bank-want-frdi-bill-to-have-more-onerous-conditions-for-creditors/52558.html\n",
      "Article `download()` failed with 404 Client Error: Not Found for url: https://www3.nhk.or.jp/nhkworld/en/news/20180311_02/ on URL https://www3.nhk.or.jp/nhkworld/en/news/20180311_02/\n",
      "Article `download()` failed with 416 Client Error: Requested Range Not Satisfiable for url: https://www.streetinsider.com/Reuters/IDB+says+2019+Argentina+loans+to+match+this+years+%242.35+billion/13981521.html on URL https://www.streetinsider.com/Reuters/IDB+says+2019+Argentina+loans+to+match+this+years+%242.35+billion/13981521.html\n",
      "You must `download()` an article first!\n",
      "** Iteration Count 9400  **\n",
      "** Error Count 520  **\n",
      "You must `download()` an article first!\n",
      "Article `download()` failed with 500 Server Error: Internal Server Error for url: https://newtelegraphonline.com/2018/05/world-bank-lauds-fgs-economic-reforms/ on URL https://newtelegraphonline.com/2018/05/world-bank-lauds-fgs-economic-reforms/\n",
      "You must `download()` an article first!\n",
      "You must `download()` an article first!\n",
      "Article `download()` failed with 404 Client Error: Not Found for url: https://www.businessdayonline.com/economic-recession-afdb-disburses-600m-budget-support-fg/ on URL https://www.businessdayonline.com/economic-recession-afdb-disburses-600m-budget-support-fg/\n",
      "You must `download()` an article first!\n",
      "Article `download()` failed with 503 Server Error: Service Temporarily Unavailable for url: https://fp.brecorder.com/2017/12/20171224329892/ on URL https://fp.brecorder.com/2017/12/20171224329892/\n",
      "You must `download()` an article first!\n",
      "** Iteration Count 9500  **\n",
      "** Error Count 528  **\n",
      "### Saving Cache ###\n",
      "You must `download()` an article first!\n",
      "You must `download()` an article first!\n",
      "Article `download()` failed with 503 Server Error: Service Temporarily Unavailable for url: https://www.brecorder.com/2018/02/13/398898/jica-to-support-home-based-women-workers-of-pakistan/ on URL https://www.brecorder.com/2018/02/13/398898/jica-to-support-home-based-women-workers-of-pakistan/\n",
      "Article `download()` failed with 404 Client Error: Not Found for url: http://www.heraldcourier.com/news/world-bank-funds-m-economic-project-in-western-balkans/article_70a41e43-3061-567f-a29d-20fd942b8a22.html on URL http://www.heraldcourier.com/news/world-bank-funds-m-economic-project-in-western-balkans/article_70a41e43-3061-567f-a29d-20fd942b8a22.html\n",
      "Article `download()` failed with 404 Client Error: Not Found for url: https://www.nyasatimes.com/kidnappedjane-nthakomwa-faces-probe-ictc-malawi-fraud-police-pick-dora-nyirenda-abduction-claims/ on URL https://www.nyasatimes.com/kidnappedjane-nthakomwa-faces-probe-ictc-malawi-fraud-police-pick-dora-nyirenda-abduction-claims/\n",
      "** Iteration Count 9600  **\n",
      "** Error Count 533  **\n",
      "You must `download()` an article first!\n"
     ]
    },
    {
     "name": "stderr",
     "output_type": "stream",
     "text": [
      "/Users/michaeldowd/anaconda/envs/my_py_3/lib/python3.5/site-packages/PIL/TiffImagePlugin.py:739: UserWarning: Possibly corrupt EXIF data.  Expecting to read 264 bytes but only got 194. Skipping tag 37510\n",
      "  \" Skipping tag %s\" % (size, len(data), tag))\n",
      "/Users/michaeldowd/anaconda/envs/my_py_3/lib/python3.5/site-packages/PIL/TiffImagePlugin.py:739: UserWarning: Possibly corrupt EXIF data.  Expecting to read 32 bytes but only got 0. Skipping tag 42032\n",
      "  \" Skipping tag %s\" % (size, len(data), tag))\n",
      "/Users/michaeldowd/anaconda/envs/my_py_3/lib/python3.5/site-packages/PIL/TiffImagePlugin.py:739: UserWarning: Possibly corrupt EXIF data.  Expecting to read 13 bytes but only got 0. Skipping tag 42033\n",
      "  \" Skipping tag %s\" % (size, len(data), tag))\n",
      "/Users/michaeldowd/anaconda/envs/my_py_3/lib/python3.5/site-packages/PIL/TiffImagePlugin.py:739: UserWarning: Possibly corrupt EXIF data.  Expecting to read 32 bytes but only got 0. Skipping tag 42034\n",
      "  \" Skipping tag %s\" % (size, len(data), tag))\n",
      "/Users/michaeldowd/anaconda/envs/my_py_3/lib/python3.5/site-packages/PIL/TiffImagePlugin.py:739: UserWarning: Possibly corrupt EXIF data.  Expecting to read 70 bytes but only got 0. Skipping tag 42036\n",
      "  \" Skipping tag %s\" % (size, len(data), tag))\n",
      "/Users/michaeldowd/anaconda/envs/my_py_3/lib/python3.5/site-packages/PIL/TiffImagePlugin.py:739: UserWarning: Possibly corrupt EXIF data.  Expecting to read 12 bytes but only got 0. Skipping tag 42037\n",
      "  \" Skipping tag %s\" % (size, len(data), tag))\n",
      "/Users/michaeldowd/anaconda/envs/my_py_3/lib/python3.5/site-packages/PIL/TiffImagePlugin.py:739: UserWarning: Possibly corrupt EXIF data.  Expecting to read 8 bytes but only got 6. Skipping tag 37386\n",
      "  \" Skipping tag %s\" % (size, len(data), tag))\n",
      "/Users/michaeldowd/anaconda/envs/my_py_3/lib/python3.5/site-packages/PIL/TiffImagePlugin.py:739: UserWarning: Possibly corrupt EXIF data.  Expecting to read 44 bytes but only got 0. Skipping tag 37510\n",
      "  \" Skipping tag %s\" % (size, len(data), tag))\n",
      "/Users/michaeldowd/anaconda/envs/my_py_3/lib/python3.5/site-packages/PIL/TiffImagePlugin.py:739: UserWarning: Possibly corrupt EXIF data.  Expecting to read 8 bytes but only got 0. Skipping tag 41730\n",
      "  \" Skipping tag %s\" % (size, len(data), tag))\n",
      "/Users/michaeldowd/anaconda/envs/my_py_3/lib/python3.5/site-packages/PIL/TiffImagePlugin.py:739: UserWarning: Possibly corrupt EXIF data.  Expecting to read 8 bytes but only got 0. Skipping tag 41988\n",
      "  \" Skipping tag %s\" % (size, len(data), tag))\n",
      "/Users/michaeldowd/anaconda/envs/my_py_3/lib/python3.5/site-packages/PIL/TiffImagePlugin.py:739: UserWarning: Possibly corrupt EXIF data.  Expecting to read 8 bytes but only got 0. Skipping tag 42240\n",
      "  \" Skipping tag %s\" % (size, len(data), tag))\n"
     ]
    },
    {
     "name": "stdout",
     "output_type": "stream",
     "text": [
      "Article `download()` failed with 404 Client Error: Not Found for url: http://www.ledger-enquirer.com/news/business/article210841149.html on URL http://www.ledger-enquirer.com/news/business/article210841149.html\n",
      "Article `download()` failed with 503 Server Error: Service Temporarily Unavailable for url: https://www.brecorder.com/2018/01/03/390508/adb-shows-interest-in-sewerage-water-supply-solid-waste-projects/ on URL https://www.brecorder.com/2018/01/03/390508/adb-shows-interest-in-sewerage-water-supply-solid-waste-projects/\n",
      "Article `download()` failed with 404 Client Error: Not Found for url: http://www.guardian.co.tt/business-lead/2018-03-10/a-tourism-catalyst on URL http://www.guardian.co.tt/business-lead/2018-03-10/a-tourism-catalyst\n",
      "You must `download()` an article first!\n",
      "** Iteration Count 9700  **\n",
      "** Error Count 538  **\n",
      "Article `download()` failed with 403 Client Error: Forbidden for url: https://www.desmogblog.com/2017/12/07/how-american-cities-and-states-are-fighting-climate-change-globally on URL https://www.desmogblog.com/2017/12/07/how-american-cities-and-states-are-fighting-climate-change-globally\n",
      "You must `download()` an article first!\n",
      "Article `download()` failed with 405 Client Error: Not Allowed for url: https://www.decentralized-energy.com/articles/2018/01/greek-firm-set-to-develop-chp-geothermal-hydro-and-wind-projects.html on URL http://www.decentralized-energy.com/articles/2018/01/greek-firm-set-to-develop-chp-geothermal-hydro-and-wind-projects.html\n",
      "You must `download()` an article first!\n",
      "** Iteration Count 9800  **\n",
      "** Error Count 542  **\n",
      "Article `download()` failed with 503 Server Error: Service Temporarily Unavailable for url: https://www.brecorder.com/2018/06/06/421675/profile-of-dr-shamshad-akhtar/ on URL https://www.brecorder.com/2018/06/06/421675/profile-of-dr-shamshad-akhtar/\n",
      "Article `download()` failed with 404 Client Error: Not Found for url: http://saharareporters.com/2018/05/06/afdbs-investments-electricity-was-100-renewable-energy-2017-official on URL http://saharareporters.com/2018/05/06/afdbs-investments-electricity-was-100-renewable-energy-2017-official\n",
      "You must `download()` an article first!\n",
      "Article `download()` failed with 500 Server Error: Internal Server Error for url: https://newtelegraphonline.com/2018/01/recession-afdb-disburses-600m-budget-support-fg/ on URL https://newtelegraphonline.com/2018/01/recession-afdb-disburses-600m-budget-support-fg/\n",
      "Article `download()` failed with 404 Client Error: Unknown site! for url: http://energyinfrastructure.cleantechnology-business-review.com/news/world-bank-agrees-to-provide-486m-loan-to-improve-nigerias-electricity-transmission-network-and-infrastructure-160218-6058123 on URL http://energyinfrastructure.cleantechnology-business-review.com/news/world-bank-agrees-to-provide-486m-loan-to-improve-nigerias-electricity-transmission-network-and-infrastructure-160218-6058123\n",
      "Article `download()` failed with 503 Server Error: Service Temporarily Unavailable for url: http://www.mediamaxnetwork.co.ke/business/399563/new-ceos-take-charge-energy-parastatals/ on URL http://www.mediamaxnetwork.co.ke/business/399563/new-ceos-take-charge-energy-parastatals/\n"
     ]
    },
    {
     "name": "stderr",
     "output_type": "stream",
     "text": [
      "/Users/michaeldowd/anaconda/envs/my_py_3/lib/python3.5/site-packages/PIL/TiffImagePlugin.py:739: UserWarning: Possibly corrupt EXIF data.  Expecting to read 2060 bytes but only got 619. Skipping tag 59932\n",
      "  \" Skipping tag %s\" % (size, len(data), tag))\n",
      "/Users/michaeldowd/anaconda/envs/my_py_3/lib/python3.5/site-packages/PIL/TiffImagePlugin.py:739: UserWarning: Possibly corrupt EXIF data.  Expecting to read 2060 bytes but only got 1643. Skipping tag 59932\n",
      "  \" Skipping tag %s\" % (size, len(data), tag))\n",
      "/Users/michaeldowd/anaconda/envs/my_py_3/lib/python3.5/site-packages/PIL/TiffImagePlugin.py:739: UserWarning: Possibly corrupt EXIF data.  Expecting to read 2060 bytes but only got 96. Skipping tag 59932\n",
      "  \" Skipping tag %s\" % (size, len(data), tag))\n",
      "/Users/michaeldowd/anaconda/envs/my_py_3/lib/python3.5/site-packages/PIL/TiffImagePlugin.py:739: UserWarning: Possibly corrupt EXIF data.  Expecting to read 2060 bytes but only got 1120. Skipping tag 59932\n",
      "  \" Skipping tag %s\" % (size, len(data), tag))\n"
     ]
    },
    {
     "name": "stdout",
     "output_type": "stream",
     "text": [
      "** Iteration Count 9900  **\n",
      "** Error Count 548  **\n",
      "Article `download()` failed with 403 Client Error: 2 for url: https://www.globalresearch.ca/european-development-bank-invests-billions-in-fossil-fuels-as-paris-prepares-for-one-planet-climate-summit/5622386 on URL https://www.globalresearch.ca/european-development-bank-invests-billions-in-fossil-fuels-as-paris-prepares-for-one-planet-climate-summit/5622386\n",
      "Article `download()` failed with 404 Client Error: Not Found for url: http://www.ntv.co.ug/node/21072 on URL http://www.ntv.co.ug/node/21072\n",
      "Article `download()` failed with 404 Client Error: Not Found for url: http://www.businessdayonline.com/fg-gets-486m-world-bank-support-improve-power-transmission-infrastructure/ on URL http://www.businessdayonline.com/fg-gets-486m-world-bank-support-improve-power-transmission-infrastructure/\n",
      "You must `download()` an article first!\n",
      "** Iteration Count 10000  **\n",
      "** Error Count 552  **\n",
      "### Saving Cache ###\n",
      "Article `download()` failed with 503 Server Error: Service Temporarily Unavailable for url: http://thestandard.com.ph/business/banking-report/256152/world-bank-okays-170-m-loan-.html on URL http://thestandard.com.ph/business/banking-report/256152/world-bank-okays-170-m-loan-.html\n",
      "Article `download()` failed with 404 Client Error: Not Found for url: http://www.therepublic.com/2018/01/10/as-australia-china/ on URL http://www.therepublic.com/2018/01/10/as-australia-china/\n",
      "You must `download()` an article first!\n",
      "Article `download()` failed with 404 Client Error: Not Found for url: https://www3.nhk.or.jp/nhkworld/en/news/20180105_29/ on URL https://www3.nhk.or.jp/nhkworld/en/news/20180105_29/\n",
      "You must `download()` an article first!\n",
      "You must `download()` an article first!\n",
      "Article `download()` failed with 503 Server Error: Service Unavailable for url: http://jamaica-gleaner.com/article/focus/20180121/gordon-robinson-taking-nids-out-shadows on URL http://jamaica-gleaner.com/article/focus/20180121/gordon-robinson-taking-nids-out-shadows\n",
      "Article `download()` failed with 503 Server Error: Service Temporarily Unavailable for url: https://fp.brecorder.com/2017/12/20171209325621/ on URL https://fp.brecorder.com/2017/12/20171209325621/\n",
      "Article `download()` failed with 410 Client Error: Gone for url: https://www.ghanaweb.com/GhanaHomePage/entertainment/I-was-severely-criticized-for-performing-at-S-Concert-Gifty-Osei-608601 on URL https://www.ghanaweb.com/GhanaHomePage/entertainment/I-was-severely-criticized-for-performing-at-S-Concert-Gifty-Osei-608601\n",
      "You must `download()` an article first!\n",
      "Article `download()` failed with 404 Client Error: Not Found for url: https://www.al-monitor.com/pulse/originals/2017/12/egypt-grant-public-transport-unified-smart-card.html on URL https://www.al-monitor.com/pulse/originals/2017/12/egypt-grant-public-transport-unified-smart-card.html\n",
      "** Iteration Count 10100  **\n",
      "** Error Count 563  **\n",
      "Article `download()` failed with 404 Client Error: Not Found for url: https://www.businessdayonline.com/2018-afdb-shifts-focus-power-sector/ on URL https://www.businessdayonline.com/2018-afdb-shifts-focus-power-sector/\n",
      "You must `download()` an article first!\n",
      "Article `download()` failed with 404 Client Error: Not Found for url: https://www.znbc.co.zm/world-bank-to-give-zambia-2-8m/ on URL https://www.znbc.co.zm/world-bank-to-give-zambia-2-8m/\n",
      "You must `download()` an article first!\n",
      "You must `parse()` an article first!\n",
      "Article `download()` failed with 404 Client Error: Not Found for url: http://www.businessdayonline.com/afdb-253m-donor-loan-agreement-france/ on URL http://www.businessdayonline.com/afdb-253m-donor-loan-agreement-france/\n",
      "Article `download()` failed with 404 Client Error: Not Found for url: https://www.trinidadexpress.com/20180101/business/idb-tt-needs-more-4g-competitors/ on URL http://www.trinidadexpress.com/20180101/business/idb-tt-needs-more-4g-competitors\n",
      "Article `download()` failed with 404 Client Error: Not Found for url: http://www.newsobserver.com/news/business/article210841149.html on URL http://www.newsobserver.com/news/business/article210841149.html\n",
      "** Iteration Count 10200  **\n",
      "** Error Count 570  **\n",
      "Article `download()` failed with 404 Client Error: Not Found for url: https://barbadostoday.bb/2018/02/17/breaking-the-poverty-cycle/ on URL https://www.barbadostoday.bb/2018/02/17/breaking-the-poverty-cycle/\n",
      "You must `download()` an article first!\n",
      "You must `download()` an article first!\n",
      "You must `download()` an article first!\n",
      "Article `download()` failed with 404 Client Error: Not Found for url: https://www.washingtonpost.com/business/china-protests-australia-criticism-of-chinese-aid-in-pacific/2018/01/10/72996f10-f667-11e7-9af7-a50bc3300042_story.html?noredirect=on on URL https://www.washingtonpost.com/business/china-protests-australia-criticism-of-chinese-aid-in-pacific/2018/01/10/72996f10-f667-11e7-9af7-a50bc3300042_story.html\n",
      "Article `download()` failed with 404 Client Error: Not Found for url: https://theecologist.org/2018/feb/09/how-ps13-billion-eib-loan-uses-public-money-muddy-democracy-environment-and-climate on URL https://theecologist.org/2018/feb/09/how-ps13-billion-eib-loan-uses-public-money-muddy-democracy-environment-and-climate\n",
      "You must `parse()` an article first!\n",
      "** Iteration Count 10300  **\n",
      "** Error Count 576  **\n",
      "Article `download()` failed with 404 Client Error: Not Found for url: https://www.dailyamerican.com/sports/national/wadley-enjoys-some-family-time-in-mvp-effort/article_73ec3b8c-f92f-5765-afdb-5644145d6cb6.html on URL https://www.dailyamerican.com/sports/national/wadley-enjoys-some-family-time-in-mvp-effort/article_73ec3b8c-f92f-5765-afdb-5644145d6cb6.html\n",
      "Article `download()` failed with 404 Client Error: Not Found for url: http://www.bdtonline.com/region/ethiopia-refuses-world-bank-arbitration-over-nile-river-dam/article_3c37ffba-1a3f-5950-8821-7c4d935f8da1.html on URL http://www.bdtonline.com/region/ethiopia-refuses-world-bank-arbitration-over-nile-river-dam/article_3c37ffba-1a3f-5950-8821-7c4d935f8da1.html\n",
      "Article `download()` failed with 404 Client Error: Not Found for url: http://www.miamiherald.com/news/business/article189285564.html on URL http://www.miamiherald.com/news/business/article189285564.html\n",
      "You must `download()` an article first!\n",
      "Article `download()` failed with 404 Client Error: Not Found for url: https://www.news.com.au/404 on URL http://www.news.com.au/finance/business/breaking-news/eib-plans-internationallyfocused-offshoot/news-story/e667759cfa0e9c4a669c6cf6a54a0cbc\n",
      "Article `download()` failed with 405 Client Error: Not Allowed for url: https://www.hydroworld.com/articles/2018/01/phase-iv-financing-secured-for-rehab-at-enguri-hydropower-project-in-georgia.html on URL http://www.hydroworld.com/articles/2018/01/phase-iv-financing-secured-for-rehab-at-enguri-hydropower-project-in-georgia.html\n",
      "Article `download()` failed with 503 Server Error: Service Temporarily Unavailable for url: https://www.brecorder.com/2017/12/19/387885/adb-lauds-pakistans-improved-credit-rating/ on URL https://www.brecorder.com/2017/12/19/387885/adb-lauds-pakistans-improved-credit-rating/\n",
      "** Iteration Count 10400  **\n",
      "** Error Count 583  **\n",
      "Article `download()` failed with 404 Client Error: Not Found for url: https://finfeed.com/features/world-bank-cease-financial-support-oil-gas/20171215/ on URL https://finfeed.com/features/world-bank-cease-financial-support-oil-gas/20171215/\n",
      "You must `download()` an article first!\n",
      "Article `download()` failed with 503 Server Error: Service Unavailable for url: http://www.dailystar.com.lb/Business/Local/2018/May-16/449571-development-bank-ebrd-to-invest-200m-in-2019.ashx on URL http://www.dailystar.com.lb/Business/Local/2018/May-16/449571-development-bank-ebrd-to-invest-200m-in-2019.ashx\n",
      "Article `download()` failed with 404 Client Error: Not Found for url: http://www.newtimes.co.rw/section/read/229975/ on URL http://www.newtimes.co.rw/section/read/229975/\n",
      "You must `download()` an article first!\n",
      "Article `download()` failed with 503 Server Error: Service Temporarily Unavailable for url: https://fp.brecorder.com/2017/12/20171218328260/ on URL https://fp.brecorder.com/2017/12/20171218328260/\n",
      "** Iteration Count 10500  **\n",
      "** Error Count 589  **\n",
      "### Saving Cache ###\n",
      "Article `download()` failed with 503 Server Error: Service Temporarily Unavailable for url: https://www.brecorder.com/2017/12/13/386543/afreximbank-pledges-up-to-1-5-billion-to-post-mugabe-zimbabwe/ on URL https://www.brecorder.com/2017/12/13/386543/afreximbank-pledges-up-to-1-5-billion-to-post-mugabe-zimbabwe/\n",
      "You must `download()` an article first!\n",
      "You must `download()` an article first!\n",
      "Article `download()` failed with 404 Client Error: Not Found for url: https://renewablesnow.com/news/bosnias-zenica-doboj-canton-negotiating-10-mln-euro-ebrd-loan-federation-govt-597488/ on URL https://renewablesnow.com/news/bosnias-zenica-doboj-canton-negotiating-10-mln-euro-ebrd-loan-federation-govt-597488/\n",
      "Article `download()` failed with 404 Client Error: Not Found for url: https://carbon-pulse.com/45733/ on URL https://carbon-pulse.com/45733/\n",
      "You must `download()` an article first!\n",
      "** Iteration Count 10600  **\n",
      "** Error Count 595  **\n",
      "Article `download()` failed with 404 Client Error: Not Found for url: https://wcfcourier.com/news/national/govt-and-politics/schumer-pursuing-legal-options-over-fake-harassment-document/article_eac088e2-d8e4-5160-afdb-d9c52fd4a469.html on URL http://wcfcourier.com/news/national/govt-and-politics/schumer-pursuing-legal-options-over-fake-harassment-document/article_eac088e2-d8e4-5160-afdb-d9c52fd4a469.html\n",
      "Article `download()` failed with 404 Client Error: Not Found for url: http://www.centralchronicle.com/retail-prices-go-high.html on URL http://www.centralchronicle.com/retail-prices-go-high.html\n",
      "Article `download()` failed with 404 Client Error: Not Found for url: http://www.businessdayonline.com/afdb-253m-donor-loan-agreement-france-2/ on URL http://www.businessdayonline.com/afdb-253m-donor-loan-agreement-france-2/\n",
      "Article `download()` failed with 404 Client Error: Not Found for url: https://www.znbc.co.zm/observe-the-fish-ban/ on URL https://www.znbc.co.zm/observe-the-fish-ban/\n",
      "You must `download()` an article first!\n",
      "** Iteration Count 10700  **\n",
      "** Error Count 600  **\n",
      "You must `download()` an article first!\n",
      "You must `download()` an article first!\n",
      "You must `download()` an article first!\n",
      "Article `download()` failed with 404 Client Error: Not Found for url: https://capital.com/italgas-signs-with-eib-loan-agreement-for-eur-360-mln on URL https://capital.com/italgas-signs-with-eib-loan-agreement-for-eur-360-mln\n",
      "You must `download()` an article first!\n",
      "You must `download()` an article first!\n",
      "** Iteration Count 10800  **\n",
      "** Error Count 606  **\n",
      "You must `download()` an article first!\n",
      "You must `download()` an article first!\n",
      "You must `download()` an article first!\n",
      "Article `download()` failed with 400 Client Error: Bad Request for url: http://www.capacitymedia.com/Article/3777295/News/Flexenclosure-secures-10m-loan-from-EIB on URL http://www.capacitymedia.com/Article/3777295/News/Flexenclosure-secures-10m-loan-from-EIB.html\n",
      "Article `download()` failed with 404 Client Error: Not Found for url: http://www.ntv.co.ug/blogs/charles-onyango-obbo/2017/dec/31/age-limit-bill-finally-they-held-luweero%e2%80%99s-last-funeral-rites on URL http://ntv.co.ug/blogs/charles-onyango-obbo/2017/dec/31/age-limit-bill-finally-they-held-luweero%E2%80%99s-last-funeral-rites\n",
      "You must `download()` an article first!\n",
      "** Iteration Count 10900  **\n",
      "** Error Count 612  **\n",
      "Article `download()` failed with 404 Client Error: Unknown site! for url: http://energyinfrastructure.cleantechnology-business-review.com/news/world-bank-to-help-bangladesh-with-560m-loan-to-improve-power-supply-environmental-sustainability-of-micro-enterprises-020418-6101303 on URL http://energyinfrastructure.cleantechnology-business-review.com/news/world-bank-to-help-bangladesh-with-560m-loan-to-improve-power-supply-environmental-sustainability-of-micro-enterprises-020418-6101303\n",
      "Article `download()` failed with 404 Client Error: Not Found for url: https://barbadostoday.bb/2018/01/26/no-more-long-talk-on-sewage-spill-donovan/ on URL https://www.barbadostoday.bb/2018/01/26/no-more-long-talk-on-sewage-spill-donovan/\n",
      "** Iteration Count 11000  **\n",
      "** Error Count 614  **\n",
      "### Saving Cache ###\n",
      "Article `download()` failed with 404 Client Error: Unknown site! for url: http://energyefficiency.cleantechnology-business-review.com/news/ebrd-offers-financing-for-reliable-power-supply-in-kyrgyz-republic-111217-5998944 on URL http://energyefficiency.cleantechnology-business-review.com/news/ebrd-offers-financing-for-reliable-power-supply-in-kyrgyz-republic-111217-5998944\n",
      "You must `download()` an article first!\n",
      "Article `download()` failed with 405 Client Error: Method Not Allowed for url: http://citywireamericas.com/news/low-investment-hinders-latam-growth-potential/a1104448?ref=international_Americas_latest_news_list on URL http://citywireamericas.com/news/low-investment-hinders-latam-growth-potential/a1104448?ref=international_Americas_latest_news_list\n",
      "You must `download()` an article first!\n",
      "You must `download()` an article first!\n",
      "Article `download()` failed with 404 Client Error: Not Found for url: http://www.miamiherald.com/news/business/article188558584.html on URL http://www.miamiherald.com/news/business/article188558584.html\n",
      "** Iteration Count 11100  **\n",
      "** Error Count 620  **\n",
      "You must `download()` an article first!\n",
      "You must `download()` an article first!\n",
      "You must `download()` an article first!\n",
      "You must `download()` an article first!\n",
      "Article `download()` failed with 403 Client Error: forbidden for url: http://www.constructionweekonline.com/article-48684-spains-acciona-and-saudis-swicorp-start-work-on-180m-egypt-solar-project/ on URL http://www.constructionweekonline.com/article-48684-spains-acciona-and-saudis-swicorp-start-work-on-180m-egypt-solar-project/\n",
      "** Iteration Count 11200  **\n",
      "** Error Count 625  **\n",
      "You must `download()` an article first!\n",
      "Article `download()` failed with 404 Client Error: Unknown site! for url: http://energystorage.cleantechnology-business-review.com/news/eib-backs-swedish-battery-start-up-northvolt-with-525m-loan-140218-6055339 on URL http://energystorage.cleantechnology-business-review.com/news/eib-backs-swedish-battery-start-up-northvolt-with-525m-loan-140218-6055339\n",
      "** Iteration Count 11300  **\n",
      "** Error Count 627  **\n",
      "You must `download()` an article first!\n",
      "You must `download()` an article first!\n",
      "You must `download()` an article first!\n",
      "** Iteration Count 11400  **\n",
      "** Error Count 630  **\n",
      "You must `download()` an article first!\n",
      "Article `download()` failed with 404 Client Error: Not Found for url: https://barbadostoday.bb/2018/02/12/on-loan/ on URL https://www.barbadostoday.bb/2018/02/12/on-loan/\n",
      "You must `download()` an article first!\n",
      "Article `download()` failed with 404 Client Error: Not Found for url: https://www.znbc.co.zm/shamulenge-sounds-warning/ on URL https://www.znbc.co.zm/shamulenge-sounds-warning/\n",
      "Article `download()` failed with 404 Client Error: Not Found for url: https://asia.nikkei.com/Politics-Economy/Economy/AIIB-approves-1.5bn-of-loans-to-India-for-infrastructure-projects on URL https://asia.nikkei.com/Politics-Economy/Economy/AIIB-approves-1.5bn-of-loans-to-India-for-infrastructure-projects\n",
      "You must `download()` an article first!\n",
      "Article `download()` failed with 404 Client Error: Not Found for url: https://www.journalducameroun.com/en/gambia-idbs-itfc-gives-17-5m-loan-for-agriculture/ on URL https://www.journalducameroun.com/en/gambia-idbs-itfc-gives-17-5m-loan-for-agriculture/\n",
      "** Iteration Count 11500  **\n",
      "** Error Count 637  **\n",
      "### Saving Cache ###\n",
      "Article `download()` failed with 404 Client Error: Not Found for url: https://www.businessdayonline.com/afdb-targets-25-million-jobs-across-africa-2025/ on URL https://www.businessdayonline.com/afdb-targets-25-million-jobs-across-africa-2025/\n",
      "Article `download()` failed with 404 Client Error: Unknown site! for url: http://energystorage.cleantechnology-business-review.com/news/eib-backs-swedish-battery-start-up-northvolt-with-525m-loan-140218-6055339 on URL http://energystorage.cleantechnology-business-review.com/news/eib-backs-swedish-battery-start-up-northvolt-with-525m-loan-140218-6055339\n",
      "You must `download()` an article first!\n",
      "Article `download()` failed with 404 Client Error: Not Found for url: http://the-japan-news.com/news/article/0004308160 on URL http://the-japan-news.com/news/article/0004308160\n",
      "** Iteration Count 11600  **\n",
      "** Error Count 641  **\n",
      "Article `download()` failed with 405 Client Error: Not Allowed for url: https://www.hydroworld.com/articles/2018/01/colombian-developer-receives-billion-dollar-loan-for-ituango.html on URL http://www.hydroworld.com/articles/2018/01/colombian-developer-receives-billion-dollar-loan-for-ituango.html\n",
      "Article `download()` failed with 404 Client Error: Not Found for url: https://www.journalducameroun.com/en/world-bank-loan-step-growth-devt-cameroon-minister/ on URL https://www.journalducameroun.com/en/world-bank-loan-step-growth-devt-cameroon-minister/\n",
      "Article `download()` failed with 410 Client Error: Gone for url: https://newsok.com/eu-ebrd-fund-albanias-main-rail-link-upgrade/article/feed/2182872 on URL http://newsok.com/eu-ebrd-fund-albanias-main-rail-link-upgrade/article/feed/2182872\n",
      "You must `parse()` an article first!\n",
      "You must `download()` an article first!\n",
      "** Iteration Count 11700  **\n",
      "** Error Count 645  **\n",
      "Article `download()` failed with 404 Client Error: Not Found for url: https://cumberlink.com/lifestyles/with-few-options-israeli-couples-turn-to-rogue-weddings/article_d3ba96a0-8549-5981-afdb-88fc8402fa1c.html on URL http://cumberlink.com/lifestyles/with-few-options-israeli-couples-turn-to-rogue-weddings/article_d3ba96a0-8549-5981-afdb-88fc8402fa1c.html\n",
      "Article `download()` failed with 503 Server Error: Service Temporarily Unavailable for url: https://www.brecorder.com/2018/03/20/406095/bisp-nrsp-sign-us35mn-agreement-on-business-incubation-programme/ on URL https://www.brecorder.com/2018/03/20/406095/bisp-nrsp-sign-us35mn-agreement-on-business-incubation-programme/\n",
      "Article `download()` failed with 503 Server Error: Service Temporarily Unavailable for url: https://www.brecorder.com/2018/02/03/396930/world-bank-agrees-to-support-agri-nutrition-projects-in-punjab-kp/ on URL https://www.brecorder.com/2018/02/03/396930/world-bank-agrees-to-support-agri-nutrition-projects-in-punjab-kp/\n"
     ]
    }
   ],
   "source": [
    "for cnt, idx in enumerate(grp_df.index):\n",
    "    if cnt%100 == 0:\n",
    "        print('** Iteration Count', cnt,' **')\n",
    "        print('** Error Count', error_count, ' **')\n",
    "    if cnt%500 == 0:\n",
    "        print('### Saving Cache ###')\n",
    "        with open('../Temp_Output/article_cache.pkl', 'wb') as file:\n",
    "            pickle.dump( cache, file)\n",
    "    row = grp_df.loc[idx]\n",
    "    get_text_via_Article(row['url'],row['article_id'])"
   ]
  },
  {
   "cell_type": "markdown",
   "metadata": {},
   "source": [
    "**Save Cache**"
   ]
  },
  {
   "cell_type": "code",
   "execution_count": 36,
   "metadata": {},
   "outputs": [],
   "source": [
    "with open('../Temp_Output/article_cache.pkl', 'wb') as file:\n",
    "    pickle.dump( cache, file)\n"
   ]
  },
  {
   "cell_type": "markdown",
   "metadata": {},
   "source": [
    "## Attach Scraped Content "
   ]
  },
  {
   "cell_type": "code",
   "execution_count": 37,
   "metadata": {},
   "outputs": [],
   "source": [
    "with open('../Temp_Output/article_cache.pkl', 'rb') as file:\n",
    "    cache = pickle.load(file)"
   ]
  },
  {
   "cell_type": "code",
   "execution_count": 6,
   "metadata": {},
   "outputs": [],
   "source": [
    "grp_df['scraped_content'] = grp_df['article_id'].map(cache)\n",
    "grp_df['article_text'] = [i[0] if pd.notnull(i) else np.nan for i in grp_df.scraped_content]\n",
    "grp_df['article_keywords'] = [i[1] if pd.notnull(i) else np.nan for i in grp_df.scraped_content]"
   ]
  },
  {
   "cell_type": "code",
   "execution_count": 39,
   "metadata": {},
   "outputs": [
    {
     "data": {
      "text/plain": [
       "1.0"
      ]
     },
     "execution_count": 39,
     "metadata": {},
     "output_type": "execute_result"
    }
   ],
   "source": [
    "grp_df[grp_df.scraped_content.notnull()].shape[0]/grp_df.shape[0]"
   ]
  },
  {
   "cell_type": "code",
   "execution_count": 44,
   "metadata": {},
   "outputs": [
    {
     "data": {
      "text/plain": [
       "5.573045179954054"
      ]
     },
     "execution_count": 44,
     "metadata": {},
     "output_type": "execute_result"
    }
   ],
   "source": [
    "100 * grp_df[grp_df.scraped_content == (-1,-1)].shape[0]/len(grp_df)"
   ]
  },
  {
   "cell_type": "code",
   "execution_count": 45,
   "metadata": {},
   "outputs": [],
   "source": [
    "grp_df.to_pickle('../Temp_Output/test_data.pkl')"
   ]
  },
  {
   "cell_type": "code",
   "execution_count": 47,
   "metadata": {},
   "outputs": [
    {
     "data": {
      "text/html": [
       "<div>\n",
       "<style scoped>\n",
       "    .dataframe tbody tr th:only-of-type {\n",
       "        vertical-align: middle;\n",
       "    }\n",
       "\n",
       "    .dataframe tbody tr th {\n",
       "        vertical-align: top;\n",
       "    }\n",
       "\n",
       "    .dataframe thead th {\n",
       "        text-align: right;\n",
       "    }\n",
       "</style>\n",
       "<table border=\"1\" class=\"dataframe\">\n",
       "  <thead>\n",
       "    <tr style=\"text-align: right;\">\n",
       "      <th></th>\n",
       "      <th>article_id</th>\n",
       "      <th>title</th>\n",
       "      <th>url</th>\n",
       "      <th>keep</th>\n",
       "      <th>feed_label</th>\n",
       "      <th>content</th>\n",
       "      <th>published</th>\n",
       "      <th>summary</th>\n",
       "      <th>scraped_content</th>\n",
       "      <th>article_text</th>\n",
       "      <th>article_keywords</th>\n",
       "    </tr>\n",
       "  </thead>\n",
       "  <tbody>\n",
       "    <tr>\n",
       "      <th>10900</th>\n",
       "      <td>eebb9702</td>\n",
       "      <td>India, World Bank sign financing agreement for...</td>\n",
       "      <td>http://www.abplive.in/business/india-world-ban...</td>\n",
       "      <td>True</td>\n",
       "      <td>NEWS WB- All Streams</td>\n",
       "      <td>NaN</td>\n",
       "      <td>2017-12-21 09:22:12</td>\n",
       "      <td>&lt;table border=\"0\" cellspacing=\"3\" cellpadding=...</td>\n",
       "      <td>(New Delhi [India], Dec 20 (ANI): A financing ...</td>\n",
       "      <td>New Delhi [India], Dec 20 (ANI): A financing a...</td>\n",
       "      <td>[institutes, india, skill, financing, training...</td>\n",
       "    </tr>\n",
       "    <tr>\n",
       "      <th>4268</th>\n",
       "      <td>6832ce57</td>\n",
       "      <td>Rs 40000-crore development projects in limbo i...</td>\n",
       "      <td>http://www.moneycontrol.com/news/business/econ...</td>\n",
       "      <td>True</td>\n",
       "      <td>NEWS AIIB - All Streams</td>\n",
       "      <td>NaN</td>\n",
       "      <td>2017-12-10 09:40:00</td>\n",
       "      <td>&lt;table border=\"0\" cellspacing=\"3\" cellpadding=...</td>\n",
       "      <td>(Development projects worth more than Rs 40,00...</td>\n",
       "      <td>Development projects worth more than Rs 40,000...</td>\n",
       "      <td>[development, crore, andhra, eaps, state, proj...</td>\n",
       "    </tr>\n",
       "    <tr>\n",
       "      <th>1663</th>\n",
       "      <td>30f8f65e</td>\n",
       "      <td>https://www.the-american-interest.com/2018/01/...</td>\n",
       "      <td>https://www.the-american-interest.com/2018/01/...</td>\n",
       "      <td>True</td>\n",
       "      <td>NEWS AFDB- All Streams</td>\n",
       "      <td>NaN</td>\n",
       "      <td>2018-01-03 12:21:54</td>\n",
       "      <td>&lt;table border=\"0\" cellspacing=\"3\" cellpadding=...</td>\n",
       "      <td>(Ten Lessons\\n\\nDevelopment with Chinese Chara...</td>\n",
       "      <td>Ten Lessons\\n\\nDevelopment with Chinese Charac...</td>\n",
       "      <td>[transitions, university, chinese, united, dev...</td>\n",
       "    </tr>\n",
       "    <tr>\n",
       "      <th>3789</th>\n",
       "      <td>5ec16472</td>\n",
       "      <td>$300 Million to Expand and Upgrade Infrastruct...</td>\n",
       "      <td>https://jis.gov.jm/300-million-to-expand-and-u...</td>\n",
       "      <td>True</td>\n",
       "      <td>NEWS IDB - All Streams</td>\n",
       "      <td>NaN</td>\n",
       "      <td>2018-04-27 16:28:43</td>\n",
       "      <td>&lt;table border=\"0\" cellspacing=\"3\" cellpadding=...</td>\n",
       "      <td>(Minister of Industry, Commerce, Agriculture a...</td>\n",
       "      <td>Minister of Industry, Commerce, Agriculture an...</td>\n",
       "      <td>[research, development, agriculture, fisheries...</td>\n",
       "    </tr>\n",
       "    <tr>\n",
       "      <th>6657</th>\n",
       "      <td>989c9942</td>\n",
       "      <td>ADB Provides $346 Million to Upgrade State Hig...</td>\n",
       "      <td>http://www.business-standard.com/article/news-...</td>\n",
       "      <td>True</td>\n",
       "      <td>NEWS ADB - All Streams</td>\n",
       "      <td>NaN</td>\n",
       "      <td>2017-12-10 01:00:00</td>\n",
       "      <td>&lt;table border=\"0\" cellspacing=\"3\" cellpadding=...</td>\n",
       "      <td>(The Asian Development Bank's (ADB) Board of D...</td>\n",
       "      <td>The Asian Development Bank's (ADB) Board of Di...</td>\n",
       "      <td>[highways, improvement, india, state, upgrade,...</td>\n",
       "    </tr>\n",
       "  </tbody>\n",
       "</table>\n",
       "</div>"
      ],
      "text/plain": [
       "      article_id                                              title  \\\n",
       "10900   eebb9702  India, World Bank sign financing agreement for...   \n",
       "4268    6832ce57  Rs 40000-crore development projects in limbo i...   \n",
       "1663    30f8f65e  https://www.the-american-interest.com/2018/01/...   \n",
       "3789    5ec16472  $300 Million to Expand and Upgrade Infrastruct...   \n",
       "6657    989c9942  ADB Provides $346 Million to Upgrade State Hig...   \n",
       "\n",
       "                                                     url  keep  \\\n",
       "10900  http://www.abplive.in/business/india-world-ban...  True   \n",
       "4268   http://www.moneycontrol.com/news/business/econ...  True   \n",
       "1663   https://www.the-american-interest.com/2018/01/...  True   \n",
       "3789   https://jis.gov.jm/300-million-to-expand-and-u...  True   \n",
       "6657   http://www.business-standard.com/article/news-...  True   \n",
       "\n",
       "                    feed_label content           published  \\\n",
       "10900     NEWS WB- All Streams     NaN 2017-12-21 09:22:12   \n",
       "4268   NEWS AIIB - All Streams     NaN 2017-12-10 09:40:00   \n",
       "1663    NEWS AFDB- All Streams     NaN 2018-01-03 12:21:54   \n",
       "3789    NEWS IDB - All Streams     NaN 2018-04-27 16:28:43   \n",
       "6657    NEWS ADB - All Streams     NaN 2017-12-10 01:00:00   \n",
       "\n",
       "                                                 summary  \\\n",
       "10900  <table border=\"0\" cellspacing=\"3\" cellpadding=...   \n",
       "4268   <table border=\"0\" cellspacing=\"3\" cellpadding=...   \n",
       "1663   <table border=\"0\" cellspacing=\"3\" cellpadding=...   \n",
       "3789   <table border=\"0\" cellspacing=\"3\" cellpadding=...   \n",
       "6657   <table border=\"0\" cellspacing=\"3\" cellpadding=...   \n",
       "\n",
       "                                         scraped_content  \\\n",
       "10900  (New Delhi [India], Dec 20 (ANI): A financing ...   \n",
       "4268   (Development projects worth more than Rs 40,00...   \n",
       "1663   (Ten Lessons\\n\\nDevelopment with Chinese Chara...   \n",
       "3789   (Minister of Industry, Commerce, Agriculture a...   \n",
       "6657   (The Asian Development Bank's (ADB) Board of D...   \n",
       "\n",
       "                                            article_text  \\\n",
       "10900  New Delhi [India], Dec 20 (ANI): A financing a...   \n",
       "4268   Development projects worth more than Rs 40,000...   \n",
       "1663   Ten Lessons\\n\\nDevelopment with Chinese Charac...   \n",
       "3789   Minister of Industry, Commerce, Agriculture an...   \n",
       "6657   The Asian Development Bank's (ADB) Board of Di...   \n",
       "\n",
       "                                        article_keywords  \n",
       "10900  [institutes, india, skill, financing, training...  \n",
       "4268   [development, crore, andhra, eaps, state, proj...  \n",
       "1663   [transitions, university, chinese, united, dev...  \n",
       "3789   [research, development, agriculture, fisheries...  \n",
       "6657   [highways, improvement, india, state, upgrade,...  "
      ]
     },
     "execution_count": 47,
     "metadata": {},
     "output_type": "execute_result"
    }
   ],
   "source": [
    "grp_df.head()"
   ]
  },
  {
   "cell_type": "markdown",
   "metadata": {},
   "source": [
    "## Review Results and add in Some Language Detection"
   ]
  },
  {
   "cell_type": "markdown",
   "metadata": {},
   "source": [
    "IAP only has content in English currently so tagging articles in other languages is likely too complicated at this time as it wold also involve a translation step. Therefore we may want to filter out non English language articles. \n",
    "\n",
    "Newspaper 3k has this functionality - but it is slow - this work pretty fast. "
   ]
  },
  {
   "cell_type": "code",
   "execution_count": 48,
   "metadata": {},
   "outputs": [],
   "source": [
    "from langdetect import detect_langs\n",
    "from langdetect.lang_detect_exception import LangDetectException"
   ]
  },
  {
   "cell_type": "code",
   "execution_count": 49,
   "metadata": {},
   "outputs": [
    {
     "data": {
      "text/plain": [
       "[en:0.9999970469600842]"
      ]
     },
     "execution_count": 49,
     "metadata": {},
     "output_type": "execute_result"
    }
   ],
   "source": [
    "detect_langs(\"\"\"\n",
    "'Nuku’alofa, February 22, 2018 – Following the severe impact of Tropical Cyclone Gita, the World Bank has now begun work to support the government of Tonga, which is leading a Rapid Damage Assessment to assist with recovery and reconstruction planning in the coming months.\\n\\n“Our work in mapping the damage wreaked by Cyclone Gita will be crucial to helping the government of Tonga to determine priority areas for recovery and reconstruction,” said World Bank Country Director for Papua New Guinea and the Pacific Islands, Michel Kerf. “In the immediate aftermath of recent natural disasters in the Pacific, including cyclones Winston (Fiji, 2016) and Pam (Vanuatu, 2015)_, the World Bank has been called upon to lead the immediate damage assessment process.”_\\n\\nThe World Bank, together with partners including the governments of Australia and New Zealand, the Asian Development Bank, Japan International Cooperation Agency, European Union and United Nations Development Programme, is now working alongside Tongan authorities to identify priority sectors for the rapid damage assessment, which include housing, agriculture and energy.\\n\\nAs part of this assessment work, a fleet of Unmanned Aerial Vehicles (UAVs, or drones) have been transported to Tonga with the support of the Australian government, to provide a comprehensive visual assessment of the damage caused by Cyclone Gita.\\n\\nTonga has received a payout of more than US$3.5 million from the Pacific Catastrophe Risk Insurance Company (PCRIC) – the first payout made by the region’s first catastrophe risk insurance platform established in 2016. PCRIC was formed as part of the World Bank’s regional project PCRAFI: Furthering Disaster Risk Finance in the Pacific, which provides technical assistance to 14 Pacific Island countries, with financial support from Germany, Japan, the United Kingdom and the United States of America.\\n\\n“Despite the tragic circumstances, it has been good to see the Pacific Catastrophe Risk Insurance Company delivering much-needed relief through its disaster insurance system,” _said Mr. Kerf. “This is the first payout of its kind, and is a testament to the hard work of many governments and development partners, who have worked hard over many years to create this critical support system for the Pacific Islands, home to many of the world’s most disaster at-risk countries.”_\\n\\nThe World Bank continues to stand as a dedicated partner in resilient development in the Pacific Islands.'\"\"\")"
   ]
  },
  {
   "cell_type": "code",
   "execution_count": 50,
   "metadata": {},
   "outputs": [],
   "source": [
    "def detect_lang(x):\n",
    "    try:\n",
    "        return detect_langs(x)\n",
    "    except:\n",
    "        return np.nan"
   ]
  },
  {
   "cell_type": "code",
   "execution_count": 51,
   "metadata": {},
   "outputs": [],
   "source": [
    "grp_df['lang'] = grp_df.article_text.apply(detect_lang)"
   ]
  },
  {
   "cell_type": "code",
   "execution_count": 96,
   "metadata": {},
   "outputs": [
    {
     "data": {
      "text/plain": [
       "'en'"
      ]
     },
     "execution_count": 96,
     "metadata": {},
     "output_type": "execute_result"
    }
   ],
   "source": [
    "grp_df.lang[1][0].lang"
   ]
  },
  {
   "cell_type": "code",
   "execution_count": 116,
   "metadata": {},
   "outputs": [
    {
     "data": {
      "text/plain": [
       "10900     [en:0.999998227451202]\n",
       "4268      [en:0.999997415757821]\n",
       "1663     [en:0.9999980316883927]\n",
       "3789       [en:0.99999784352335]\n",
       "6657     [en:0.9999970965149094]\n",
       "4243     [en:0.9999987195562964]\n",
       "1326     [en:0.9999966798354436]\n",
       "7033     [en:0.9999975767907536]\n",
       "3240     [en:0.9999971268992086]\n",
       "2191     [en:0.9999972939659458]\n",
       "4574     [en:0.9999965224627279]\n",
       "Name: lang, dtype: object"
      ]
     },
     "execution_count": 116,
     "metadata": {},
     "output_type": "execute_result"
    }
   ],
   "source": [
    "grp_df[grp_df.lang.notnull()].lang.head(11)"
   ]
  },
  {
   "cell_type": "code",
   "execution_count": 123,
   "metadata": {},
   "outputs": [
    {
     "data": {
      "text/plain": [
       "(10831, 13)"
      ]
     },
     "execution_count": 123,
     "metadata": {},
     "output_type": "execute_result"
    }
   ],
   "source": [
    "grp_df[grp_df.lang.notnull()].shape"
   ]
  },
  {
   "cell_type": "code",
   "execution_count": 122,
   "metadata": {},
   "outputs": [
    {
     "data": {
      "text/plain": [
       "(10831,)"
      ]
     },
     "execution_count": 122,
     "metadata": {},
     "output_type": "execute_result"
    }
   ],
   "source": [
    "grp_df[grp_df.lang.notnull()].lang.apply(lambda x: x[0].lang).shape"
   ]
  },
  {
   "cell_type": "code",
   "execution_count": 128,
   "metadata": {},
   "outputs": [],
   "source": [
    "grp_df['top_lang'] = None\n",
    "grp_df.loc[grp_df.lang.notnull(), 'top_lang'] = grp_df[grp_df.lang.notnull()].lang.apply(lambda x: x[0].lang)"
   ]
  },
  {
   "cell_type": "markdown",
   "metadata": {},
   "source": [
    "## Quick Len MEtric "
   ]
  },
  {
   "cell_type": "code",
   "execution_count": 68,
   "metadata": {},
   "outputs": [],
   "source": [
    "grp_df['article_text_len'] = grp_df.article_text.apply(lambda x: len(str(x)))"
   ]
  },
  {
   "cell_type": "markdown",
   "metadata": {},
   "source": [
    "**NOTE** - Article below is actually like an entire long news feed ... "
   ]
  },
  {
   "cell_type": "code",
   "execution_count": 86,
   "metadata": {},
   "outputs": [
    {
     "name": "stdout",
     "output_type": "stream",
     "text": [
      "['http://english.vietnamnet.vn/fms/society/192475/social-news-in-brief-21-12.html']\n"
     ]
    }
   ],
   "source": [
    "print(grp_df[grp_df.article_text_len == grp_df.article_text_len.max()].url.values)"
   ]
  },
  {
   "cell_type": "markdown",
   "metadata": {},
   "source": [
    "# Export Dataset "
   ]
  },
  {
   "cell_type": "code",
   "execution_count": 133,
   "metadata": {},
   "outputs": [],
   "source": [
    "grp_df.to_pickle('../Data/Feedly_Processed_DF.pkl')"
   ]
  },
  {
   "cell_type": "code",
   "execution_count": 4,
   "metadata": {},
   "outputs": [],
   "source": [
    "grp_df = pd.read_pickle('../Data/Feedly_Processed_DF.pkl')"
   ]
  },
  {
   "cell_type": "markdown",
   "metadata": {
    "colab": {
     "autoexec": {
      "startup": false,
      "wait_interval": 0
     }
    },
    "colab_type": "code",
    "id": "cY_u0Azs8IAD",
    "run_control": {
     "frozen": false,
     "read_only": false
    }
   },
   "source": [
    "# TODO "
   ]
  },
  {
   "cell_type": "markdown",
   "metadata": {},
   "source": [
    "1. Detect Language\n",
    "2. Error Test on larger set\n",
    "3. Manually verify extact is generally correct \n",
    "4. Extract article content for all articles in DataDive dataset (Could take a long time)\n",
    "5. Method for Identifying articles previously scraped (we need a unique identifier so we can only scrape new articles in the future) -- This is just something to keep in mind. `article_id` might be fine (based on the json items `fingerprint` field."
   ]
  },
  {
   "cell_type": "markdown",
   "metadata": {},
   "source": [
    "-------------------"
   ]
  },
  {
   "cell_type": "markdown",
   "metadata": {},
   "source": [
    "# End"
   ]
  }
 ],
 "metadata": {
  "colab": {
   "collapsed_sections": [],
   "default_view": {},
   "name": "feedly_test.ipynb",
   "provenance": [],
   "toc_visible": true,
   "version": "0.3.2",
   "views": {}
  },
  "kernelspec": {
   "display_name": "my_py_3",
   "language": "python",
   "name": "my_py_3"
  },
  "language_info": {
   "codemirror_mode": {
    "name": "ipython",
    "version": 3
   },
   "file_extension": ".py",
   "mimetype": "text/x-python",
   "name": "python",
   "nbconvert_exporter": "python",
   "pygments_lexer": "ipython3",
   "version": "3.5.5"
  },
  "toc": {
   "nav_menu": {
    "height": "64px",
    "width": "252px"
   },
   "navigate_menu": true,
   "number_sections": true,
   "sideBar": true,
   "threshold": 4,
   "toc_cell": false,
   "toc_section_display": "block",
   "toc_window_display": false
  }
 },
 "nbformat": 4,
 "nbformat_minor": 2
}
