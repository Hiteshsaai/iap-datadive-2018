{
 "cells": [
  {
   "cell_type": "markdown",
   "metadata": {},
   "source": [
    "# import the necessary package"
   ]
  },
  {
   "cell_type": "code",
   "execution_count": 1,
   "metadata": {},
   "outputs": [],
   "source": [
    "import pandas as pd\n",
    "import pickle\n",
    "import random\n",
    "pd.set_option('display.max_columns',60)\n",
    "%matplotlib inline\n",
    "import datetime"
   ]
  },
  {
   "cell_type": "markdown",
   "metadata": {},
   "source": [
    "# load the dataset"
   ]
  },
  {
   "cell_type": "markdown",
   "metadata": {},
   "source": [
    "**News Articles ** "
   ]
  },
  {
   "cell_type": "code",
   "execution_count": 2,
   "metadata": {},
   "outputs": [],
   "source": [
    "newsData = pd.read_pickle('../Data/Feedly_Processed_DF_cleaned.pkl')"
   ]
  },
  {
   "cell_type": "markdown",
   "metadata": {},
   "source": [
    "# Country Tags "
   ]
  },
  {
   "cell_type": "markdown",
   "metadata": {},
   "source": [
    "**Simple demo **"
   ]
  },
  {
   "cell_type": "markdown",
   "metadata": {},
   "source": [
    "country code names : http://www.geonames.org/countries/"
   ]
  },
  {
   "cell_type": "code",
   "execution_count": 4,
   "metadata": {},
   "outputs": [],
   "source": [
    "from geotext import GeoText\n"
   ]
  },
  {
   "cell_type": "code",
   "execution_count": 106,
   "metadata": {},
   "outputs": [],
   "source": [
    "countryLabels = pd.read_csv('../Data/Labeled_Data/countries.csv')"
   ]
  },
  {
   "cell_type": "code",
   "execution_count": 369,
   "metadata": {},
   "outputs": [
    {
     "data": {
      "text/html": [
       "<div>\n",
       "<style scoped>\n",
       "    .dataframe tbody tr th:only-of-type {\n",
       "        vertical-align: middle;\n",
       "    }\n",
       "\n",
       "    .dataframe tbody tr th {\n",
       "        vertical-align: top;\n",
       "    }\n",
       "\n",
       "    .dataframe thead th {\n",
       "        text-align: right;\n",
       "    }\n",
       "</style>\n",
       "<table border=\"1\" class=\"dataframe\">\n",
       "  <thead>\n",
       "    <tr style=\"text-align: right;\">\n",
       "      <th></th>\n",
       "      <th>article_id</th>\n",
       "      <th>title</th>\n",
       "      <th>url</th>\n",
       "      <th>feed_label</th>\n",
       "      <th>content</th>\n",
       "      <th>published</th>\n",
       "      <th>summary</th>\n",
       "      <th>article_text</th>\n",
       "      <th>article_keywords</th>\n",
       "      <th>article_text_len</th>\n",
       "      <th>top_lang</th>\n",
       "    </tr>\n",
       "  </thead>\n",
       "  <tbody>\n",
       "    <tr>\n",
       "      <th>10900</th>\n",
       "      <td>eebb9702</td>\n",
       "      <td>India, World Bank sign financing agreement for...</td>\n",
       "      <td>http://www.abplive.in/business/india-world-ban...</td>\n",
       "      <td>NEWS WB- All Streams</td>\n",
       "      <td>NaN</td>\n",
       "      <td>2017-12-21 09:22:12</td>\n",
       "      <td>&lt;table border=\"0\" cellspacing=\"3\" cellpadding=...</td>\n",
       "      <td>New Delhi [India], Dec 20 (ANI): A financing a...</td>\n",
       "      <td>[institutes, india, skill, financing, training...</td>\n",
       "      <td>1031</td>\n",
       "      <td>en</td>\n",
       "    </tr>\n",
       "    <tr>\n",
       "      <th>4268</th>\n",
       "      <td>6832ce57</td>\n",
       "      <td>Rs 40000-crore development projects in limbo i...</td>\n",
       "      <td>http://www.moneycontrol.com/news/business/econ...</td>\n",
       "      <td>NEWS AIIB - All Streams</td>\n",
       "      <td>NaN</td>\n",
       "      <td>2017-12-10 09:40:00</td>\n",
       "      <td>&lt;table border=\"0\" cellspacing=\"3\" cellpadding=...</td>\n",
       "      <td>Development projects worth more than Rs 40,000...</td>\n",
       "      <td>[development, crore, andhra, eaps, state, proj...</td>\n",
       "      <td>4390</td>\n",
       "      <td>en</td>\n",
       "    </tr>\n",
       "    <tr>\n",
       "      <th>1663</th>\n",
       "      <td>30f8f65e</td>\n",
       "      <td>https://www.the-american-interest.com/2018/01/...</td>\n",
       "      <td>https://www.the-american-interest.com/2018/01/...</td>\n",
       "      <td>NEWS AFDB- All Streams</td>\n",
       "      <td>NaN</td>\n",
       "      <td>2018-01-03 12:21:54</td>\n",
       "      <td>&lt;table border=\"0\" cellspacing=\"3\" cellpadding=...</td>\n",
       "      <td>Ten Lessons\\n\\nDevelopment with Chinese Charac...</td>\n",
       "      <td>[transitions, university, chinese, united, dev...</td>\n",
       "      <td>575</td>\n",
       "      <td>en</td>\n",
       "    </tr>\n",
       "    <tr>\n",
       "      <th>3789</th>\n",
       "      <td>5ec16472</td>\n",
       "      <td>$300 Million to Expand and Upgrade Infrastruct...</td>\n",
       "      <td>https://jis.gov.jm/300-million-to-expand-and-u...</td>\n",
       "      <td>NEWS IDB - All Streams</td>\n",
       "      <td>NaN</td>\n",
       "      <td>2018-04-27 16:28:43</td>\n",
       "      <td>&lt;table border=\"0\" cellspacing=\"3\" cellpadding=...</td>\n",
       "      <td>Minister of Industry, Commerce, Agriculture an...</td>\n",
       "      <td>[research, development, agriculture, fisheries...</td>\n",
       "      <td>2621</td>\n",
       "      <td>en</td>\n",
       "    </tr>\n",
       "    <tr>\n",
       "      <th>6657</th>\n",
       "      <td>989c9942</td>\n",
       "      <td>ADB Provides $346 Million to Upgrade State Hig...</td>\n",
       "      <td>http://www.business-standard.com/article/news-...</td>\n",
       "      <td>NEWS ADB - All Streams</td>\n",
       "      <td>NaN</td>\n",
       "      <td>2017-12-10 01:00:00</td>\n",
       "      <td>&lt;table border=\"0\" cellspacing=\"3\" cellpadding=...</td>\n",
       "      <td>The Asian Development Bank's (ADB) Board of Di...</td>\n",
       "      <td>[highways, improvement, india, state, upgrade,...</td>\n",
       "      <td>2532</td>\n",
       "      <td>en</td>\n",
       "    </tr>\n",
       "  </tbody>\n",
       "</table>\n",
       "</div>"
      ],
      "text/plain": [
       "      article_id                                              title  \\\n",
       "10900   eebb9702  India, World Bank sign financing agreement for...   \n",
       "4268    6832ce57  Rs 40000-crore development projects in limbo i...   \n",
       "1663    30f8f65e  https://www.the-american-interest.com/2018/01/...   \n",
       "3789    5ec16472  $300 Million to Expand and Upgrade Infrastruct...   \n",
       "6657    989c9942  ADB Provides $346 Million to Upgrade State Hig...   \n",
       "\n",
       "                                                     url  \\\n",
       "10900  http://www.abplive.in/business/india-world-ban...   \n",
       "4268   http://www.moneycontrol.com/news/business/econ...   \n",
       "1663   https://www.the-american-interest.com/2018/01/...   \n",
       "3789   https://jis.gov.jm/300-million-to-expand-and-u...   \n",
       "6657   http://www.business-standard.com/article/news-...   \n",
       "\n",
       "                    feed_label content           published  \\\n",
       "10900     NEWS WB- All Streams     NaN 2017-12-21 09:22:12   \n",
       "4268   NEWS AIIB - All Streams     NaN 2017-12-10 09:40:00   \n",
       "1663    NEWS AFDB- All Streams     NaN 2018-01-03 12:21:54   \n",
       "3789    NEWS IDB - All Streams     NaN 2018-04-27 16:28:43   \n",
       "6657    NEWS ADB - All Streams     NaN 2017-12-10 01:00:00   \n",
       "\n",
       "                                                 summary  \\\n",
       "10900  <table border=\"0\" cellspacing=\"3\" cellpadding=...   \n",
       "4268   <table border=\"0\" cellspacing=\"3\" cellpadding=...   \n",
       "1663   <table border=\"0\" cellspacing=\"3\" cellpadding=...   \n",
       "3789   <table border=\"0\" cellspacing=\"3\" cellpadding=...   \n",
       "6657   <table border=\"0\" cellspacing=\"3\" cellpadding=...   \n",
       "\n",
       "                                            article_text  \\\n",
       "10900  New Delhi [India], Dec 20 (ANI): A financing a...   \n",
       "4268   Development projects worth more than Rs 40,000...   \n",
       "1663   Ten Lessons\\n\\nDevelopment with Chinese Charac...   \n",
       "3789   Minister of Industry, Commerce, Agriculture an...   \n",
       "6657   The Asian Development Bank's (ADB) Board of Di...   \n",
       "\n",
       "                                        article_keywords  article_text_len  \\\n",
       "10900  [institutes, india, skill, financing, training...              1031   \n",
       "4268   [development, crore, andhra, eaps, state, proj...              4390   \n",
       "1663   [transitions, university, chinese, united, dev...               575   \n",
       "3789   [research, development, agriculture, fisheries...              2621   \n",
       "6657   [highways, improvement, india, state, upgrade,...              2532   \n",
       "\n",
       "      top_lang  \n",
       "10900       en  \n",
       "4268        en  \n",
       "1663        en  \n",
       "3789        en  \n",
       "6657        en  "
      ]
     },
     "execution_count": 369,
     "metadata": {},
     "output_type": "execute_result"
    }
   ],
   "source": [
    "newsData.head()"
   ]
  },
  {
   "cell_type": "code",
   "execution_count": 370,
   "metadata": {},
   "outputs": [],
   "source": [
    "newsData.reset_index(inplace = True)"
   ]
  },
  {
   "cell_type": "code",
   "execution_count": 154,
   "metadata": {},
   "outputs": [],
   "source": [
    "from collections import Counter"
   ]
  },
  {
   "cell_type": "code",
   "execution_count": 380,
   "metadata": {},
   "outputs": [],
   "source": [
    "#iterate through title to look for country, then iterate though text\n",
    "\n",
    "def get_top_countries(x):\n",
    "    \"\"\"\n",
    "    given the text and title of an article\n",
    "    parse out the names of the two most frequently mentioned\n",
    "    countries in the order of frequency\n",
    "    \"\"\"\n",
    "    geo = GeoText(x)\n",
    "    counts = Counter(geo.countries)\n",
    "    country_list =  [country.lower() for (country, counts) in counts.most_common(2)]\n",
    "    return \", \".join([x for x in country_list]) \n"
   ]
  },
  {
   "cell_type": "code",
   "execution_count": 373,
   "metadata": {},
   "outputs": [],
   "source": [
    "#create combined column of article title and text\n",
    "newsData['title_and_text'] = newsData['title'] + \"\\n\" + newsData['article_text']"
   ]
  },
  {
   "cell_type": "code",
   "execution_count": 381,
   "metadata": {},
   "outputs": [],
   "source": [
    "newsData['top_two_countries'] = newsData['title_and_text'].apply(lambda x : get_top_countries(x))\n"
   ]
  },
  {
   "cell_type": "code",
   "execution_count": 384,
   "metadata": {},
   "outputs": [],
   "source": [
    "newsData['all_detected_countries'] = newsData['title_and_text'].apply(lambda x : get_top_countries(x))"
   ]
  },
  {
   "cell_type": "code",
   "execution_count": 386,
   "metadata": {},
   "outputs": [],
   "source": [
    "dfshort = newsData[['article_id', 'top_two_countries', 'all_detected_countries']]\n",
    "dfshort.to_csv('article_country_tags.csv')"
   ]
  },
  {
   "cell_type": "code",
   "execution_count": null,
   "metadata": {},
   "outputs": [],
   "source": [
    "#compare with labeled data and look at our accuracy\n"
   ]
  },
  {
   "cell_type": "code",
   "execution_count": 388,
   "metadata": {},
   "outputs": [],
   "source": [
    "joined = countryLabels.merge(dfshort, how = 'inner', on = 'article_id')"
   ]
  },
  {
   "cell_type": "code",
   "execution_count": 389,
   "metadata": {},
   "outputs": [],
   "source": [
    "df_matches = joined[['article_id', 'Country1','top_two_countries', 'all_detected_countries']]"
   ]
  },
  {
   "cell_type": "code",
   "execution_count": 391,
   "metadata": {},
   "outputs": [
    {
     "data": {
      "text/html": [
       "<div>\n",
       "<style scoped>\n",
       "    .dataframe tbody tr th:only-of-type {\n",
       "        vertical-align: middle;\n",
       "    }\n",
       "\n",
       "    .dataframe tbody tr th {\n",
       "        vertical-align: top;\n",
       "    }\n",
       "\n",
       "    .dataframe thead th {\n",
       "        text-align: right;\n",
       "    }\n",
       "</style>\n",
       "<table border=\"1\" class=\"dataframe\">\n",
       "  <thead>\n",
       "    <tr style=\"text-align: right;\">\n",
       "      <th></th>\n",
       "      <th>article_id</th>\n",
       "      <th>Country1</th>\n",
       "      <th>top_two_countries</th>\n",
       "      <th>all_detected_countries</th>\n",
       "    </tr>\n",
       "  </thead>\n",
       "  <tbody>\n",
       "    <tr>\n",
       "      <th>0</th>\n",
       "      <td>10f9ed2</td>\n",
       "      <td>cambodia</td>\n",
       "      <td>cambodia, japan</td>\n",
       "      <td>cambodia, japan</td>\n",
       "    </tr>\n",
       "    <tr>\n",
       "      <th>1</th>\n",
       "      <td>c0eece9b</td>\n",
       "      <td>afghanistan</td>\n",
       "      <td>afghanistan, afghanistan</td>\n",
       "      <td>afghanistan, afghanistan</td>\n",
       "    </tr>\n",
       "    <tr>\n",
       "      <th>2</th>\n",
       "      <td>d1d79dd8</td>\n",
       "      <td>bangladesh</td>\n",
       "      <td>philippines, bangladesh</td>\n",
       "      <td>philippines, bangladesh</td>\n",
       "    </tr>\n",
       "    <tr>\n",
       "      <th>3</th>\n",
       "      <td>f0d65e5</td>\n",
       "      <td>thailand</td>\n",
       "      <td>thailand</td>\n",
       "      <td>thailand</td>\n",
       "    </tr>\n",
       "    <tr>\n",
       "      <th>4</th>\n",
       "      <td>4a557358</td>\n",
       "      <td>thailand</td>\n",
       "      <td>thailand, cambodia</td>\n",
       "      <td>thailand, cambodia</td>\n",
       "    </tr>\n",
       "  </tbody>\n",
       "</table>\n",
       "</div>"
      ],
      "text/plain": [
       "  article_id     Country1         top_two_countries    all_detected_countries\n",
       "0    10f9ed2     cambodia           cambodia, japan           cambodia, japan\n",
       "1   c0eece9b  afghanistan  afghanistan, afghanistan  afghanistan, afghanistan\n",
       "2   d1d79dd8   bangladesh   philippines, bangladesh   philippines, bangladesh\n",
       "3    f0d65e5     thailand                  thailand                  thailand\n",
       "4   4a557358     thailand        thailand, cambodia        thailand, cambodia"
      ]
     },
     "execution_count": 391,
     "metadata": {},
     "output_type": "execute_result"
    }
   ],
   "source": [
    "df_matches.head()"
   ]
  },
  {
   "cell_type": "code",
   "execution_count": null,
   "metadata": {},
   "outputs": [],
   "source": []
  },
  {
   "cell_type": "code",
   "execution_count": null,
   "metadata": {},
   "outputs": [],
   "source": []
  },
  {
   "cell_type": "code",
   "execution_count": 347,
   "metadata": {},
   "outputs": [],
   "source": [
    "def get_list(x):\n",
    "    return x.split(',')"
   ]
  },
  {
   "cell_type": "code",
   "execution_count": 392,
   "metadata": {},
   "outputs": [
    {
     "name": "stderr",
     "output_type": "stream",
     "text": [
      "/anaconda/lib/python3.6/site-packages/ipykernel_launcher.py:1: SettingWithCopyWarning: \n",
      "A value is trying to be set on a copy of a slice from a DataFrame.\n",
      "Try using .loc[row_indexer,col_indexer] = value instead\n",
      "\n",
      "See the caveats in the documentation: http://pandas.pydata.org/pandas-docs/stable/indexing.html#indexing-view-versus-copy\n",
      "  \"\"\"Entry point for launching an IPython kernel.\n"
     ]
    }
   ],
   "source": [
    "df_matches['country_list'] = df_matches['Country1'].apply(lambda x: get_list(x))"
   ]
  },
  {
   "cell_type": "code",
   "execution_count": 393,
   "metadata": {},
   "outputs": [
    {
     "name": "stderr",
     "output_type": "stream",
     "text": [
      "/anaconda/lib/python3.6/site-packages/ipykernel_launcher.py:1: SettingWithCopyWarning: \n",
      "A value is trying to be set on a copy of a slice from a DataFrame.\n",
      "Try using .loc[row_indexer,col_indexer] = value instead\n",
      "\n",
      "See the caveats in the documentation: http://pandas.pydata.org/pandas-docs/stable/indexing.html#indexing-view-versus-copy\n",
      "  \"\"\"Entry point for launching an IPython kernel.\n"
     ]
    }
   ],
   "source": [
    "df_matches['top_two_list'] = df_matches['top_two_countries'].apply(lambda x: get_list(x))"
   ]
  },
  {
   "cell_type": "code",
   "execution_count": 394,
   "metadata": {},
   "outputs": [],
   "source": [
    "predictions = list(df_matches['top_two_list'])"
   ]
  },
  {
   "cell_type": "code",
   "execution_count": 395,
   "metadata": {},
   "outputs": [],
   "source": [
    "actual= list(df_matches['country_list'])"
   ]
  },
  {
   "cell_type": "code",
   "execution_count": null,
   "metadata": {},
   "outputs": [],
   "source": [
    "# not handling if there are ties of two contries having the same counts...\n",
    "# check against labelled data"
   ]
  },
  {
   "cell_type": "code",
   "execution_count": 327,
   "metadata": {},
   "outputs": [],
   "source": [
    "import numpy as np\n",
    "def apk(actual, predicted, k=10):\n",
    "    \"\"\"\n",
    "    Computes the average precision at k.\n",
    "    This function computes the average prescision at k between two lists of\n",
    "    items.\n",
    "    Parameters\n",
    "    ----------\n",
    "    actual : list\n",
    "             A list of elements that are to be predicted (order doesn't matter)\n",
    "    predicted : list\n",
    "                A list of predicted elements (order does matter)\n",
    "    k : int, optional\n",
    "        The maximum number of predicted elements\n",
    "    Returns\n",
    "    -------\n",
    "    score : double\n",
    "            The average precision at k over the input lists\n",
    "    \"\"\"\n",
    "    if len(predicted)>k:\n",
    "        predicted = predicted[:k]\n",
    "    score = 0.0\n",
    "    num_hits = 0.0\n",
    "    for i,p in enumerate(predicted):\n",
    "        if p in actual and p not in predicted[:i]:\n",
    "            num_hits += 1.0\n",
    "            score += num_hits / (i+1.0)\n",
    "    if not actual:\n",
    "        return 0.0\n",
    "    return score / min(len(actual), k)\n",
    "def mapk(actual, predicted, k=10):\n",
    "    \"\"\"\n",
    "    Computes the mean average precision at k.\n",
    "    This function computes the mean average prescision at k between two lists\n",
    "    of lists of items.\n",
    "    Parameters\n",
    "    ----------\n",
    "    actual : list\n",
    "             A list of lists of elements that are to be predicted \n",
    "             (order doesn't matter in the lists)\n",
    "    predicted : list\n",
    "                A list of lists of predicted elements\n",
    "                (order matters in the lists)\n",
    "    k : int, optional\n",
    "        The maximum number of predicted elements\n",
    "    Returns\n",
    "    -------\n",
    "    score : double\n",
    "            The mean average precision at k over the input lists\n",
    "    \"\"\"\n",
    "    return np.mean([apk(a,p,k) for a,p in zip(actual, predicted)])"
   ]
  },
  {
   "cell_type": "code",
   "execution_count": 396,
   "metadata": {},
   "outputs": [
    {
     "data": {
      "text/plain": [
       "0.7597619047619049"
      ]
     },
     "execution_count": 396,
     "metadata": {},
     "output_type": "execute_result"
    }
   ],
   "source": [
    "mapk(actual, predictions, k = 4)"
   ]
  },
  {
   "cell_type": "code",
   "execution_count": 409,
   "metadata": {},
   "outputs": [
    {
     "data": {
      "text/html": [
       "<div>\n",
       "<style scoped>\n",
       "    .dataframe tbody tr th:only-of-type {\n",
       "        vertical-align: middle;\n",
       "    }\n",
       "\n",
       "    .dataframe tbody tr th {\n",
       "        vertical-align: top;\n",
       "    }\n",
       "\n",
       "    .dataframe thead th {\n",
       "        text-align: right;\n",
       "    }\n",
       "</style>\n",
       "<table border=\"1\" class=\"dataframe\">\n",
       "  <thead>\n",
       "    <tr style=\"text-align: right;\">\n",
       "      <th></th>\n",
       "      <th>article_id</th>\n",
       "      <th>title</th>\n",
       "      <th>url</th>\n",
       "      <th>feed_label</th>\n",
       "      <th>content</th>\n",
       "      <th>published</th>\n",
       "      <th>summary</th>\n",
       "      <th>article_text</th>\n",
       "      <th>article_keywords</th>\n",
       "      <th>article_text_len</th>\n",
       "      <th>top_lang</th>\n",
       "    </tr>\n",
       "  </thead>\n",
       "  <tbody>\n",
       "    <tr>\n",
       "      <th>10900</th>\n",
       "      <td>eebb9702</td>\n",
       "      <td>India, World Bank sign financing agreement for...</td>\n",
       "      <td>http://www.abplive.in/business/india-world-ban...</td>\n",
       "      <td>NEWS WB- All Streams</td>\n",
       "      <td>NaN</td>\n",
       "      <td>2017-12-21 09:22:12</td>\n",
       "      <td>&lt;table border=\"0\" cellspacing=\"3\" cellpadding=...</td>\n",
       "      <td>New Delhi [India], Dec 20 (ANI): A financing a...</td>\n",
       "      <td>[institutes, india, skill, financing, training...</td>\n",
       "      <td>1031</td>\n",
       "      <td>en</td>\n",
       "    </tr>\n",
       "    <tr>\n",
       "      <th>4268</th>\n",
       "      <td>6832ce57</td>\n",
       "      <td>Rs 40000-crore development projects in limbo i...</td>\n",
       "      <td>http://www.moneycontrol.com/news/business/econ...</td>\n",
       "      <td>NEWS AIIB - All Streams</td>\n",
       "      <td>NaN</td>\n",
       "      <td>2017-12-10 09:40:00</td>\n",
       "      <td>&lt;table border=\"0\" cellspacing=\"3\" cellpadding=...</td>\n",
       "      <td>Development projects worth more than Rs 40,000...</td>\n",
       "      <td>[development, crore, andhra, eaps, state, proj...</td>\n",
       "      <td>4390</td>\n",
       "      <td>en</td>\n",
       "    </tr>\n",
       "    <tr>\n",
       "      <th>1663</th>\n",
       "      <td>30f8f65e</td>\n",
       "      <td>https://www.the-american-interest.com/2018/01/...</td>\n",
       "      <td>https://www.the-american-interest.com/2018/01/...</td>\n",
       "      <td>NEWS AFDB- All Streams</td>\n",
       "      <td>NaN</td>\n",
       "      <td>2018-01-03 12:21:54</td>\n",
       "      <td>&lt;table border=\"0\" cellspacing=\"3\" cellpadding=...</td>\n",
       "      <td>Ten Lessons\\n\\nDevelopment with Chinese Charac...</td>\n",
       "      <td>[transitions, university, chinese, united, dev...</td>\n",
       "      <td>575</td>\n",
       "      <td>en</td>\n",
       "    </tr>\n",
       "    <tr>\n",
       "      <th>3789</th>\n",
       "      <td>5ec16472</td>\n",
       "      <td>$300 Million to Expand and Upgrade Infrastruct...</td>\n",
       "      <td>https://jis.gov.jm/300-million-to-expand-and-u...</td>\n",
       "      <td>NEWS IDB - All Streams</td>\n",
       "      <td>NaN</td>\n",
       "      <td>2018-04-27 16:28:43</td>\n",
       "      <td>&lt;table border=\"0\" cellspacing=\"3\" cellpadding=...</td>\n",
       "      <td>Minister of Industry, Commerce, Agriculture an...</td>\n",
       "      <td>[research, development, agriculture, fisheries...</td>\n",
       "      <td>2621</td>\n",
       "      <td>en</td>\n",
       "    </tr>\n",
       "    <tr>\n",
       "      <th>6657</th>\n",
       "      <td>989c9942</td>\n",
       "      <td>ADB Provides $346 Million to Upgrade State Hig...</td>\n",
       "      <td>http://www.business-standard.com/article/news-...</td>\n",
       "      <td>NEWS ADB - All Streams</td>\n",
       "      <td>NaN</td>\n",
       "      <td>2017-12-10 01:00:00</td>\n",
       "      <td>&lt;table border=\"0\" cellspacing=\"3\" cellpadding=...</td>\n",
       "      <td>The Asian Development Bank's (ADB) Board of Di...</td>\n",
       "      <td>[highways, improvement, india, state, upgrade,...</td>\n",
       "      <td>2532</td>\n",
       "      <td>en</td>\n",
       "    </tr>\n",
       "  </tbody>\n",
       "</table>\n",
       "</div>"
      ],
      "text/plain": [
       "      article_id                                              title  \\\n",
       "10900   eebb9702  India, World Bank sign financing agreement for...   \n",
       "4268    6832ce57  Rs 40000-crore development projects in limbo i...   \n",
       "1663    30f8f65e  https://www.the-american-interest.com/2018/01/...   \n",
       "3789    5ec16472  $300 Million to Expand and Upgrade Infrastruct...   \n",
       "6657    989c9942  ADB Provides $346 Million to Upgrade State Hig...   \n",
       "\n",
       "                                                     url  \\\n",
       "10900  http://www.abplive.in/business/india-world-ban...   \n",
       "4268   http://www.moneycontrol.com/news/business/econ...   \n",
       "1663   https://www.the-american-interest.com/2018/01/...   \n",
       "3789   https://jis.gov.jm/300-million-to-expand-and-u...   \n",
       "6657   http://www.business-standard.com/article/news-...   \n",
       "\n",
       "                    feed_label content           published  \\\n",
       "10900     NEWS WB- All Streams     NaN 2017-12-21 09:22:12   \n",
       "4268   NEWS AIIB - All Streams     NaN 2017-12-10 09:40:00   \n",
       "1663    NEWS AFDB- All Streams     NaN 2018-01-03 12:21:54   \n",
       "3789    NEWS IDB - All Streams     NaN 2018-04-27 16:28:43   \n",
       "6657    NEWS ADB - All Streams     NaN 2017-12-10 01:00:00   \n",
       "\n",
       "                                                 summary  \\\n",
       "10900  <table border=\"0\" cellspacing=\"3\" cellpadding=...   \n",
       "4268   <table border=\"0\" cellspacing=\"3\" cellpadding=...   \n",
       "1663   <table border=\"0\" cellspacing=\"3\" cellpadding=...   \n",
       "3789   <table border=\"0\" cellspacing=\"3\" cellpadding=...   \n",
       "6657   <table border=\"0\" cellspacing=\"3\" cellpadding=...   \n",
       "\n",
       "                                            article_text  \\\n",
       "10900  New Delhi [India], Dec 20 (ANI): A financing a...   \n",
       "4268   Development projects worth more than Rs 40,000...   \n",
       "1663   Ten Lessons\\n\\nDevelopment with Chinese Charac...   \n",
       "3789   Minister of Industry, Commerce, Agriculture an...   \n",
       "6657   The Asian Development Bank's (ADB) Board of Di...   \n",
       "\n",
       "                                        article_keywords  article_text_len  \\\n",
       "10900  [institutes, india, skill, financing, training...              1031   \n",
       "4268   [development, crore, andhra, eaps, state, proj...              4390   \n",
       "1663   [transitions, university, chinese, united, dev...               575   \n",
       "3789   [research, development, agriculture, fisheries...              2621   \n",
       "6657   [highways, improvement, india, state, upgrade,...              2532   \n",
       "\n",
       "      top_lang  \n",
       "10900       en  \n",
       "4268        en  \n",
       "1663        en  \n",
       "3789        en  \n",
       "6657        en  "
      ]
     },
     "execution_count": 409,
     "metadata": {},
     "output_type": "execute_result"
    }
   ],
   "source": [
    "newsData.head()"
   ]
  },
  {
   "cell_type": "markdown",
   "metadata": {},
   "source": [
    "## parsing out dates in the article text"
   ]
  },
  {
   "cell_type": "code",
   "execution_count": 3,
   "metadata": {},
   "outputs": [],
   "source": [
    "import datefinder\n",
    "import datetime"
   ]
  },
  {
   "cell_type": "code",
   "execution_count": 7,
   "metadata": {},
   "outputs": [],
   "source": [
    "def extract_dates(text:str, base_date:datetime, min_date=datetime.date(2000,1,1),num_dates=5):\n",
    "    \"\"\"\n",
    "    Given a text, parse all dates found in the content\n",
    "    \n",
    "    text: article content\n",
    "    min_date: minimum date for date to be considered valid\n",
    "    \"\"\"\n",
    "    matches = datefinder.find_dates(text,base_date=base_date)\n",
    "    valid_found_dates = set()\n",
    "    for match_date in matches:\n",
    "        match_date = match_date.date()\n",
    "        if match_date > min_date:\n",
    "            valid_found_dates.add(match_date)\n",
    "\n",
    "    return list(valid_found_dates)[:num_dates]"
   ]
  },
  {
   "cell_type": "code",
   "execution_count": null,
   "metadata": {},
   "outputs": [],
   "source": [
    "newsData.head().apply(lambda x : extract_dates (x['article_text'], x['published']), axis=1)"
   ]
  },
  {
   "cell_type": "code",
   "execution_count": null,
   "metadata": {},
   "outputs": [],
   "source": [
    "newsDatanewsData['dates']=newsData.apply(lambda x : extract_dates (x['article_text'], x['published']), axis=1)"
   ]
  },
  {
   "cell_type": "code",
   "execution_count": null,
   "metadata": {},
   "outputs": [],
   "source": [
    "newsData[['article_id','dates']].to_csv('article_date.csv')"
   ]
  },
  {
   "cell_type": "markdown",
   "metadata": {},
   "source": [
    "## parsing out bank information"
   ]
  },
  {
   "cell_type": "code",
   "execution_count": 12,
   "metadata": {},
   "outputs": [],
   "source": [
    "bankLabel = pd.read_csv('../Data/Labeled_Data/banks.csv')"
   ]
  },
  {
   "cell_type": "code",
   "execution_count": 13,
   "metadata": {},
   "outputs": [],
   "source": [
    "bankNewsData = pd.merge(bankLabel,newsData[['article_id','article_text','article_keywords']], on = 'article_id')"
   ]
  },
  {
   "cell_type": "code",
   "execution_count": 14,
   "metadata": {},
   "outputs": [
    {
     "data": {
      "text/plain": [
       "array(['adb', 'afdb', 'aiib', 'ebrd', 'eib', 'idb', 'wb'], dtype=object)"
      ]
     },
     "execution_count": 14,
     "metadata": {},
     "output_type": "execute_result"
    }
   ],
   "source": [
    "bankNames = bankNewsData['Bank1'].unique()\n",
    "bankNames"
   ]
  },
  {
   "cell_type": "code",
   "execution_count": 15,
   "metadata": {},
   "outputs": [],
   "source": [
    "results = []\n",
    "for i in newsData.index:\n",
    "    banks = []\n",
    "    for bank in bankNames: \n",
    "        if bank in newsData.loc[i, 'feed_label'].replace('-', '').lower().split():\n",
    "            banks.append(bank)\n",
    "        else: pass  \n",
    "        \n",
    "results.append([newsData.loc[i, 'article_id'], str(banks)])  \n",
    "results_df = pd.DataFrame(results,columns=['article_id', 'bank']) \n",
    "results_df1 = pd.merge(newsData[['article_id','article_text','article_keywords', 'feed_label', 'url']], results_df, on = 'article_id', how='left')  \n",
    "results_df1.to_csv('bank_tags.csv')"
   ]
  },
  {
   "cell_type": "code",
   "execution_count": null,
   "metadata": {},
   "outputs": [],
   "source": []
  }
 ],
 "metadata": {
  "kernelspec": {
   "display_name": "Python 3",
   "language": "python",
   "name": "python3"
  },
  "language_info": {
   "codemirror_mode": {
    "name": "ipython",
    "version": 3
   },
   "file_extension": ".py",
   "mimetype": "text/x-python",
   "name": "python",
   "nbconvert_exporter": "python",
   "pygments_lexer": "ipython3",
   "version": "3.6.5"
  }
 },
 "nbformat": 4,
 "nbformat_minor": 2
}
